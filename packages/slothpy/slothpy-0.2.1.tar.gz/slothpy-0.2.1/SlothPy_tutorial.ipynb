{
 "cells": [
  {
   "cell_type": "markdown",
   "id": "6871555c",
   "metadata": {},
   "source": [
    "SlothPy makes extensive use of the HDF5 file format (powerful and portable binary format for fast I/O and big data) to store all the data related to the software. The core file format .slt is in fact .hdf5/h5 file in disguise, so it can be additionally opened and modified with programs such as HDFView and HDFCompas programs or directly accessed through the h5py Python wrapper. Firstly, let us import the pacgake"
   ]
  },
  {
   "cell_type": "code",
   "execution_count": null,
   "id": "41eba57d",
   "metadata": {},
   "outputs": [],
   "source": [
    "import slothpy as slt"
   ]
  },
  {
   "cell_type": "markdown",
   "id": "23899e9f",
   "metadata": {},
   "source": [
    "To start using SlothPy one has to create at least one instance of the core class object - Compound. The Compound is intrinsically associated with a .slt file stored on your disk. You can create the Compound from an output file of quantum chemistry software, access the existing .slt file, or add more data to it. Those operations are handled by the Compound creation methods. There is one .rassi.h5 file produced from the MOLCAS calculation included in the \"examples\" folder from our repository on GitHub. We will use it as an example in this tutorial. To create a Compound from it we have to include its relative path and use slt.compound_from_molcas() method. Note: always check the documentation of the used methods on our website or use your editor to do so (e.g. Shift+Tab in Jupyter Notebooks)."
   ]
  },
  {
   "cell_type": "code",
   "execution_count": null,
   "id": "29267b96",
   "metadata": {},
   "outputs": [],
   "source": [
    "NdCo = slt.compound_from_molcas(\".\", \"Nd_tutorial\", \"bas3\", \"./examples\", \"NdCo_DG_bas3\")"
   ]
  },
  {
   "cell_type": "markdown",
   "id": "435a5d4f",
   "metadata": {},
   "source": [
    "After the creation, you can check what is inside your file using the print() method or like this:"
   ]
  },
  {
   "cell_type": "code",
   "execution_count": null,
   "id": "becceb4b",
   "metadata": {
    "scrolled": true
   },
   "outputs": [],
   "source": [
    "NdCo"
   ]
  },
  {
   "cell_type": "markdown",
   "id": "ba935eb4",
   "metadata": {},
   "source": [
    "You can see the list of HDF5 groups and data sets contained in the file together with their Description attributes. This is the way that SlothPy will save all your results. Having already .slt file on your disk you can add to it more ab initio results (just use the path and name of an existing file) or access it at a later point using slt.compound_from_slt() method."
   ]
  },
  {
   "cell_type": "code",
   "execution_count": null,
   "id": "a403f2aa",
   "metadata": {},
   "outputs": [],
   "source": [
    "NdCo = slt.compound_from_slt(\".\", \"Nd_tutorial\")\n",
    "# If you already created \"Nd_tutorial.slt\" on your disk, use this line only."
   ]
  },
  {
   "cell_type": "markdown",
   "id": "4971fbfa",
   "metadata": {},
   "source": [
    "All available methods are accessed through an instance of the Compound class that constitutes the user interface and API documented in the Reference Manual. Let us start by computing molar powder-averaged magnetisation for our Nd-based compound. Firstly, we need some imports to create a range of magnetic field and temperature values:"
   ]
  },
  {
   "cell_type": "code",
   "execution_count": null,
   "id": "36cf472d",
   "metadata": {},
   "outputs": [],
   "source": [
    "from numpy import linspace\n",
    "\n",
    "fields_mth = linspace(0.0001, 7, 50)\n",
    "temperatures_mth = linspace(1, 10, 10)"
   ]
  },
  {
   "cell_type": "markdown",
   "id": "f84f15aa",
   "metadata": {},
   "source": [
    "The method for computing magnetisation as a function of field and temperature is called calculate_mth()."
   ]
  },
  {
   "cell_type": "code",
   "execution_count": null,
   "id": "e04dd880",
   "metadata": {},
   "outputs": [],
   "source": [
    "%%time\n",
    "mth = NdCo.calculate_magnetisation(\"bas3\", fields_mth, 4, temperatures_mth, 10)"
   ]
  },
  {
   "cell_type": "markdown",
   "id": "d939ed7c",
   "metadata": {},
   "source": [
    "Here, we calculate powder-averaged (using Lebedev-Laikov integration grid) magnetisation for the Nd-based compound in the magnetic field range from 1 Oe to 7 T (50 points) and for 10 temperature values from 1 K to 10 K. We include in the Zeeman Hamiltonian only 10 Spin-Orbit states from the ground multiplet $ ^{4}I_{9/2} $ of Nd(III). The calculation should finish immediately due to the very low amount of SO states included.\n",
    "\n",
    "The result is a numpy NdArray (10, 50) with the structure [temperatures, fields] returned from the function call to the mth variable. It is ready for you to process it using Python as you want.  Remember to always check the output format in the Reference Manual (or using your editor/IDE) - Returns section of each method."
   ]
  },
  {
   "cell_type": "code",
   "execution_count": null,
   "id": "e7a6cdfc",
   "metadata": {},
   "outputs": [],
   "source": [
    "mth"
   ]
  },
  {
   "cell_type": "markdown",
   "id": "cbf6b2c8",
   "metadata": {},
   "source": [
    "We can, for example, plot it as a magnetic field function M(H) iterating over different temperatures:"
   ]
  },
  {
   "cell_type": "code",
   "execution_count": null,
   "id": "4690886a",
   "metadata": {},
   "outputs": [],
   "source": [
    "from matplotlib.pyplot import plot, show\n",
    "\n",
    "for mh in mth:\n",
    "    plot(fields_mth, mh)\n",
    "show()"
   ]
  },
  {
   "cell_type": "markdown",
   "id": "59af2f08",
   "metadata": {},
   "source": [
    "or save it to a .csv file on the disk to be accessible for your other programs:"
   ]
  },
  {
   "cell_type": "code",
   "execution_count": null,
   "id": "a19aca8f",
   "metadata": {},
   "outputs": [],
   "source": [
    "from numpy import savetxt\n",
    "savetxt('my_mth_array.csv', mth.T, delimiter=',') # Here we transpose to have data for each temperature in columns"
   ]
  },
  {
   "cell_type": "markdown",
   "id": "2d51eb2f",
   "metadata": {},
   "source": [
    "Now, let us run the above calculation once again, but this time we will use a better, denser grid and include more SO-states. It will take a little more time. Additionally, we will save the results to our Nd_tutorial.slt file using slt keyword. (confront the documentation for the comprehensive description of all the options) "
   ]
  },
  {
   "cell_type": "code",
   "execution_count": null,
   "id": "e18fd1a9",
   "metadata": {
    "scrolled": true
   },
   "outputs": [],
   "source": [
    "%%time\n",
    "mth = NdCo.calculate_magnetisation(\"bas3\", fields_mth, 6, temperatures_mth, 32, slt=\"bas3\")"
   ]
  },
  {
   "cell_type": "markdown",
   "id": "43ad1c5c",
   "metadata": {},
   "source": [
    "If you invoke the representation of the Nd_tutorial.slt file once again you can see that a new group \"bas3_magnetisation\" was created which contains datasets for magnetisation (bas3_mth), magnetic fields (bas3_fields), and temperatures (bas3_temperatures). (all with Description attributes)"
   ]
  },
  {
   "cell_type": "code",
   "execution_count": null,
   "id": "49b2424f",
   "metadata": {
    "scrolled": true
   },
   "outputs": [],
   "source": [
    "NdCo"
   ]
  },
  {
   "cell_type": "markdown",
   "id": "a23e9dda",
   "metadata": {},
   "source": [
    "SlothPy provides an array-like interface for reading and writing data from and to .slt files. As an example, let us read the magnetisation to another variable mth_custom_read together with field values:"
   ]
  },
  {
   "cell_type": "code",
   "execution_count": null,
   "id": "1abdd048",
   "metadata": {},
   "outputs": [],
   "source": [
    "mth_custom_read = NdCo[\"bas3_magnetisation\", \"bas3_mth\"]\n",
    "field_values = NdCo[\"bas3_magnetisation\", \"bas3_fields\"]"
   ]
  },
  {
   "cell_type": "markdown",
   "id": "70828263",
   "metadata": {},
   "source": [
    "Here, we provide a full group and dataset name to access the data. Now we can do what we want with the arrays. Let us confirm that they indeed represent magnetisation once again by plotting them:"
   ]
  },
  {
   "cell_type": "code",
   "execution_count": null,
   "id": "688ac510",
   "metadata": {},
   "outputs": [],
   "source": [
    "for mh in mth_custom_read:\n",
    "    plot(field_values, mh)\n",
    "show()"
   ]
  },
  {
   "cell_type": "markdown",
   "id": "72964863",
   "metadata": {},
   "source": [
    "Since we have our data saved in the .slt file we can actually plot it using the build-in function (available for various methods - see documentation, all starting with \"plot\" and having plenty of customization parameters)."
   ]
  },
  {
   "cell_type": "code",
   "execution_count": null,
   "id": "25833511",
   "metadata": {},
   "outputs": [],
   "source": [
    "NdCo.plot_magnetisation(\"bas3\")"
   ]
  },
  {
   "cell_type": "markdown",
   "id": "b0c9ab8f",
   "metadata": {},
   "source": [
    "When you invoke plotting functions for specific methods you do not need to provide a suffix, like \"_magnetisation\", the program will handle it for you.\n",
    "\n",
    "If you need you can even create your own custom groups with datasets (in the form of numpy NdArrays) in the file and use them in your scripts."
   ]
  },
  {
   "cell_type": "code",
   "execution_count": null,
   "id": "553e3b4f",
   "metadata": {
    "scrolled": true
   },
   "outputs": [],
   "source": [
    "one_to_ten = linspace(1, 10, 10)\n",
    "NdCo[\"my_custom_group\", \"one_to_ten_dataset\", \"My description of the dataset\",\n",
    "     \"My description of the whole group\"] = one_to_ten\n",
    "NdCo"
   ]
  },
  {
   "cell_type": "markdown",
   "id": "ac773c3b",
   "metadata": {},
   "source": [
    "The last two strings giving a description of the group and data set are optional. Later you can add to the existing group more data sets or create datasets without a group (they have to be at least 1-dimensional ArrayLike):"
   ]
  },
  {
   "cell_type": "code",
   "execution_count": null,
   "id": "42f144e2",
   "metadata": {},
   "outputs": [],
   "source": [
    "NdCo[\"my_custom_group\", \"123_dataset\"] = [1,2,3]\n",
    "NdCo[\"my_dataset_without_a_group\"] = [1]\n",
    "NdCo"
   ]
  },
  {
   "cell_type": "markdown",
   "id": "05760249",
   "metadata": {},
   "source": [
    "If you now try to re-run the previous calculation you should see a SlothPyError, due to the already existing name of the group (SlothPy prevents you from accidentally overwriting the data)."
   ]
  },
  {
   "cell_type": "code",
   "execution_count": null,
   "id": "30f700e0",
   "metadata": {},
   "outputs": [],
   "source": [
    "%%time\n",
    "mth = NdCo.calculate_magnetisation(\"bas3\", fields_mth, 6, temperatures_mth, 32, slt=\"bas3\")"
   ]
  },
  {
   "cell_type": "markdown",
   "id": "4ac9a192",
   "metadata": {},
   "source": [
    "We can use delete_group_dataset to manually remove datases/groups from the .slt file."
   ]
  },
  {
   "cell_type": "code",
   "execution_count": null,
   "id": "887b940f",
   "metadata": {
    "scrolled": true
   },
   "outputs": [],
   "source": [
    "NdCo.delete_group_dataset(\"my_dataset_without_a_group\")\n",
    "NdCo.delete_group_dataset(\"my_custom_group\", \"123_dataset\")\n",
    "NdCo.delete_group_dataset(\"bas3_magnetisation\")\n",
    "NdCo"
   ]
  },
  {
   "cell_type": "markdown",
   "id": "54fc3c89",
   "metadata": {},
   "source": [
    "As you already should notice (when reading the docstring of calculate_mth method) SlopthPy provides you full control over the amount of CPUs you want to assign to your calculation and threads to be used. Computationally demanding methods are parallelized using a certain amount of separate processes - the number of processes that will be used is (number of CPUs) // (number of threads). Additionally, in the Note section of each method, the user is informed over what quantity the job will be parallelized. In the case of calcualte_mth, the work is distributed over field values (here 50). So using for example 10 parallel processes each will compute the magnetisation for 5 values of the field. As default, SlothPy uses all available logical cores with 1 thread for the linear algebra libraries. For jobs with a very high number of points to be parallelized, you should benefit from a greater number of processes (not including time for Python's multiprocessing setup for a huge amount of data). On the other hand with increasing matrices size it is beneficial to use more threads for operations such as diagonalization etc. It is not a trivial task to choose good settings for very demanding calculations that is why we provide, within SlothPy, the autotune module to do it for you. It tests all possible meaningful setups and gives you time estimates for each of them. It takes some time to do this (because it actually truly does a part of the calculations to benchmark them) so it is advised to use it for jobs that will take hours. To demonstrate it with very small matrices provided in our file (they are 364 x 364 - that is how many SO states are there) we will run two examples using all available CPUs on your machine (if you want to leave some you should change number_cpu = 0 to your desired number):"
   ]
  },
  {
   "cell_type": "code",
   "execution_count": null,
   "id": "c00fe6e3",
   "metadata": {},
   "outputs": [],
   "source": [
    "fields_process = linspace(0.0001, 7, 60)\n",
    "fields_threads = linspace(0.0001, 7, 3)"
   ]
  },
  {
   "cell_type": "code",
   "execution_count": null,
   "id": "e4708d82",
   "metadata": {},
   "outputs": [],
   "source": [
    "%%time\n",
    "mth = NdCo.calculate_magnetisation(\"bas3\", fields_process, 6, temperatures_mth, 364, number_cpu = 0, autotune=True)"
   ]
  },
  {
   "cell_type": "code",
   "execution_count": null,
   "id": "f6c97efd",
   "metadata": {},
   "outputs": [],
   "source": [
    "%%time\n",
    "mth = NdCo.calculate_magnetisation(\"bas3\", fields_threads, 6, temperatures_mth, 364, number_cpu = 0, autotune=True)"
   ]
  },
  {
   "cell_type": "markdown",
   "id": "899306c5",
   "metadata": {},
   "source": [
    "In the first case autotune module should choose (but depending on your hardware) more processes and fewer threads than in the second one, where we paralleize only over 3 field points. Time estimates include only pure calculation steps and in our tests for a variety of different methods they should give results within 15-20% of overall execution time maximal error. After autotuning you can run the calculation with the chosen setting manually to see how much time it will take compared to our estimate. Can you choose better settings by yourself?"
   ]
  },
  {
   "cell_type": "code",
   "execution_count": null,
   "id": "958a39d4",
   "metadata": {},
   "outputs": [],
   "source": [
    "num_of_cpu = #fill here the number you were autotuning for\n",
    "num_of_threads = #fill here the number of threads chosen by the autotune module (for fields_process and _threads)"
   ]
  },
  {
   "cell_type": "code",
   "execution_count": null,
   "id": "8fbb4fd6",
   "metadata": {},
   "outputs": [],
   "source": [
    "%%time\n",
    "mth = NdCo.calculate_magnetisation(\"bas3\", fields_process, 6, temperatures_mth, 364, num_of_cpu, num_of_threads)"
   ]
  },
  {
   "cell_type": "code",
   "execution_count": null,
   "id": "9f1ebdf4",
   "metadata": {},
   "outputs": [],
   "source": [
    "%%time\n",
    "mth = NdCo.calculate_magnetisation(\"bas3\", fields_threads, 6, temperatures_mth, 364, num_of_cpu, num_of_threads)"
   ]
  },
  {
   "cell_type": "markdown",
   "id": "399da4a1",
   "metadata": {},
   "source": [
    "The necessity of the autotune module will become visible for matrices with a number of states over 500-1000 or even 2000+ when calculations with certain settings (how many field values and grids) can take many hours or even days. It also all depends on your hardware e.g. how many possibilities is there to check. For me writing this tutorial now I am testing it on 128 logical cores (64 physical) CPU, so there are many possibilities to choose a number of threads and processes - therefore it is harder and also more time-consuming for the module, but still better than trying manually all the possibilities."
   ]
  },
  {
   "cell_type": "markdown",
   "id": "93855405",
   "metadata": {},
   "source": [
    "In the following part of the tutorial, we will give a glimpse into more methods presenting their use for our Nd-based compound. Make sure to check the documentation of each presented method - it always contains a comprehensive description of all the used parameters. We begin by calculating magnetic susceptibility - in the form of a product with temperature - (the derivative of magnetisation with respect to the magnetic field) in 1000, 2000, 3000, and 5000 Oe."
   ]
  },
  {
   "cell_type": "code",
   "execution_count": null,
   "id": "03f3ee15",
   "metadata": {},
   "outputs": [],
   "source": [
    "temperatures = linspace(1, 300, 300)\n",
    "fields = [0.1, 0.2, 0.3, 0.5]"
   ]
  },
  {
   "cell_type": "code",
   "execution_count": null,
   "id": "549acc68",
   "metadata": {},
   "outputs": [],
   "source": [
    "%%time\n",
    "chitht = NdCo.calculate_susceptibility(\"bas3\", temperatures, fields, number_of_points=2, delta_h=0.0001,\n",
    "                               states_cutoff=256, number_cpu=0, number_threads=1, T=True, slt=\"your_name\")"
   ]
  },
  {
   "cell_type": "code",
   "execution_count": null,
   "id": "707e7967",
   "metadata": {},
   "outputs": [],
   "source": [
    "NdCo.plot_susceptibility(\"your_name\")"
   ]
  },
  {
   "cell_type": "markdown",
   "id": "ba38dc36",
   "metadata": {},
   "source": [
    "You can calculate the Helmholtz free energy or internal energy in the applied magnetic field (here instead of averaging we calculate with the field applied in the \"z\" direction):"
   ]
  },
  {
   "cell_type": "code",
   "execution_count": null,
   "id": "3d2ad93a",
   "metadata": {},
   "outputs": [],
   "source": [
    "from numpy import linspace\n",
    "temperatures = linspace(1, 300, 10)\n",
    "fields = linspace(0.1, 1, 5)"
   ]
  },
  {
   "cell_type": "code",
   "execution_count": null,
   "id": "769cc6d3",
   "metadata": {},
   "outputs": [],
   "source": [
    "%%time\n",
    "eth = NdCo.calculate_energy(\"bas3\", fields, [[0., 0., 1., 1.]], temperatures, \"helmholtz\", 364, number_cpu=0, \n",
    "                                  number_threads=1, slt=\"your_name\")"
   ]
  },
  {
   "cell_type": "code",
   "execution_count": null,
   "id": "34522549",
   "metadata": {
    "scrolled": true
   },
   "outputs": [],
   "source": [
    "NdCo.plot_energy(\"your_name\")"
   ]
  },
  {
   "cell_type": "markdown",
   "id": "05b639a5",
   "metadata": {},
   "source": [
    "You can calculate the Zeeman splitting of the ground $ ^{4}I_{9/2} $ multiplet for various directions (here x, y, z) or take powder-average:"
   ]
  },
  {
   "cell_type": "code",
   "execution_count": null,
   "id": "774e6746",
   "metadata": {},
   "outputs": [],
   "source": [
    "%%time\n",
    "zeeman = NdCo.calculate_zeeman_splitting(\"bas3\", 10, fields, [[1,0,0],[0,1,0],[0,0,1]], states_cutoff=364,\n",
    "                                number_cpu=0, number_threads=1, average=False, slt=\"your_name\")"
   ]
  },
  {
   "cell_type": "code",
   "execution_count": null,
   "id": "719036f0",
   "metadata": {},
   "outputs": [],
   "source": [
    "NdCo.plot_zeeman(\"your_name\")"
   ]
  },
  {
   "cell_type": "markdown",
   "id": "58804fc2",
   "metadata": {},
   "source": [
    "SlothPy allows you to calculate directional data of the above quantities in the form of 3D plots over spherical angles. This type of calculation is pretty demanding and heavy on memory usage. See the Note sections for the following methods to see examples of memory estimation that is needed to handle big resulting and intermediate arrays!!! (example: for a calculation with 100 field values 1-10 T, 300 temperatures 1-300 K,\n",
    "and spherical_grid = 60, the resulting array will take 3 * 100 * 300 * 2 * 60 * 60 * 8 bytes = 5.184 GB)"
   ]
  },
  {
   "cell_type": "code",
   "execution_count": null,
   "id": "130939f6",
   "metadata": {},
   "outputs": [],
   "source": [
    "%%time\n",
    "r = NdCo.calculate_energy_3d(\"bas3\", fields, \"mesh\", 35, temperatures, \"helmholtz\", 128, slt=\"your_namez\")"
   ]
  },
  {
   "cell_type": "code",
   "execution_count": null,
   "id": "40a6f55d",
   "metadata": {},
   "outputs": [],
   "source": [
    "%%time\n",
    "r = NdCo.calculate_magnetisation_3d(\"bas3\", fields, \"mesh\", 35, temperatures, 128, slt=\"your_name\")"
   ]
  },
  {
   "cell_type": "code",
   "execution_count": null,
   "id": "0f228ec6",
   "metadata": {},
   "outputs": [],
   "source": [
    "%%time\n",
    "r = NdCo.calculate_susceptibility_3d(\"bas3\", temperatures, fields, \"mesh\", 35, 2, states_cutoff=128, slt=\"your_name\")\n",
    "# Carefull! This is the most demanding calculation it has to perform (2*number_of_points+1) times the \n",
    "# magnetisation calculation for numerical differentiation using finite difference method with the custom stencil."
   ]
  },
  {
   "cell_type": "markdown",
   "id": "6afbb844",
   "metadata": {},
   "source": [
    "At this point, you may need to adjust (lower or raise) states_cutoff-s, density of spherical grid, or number of field values depending on your hardware (CPU and memory) capability. Also, the autotune module should always choose 1 thread due to the large number of the point we parallelize over (number of fields) * 2 * spherical_grid**2, since your matrices are small and can have at most 364 x 364 size it cannot prioritize multithreading for them.  "
   ]
  },
  {
   "cell_type": "markdown",
   "id": "8f71f41d",
   "metadata": {},
   "source": [
    "After you succeed we can plot the results for particular temperatures and field values with the plot_3d method which supports energy, magnetisation, and susceptibility plotting (see the datatype keyword):"
   ]
  },
  {
   "cell_type": "code",
   "execution_count": null,
   "id": "4270d42b",
   "metadata": {},
   "outputs": [],
   "source": [
    "NdCo.plot_3d(\"your_name\", \"helmholtz_energy\", 10, 30) \n",
    "# Options: \"helmholtz_energy\", \"internal_energy\", \"magnetisation\", \"chi\", \"chit\""
   ]
  },
  {
   "cell_type": "markdown",
   "id": "9196f48f",
   "metadata": {},
   "source": [
    "Anyway, probably the best method to examine this type of data is to scan it using an interactive 3D plot where you can change fields and temperatures using sliders and see changes in real-time!"
   ]
  },
  {
   "cell_type": "code",
   "execution_count": null,
   "id": "085e6f67",
   "metadata": {
    "scrolled": true
   },
   "outputs": [],
   "source": [
    "NdCo.interactive_plot_3d(\"your_name\", \"helmholtz_energy\")\n",
    "# Options: \"helmholtz_energy\", \"internal_energy\", \"magnetisation\", \"chi\", \"chit\""
   ]
  },
  {
   "cell_type": "markdown",
   "id": "f63a859e",
   "metadata": {},
   "source": [
    "After you manually find all the instersting \"phase\" transitions you can even prepare .gif animations varying temperature or field strenght while keepeing the other constant."
   ]
  },
  {
   "cell_type": "code",
   "execution_count": null,
   "id": "c87f9595",
   "metadata": {},
   "outputs": [],
   "source": [
    "NdCo.animate_3d(\"your_name\", \"helmholtz_energy\", \"temperature\", \"animation\", i_start=0, i_end=30, i_constant=2,\n",
    "               fps=6, dpi=200)"
   ]
  },
  {
   "cell_type": "markdown",
   "id": "6f3b8427",
   "metadata": {},
   "source": [
    "The animation should be saved to your current directory."
   ]
  },
  {
   "cell_type": "markdown",
   "id": "ace815ac",
   "metadata": {},
   "source": [
    "We will end this basic tutorial just by mentioning other methods. More advanced combinations resulting in e.g. studies on relaxation dynamics for molecular magnets will be addressed in more specialized tutorials."
   ]
  },
  {
   "cell_type": "markdown",
   "id": "d5d1bee3",
   "metadata": {},
   "source": [
    "In order to calculate pseudo-g-tensors for doublet states within the ground $ ^{4}I_{9/2} $ multiplet (10 states - 5 doublets) you can run the:"
   ]
  },
  {
   "cell_type": "code",
   "execution_count": null,
   "id": "728dbfbf",
   "metadata": {},
   "outputs": [],
   "source": [
    "g_tensors, magnetic_axes = NdCo.calculate_g_tensor_and_axes_doublet(\"bas3\", [0,1,2,3,4]) "
   ]
  },
  {
   "cell_type": "code",
   "execution_count": null,
   "id": "3a64be17",
   "metadata": {},
   "outputs": [],
   "source": [
    "g_tensors, magnetic_axes"
   ]
  },
  {
   "cell_type": "markdown",
   "id": "6e8de784",
   "metadata": {},
   "source": [
    "The first entry of the tuple contains g-tensor components x, y, and z for the doublets and magnetic_axes are rotation matrices from the initial coordinate system to the main magnetic axes of each doublet (Coordinates of the main axes X, Y, and Z in the initial x, y, z frame are columns of such matrices). We can use those matrices to rotate angular momenta in almost all the following methods to express the quantities in the reference frame of the chosen doublet's magnetic axes. Note, that you need to use the inverse rotation (transpose of an orthogonal matrix) to express everything in the new reference frame! (see also Exporting Module for an easy way to add the main magnetic axes to your .mol2/.xyz files with molecular coordinates)"
   ]
  },
  {
   "cell_type": "code",
   "execution_count": null,
   "id": "db98b552",
   "metadata": {
    "scrolled": true
   },
   "outputs": [],
   "source": [
    "your_rotation = magnetic_axes[0].T # Inverse rotation for the ground doublet\n",
    "your_rotation"
   ]
  },
  {
   "cell_type": "markdown",
   "id": "97525261",
   "metadata": {},
   "source": [
    "As an example, we calculate the susceptibility (Van-Vleck) tensor using true numerical differentiation in the reference frame of the ground doublet state:"
   ]
  },
  {
   "cell_type": "code",
   "execution_count": null,
   "id": "cfdbd46e",
   "metadata": {},
   "outputs": [],
   "source": [
    "temperatures = linspace(1, 300, 300)\n",
    "fields = [0.1, 0.2]"
   ]
  },
  {
   "cell_type": "code",
   "execution_count": null,
   "id": "b08736e7",
   "metadata": {},
   "outputs": [],
   "source": [
    "NdCo.calculate_susceptibility_tensor(\"bas3\", temperatures, fields, number_of_points=3, delta_h=0.0001, states_cutoff=364,\n",
    "                             number_cpu=0, number_threads=1, rotation=your_rotation)"
   ]
  },
  {
   "cell_type": "markdown",
   "id": "e17552c4",
   "metadata": {},
   "source": [
    "Now we will do a little demonstration considering our 10-state ground manifold. Firstly, let us take a look at SOC energies of the states:"
   ]
  },
  {
   "cell_type": "code",
   "execution_count": null,
   "id": "72357610",
   "metadata": {
    "scrolled": true
   },
   "outputs": [],
   "source": [
    "NdCo.soc_energies_cm_1(\"bas3\", 10)"
   ]
  },
  {
   "cell_type": "markdown",
   "id": "c1520827",
   "metadata": {},
   "source": [
    "They come in doublets as expected for the Krammers ion. We can then obtain Crystal-Fields-Parameters for S = 9/2 pseudo-spin (in the form of J - total angular momneta) for the SOC matrix taking as \"z\" quantization axis the main magnetic axis of a ground doublet (use your_rotation). Note that the order of CFPs cannot exceed 2S here and because SOC Hamiltonian (without magnetic fields) is time even operator we only need even orders. We will use real parameters."
   ]
  },
  {
   "cell_type": "code",
   "execution_count": null,
   "id": "e50d0170",
   "metadata": {},
   "outputs": [],
   "source": [
    "NdCo.soc_crystal_field_parameters(\"bas3\", 0, 9, order=9, pseudo_kind = \"magnetic\", \n",
    "                                  even_order=True, rotation=your_rotation, slt=\"your_name\")"
   ]
  },
  {
   "cell_type": "markdown",
   "id": "b2ad03a1",
   "metadata": {},
   "source": [
    "For the comparison let us get the initial SOC matrix in the same pseudo-spin Jz basis:"
   ]
  },
  {
   "cell_type": "code",
   "execution_count": null,
   "id": "ab7a32a8",
   "metadata": {},
   "outputs": [],
   "source": [
    "soc_matrix = NdCo.soc_zeem_in_z_angular_magnetic_momentum_basis(\"bas3\", 0, 9, \"soc\", \"magnetic\",\n",
    "                                                                rotation=your_rotation)\n",
    "soc_matrix"
   ]
  },
  {
   "cell_type": "markdown",
   "id": "ce1751b9",
   "metadata": {},
   "source": [
    "Verify it by computing its eigenvalues which should be the same as SOC energies from before."
   ]
  },
  {
   "cell_type": "code",
   "execution_count": null,
   "id": "5a8d6cbb",
   "metadata": {},
   "outputs": [],
   "source": [
    "from numpy.linalg import eigvalsh\n",
    "energies = eigvalsh(soc_matrix) * 219474.6 # Convert it from Hartree to cm-1\n",
    "energies"
   ]
  },
  {
   "cell_type": "markdown",
   "id": "57f86d0a",
   "metadata": {},
   "source": [
    "We can rebuild the whole matrix from the saved CFP (ITO) parameters and verify that it is the same as soc_matrix (giving the same eigenvalues):"
   ]
  },
  {
   "cell_type": "code",
   "execution_count": null,
   "id": "4de595ed",
   "metadata": {},
   "outputs": [],
   "source": [
    "soc_matrix_from_cfp = NdCo.matrix_from_ito(\"your_name_soc_ito_decomposition\", False)\n",
    "\n",
    "energies = eigvalsh(soc_matrix_from_cfp) * 219474.6 # Convert it from Hartree to cm-1\n",
    "energies"
   ]
  },
  {
   "cell_type": "code",
   "execution_count": null,
   "id": "2e9b0b2a",
   "metadata": {
    "scrolled": true
   },
   "outputs": [],
   "source": [
    "soc_matrix - soc_matrix_from_cfp"
   ]
  },
  {
   "cell_type": "markdown",
   "id": "4fd2f98b",
   "metadata": {},
   "source": [
    "If you need numerical precision for the matrix recreation, you should use odd orders of ITOs (Irreducible Tensor Operators) as well:"
   ]
  },
  {
   "cell_type": "code",
   "execution_count": null,
   "id": "0004b24f",
   "metadata": {},
   "outputs": [],
   "source": [
    "NdCo.soc_crystal_field_parameters(\"bas3\", 0, 9, order=9, pseudo_kind = \"magnetic\", \n",
    "                                  even_order=False, rotation=your_rotation, slt=\"your_name_odd\")"
   ]
  },
  {
   "cell_type": "code",
   "execution_count": null,
   "id": "acf7cc32",
   "metadata": {},
   "outputs": [],
   "source": [
    "soc_matrix_from_cfp_odd = NdCo.matrix_from_ito(\"your_name_odd_soc_ito_decomposition\", False)\n",
    "\n",
    "energies = eigvalsh(soc_matrix_from_cfp) * 219474.6 # Convert it from Hartree to cm-1\n",
    "energies"
   ]
  },
  {
   "cell_type": "code",
   "execution_count": null,
   "id": "656d7d75",
   "metadata": {},
   "outputs": [],
   "source": [
    "soc_matrix - soc_matrix_from_cfp_odd"
   ]
  },
  {
   "cell_type": "markdown",
   "id": "a27b4c4d",
   "metadata": {},
   "source": [
    "Using all orders is necessary e.g. when dealing with Zeeman Hamiltonians containing interaction with magnetic field on top of the energy of SOC states. We can follow the seam procedure for a full Zeeman matrix originating from interaction with a magnetic field in the \"y\" direction (2 T):"
   ]
  },
  {
   "cell_type": "code",
   "execution_count": null,
   "id": "c7419430",
   "metadata": {},
   "outputs": [],
   "source": [
    "NdCo.zeeman_matrix_ito_decpomosition(\"bas3\", 0, 9, 2, [0., 1., 0.], order=9, pseudo_kind = \"magnetic\", \n",
    "                                     rotation=your_rotation, slt=\"your_name\")"
   ]
  },
  {
   "cell_type": "code",
   "execution_count": null,
   "id": "48895bb7",
   "metadata": {
    "scrolled": true
   },
   "outputs": [],
   "source": [
    "zeeman_matrix = NdCo.soc_zeem_in_z_angular_magnetic_momentum_basis(\"bas3\", 0, 9, \"zeeman\", \"magnetic\", field=2.,\n",
    "                                                                   orientation= [0., 1., 0.],\n",
    "                                                                   rotation=your_rotation)\n",
    "zeeman_matrix"
   ]
  },
  {
   "cell_type": "code",
   "execution_count": null,
   "id": "1018beb9",
   "metadata": {},
   "outputs": [],
   "source": [
    "zeeman_matrix_from_cfp = NdCo.matrix_from_ito(\"your_name_zeeman_ito_decomposition\", False)\n",
    "\n",
    "energies = eigvalsh(zeeman_matrix_from_cfp) * 219474.6 # Convert it from Hartree to cm-1\n",
    "energies # Zeeman splitting"
   ]
  },
  {
   "cell_type": "code",
   "execution_count": null,
   "id": "d082a5ea",
   "metadata": {},
   "outputs": [],
   "source": [
    "energies = eigvalsh(zeeman_matrix) * 219474.6 # Convert it from Hartree to cm-1\n",
    "energies # Zeeman splitting"
   ]
  },
  {
   "cell_type": "code",
   "execution_count": null,
   "id": "e7b2ca6a",
   "metadata": {},
   "outputs": [],
   "source": [
    "zeeman_matrix - zeeman_matrix_from_cfp"
   ]
  },
  {
   "cell_type": "markdown",
   "id": "a6782f89",
   "metadata": {},
   "source": [
    "Feel free to experiment with two available pseudo-spin bases (total angular or magnetic)."
   ]
  },
  {
   "cell_type": "markdown",
   "id": "e8b493e9",
   "metadata": {},
   "source": [
    "We will end this short introduction to SlothPy software by showing how to obtain a % decomposition in the pseudo-spin basis of a SOC/Zeeman matrix."
   ]
  },
  {
   "cell_type": "code",
   "execution_count": null,
   "id": "fb50446b",
   "metadata": {
    "scrolled": true
   },
   "outputs": [],
   "source": [
    "NdCo.matrix_decomposition_in_z_pseudo_spin_basis(\"bas3\", \"soc\", \"magnetic\", 0, 9, rotation=your_rotation)"
   ]
  },
  {
   "cell_type": "code",
   "execution_count": null,
   "id": "4116b87a",
   "metadata": {
    "scrolled": true
   },
   "outputs": [],
   "source": [
    "NdCo.matrix_decomposition_in_z_pseudo_spin_basis(\"bas3\", \"zeeman\", \"magnetic\", 0, 9, rotation=your_rotation,\n",
    "                                                orientation=[0., 1., 0.], field=2.)"
   ]
  },
  {
   "cell_type": "markdown",
   "id": "79c8ea8f",
   "metadata": {},
   "source": [
    "Here, the resulting matrix contains % weights of pseudo-spin states (columns - from -S to S) in each state from the list (rows - here 10 states from 0 to 9) where pseudo-spin number S = number_of_states / 2 - 1/2 = 10/2 - 1/2 = 9/2."
   ]
  },
  {
   "cell_type": "markdown",
   "id": "53110b0c",
   "metadata": {},
   "source": [
    "To explore more methods check the Reference Manual and more specialized, upcoming tutorials."
   ]
  },
  {
   "cell_type": "markdown",
   "id": "beeb1295",
   "metadata": {},
   "source": [
    "MTZ"
   ]
  }
 ],
 "metadata": {
  "kernelspec": {
   "display_name": "Python 3 (ipykernel)",
   "language": "python",
   "name": "python3"
  },
  "language_info": {
   "codemirror_mode": {
    "name": "ipython",
    "version": 3
   },
   "file_extension": ".py",
   "mimetype": "text/x-python",
   "name": "python",
   "nbconvert_exporter": "python",
   "pygments_lexer": "ipython3",
   "version": "3.11.3"
  }
 },
 "nbformat": 4,
 "nbformat_minor": 5
}
