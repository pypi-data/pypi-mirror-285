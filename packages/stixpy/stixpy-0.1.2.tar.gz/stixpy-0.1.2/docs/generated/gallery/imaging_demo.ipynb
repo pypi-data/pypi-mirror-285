{
  "cells": [
    {
      "cell_type": "markdown",
      "metadata": {},
      "source": [
        "\n# Imaging example\n\nHow to create visibility from pixel data and make images.\n\nThe example uses ``stixpy`` to obtain STIX pixel data and convert these into visibilities and ``xrayvisim``\nto make the images.\n\nImports\n"
      ]
    },
    {
      "cell_type": "code",
      "execution_count": null,
      "metadata": {
        "collapsed": false
      },
      "outputs": [],
      "source": [
        "import logging\n\nimport astropy.units as u\nimport matplotlib.pyplot as plt\nimport numpy as np\nfrom sunpy.coordinates import HeliographicStonyhurst, Helioprojective\nfrom sunpy.map import Map, make_fitswcs_header\nfrom sunpy.time import TimeRange\nfrom xrayvision.clean import vis_clean\nfrom xrayvision.imaging import vis_to_image, vis_to_map\nfrom xrayvision.mem import mem, resistant_mean\n\nfrom stixpy.calibration.visibility import calibrate_visibility, create_meta_pixels, create_visibility\nfrom stixpy.coordinates.frames import STIXImaging\nfrom stixpy.coordinates.transforms import get_hpc_info\nfrom stixpy.imaging.em import em\nfrom stixpy.map.stix import STIXMap  # noqa\nfrom stixpy.product import Product\n\nlogger = logging.getLogger(__name__)"
      ]
    },
    {
      "cell_type": "markdown",
      "metadata": {},
      "source": [
        "Read science file as Product\n\n"
      ]
    },
    {
      "cell_type": "code",
      "execution_count": null,
      "metadata": {
        "collapsed": false
      },
      "outputs": [],
      "source": [
        "cpd_sci = Product(\n    \"http://pub099.cs.technik.fhnw.ch/fits/L1/2021/09/23/SCI/solo_L1_stix-sci-xray-cpd_20210923T152015-20210923T152639_V02_2109230030-62447.fits\"\n)\ncpd_sci"
      ]
    },
    {
      "cell_type": "markdown",
      "metadata": {},
      "source": [
        "Read background file as Product\n\n"
      ]
    },
    {
      "cell_type": "code",
      "execution_count": null,
      "metadata": {
        "collapsed": false
      },
      "outputs": [],
      "source": [
        "cpd_bkg = Product(\n    \"http://pub099.cs.technik.fhnw.ch/fits/L1/2021/09/23/SCI/solo_L1_stix-sci-xray-cpd_20210923T095923-20210923T113523_V02_2109230083-57078.fits\"\n)\ncpd_bkg"
      ]
    },
    {
      "cell_type": "markdown",
      "metadata": {},
      "source": [
        "Set time and energy ranges which will be considered for the science and the background file\n\n"
      ]
    },
    {
      "cell_type": "code",
      "execution_count": null,
      "metadata": {
        "collapsed": false
      },
      "outputs": [],
      "source": [
        "time_range_sci = [\"2021-09-23T15:21:00\", \"2021-09-23T15:24:00\"]\ntime_range_bkg = [\n    \"2021-09-23T09:00:00\",\n    \"2021-09-23T12:00:00\",\n]  # Set this range larger than the actual observation time\nenergy_range = [28, 40] * u.keV"
      ]
    },
    {
      "cell_type": "markdown",
      "metadata": {},
      "source": [
        "Create the meta pixel, A, B, C, D for the science and the background data\n\n"
      ]
    },
    {
      "cell_type": "code",
      "execution_count": null,
      "metadata": {
        "collapsed": false
      },
      "outputs": [],
      "source": [
        "meta_pixels_sci = create_meta_pixels(\n    cpd_sci, time_range=time_range_sci, energy_range=energy_range, flare_location=[0, 0] * u.arcsec, no_shadowing=True\n)\n\nmeta_pixels_bkg = create_meta_pixels(\n    cpd_bkg, time_range=time_range_bkg, energy_range=energy_range, flare_location=[0, 0] * u.arcsec, no_shadowing=True\n)"
      ]
    },
    {
      "cell_type": "markdown",
      "metadata": {},
      "source": [
        "Perform background subtraction\n\n"
      ]
    },
    {
      "cell_type": "code",
      "execution_count": null,
      "metadata": {
        "collapsed": false
      },
      "outputs": [],
      "source": [
        "meta_pixels_bkg_subtracted = {\n    **meta_pixels_sci,\n    \"abcd_rate_kev_cm\": meta_pixels_sci[\"abcd_rate_kev_cm\"] - meta_pixels_bkg[\"abcd_rate_kev_cm\"],\n    \"abcd_rate_error_kev_cm\": np.sqrt(\n        meta_pixels_sci[\"abcd_rate_error_kev_cm\"] ** 2 + meta_pixels_bkg[\"abcd_rate_error_kev_cm\"] ** 2\n    ),\n}"
      ]
    },
    {
      "cell_type": "markdown",
      "metadata": {},
      "source": [
        "Create visibilities from the meta pixels\n\n"
      ]
    },
    {
      "cell_type": "code",
      "execution_count": null,
      "metadata": {
        "collapsed": false
      },
      "outputs": [],
      "source": [
        "vis = create_visibility(meta_pixels_bkg_subtracted)"
      ]
    },
    {
      "cell_type": "markdown",
      "metadata": {},
      "source": [
        "Calibrate the visibilities\n\n"
      ]
    },
    {
      "cell_type": "code",
      "execution_count": null,
      "metadata": {
        "collapsed": false
      },
      "outputs": [],
      "source": [
        "cal_vis = calibrate_visibility(vis)"
      ]
    },
    {
      "cell_type": "markdown",
      "metadata": {},
      "source": [
        "Selected detectors 10 to 7\n\n"
      ]
    },
    {
      "cell_type": "code",
      "execution_count": null,
      "metadata": {
        "collapsed": false
      },
      "outputs": [],
      "source": [
        "# order by sub-collimator e.g. 10a, 10b, 10c, 9a, 9b, 9c ....\nisc_10_7 = [3, 20, 22, 16, 14, 32, 21, 26, 4, 24, 8, 28]\nidx = np.argwhere(np.isin(cal_vis.meta[\"isc\"], isc_10_7)).ravel()"
      ]
    },
    {
      "cell_type": "markdown",
      "metadata": {},
      "source": [
        "Slice the visibilities to detectors 10 - 7\n\n"
      ]
    },
    {
      "cell_type": "code",
      "execution_count": null,
      "metadata": {
        "collapsed": false
      },
      "outputs": [],
      "source": [
        "vis10_7 = cal_vis[idx]"
      ]
    },
    {
      "cell_type": "markdown",
      "metadata": {},
      "source": [
        "Set up image parameters\n\n"
      ]
    },
    {
      "cell_type": "code",
      "execution_count": null,
      "metadata": {
        "collapsed": false
      },
      "outputs": [],
      "source": [
        "imsize = [512, 512] * u.pixel  # number of pixels of the map to reconstruct\npixel = [10, 10] * u.arcsec / u.pixel  # pixel size in arcsec"
      ]
    },
    {
      "cell_type": "markdown",
      "metadata": {},
      "source": [
        "Make a full disk back projection (inverse transform) map\n\n"
      ]
    },
    {
      "cell_type": "code",
      "execution_count": null,
      "metadata": {
        "collapsed": false
      },
      "outputs": [],
      "source": [
        "bp_image = vis_to_image(vis10_7, imsize, pixel_size=pixel)"
      ]
    },
    {
      "cell_type": "markdown",
      "metadata": {},
      "source": [
        "Obtain the necessary metadata to create a sunpy map in the STIXImaging frame\n\n"
      ]
    },
    {
      "cell_type": "code",
      "execution_count": null,
      "metadata": {
        "collapsed": false
      },
      "outputs": [],
      "source": [
        "vis_tr = TimeRange(vis.meta[\"time_range\"])\nroll, solo_xyz, pointing = get_hpc_info(vis_tr.start, vis_tr.end)\nsolo = HeliographicStonyhurst(*solo_xyz, obstime=vis_tr.center, representation_type=\"cartesian\")\ncoord = STIXImaging(0 * u.arcsec, 0 * u.arcsec, obstime=vis_tr.start, obstime_end=vis_tr.end, observer=solo)\nheader = make_fitswcs_header(\n    bp_image, coord, telescope=\"STIX\", observatory=\"Solar Orbiter\", scale=[10, 10] * u.arcsec / u.pix\n)\nfd_bp_map = Map((bp_image, header))"
      ]
    },
    {
      "cell_type": "markdown",
      "metadata": {},
      "source": [
        "Convert the coordinates and make a map in Helioprojective and rotate so \"North\" is \"up\"\n\n"
      ]
    },
    {
      "cell_type": "code",
      "execution_count": null,
      "metadata": {
        "collapsed": false
      },
      "outputs": [],
      "source": [
        "hpc_ref = coord.transform_to(Helioprojective(observer=solo, obstime=vis_tr.center))  # Center of STIX pointing in HPC\nheader_hp = make_fitswcs_header(bp_image, hpc_ref, scale=[10, 10] * u.arcsec / u.pix, rotation_angle=90 * u.deg + roll)\nhp_map = Map((bp_image, header_hp))\nhp_map_rotated = hp_map.rotate()"
      ]
    },
    {
      "cell_type": "markdown",
      "metadata": {},
      "source": [
        "Plot the both maps\n\n"
      ]
    },
    {
      "cell_type": "code",
      "execution_count": null,
      "metadata": {
        "collapsed": false
      },
      "outputs": [],
      "source": [
        "fig = plt.figure(figsize=(12, 8))\nax0 = fig.add_subplot(1, 2, 1, projection=fd_bp_map)\nax1 = fig.add_subplot(1, 2, 2, projection=hp_map_rotated)\nfd_bp_map.plot(axes=ax0)\nfd_bp_map.draw_limb()\nfd_bp_map.draw_grid()\n\nhp_map_rotated.plot(axes=ax1)\nhp_map_rotated.draw_limb()\nhp_map_rotated.draw_grid()"
      ]
    },
    {
      "cell_type": "markdown",
      "metadata": {},
      "source": [
        "Estimate the flare location and plot on top of back projection map. Note the coordinates\nare automatically converted from the STIXImaging to Helioprojective\n\n"
      ]
    },
    {
      "cell_type": "code",
      "execution_count": null,
      "metadata": {
        "collapsed": false
      },
      "outputs": [],
      "source": [
        "max_pixel = np.argwhere(fd_bp_map.data == fd_bp_map.data.max()).ravel() * u.pixel\n# because WCS axes and array are reversed\nmax_stix = fd_bp_map.pixel_to_world(max_pixel[1], max_pixel[0])\n\nax0.plot_coord(max_stix, marker=\".\", markersize=50, fillstyle=\"none\", color=\"r\", markeredgewidth=2)\nax1.plot_coord(max_stix, marker=\".\", markersize=50, fillstyle=\"none\", color=\"r\", markeredgewidth=2)"
      ]
    },
    {
      "cell_type": "markdown",
      "metadata": {},
      "source": [
        "Use estimated flare location to create more accurate visibilities\n\n"
      ]
    },
    {
      "cell_type": "code",
      "execution_count": null,
      "metadata": {
        "collapsed": false
      },
      "outputs": [],
      "source": [
        "meta_pixels_sci = create_meta_pixels(\n    cpd_sci, time_range=time_range_sci, energy_range=energy_range, flare_location=max_stix, no_shadowing=True\n)\n\nmeta_pixels_bkg_subtracted = {\n    **meta_pixels_sci,\n    \"abcd_rate_kev_cm\": meta_pixels_sci[\"abcd_rate_kev_cm\"] - meta_pixels_bkg[\"abcd_rate_kev_cm\"],\n    \"abcd_rate_error_kev_cm\": np.sqrt(\n        meta_pixels_sci[\"abcd_rate_error_kev_cm\"] ** 2 + meta_pixels_bkg[\"abcd_rate_error_kev_cm\"] ** 2\n    ),\n}\n\nvis = create_visibility(meta_pixels_bkg_subtracted)\ncal_vis = calibrate_visibility(vis, flare_location=max_stix)"
      ]
    },
    {
      "cell_type": "markdown",
      "metadata": {},
      "source": [
        "Selected detectors 10 to 3\norder by sub-collimator e.g. 10a, 10b, 10c, 9a, 9b, 9c ....\n\n"
      ]
    },
    {
      "cell_type": "code",
      "execution_count": null,
      "metadata": {
        "collapsed": false
      },
      "outputs": [],
      "source": [
        "isc_10_3 = [3, 20, 22, 16, 14, 32, 21, 26, 4, 24, 8, 28, 15, 27, 31, 6, 30, 2, 25, 5, 23, 7, 29, 1]\nidx = np.argwhere(np.isin(cal_vis.meta[\"isc\"], isc_10_3)).ravel()"
      ]
    },
    {
      "cell_type": "markdown",
      "metadata": {},
      "source": [
        "Create an ``xrayvsion`` visibility object\n\n"
      ]
    },
    {
      "cell_type": "code",
      "execution_count": null,
      "metadata": {
        "collapsed": false
      },
      "outputs": [],
      "source": [
        "cal_vis.meta[\"offset\"] = max_stix\nvis10_3 = cal_vis[idx]"
      ]
    },
    {
      "cell_type": "markdown",
      "metadata": {},
      "source": [
        "Set up image parameters\n\n"
      ]
    },
    {
      "cell_type": "code",
      "execution_count": null,
      "metadata": {
        "collapsed": false
      },
      "outputs": [],
      "source": [
        "imsize = [129, 129] * u.pixel  # number of pixels of the map to reconstruct\npixel = [2, 2] * u.arcsec / u.pixel  # pixel size in arcsec"
      ]
    },
    {
      "cell_type": "markdown",
      "metadata": {},
      "source": [
        "Create a back projection image with natural weighting\n\n"
      ]
    },
    {
      "cell_type": "code",
      "execution_count": null,
      "metadata": {
        "collapsed": false
      },
      "outputs": [],
      "source": [
        "bp_nat = vis_to_image(vis10_3, imsize, pixel_size=pixel)"
      ]
    },
    {
      "cell_type": "markdown",
      "metadata": {},
      "source": [
        "Create a back projection image with uniform weighting\n\n"
      ]
    },
    {
      "cell_type": "code",
      "execution_count": null,
      "metadata": {
        "collapsed": false
      },
      "outputs": [],
      "source": [
        "bp_uni = vis_to_image(vis10_3, imsize, pixel_size=pixel, scheme=\"uniform\")"
      ]
    },
    {
      "cell_type": "markdown",
      "metadata": {},
      "source": [
        "Create a `sunpy.map.Map` with back projection\n\n"
      ]
    },
    {
      "cell_type": "code",
      "execution_count": null,
      "metadata": {
        "collapsed": false
      },
      "outputs": [],
      "source": [
        "bp_map = vis_to_map(vis10_3, imsize, pixel_size=pixel)"
      ]
    },
    {
      "cell_type": "markdown",
      "metadata": {},
      "source": [
        "Crete a clean image using the clean algorithm `vis_clean`\n\n"
      ]
    },
    {
      "cell_type": "code",
      "execution_count": null,
      "metadata": {
        "collapsed": false
      },
      "outputs": [],
      "source": [
        "niter = 200  # number of iterations\ngain = 0.1  # gain used in each clean iteration\nbeam_width = 20.0 * u.arcsec\nclean_map, model_map, resid_map = vis_clean(\n    vis10_3, imsize, pixel_size=pixel, gain=gain, niter=niter, clean_beam_width=20 * u.arcsec\n)"
      ]
    },
    {
      "cell_type": "markdown",
      "metadata": {},
      "source": [
        "Create a sunpy map for the clean image in Helioprojective\n\n"
      ]
    },
    {
      "cell_type": "code",
      "execution_count": null,
      "metadata": {
        "collapsed": false
      },
      "outputs": [],
      "source": [
        "header = make_fitswcs_header(\n    clean_map.data,\n    max_stix.transform_to(Helioprojective(obstime=vis_tr.center, observer=solo)),\n    telescope=\"STIX\",\n    observatory=\"Solar Orbiter\",\n    scale=pixel,\n    rotation_angle=90 * u.deg + roll,\n)\n\nclean_map = Map((clean_map.data, header))\nplt.figure()\nclean_map.rotate().plot()"
      ]
    },
    {
      "cell_type": "markdown",
      "metadata": {},
      "source": [
        "Crete a map using the MEM GE algorithm `mem`\n\n"
      ]
    },
    {
      "cell_type": "code",
      "execution_count": null,
      "metadata": {
        "collapsed": false
      },
      "outputs": [],
      "source": [
        "snr_value, _ = resistant_mean((np.abs(vis10_3.visibilities) / vis10_3.amplitude_uncertainty).flatten(), 3)\npercent_lambda = 2 / (snr_value**2 + 90)\nmem_map = mem(vis10_3, shape=imsize, pixel_size=pixel, percent_lambda=percent_lambda)"
      ]
    },
    {
      "cell_type": "markdown",
      "metadata": {},
      "source": [
        "Crete a map using the EM algorithm `EM`\n\n"
      ]
    },
    {
      "cell_type": "code",
      "execution_count": null,
      "metadata": {
        "collapsed": false
      },
      "outputs": [],
      "source": [
        "em_map = em(\n    meta_pixels_bkg_subtracted[\"abcd_rate_kev_cm\"],\n    cal_vis,\n    shape=imsize,\n    pixel_size=pixel,\n    flare_location=max_stix,\n    idx=idx,\n)\n\nvmax = max([clean_map.data.max(), mem_map.data.max(), em_map.value.max()])"
      ]
    },
    {
      "cell_type": "markdown",
      "metadata": {},
      "source": [
        "Finally compare the images from each algorithm\n\n"
      ]
    },
    {
      "cell_type": "code",
      "execution_count": null,
      "metadata": {
        "collapsed": false
      },
      "outputs": [],
      "source": [
        "fig, axes = plt.subplots(2, 2)\na = axes[0, 0].imshow(bp_nat.value)\naxes[0, 0].set_title(\"Back Projection\")\nfig.colorbar(a)\nb = axes[1, 0].imshow(clean_map.data, vmin=0, vmax=vmax)\naxes[1, 0].set_title(\"Clean\")\nfig.colorbar(b)\nc = axes[0, 1].imshow(mem_map.data, vmin=0, vmax=vmax)\naxes[0, 1].set_title(\"MEM GE\")\nfig.colorbar(c)\nd = axes[1, 1].imshow(em_map.value, vmin=0, vmax=vmax)\naxes[1, 1].set_title(\"EM\")\nfig.colorbar(d)\nfig.tight_layout()\nplt.show()"
      ]
    }
  ],
  "metadata": {
    "kernelspec": {
      "display_name": "Python 3",
      "language": "python",
      "name": "python3"
    },
    "language_info": {
      "codemirror_mode": {
        "name": "ipython",
        "version": 3
      },
      "file_extension": ".py",
      "mimetype": "text/x-python",
      "name": "python",
      "nbconvert_exporter": "python",
      "pygments_lexer": "ipython3",
      "version": "3.11.7"
    }
  },
  "nbformat": 4,
  "nbformat_minor": 0
}