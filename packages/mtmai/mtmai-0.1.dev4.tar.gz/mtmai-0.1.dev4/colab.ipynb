{
 "cells": [
  {
   "cell_type": "code",
   "execution_count": null,
   "metadata": {},
   "outputs": [],
   "source": [
    "%pip install pymtlibs"
   ]
  },
  {
   "cell_type": "code",
   "execution_count": 1,
   "metadata": {},
   "outputs": [
    {
     "name": "stdout",
     "output_type": "stream",
     "text": [
      "\n",
      "dddddddddddddddd222\n"
     ]
    },
    {
     "name": "stderr",
     "output_type": "stream",
     "text": [
      "2024-07-19T04:24:25Z INF Starting tunnel tunnelID=6e21c060-f4d8-46bc-9661-8053c4da434e\n",
      "2024-07-19T04:24:25Z INF Version 2024.6.1\n",
      "2024-07-19T04:24:25Z INF GOOS: linux, GOVersion: go1.22.2, GoArch: amd64\n",
      "2024-07-19T04:24:25Z INF Settings: map[no-autoupdate:true token:*****]\n",
      "2024-07-19T04:24:25Z INF Generated Connector ID: 86f2c9b3-d0aa-487c-8d43-a1026e21b1a8\n",
      "2024-07-19T04:24:25Z INF Initial protocol quic\n",
      "2024-07-19T04:24:25Z INF ICMP proxy will use 10.0.5.2 as source for IPv4\n",
      "2024-07-19T04:24:25Z INF ICMP proxy will use fe80::c8d1:96ff:fe9d:6f80 in zone eth0 as source for IPv6\n",
      "2024-07-19T04:24:25Z WRN The user running cloudflared process has a GID (group ID) that is not within ping_group_range. You might need to add that user to a group within that range, or instead update the range to encompass a group the user is already in by modifying /proc/sys/net/ipv4/ping_group_range. Otherwise cloudflared will not be able to ping this network error=\"Group ID 0 is not between ping group 65534 to 65534\"\n",
      "2024-07-19T04:24:25Z WRN ICMP proxy feature is disabled error=\"cannot create ICMPv4 proxy: Group ID 0 is not between ping group 65534 to 65534 nor ICMPv6 proxy: socket: permission denied\"\n",
      "2024-07-19T04:24:25Z INF Starting metrics server on 127.0.0.1:43369/metrics\n",
      "2024/07/19 04:24:25 failed to sufficiently increase receive buffer size (was: 2441 kiB, wanted: 7168 kiB, got: 4882 kiB). See https://github.com/quic-go/quic-go/wiki/UDP-Buffer-Sizes for details.\n",
      "2024-07-19T04:24:26Z INF Registered tunnel connection connIndex=0 connection=d698486c-9799-49ea-9cd4-bef55b69c365 event=0 ip=198.41.200.63 location=sea09 protocol=quic\n",
      "2024-07-19T04:24:26Z INF Registered tunnel connection connIndex=1 connection=08c0bc87-62e8-4cd1-a7eb-74db78541080 event=0 ip=198.41.192.67 location=sea01 protocol=quic\n",
      "2024-07-19T04:24:27Z INF Registered tunnel connection connIndex=2 connection=a92fc93c-5353-49ac-84fa-bcfee57de507 event=0 ip=198.41.200.33 location=sea09 protocol=quic\n",
      "2024-07-19T04:24:28Z INF Registered tunnel connection connIndex=3 connection=87b3502c-5d51-4810-bc6a-78bf2c4cccfc event=0 ip=198.41.192.57 location=sea01 protocol=quic\n",
      "2024-07-19T04:24:28Z INF Updated to new configuration config=\"{\\\"ingress\\\":[{\\\"hostname\\\":\\\"gitpod-3389.yuepa8.com\\\",\\\"id\\\":\\\"0\\\",\\\"originRequest\\\":{},\\\"service\\\":\\\"tcp://localhost:3389\\\"},{\\\"hostname\\\":\\\"gitpodssh2223.yuepa8.com\\\",\\\"id\\\":\\\"1\\\",\\\"originRequest\\\":{},\\\"service\\\":\\\"tcp://127.0.0.1:2223\\\"},{\\\"hostname\\\":\\\"gitpod-mtxadmin.yuepa8.com\\\",\\\"id\\\":\\\"2\\\",\\\"originRequest\\\":{},\\\"service\\\":\\\"http://127.0.0.1:3300\\\"},{\\\"hostname\\\":\\\"gitpod-vnc-5901.yuepa8.com\\\",\\\"id\\\":\\\"3\\\",\\\"originRequest\\\":{},\\\"service\\\":\\\"tcp://127.0.0.1:5901\\\"},{\\\"hostname\\\":\\\"gitpod-3338.yuepa8.com\\\",\\\"id\\\":\\\"4\\\",\\\"originRequest\\\":{},\\\"service\\\":\\\"http://localhost:3338\\\"},{\\\"hostname\\\":\\\"gitpod-mtxedge.yuepa8.com\\\",\\\"id\\\":\\\"5\\\",\\\"originRequest\\\":{},\\\"service\\\":\\\"http://127.0.0.1:3400\\\"},{\\\"hostname\\\":\\\"gitpod-8383.yuepa8.com\\\",\\\"id\\\":\\\"6\\\",\\\"originRequest\\\":{},\\\"service\\\":\\\"http://172.17.0.1:8383\\\"},{\\\"hostname\\\":\\\"gitpod-novnc.yuepa8.com\\\",\\\"id\\\":\\\"8\\\",\\\"originRequest\\\":{\\\"http2Origin\\\":true,\\\"noTLSVerify\\\":true},\\\"service\\\":\\\"http://127.0.0.1:6080\\\"},{\\\"hostname\\\":\\\"gitpodssh2222.yuepa8.com\\\",\\\"id\\\":\\\"7\\\",\\\"originRequest\\\":{},\\\"service\\\":\\\"tcp://127.0.0.1:2222\\\"},{\\\"hostname\\\":\\\"gitpod-6901.yuepa8.com\\\",\\\"id\\\":\\\"9\\\",\\\"originRequest\\\":{\\\"http2Origin\\\":true,\\\"noTLSVerify\\\":true},\\\"service\\\":\\\"https://127.0.0.1:6901\\\"},{\\\"hostname\\\":\\\"gitpod-3300.yuepa8.com\\\",\\\"id\\\":\\\"10\\\",\\\"originRequest\\\":{},\\\"service\\\":\\\"http://127.0.0.1:3300\\\"},{\\\"hostname\\\":\\\"gitpod-3000.yuepa8.com\\\",\\\"id\\\":\\\"11\\\",\\\"originRequest\\\":{},\\\"service\\\":\\\"http://127.0.0.1:3000\\\"},{\\\"hostname\\\":\\\"gitpod-8444.yuepa8.com\\\",\\\"id\\\":\\\"12\\\",\\\"originRequest\\\":{\\\"http2Origin\\\":false,\\\"noTLSVerify\\\":true},\\\"service\\\":\\\"https://127.0.0.1:8444\\\"},{\\\"hostname\\\":\\\"gitpod-8447.yuepa8.com\\\",\\\"id\\\":\\\"13\\\",\\\"originRequest\\\":{\\\"noTLSVerify\\\":true},\\\"service\\\":\\\"https://127.0.0.1:8447\\\"},{\\\"hostname\\\":\\\"gitpod-20808.yuepa8.com\\\",\\\"id\\\":\\\"14\\\",\\\"originRequest\\\":{},\\\"service\\\":\\\"tcp://127.0.0.1:20808\\\"},{\\\"hostname\\\":\\\"gitpod-20809.yuepa8.com\\\",\\\"id\\\":\\\"15\\\",\\\"originRequest\\\":{},\\\"service\\\":\\\"http://127.0.0.1:22998\\\"},{\\\"hostname\\\":\\\"gitpod-gomtm.yuepa8.com\\\",\\\"id\\\":\\\"16\\\",\\\"originRequest\\\":{},\\\"service\\\":\\\"http://172.17.0.1:3088\\\"},{\\\"hostname\\\":\\\"gomtm-inngest.yuepa8.com\\\",\\\"id\\\":\\\"17\\\",\\\"originRequest\\\":{},\\\"service\\\":\\\"http://172.17.0.1:8288\\\"},{\\\"hostname\\\":\\\"gitpod-8201.yuepa8.com\\\",\\\"originRequest\\\":{},\\\"service\\\":\\\"http://172.17.0.1:8201\\\"},{\\\"service\\\":\\\"http_status:404\\\"}],\\\"warp-routing\\\":{\\\"enabled\\\":false}}\" version=49\n"
     ]
    }
   ],
   "source": [
    "from mtmai.lib.cftunnel import startCfTunnel\n",
    "startCfTunnel()"
   ]
  }
 ],
 "metadata": {
  "kernelspec": {
   "display_name": ".venv",
   "language": "python",
   "name": "python3"
  },
  "language_info": {
   "codemirror_mode": {
    "name": "ipython",
    "version": 3
   },
   "file_extension": ".py",
   "mimetype": "text/x-python",
   "name": "python",
   "nbconvert_exporter": "python",
   "pygments_lexer": "ipython3",
   "version": "3.11.9"
  }
 },
 "nbformat": 4,
 "nbformat_minor": 2
}
