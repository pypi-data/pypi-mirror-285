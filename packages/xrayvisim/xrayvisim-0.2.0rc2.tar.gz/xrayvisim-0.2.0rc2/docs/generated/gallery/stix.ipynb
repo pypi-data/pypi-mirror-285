{
  "cells": [
    {
      "cell_type": "markdown",
      "metadata": {},
      "source": [
        "\n# Solar Orbiter/STIX Visibility Imaging\n\nImports\n"
      ]
    },
    {
      "cell_type": "code",
      "execution_count": null,
      "metadata": {
        "collapsed": false
      },
      "outputs": [],
      "source": [
        "import pickle\nimport urllib.request\n\nimport astropy.units as apu\nimport matplotlib.pyplot as plt\n\nfrom xrayvision.clean import vis_clean\nfrom xrayvision.imaging import vis_psf_map, vis_to_map\nfrom xrayvision.mem import mem"
      ]
    },
    {
      "cell_type": "markdown",
      "metadata": {},
      "source": [
        "Create images from STIX visibility data.\n\nThe STIX data has already been prepared and stored in python pickle format\nthe variables can be simply restored.\n\n"
      ]
    },
    {
      "cell_type": "code",
      "execution_count": null,
      "metadata": {
        "collapsed": false
      },
      "outputs": [],
      "source": [
        "stix_data = pickle.load(urllib.request.urlopen(\"https://pub099.cs.technik.fhnw.ch/demo/stix_vis.pkl\"))\n\ntime_range, energy_range, offset, stix_vis = stix_data\nstix_vis.phase_centre = [0, 0] * apu.arcsec\nstix_vis.offset = offset"
      ]
    },
    {
      "cell_type": "markdown",
      "metadata": {},
      "source": [
        "Lets have a look at the point spread function (PSF) or dirty beam\n\n"
      ]
    },
    {
      "cell_type": "code",
      "execution_count": null,
      "metadata": {
        "collapsed": false
      },
      "outputs": [],
      "source": [
        "psf_map = vis_psf_map(stix_vis, shape=(129, 129) * apu.pixel, pixel_size=2 * apu.arcsec / apu.pix, scheme=\"uniform\")\npsf_map.plot()"
      ]
    },
    {
      "cell_type": "markdown",
      "metadata": {},
      "source": [
        "Back projection\n\n"
      ]
    },
    {
      "cell_type": "code",
      "execution_count": null,
      "metadata": {
        "collapsed": false
      },
      "outputs": [],
      "source": [
        "backproj_map = vis_to_map(stix_vis, shape=(129, 129) * apu.pixel, pixel_size=2 * apu.arcsec / apu.pix, scheme=\"uniform\")\nbackproj_map.plot()"
      ]
    },
    {
      "cell_type": "markdown",
      "metadata": {},
      "source": [
        "Clean\n\n"
      ]
    },
    {
      "cell_type": "code",
      "execution_count": null,
      "metadata": {
        "collapsed": false
      },
      "outputs": [],
      "source": [
        "clean_map, model_map, resid_map = vis_clean(\n    stix_vis,\n    shape=[129, 129] * apu.pixel,\n    pixel_size=[2, 2] * apu.arcsec / apu.pix,\n    clean_beam_width=20 * apu.arcsec,\n    niter=100,\n)\nclean_map.plot()"
      ]
    },
    {
      "cell_type": "markdown",
      "metadata": {},
      "source": [
        "MEM\n\n"
      ]
    },
    {
      "cell_type": "code",
      "execution_count": null,
      "metadata": {
        "collapsed": false
      },
      "outputs": [],
      "source": [
        "mem_map = mem(stix_vis, shape=[129, 129] * apu.pixel, pixel_size=[2, 2] * apu.arcsec / apu.pix)\nmem_map.plot()"
      ]
    },
    {
      "cell_type": "markdown",
      "metadata": {},
      "source": [
        "Comparison\n\n"
      ]
    },
    {
      "cell_type": "code",
      "execution_count": null,
      "metadata": {
        "collapsed": false
      },
      "outputs": [],
      "source": [
        "fig = plt.figure(figsize=(10, 10))\nfig.add_subplot(221, projection=psf_map)\nfig.add_subplot(222, projection=backproj_map)\nfig.add_subplot(223, projection=clean_map)\nfig.add_subplot(224, projection=mem_map)\naxs = fig.get_axes()\npsf_map.plot(axes=axs[0])\naxs[0].set_title(\"PSF\")\nbackproj_map.plot(axes=axs[1])\naxs[1].set_title(\"Back Projection\")\nclean_map.plot(axes=axs[2])\naxs[2].set_title(\"Clean\")\nmem_map.plot(axes=axs[3])\naxs[3].set_title(\"MEM\")\nplt.show()"
      ]
    }
  ],
  "metadata": {
    "kernelspec": {
      "display_name": "Python 3",
      "language": "python",
      "name": "python3"
    },
    "language_info": {
      "codemirror_mode": {
        "name": "ipython",
        "version": 3
      },
      "file_extension": ".py",
      "mimetype": "text/x-python",
      "name": "python",
      "nbconvert_exporter": "python",
      "pygments_lexer": "ipython3",
      "version": "3.9.16"
    }
  },
  "nbformat": 4,
  "nbformat_minor": 0
}