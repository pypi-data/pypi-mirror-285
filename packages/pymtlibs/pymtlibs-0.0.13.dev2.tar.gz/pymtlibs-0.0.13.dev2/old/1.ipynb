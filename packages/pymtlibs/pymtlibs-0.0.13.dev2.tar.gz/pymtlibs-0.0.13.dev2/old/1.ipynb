{
 "cells": [
  {
   "cell_type": "code",
   "execution_count": 1,
   "metadata": {},
   "outputs": [
    {
     "name": "stdout",
     "output_type": "stream",
     "text": [
      "scrapy 启动\n",
      "====================================================================\n",
      "spidername: playwright_doc, item post to : https://dev3502.yuepa8.com/api/scrapy_item\n",
      "=============================\n",
      "当前 spider 类\n",
      "<module 'mtworker.tasks.scrapy_tutorial.spiders.playwright_doc' from '/workspace/pymtlibs/mtworker/tasks/scrapy_tutorial/spiders/playwright_doc.py'>\n",
      "scrapy start...\n",
      "==================start_requests\n",
      "====parse_article====parse_article\n",
      "====parse_article====parse_article\n",
      "====parse_article====parse_article\n",
      "====parse_article====parse_article\n",
      "====parse_article====parse_article\n",
      "====parse_article====parse_article\n",
      "====parse_article====parse_article\n",
      "====parse_article====parse_article\n",
      "====parse_article====parse_article\n",
      "====parse_article====parse_article\n",
      "====parse_article====parse_article\n",
      "====parse_article====parse_article\n",
      "====parse_article====parse_article\n",
      "====parse_article====parse_article\n",
      "====parse_article====parse_article\n",
      "====parse_article====parse_article\n",
      "====parse_article====parse_article\n",
      "====parse_article====parse_article\n",
      "====parse_article====parse_article\n",
      "====parse_article====parse_article\n",
      "====parse_article====parse_article\n",
      "====parse_article====parse_article\n",
      "====parse_article====parse_article\n",
      "====parse_article====parse_article\n",
      "====parse_article====parse_article\n",
      "====parse_article====parse_article\n",
      "====parse_article====parse_article\n",
      "====parse_article====parse_article\n",
      "====parse_article====parse_article\n",
      "====parse_article====parse_article\n",
      "====parse_article====parse_article\n",
      "====parse_article====parse_article\n",
      "====parse_article====parse_article\n",
      "====parse_article====parse_article\n",
      "====parse_article====parse_article\n",
      "====parse_article====parse_article\n",
      "====parse_article====parse_article\n",
      "====parse_article====parse_article\n",
      "====parse_article====parse_article\n",
      "====parse_article====parse_article\n",
      "====parse_article====parse_article\n",
      "====parse_article====parse_article\n",
      "====parse_article====parse_article\n",
      "====parse_article====parse_article\n",
      "====parse_article====parse_article\n",
      "====parse_article====parse_article\n",
      "====parse_article====parse_article\n",
      "====parse_article====parse_article\n",
      "====parse_article====parse_article\n",
      "====parse_article====parse_article\n",
      "====parse_article====parse_article\n",
      "====parse_article====parse_article\n",
      "====parse_article====parse_article\n",
      "====parse_article====parse_article\n",
      "====parse_article====parse_article\n",
      "====parse_article====parse_article\n",
      "====parse_article====parse_article\n",
      "====parse_article====parse_article\n",
      "====parse_article====parse_article\n",
      "====parse_article====parse_article\n",
      "====parse_article====parse_article\n",
      "====parse_article====parse_article\n",
      "====parse_article====parse_article\n",
      "====parse_article====parse_article\n",
      "====parse_article====parse_article\n",
      "====parse_article====parse_article\n",
      "====parse_article====parse_article\n",
      "====parse_article====parse_article\n",
      "====parse_article====parse_article\n",
      "====parse_article====parse_article\n",
      "====parse_article====parse_article\n",
      "====parse_article====parse_article\n",
      "====parse_article====parse_article\n",
      "====parse_article====parse_article\n",
      "====parse_article====parse_article\n",
      "====parse_article====parse_article\n",
      "====parse_article====parse_article\n",
      "====parse_article====parse_article\n",
      "====parse_article====parse_article\n",
      "====parse_article====parse_article\n",
      "====parse_article====parse_article\n",
      "====parse_article====parse_article\n",
      "====parse_article====parse_article\n",
      "domain_crawl finished\n"
     ]
    }
   ],
   "source": [
    "from mtworker.tasks import scrapy_demo\n",
    "\n",
    "scrapy_demo.run_spider(    \n",
    "    spider_name=\"playwright_doc\",\n",
    "    item_cb_url=\"https://dev3502.yuepa8.com/api/scrapy_item\",\n",
    "    )"
   ]
  },
  {
   "cell_type": "code",
   "execution_count": null,
   "metadata": {
    "tags": [
     "parameters"
    ]
   },
   "outputs": [],
   "source": [
    "print(\"d\")"
   ]
  },
  {
   "cell_type": "code",
   "execution_count": null,
   "metadata": {},
   "outputs": [],
   "source": []
  },
  {
   "cell_type": "code",
   "execution_count": null,
   "metadata": {},
   "outputs": [],
   "source": []
  }
 ],
 "metadata": {
  "kernelspec": {
   "display_name": ".venv",
   "language": "python",
   "name": "python3"
  },
  "language_info": {
   "codemirror_mode": {
    "name": "ipython",
    "version": 3
   },
   "file_extension": ".py",
   "mimetype": "text/x-python",
   "name": "python",
   "nbconvert_exporter": "python",
   "pygments_lexer": "ipython3",
   "version": "3.10.9"
  },
  "orig_nbformat": 4,
  "vscode": {
   "interpreter": {
    "hash": "4e912b368c29fd25489eba1535dcaffc46064c4c7b7380218dfb88fca0ba497b"
   }
  }
 },
 "nbformat": 4,
 "nbformat_minor": 2
}
