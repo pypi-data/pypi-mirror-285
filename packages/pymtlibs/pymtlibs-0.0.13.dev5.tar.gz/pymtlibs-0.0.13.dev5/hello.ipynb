{
 "cells": [
  {
   "cell_type": "code",
   "execution_count": null,
   "metadata": {},
   "outputs": [],
   "source": [
    "%pip install pymtlibs"
   ]
  },
  {
   "cell_type": "code",
   "execution_count": 1,
   "metadata": {},
   "outputs": [
    {
     "name": "stdout",
     "output_type": "stream",
     "text": [
      "\n",
      "dddddddddddddddd222\n",
      "ssssssssssssssss222\n",
      "\n"
     ]
    },
    {
     "name": "stderr",
     "output_type": "stream",
     "text": [
      "curl: (23) Failure writing output to destination\n",
      "sudo: .vol/bin/cloudflared: command not found\n"
     ]
    }
   ],
   "source": [
    "from mtmai.lib.cftunnel import startCfTunnel\n",
    "startCfTunnel()"
   ]
  }
 ],
 "metadata": {
  "kernelspec": {
   "display_name": ".venv",
   "language": "python",
   "name": "python3"
  },
  "language_info": {
   "codemirror_mode": {
    "name": "ipython",
    "version": 3
   },
   "file_extension": ".py",
   "mimetype": "text/x-python",
   "name": "python",
   "nbconvert_exporter": "python",
   "pygments_lexer": "ipython3",
   "version": "3.11.9"
  }
 },
 "nbformat": 4,
 "nbformat_minor": 2
}
