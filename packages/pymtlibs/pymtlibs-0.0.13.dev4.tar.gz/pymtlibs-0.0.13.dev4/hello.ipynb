{
 "cells": [
  {
   "cell_type": "code",
   "execution_count": null,
   "metadata": {},
   "outputs": [],
   "source": [
    "%pip install pymtlibs"
   ]
  },
  {
   "cell_type": "code",
   "execution_count": 1,
   "metadata": {},
   "outputs": [
    {
     "name": "stderr",
     "output_type": "stream",
     "text": [
      "curl: (23) Failure writing output to destination\n",
      "2024-07-19T04:17:18Z INF Starting tunnel tunnelID=6e21c060-f4d8-46bc-9661-8053c4da434e\n",
      "2024-07-19T04:17:18Z INF Version 2024.6.1\n",
      "2024-07-19T04:17:18Z INF GOOS: linux, GOVersion: go1.22.2, GoArch: amd64\n",
      "2024-07-19T04:17:18Z INF Settings: map[no-autoupdate:true token:*****]\n",
      "2024-07-19T04:17:18Z INF Generated Connector ID: c94a5b5b-2767-4b48-9dd5-de028c3d4718\n",
      "2024-07-19T04:17:18Z INF Initial protocol quic\n",
      "2024-07-19T04:17:18Z INF ICMP proxy will use 10.0.5.2 as source for IPv4\n",
      "2024-07-19T04:17:18Z INF ICMP proxy will use fe80::c8d1:96ff:fe9d:6f80 in zone eth0 as source for IPv6\n",
      "2024-07-19T04:17:18Z WRN The user running cloudflared process has a GID (group ID) that is not within ping_group_range. You might need to add that user to a group within that range, or instead update the range to encompass a group the user is already in by modifying /proc/sys/net/ipv4/ping_group_range. Otherwise cloudflared will not be able to ping this network error=\"Group ID 0 is not between ping group 65534 to 65534\"\n",
      "2024-07-19T04:17:18Z WRN ICMP proxy feature is disabled error=\"cannot create ICMPv4 proxy: Group ID 0 is not between ping group 65534 to 65534 nor ICMPv6 proxy: socket: permission denied\"\n",
      "2024-07-19T04:17:18Z INF Starting metrics server on 127.0.0.1:34673/metrics\n",
      "2024/07/19 04:17:18 failed to sufficiently increase receive buffer size (was: 2441 kiB, wanted: 7168 kiB, got: 4882 kiB). See https://github.com/quic-go/quic-go/wiki/UDP-Buffer-Sizes for details.\n"
     ]
    },
    {
     "name": "stdout",
     "output_type": "stream",
     "text": [
      "\n",
      "dddddddddddddddd\n"
     ]
    },
    {
     "name": "stderr",
     "output_type": "stream",
     "text": [
      "2024-07-19T04:17:18Z INF Registered tunnel connection connIndex=0 connection=2c77b457-892f-4e54-9700-cddbb0b8d382 event=0 ip=198.41.192.47 location=sea01 protocol=quic\n",
      "2024-07-19T04:17:18Z INF Registered tunnel connection connIndex=1 connection=e1a6b8f0-a410-4311-a89b-84e2bff6d208 event=0 ip=198.41.200.63 location=sea09 protocol=quic\n",
      "2024-07-19T04:17:19Z INF Updated to new configuration config=\"{\\\"ingress\\\":[{\\\"hostname\\\":\\\"gitpod-3389.yuepa8.com\\\",\\\"id\\\":\\\"0\\\",\\\"originRequest\\\":{},\\\"service\\\":\\\"tcp://localhost:3389\\\"},{\\\"hostname\\\":\\\"gitpodssh2223.yuepa8.com\\\",\\\"id\\\":\\\"1\\\",\\\"originRequest\\\":{},\\\"service\\\":\\\"tcp://127.0.0.1:2223\\\"},{\\\"hostname\\\":\\\"gitpod-mtxadmin.yuepa8.com\\\",\\\"id\\\":\\\"2\\\",\\\"originRequest\\\":{},\\\"service\\\":\\\"http://127.0.0.1:3300\\\"},{\\\"hostname\\\":\\\"gitpod-vnc-5901.yuepa8.com\\\",\\\"id\\\":\\\"3\\\",\\\"originRequest\\\":{},\\\"service\\\":\\\"tcp://127.0.0.1:5901\\\"},{\\\"hostname\\\":\\\"gitpod-3338.yuepa8.com\\\",\\\"id\\\":\\\"4\\\",\\\"originRequest\\\":{},\\\"service\\\":\\\"http://localhost:3338\\\"},{\\\"hostname\\\":\\\"gitpod-mtxedge.yuepa8.com\\\",\\\"id\\\":\\\"5\\\",\\\"originRequest\\\":{},\\\"service\\\":\\\"http://127.0.0.1:3400\\\"},{\\\"hostname\\\":\\\"gitpod-8383.yuepa8.com\\\",\\\"id\\\":\\\"6\\\",\\\"originRequest\\\":{},\\\"service\\\":\\\"http://172.17.0.1:8383\\\"},{\\\"hostname\\\":\\\"gitpod-novnc.yuepa8.com\\\",\\\"id\\\":\\\"8\\\",\\\"originRequest\\\":{\\\"http2Origin\\\":true,\\\"noTLSVerify\\\":true},\\\"service\\\":\\\"http://127.0.0.1:6080\\\"},{\\\"hostname\\\":\\\"gitpodssh2222.yuepa8.com\\\",\\\"id\\\":\\\"7\\\",\\\"originRequest\\\":{},\\\"service\\\":\\\"tcp://127.0.0.1:2222\\\"},{\\\"hostname\\\":\\\"gitpod-6901.yuepa8.com\\\",\\\"id\\\":\\\"9\\\",\\\"originRequest\\\":{\\\"http2Origin\\\":true,\\\"noTLSVerify\\\":true},\\\"service\\\":\\\"https://127.0.0.1:6901\\\"},{\\\"hostname\\\":\\\"gitpod-3300.yuepa8.com\\\",\\\"id\\\":\\\"10\\\",\\\"originRequest\\\":{},\\\"service\\\":\\\"http://127.0.0.1:3300\\\"},{\\\"hostname\\\":\\\"gitpod-3000.yuepa8.com\\\",\\\"id\\\":\\\"11\\\",\\\"originRequest\\\":{},\\\"service\\\":\\\"http://127.0.0.1:3000\\\"},{\\\"hostname\\\":\\\"gitpod-8444.yuepa8.com\\\",\\\"id\\\":\\\"12\\\",\\\"originRequest\\\":{\\\"http2Origin\\\":false,\\\"noTLSVerify\\\":true},\\\"service\\\":\\\"https://127.0.0.1:8444\\\"},{\\\"hostname\\\":\\\"gitpod-8447.yuepa8.com\\\",\\\"id\\\":\\\"13\\\",\\\"originRequest\\\":{\\\"noTLSVerify\\\":true},\\\"service\\\":\\\"https://127.0.0.1:8447\\\"},{\\\"hostname\\\":\\\"gitpod-20808.yuepa8.com\\\",\\\"id\\\":\\\"14\\\",\\\"originRequest\\\":{},\\\"service\\\":\\\"tcp://127.0.0.1:20808\\\"},{\\\"hostname\\\":\\\"gitpod-20809.yuepa8.com\\\",\\\"id\\\":\\\"15\\\",\\\"originRequest\\\":{},\\\"service\\\":\\\"http://127.0.0.1:22998\\\"},{\\\"hostname\\\":\\\"gitpod-gomtm.yuepa8.com\\\",\\\"id\\\":\\\"16\\\",\\\"originRequest\\\":{},\\\"service\\\":\\\"http://172.17.0.1:3088\\\"},{\\\"hostname\\\":\\\"gomtm-inngest.yuepa8.com\\\",\\\"id\\\":\\\"17\\\",\\\"originRequest\\\":{},\\\"service\\\":\\\"http://172.17.0.1:8288\\\"},{\\\"hostname\\\":\\\"gitpod-8201.yuepa8.com\\\",\\\"originRequest\\\":{},\\\"service\\\":\\\"http://172.17.0.1:8201\\\"},{\\\"service\\\":\\\"http_status:404\\\"}],\\\"warp-routing\\\":{\\\"enabled\\\":false}}\" version=49\n",
      "2024/07/19 04:17:19 rpc: abort: rpc: aborted by remote: rpc: shutdown\n",
      "2024-07-19T04:17:19Z INF Registered tunnel connection connIndex=2 connection=51b4836a-bc8d-4c16-ac14-91cab73fb9a9 event=0 ip=198.41.192.37 location=sea05 protocol=quic\n",
      "2024-07-19T04:17:20Z INF Registered tunnel connection connIndex=3 connection=5202cd7f-c3bc-41e8-80e4-a20f6bbc623a event=0 ip=198.41.200.43 location=sea09 protocol=quic\n",
      "2024-07-19T04:17:24Z INF Unregistered tunnel connection connIndex=0 event=0 ip=198.41.192.47\n",
      "2024-07-19T04:17:24Z WRN Failed to serve quic connection error=\"timeout: no recent network activity\" connIndex=0 event=0 ip=198.41.192.47\n",
      "2024-07-19T04:17:24Z WRN Serve tunnel error error=\"timeout: no recent network activity\" connIndex=0 event=0 ip=198.41.192.47\n",
      "2024-07-19T04:17:24Z INF Retrying connection in up to 1s connIndex=0 event=0 ip=198.41.192.47\n",
      "2024-07-19T04:17:24Z INF Registered tunnel connection connIndex=0 connection=0f638a3c-cbb4-48b6-a636-ab29190240ea event=0 ip=198.41.192.27 location=sea05 protocol=quic\n"
     ]
    }
   ],
   "source": [
    "from mtmai.lib.cftunnel import startCfTunnel\n",
    "startCfTunnel()"
   ]
  }
 ],
 "metadata": {
  "kernelspec": {
   "display_name": ".venv",
   "language": "python",
   "name": "python3"
  },
  "language_info": {
   "codemirror_mode": {
    "name": "ipython",
    "version": 3
   },
   "file_extension": ".py",
   "mimetype": "text/x-python",
   "name": "python",
   "nbconvert_exporter": "python",
   "pygments_lexer": "ipython3",
   "version": "3.11.9"
  }
 },
 "nbformat": 4,
 "nbformat_minor": 2
}
