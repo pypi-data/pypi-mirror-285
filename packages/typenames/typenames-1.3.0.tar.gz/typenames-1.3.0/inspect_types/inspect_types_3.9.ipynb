{
 "cells": [
  {
   "cell_type": "code",
   "execution_count": 1,
   "metadata": {
    "execution": {
     "iopub.execute_input": "2023-02-20T01:35:04.774994Z",
     "iopub.status.busy": "2023-02-20T01:35:04.774656Z",
     "iopub.status.idle": "2023-02-20T01:35:04.783367Z",
     "shell.execute_reply": "2023-02-20T01:35:04.782733Z"
    }
   },
   "outputs": [],
   "source": [
    "import sys\n",
    "import typing\n",
    "try: \n",
    "    from typing import get_origin\n",
    "except ImportError:\n",
    "    from typing_extensions import get_origin"
   ]
  },
  {
   "cell_type": "code",
   "execution_count": 2,
   "metadata": {
    "execution": {
     "iopub.execute_input": "2023-02-20T01:35:04.786001Z",
     "iopub.status.busy": "2023-02-20T01:35:04.785748Z",
     "iopub.status.idle": "2023-02-20T01:35:04.792251Z",
     "shell.execute_reply": "2023-02-20T01:35:04.791717Z"
    }
   },
   "outputs": [
    {
     "data": {
      "text/plain": [
       "'3.9.16 (main, Dec  7 2022, 10:15:43) \\n[Clang 14.0.0 (clang-1400.0.29.202)]'"
      ]
     },
     "execution_count": 2,
     "metadata": {},
     "output_type": "execute_result"
    }
   ],
   "source": [
    "sys.version"
   ]
  },
  {
   "cell_type": "markdown",
   "metadata": {},
   "source": [
    "## Union"
   ]
  },
  {
   "cell_type": "markdown",
   "metadata": {},
   "source": [
    "### typing.Union (Generic Alias)"
   ]
  },
  {
   "cell_type": "code",
   "execution_count": 3,
   "metadata": {
    "execution": {
     "iopub.execute_input": "2023-02-20T01:35:04.830532Z",
     "iopub.status.busy": "2023-02-20T01:35:04.830236Z",
     "iopub.status.idle": "2023-02-20T01:35:04.834743Z",
     "shell.execute_reply": "2023-02-20T01:35:04.834139Z"
    }
   },
   "outputs": [
    {
     "data": {
      "text/plain": [
       "'typing.Union[int, str]'"
      ]
     },
     "execution_count": 3,
     "metadata": {},
     "output_type": "execute_result"
    }
   ],
   "source": [
    "tp_union = typing.Union[int, str]\n",
    "repr(tp_union)"
   ]
  },
  {
   "cell_type": "code",
   "execution_count": 4,
   "metadata": {
    "execution": {
     "iopub.execute_input": "2023-02-20T01:35:04.837101Z",
     "iopub.status.busy": "2023-02-20T01:35:04.836860Z",
     "iopub.status.idle": "2023-02-20T01:35:04.840921Z",
     "shell.execute_reply": "2023-02-20T01:35:04.840311Z"
    }
   },
   "outputs": [
    {
     "data": {
      "text/plain": [
       "typing._UnionGenericAlias"
      ]
     },
     "execution_count": 4,
     "metadata": {},
     "output_type": "execute_result"
    }
   ],
   "source": [
    "type(tp_union)"
   ]
  },
  {
   "cell_type": "code",
   "execution_count": 5,
   "metadata": {
    "execution": {
     "iopub.execute_input": "2023-02-20T01:35:04.843106Z",
     "iopub.status.busy": "2023-02-20T01:35:04.842908Z",
     "iopub.status.idle": "2023-02-20T01:35:04.846287Z",
     "shell.execute_reply": "2023-02-20T01:35:04.845821Z"
    }
   },
   "outputs": [
    {
     "data": {
      "text/plain": [
       "(typing._UnionGenericAlias,\n",
       " typing._GenericAlias,\n",
       " typing._BaseGenericAlias,\n",
       " typing._Final,\n",
       " object)"
      ]
     },
     "execution_count": 5,
     "metadata": {},
     "output_type": "execute_result"
    }
   ],
   "source": [
    "type(tp_union).__mro__"
   ]
  },
  {
   "cell_type": "code",
   "execution_count": 6,
   "metadata": {
    "execution": {
     "iopub.execute_input": "2023-02-20T01:35:04.848245Z",
     "iopub.status.busy": "2023-02-20T01:35:04.848067Z",
     "iopub.status.idle": "2023-02-20T01:35:04.850393Z",
     "shell.execute_reply": "2023-02-20T01:35:04.849962Z"
    }
   },
   "outputs": [],
   "source": [
    "tp_union._name"
   ]
  },
  {
   "cell_type": "code",
   "execution_count": 7,
   "metadata": {
    "execution": {
     "iopub.execute_input": "2023-02-20T01:35:04.852283Z",
     "iopub.status.busy": "2023-02-20T01:35:04.852101Z",
     "iopub.status.idle": "2023-02-20T01:35:05.108367Z",
     "shell.execute_reply": "2023-02-20T01:35:05.107771Z"
    }
   },
   "outputs": [
    {
     "ename": "AttributeError",
     "evalue": "__name__",
     "output_type": "error",
     "traceback": [
      "\u001b[0;31m---------------------------------------------------------------------------\u001b[0m",
      "\u001b[0;31mAttributeError\u001b[0m                            Traceback (most recent call last)",
      "Cell \u001b[0;32mIn[7], line 1\u001b[0m\n\u001b[0;32m----> 1\u001b[0m \u001b[43mtp_union\u001b[49m\u001b[38;5;241;43m.\u001b[39;49m\u001b[38;5;18;43m__name__\u001b[39;49m\n",
      "File \u001b[0;32m/usr/local/Cellar/python@3.9/3.9.16/Frameworks/Python.framework/Versions/3.9/lib/python3.9/typing.py:711\u001b[0m, in \u001b[0;36m_BaseGenericAlias.__getattr__\u001b[0;34m(self, attr)\u001b[0m\n\u001b[1;32m    709\u001b[0m \u001b[38;5;28;01mif\u001b[39;00m \u001b[38;5;124m'\u001b[39m\u001b[38;5;124m__origin__\u001b[39m\u001b[38;5;124m'\u001b[39m \u001b[38;5;129;01min\u001b[39;00m \u001b[38;5;28mself\u001b[39m\u001b[38;5;241m.\u001b[39m\u001b[38;5;18m__dict__\u001b[39m \u001b[38;5;129;01mand\u001b[39;00m \u001b[38;5;129;01mnot\u001b[39;00m _is_dunder(attr):\n\u001b[1;32m    710\u001b[0m     \u001b[38;5;28;01mreturn\u001b[39;00m \u001b[38;5;28mgetattr\u001b[39m(\u001b[38;5;28mself\u001b[39m\u001b[38;5;241m.\u001b[39m__origin__, attr)\n\u001b[0;32m--> 711\u001b[0m \u001b[38;5;28;01mraise\u001b[39;00m \u001b[38;5;167;01mAttributeError\u001b[39;00m(attr)\n",
      "\u001b[0;31mAttributeError\u001b[0m: __name__"
     ]
    }
   ],
   "source": [
    "tp_union.__name__"
   ]
  },
  {
   "cell_type": "code",
   "execution_count": 8,
   "metadata": {
    "execution": {
     "iopub.execute_input": "2023-02-20T01:35:05.110954Z",
     "iopub.status.busy": "2023-02-20T01:35:05.110721Z",
     "iopub.status.idle": "2023-02-20T01:35:05.125796Z",
     "shell.execute_reply": "2023-02-20T01:35:05.125308Z"
    }
   },
   "outputs": [
    {
     "ename": "AttributeError",
     "evalue": "__qualname__",
     "output_type": "error",
     "traceback": [
      "\u001b[0;31m---------------------------------------------------------------------------\u001b[0m",
      "\u001b[0;31mAttributeError\u001b[0m                            Traceback (most recent call last)",
      "Cell \u001b[0;32mIn[8], line 1\u001b[0m\n\u001b[0;32m----> 1\u001b[0m \u001b[43mtp_union\u001b[49m\u001b[38;5;241;43m.\u001b[39;49m\u001b[38;5;18;43m__qualname__\u001b[39;49m\n",
      "File \u001b[0;32m/usr/local/Cellar/python@3.9/3.9.16/Frameworks/Python.framework/Versions/3.9/lib/python3.9/typing.py:711\u001b[0m, in \u001b[0;36m_BaseGenericAlias.__getattr__\u001b[0;34m(self, attr)\u001b[0m\n\u001b[1;32m    709\u001b[0m \u001b[38;5;28;01mif\u001b[39;00m \u001b[38;5;124m'\u001b[39m\u001b[38;5;124m__origin__\u001b[39m\u001b[38;5;124m'\u001b[39m \u001b[38;5;129;01min\u001b[39;00m \u001b[38;5;28mself\u001b[39m\u001b[38;5;241m.\u001b[39m\u001b[38;5;18m__dict__\u001b[39m \u001b[38;5;129;01mand\u001b[39;00m \u001b[38;5;129;01mnot\u001b[39;00m _is_dunder(attr):\n\u001b[1;32m    710\u001b[0m     \u001b[38;5;28;01mreturn\u001b[39;00m \u001b[38;5;28mgetattr\u001b[39m(\u001b[38;5;28mself\u001b[39m\u001b[38;5;241m.\u001b[39m__origin__, attr)\n\u001b[0;32m--> 711\u001b[0m \u001b[38;5;28;01mraise\u001b[39;00m \u001b[38;5;167;01mAttributeError\u001b[39;00m(attr)\n",
      "\u001b[0;31mAttributeError\u001b[0m: __qualname__"
     ]
    }
   ],
   "source": [
    "tp_union.__qualname__"
   ]
  },
  {
   "cell_type": "code",
   "execution_count": 9,
   "metadata": {
    "execution": {
     "iopub.execute_input": "2023-02-20T01:35:05.128326Z",
     "iopub.status.busy": "2023-02-20T01:35:05.128044Z",
     "iopub.status.idle": "2023-02-20T01:35:05.131521Z",
     "shell.execute_reply": "2023-02-20T01:35:05.131069Z"
    }
   },
   "outputs": [
    {
     "data": {
      "text/plain": [
       "typing.Union"
      ]
     },
     "execution_count": 9,
     "metadata": {},
     "output_type": "execute_result"
    }
   ],
   "source": [
    "origin_union = get_origin(tp_union)\n",
    "origin_union"
   ]
  },
  {
   "cell_type": "code",
   "execution_count": 10,
   "metadata": {
    "execution": {
     "iopub.execute_input": "2023-02-20T01:35:05.133479Z",
     "iopub.status.busy": "2023-02-20T01:35:05.133294Z",
     "iopub.status.idle": "2023-02-20T01:35:05.136711Z",
     "shell.execute_reply": "2023-02-20T01:35:05.136260Z"
    }
   },
   "outputs": [
    {
     "data": {
      "text/plain": [
       "typing._SpecialForm"
      ]
     },
     "execution_count": 10,
     "metadata": {},
     "output_type": "execute_result"
    }
   ],
   "source": [
    "type(origin_union)"
   ]
  },
  {
   "cell_type": "code",
   "execution_count": 11,
   "metadata": {
    "execution": {
     "iopub.execute_input": "2023-02-20T01:35:05.138767Z",
     "iopub.status.busy": "2023-02-20T01:35:05.138579Z",
     "iopub.status.idle": "2023-02-20T01:35:05.141914Z",
     "shell.execute_reply": "2023-02-20T01:35:05.141495Z"
    }
   },
   "outputs": [
    {
     "data": {
      "text/plain": [
       "(typing._SpecialForm, typing._Final, object)"
      ]
     },
     "execution_count": 11,
     "metadata": {},
     "output_type": "execute_result"
    }
   ],
   "source": [
    "type(origin_union).__mro__"
   ]
  },
  {
   "cell_type": "code",
   "execution_count": 12,
   "metadata": {
    "execution": {
     "iopub.execute_input": "2023-02-20T01:35:05.143728Z",
     "iopub.status.busy": "2023-02-20T01:35:05.143546Z",
     "iopub.status.idle": "2023-02-20T01:35:05.146619Z",
     "shell.execute_reply": "2023-02-20T01:35:05.146182Z"
    }
   },
   "outputs": [
    {
     "data": {
      "text/plain": [
       "'Union'"
      ]
     },
     "execution_count": 12,
     "metadata": {},
     "output_type": "execute_result"
    }
   ],
   "source": [
    "origin_union._name"
   ]
  },
  {
   "cell_type": "code",
   "execution_count": 13,
   "metadata": {
    "execution": {
     "iopub.execute_input": "2023-02-20T01:35:05.148503Z",
     "iopub.status.busy": "2023-02-20T01:35:05.148325Z",
     "iopub.status.idle": "2023-02-20T01:35:05.158723Z",
     "shell.execute_reply": "2023-02-20T01:35:05.158239Z"
    }
   },
   "outputs": [
    {
     "ename": "AttributeError",
     "evalue": "'_SpecialForm' object has no attribute '__name__'",
     "output_type": "error",
     "traceback": [
      "\u001b[0;31m---------------------------------------------------------------------------\u001b[0m",
      "\u001b[0;31mAttributeError\u001b[0m                            Traceback (most recent call last)",
      "Cell \u001b[0;32mIn[13], line 1\u001b[0m\n\u001b[0;32m----> 1\u001b[0m \u001b[43morigin_union\u001b[49m\u001b[38;5;241;43m.\u001b[39;49m\u001b[38;5;18;43m__name__\u001b[39;49m\n",
      "\u001b[0;31mAttributeError\u001b[0m: '_SpecialForm' object has no attribute '__name__'"
     ]
    }
   ],
   "source": [
    "origin_union.__name__"
   ]
  },
  {
   "cell_type": "code",
   "execution_count": 14,
   "metadata": {
    "execution": {
     "iopub.execute_input": "2023-02-20T01:35:05.161024Z",
     "iopub.status.busy": "2023-02-20T01:35:05.160829Z",
     "iopub.status.idle": "2023-02-20T01:35:05.171729Z",
     "shell.execute_reply": "2023-02-20T01:35:05.171255Z"
    }
   },
   "outputs": [
    {
     "ename": "AttributeError",
     "evalue": "'_SpecialForm' object has no attribute '__qualname__'",
     "output_type": "error",
     "traceback": [
      "\u001b[0;31m---------------------------------------------------------------------------\u001b[0m",
      "\u001b[0;31mAttributeError\u001b[0m                            Traceback (most recent call last)",
      "Cell \u001b[0;32mIn[14], line 1\u001b[0m\n\u001b[0;32m----> 1\u001b[0m \u001b[43morigin_union\u001b[49m\u001b[38;5;241;43m.\u001b[39;49m\u001b[38;5;18;43m__qualname__\u001b[39;49m\n",
      "\u001b[0;31mAttributeError\u001b[0m: '_SpecialForm' object has no attribute '__qualname__'"
     ]
    }
   ],
   "source": [
    "origin_union.__qualname__"
   ]
  },
  {
   "cell_type": "markdown",
   "metadata": {},
   "source": [
    "### | (bitwise or) operator"
   ]
  },
  {
   "cell_type": "code",
   "execution_count": 15,
   "metadata": {
    "execution": {
     "iopub.execute_input": "2023-02-20T01:35:05.174089Z",
     "iopub.status.busy": "2023-02-20T01:35:05.173812Z",
     "iopub.status.idle": "2023-02-20T01:35:05.185301Z",
     "shell.execute_reply": "2023-02-20T01:35:05.184544Z"
    },
    "tags": []
   },
   "outputs": [
    {
     "ename": "TypeError",
     "evalue": "unsupported operand type(s) for |: 'type' and 'type'",
     "output_type": "error",
     "traceback": [
      "\u001b[0;31m---------------------------------------------------------------------------\u001b[0m",
      "\u001b[0;31mTypeError\u001b[0m                                 Traceback (most recent call last)",
      "Cell \u001b[0;32mIn[15], line 1\u001b[0m\n\u001b[0;32m----> 1\u001b[0m tp_or \u001b[38;5;241m=\u001b[39m \u001b[38;5;28;43mint\u001b[39;49m\u001b[43m \u001b[49m\u001b[38;5;241;43m|\u001b[39;49m\u001b[43m \u001b[49m\u001b[38;5;28;43mstr\u001b[39;49m\n\u001b[1;32m      2\u001b[0m \u001b[38;5;28mrepr\u001b[39m(tp_or)\n",
      "\u001b[0;31mTypeError\u001b[0m: unsupported operand type(s) for |: 'type' and 'type'"
     ]
    }
   ],
   "source": [
    "tp_or = int | str\n",
    "repr(tp_or)"
   ]
  },
  {
   "cell_type": "code",
   "execution_count": 16,
   "metadata": {
    "execution": {
     "iopub.execute_input": "2023-02-20T01:35:05.188015Z",
     "iopub.status.busy": "2023-02-20T01:35:05.187760Z",
     "iopub.status.idle": "2023-02-20T01:35:05.200298Z",
     "shell.execute_reply": "2023-02-20T01:35:05.199596Z"
    },
    "tags": []
   },
   "outputs": [
    {
     "ename": "NameError",
     "evalue": "name 'tp_or' is not defined",
     "output_type": "error",
     "traceback": [
      "\u001b[0;31m---------------------------------------------------------------------------\u001b[0m",
      "\u001b[0;31mNameError\u001b[0m                                 Traceback (most recent call last)",
      "Cell \u001b[0;32mIn[16], line 1\u001b[0m\n\u001b[0;32m----> 1\u001b[0m \u001b[38;5;28mtype\u001b[39m(\u001b[43mtp_or\u001b[49m)\n",
      "\u001b[0;31mNameError\u001b[0m: name 'tp_or' is not defined"
     ]
    }
   ],
   "source": [
    "type(tp_or)"
   ]
  },
  {
   "cell_type": "code",
   "execution_count": 17,
   "metadata": {
    "execution": {
     "iopub.execute_input": "2023-02-20T01:35:05.202748Z",
     "iopub.status.busy": "2023-02-20T01:35:05.202518Z",
     "iopub.status.idle": "2023-02-20T01:35:05.213608Z",
     "shell.execute_reply": "2023-02-20T01:35:05.213158Z"
    },
    "tags": []
   },
   "outputs": [
    {
     "ename": "NameError",
     "evalue": "name 'tp_or' is not defined",
     "output_type": "error",
     "traceback": [
      "\u001b[0;31m---------------------------------------------------------------------------\u001b[0m",
      "\u001b[0;31mNameError\u001b[0m                                 Traceback (most recent call last)",
      "Cell \u001b[0;32mIn[17], line 1\u001b[0m\n\u001b[0;32m----> 1\u001b[0m \u001b[38;5;28mtype\u001b[39m(\u001b[43mtp_or\u001b[49m)\u001b[38;5;241m.\u001b[39m\u001b[38;5;18m__mro__\u001b[39m\n",
      "\u001b[0;31mNameError\u001b[0m: name 'tp_or' is not defined"
     ]
    }
   ],
   "source": [
    "type(tp_or).__mro__"
   ]
  },
  {
   "cell_type": "code",
   "execution_count": 18,
   "metadata": {
    "execution": {
     "iopub.execute_input": "2023-02-20T01:35:05.215915Z",
     "iopub.status.busy": "2023-02-20T01:35:05.215706Z",
     "iopub.status.idle": "2023-02-20T01:35:05.226407Z",
     "shell.execute_reply": "2023-02-20T01:35:05.225968Z"
    },
    "tags": []
   },
   "outputs": [
    {
     "ename": "NameError",
     "evalue": "name 'tp_or' is not defined",
     "output_type": "error",
     "traceback": [
      "\u001b[0;31m---------------------------------------------------------------------------\u001b[0m",
      "\u001b[0;31mNameError\u001b[0m                                 Traceback (most recent call last)",
      "Cell \u001b[0;32mIn[18], line 1\u001b[0m\n\u001b[0;32m----> 1\u001b[0m origin_or \u001b[38;5;241m=\u001b[39m get_origin(\u001b[43mtp_or\u001b[49m)\n\u001b[1;32m      2\u001b[0m origin_or\n",
      "\u001b[0;31mNameError\u001b[0m: name 'tp_or' is not defined"
     ]
    }
   ],
   "source": [
    "origin_or = get_origin(tp_or)\n",
    "origin_or"
   ]
  },
  {
   "cell_type": "code",
   "execution_count": 19,
   "metadata": {
    "execution": {
     "iopub.execute_input": "2023-02-20T01:35:05.228601Z",
     "iopub.status.busy": "2023-02-20T01:35:05.228311Z",
     "iopub.status.idle": "2023-02-20T01:35:05.238797Z",
     "shell.execute_reply": "2023-02-20T01:35:05.238325Z"
    },
    "tags": []
   },
   "outputs": [
    {
     "ename": "NameError",
     "evalue": "name 'origin_or' is not defined",
     "output_type": "error",
     "traceback": [
      "\u001b[0;31m---------------------------------------------------------------------------\u001b[0m",
      "\u001b[0;31mNameError\u001b[0m                                 Traceback (most recent call last)",
      "Cell \u001b[0;32mIn[19], line 1\u001b[0m\n\u001b[0;32m----> 1\u001b[0m \u001b[38;5;28mtype\u001b[39m(\u001b[43morigin_or\u001b[49m)\n",
      "\u001b[0;31mNameError\u001b[0m: name 'origin_or' is not defined"
     ]
    }
   ],
   "source": [
    "type(origin_or)"
   ]
  },
  {
   "cell_type": "code",
   "execution_count": 20,
   "metadata": {
    "execution": {
     "iopub.execute_input": "2023-02-20T01:35:05.240825Z",
     "iopub.status.busy": "2023-02-20T01:35:05.240609Z",
     "iopub.status.idle": "2023-02-20T01:35:05.251236Z",
     "shell.execute_reply": "2023-02-20T01:35:05.250763Z"
    },
    "tags": []
   },
   "outputs": [
    {
     "ename": "NameError",
     "evalue": "name 'origin_or' is not defined",
     "output_type": "error",
     "traceback": [
      "\u001b[0;31m---------------------------------------------------------------------------\u001b[0m",
      "\u001b[0;31mNameError\u001b[0m                                 Traceback (most recent call last)",
      "Cell \u001b[0;32mIn[20], line 1\u001b[0m\n\u001b[0;32m----> 1\u001b[0m \u001b[38;5;28mtype\u001b[39m(\u001b[43morigin_or\u001b[49m)\u001b[38;5;241m.\u001b[39m\u001b[38;5;18m__mro__\u001b[39m\n",
      "\u001b[0;31mNameError\u001b[0m: name 'origin_or' is not defined"
     ]
    }
   ],
   "source": [
    "type(origin_or).__mro__"
   ]
  },
  {
   "cell_type": "code",
   "execution_count": 21,
   "metadata": {
    "execution": {
     "iopub.execute_input": "2023-02-20T01:35:05.253427Z",
     "iopub.status.busy": "2023-02-20T01:35:05.253221Z",
     "iopub.status.idle": "2023-02-20T01:35:05.267139Z",
     "shell.execute_reply": "2023-02-20T01:35:05.266453Z"
    },
    "tags": []
   },
   "outputs": [
    {
     "ename": "NameError",
     "evalue": "name 'origin_or' is not defined",
     "output_type": "error",
     "traceback": [
      "\u001b[0;31m---------------------------------------------------------------------------\u001b[0m",
      "\u001b[0;31mNameError\u001b[0m                                 Traceback (most recent call last)",
      "Cell \u001b[0;32mIn[21], line 1\u001b[0m\n\u001b[0;32m----> 1\u001b[0m \u001b[43morigin_or\u001b[49m\u001b[38;5;241m.\u001b[39m_name\n",
      "\u001b[0;31mNameError\u001b[0m: name 'origin_or' is not defined"
     ]
    }
   ],
   "source": [
    "origin_or._name"
   ]
  },
  {
   "cell_type": "code",
   "execution_count": 22,
   "metadata": {
    "execution": {
     "iopub.execute_input": "2023-02-20T01:35:05.269906Z",
     "iopub.status.busy": "2023-02-20T01:35:05.269645Z",
     "iopub.status.idle": "2023-02-20T01:35:05.281494Z",
     "shell.execute_reply": "2023-02-20T01:35:05.280974Z"
    },
    "tags": []
   },
   "outputs": [
    {
     "ename": "NameError",
     "evalue": "name 'origin_or' is not defined",
     "output_type": "error",
     "traceback": [
      "\u001b[0;31m---------------------------------------------------------------------------\u001b[0m",
      "\u001b[0;31mNameError\u001b[0m                                 Traceback (most recent call last)",
      "Cell \u001b[0;32mIn[22], line 1\u001b[0m\n\u001b[0;32m----> 1\u001b[0m \u001b[43morigin_or\u001b[49m\u001b[38;5;241m.\u001b[39m\u001b[38;5;18m__name__\u001b[39m\n",
      "\u001b[0;31mNameError\u001b[0m: name 'origin_or' is not defined"
     ]
    }
   ],
   "source": [
    "origin_or.__name__"
   ]
  },
  {
   "cell_type": "code",
   "execution_count": 23,
   "metadata": {
    "execution": {
     "iopub.execute_input": "2023-02-20T01:35:05.283808Z",
     "iopub.status.busy": "2023-02-20T01:35:05.283579Z",
     "iopub.status.idle": "2023-02-20T01:35:05.296176Z",
     "shell.execute_reply": "2023-02-20T01:35:05.295561Z"
    }
   },
   "outputs": [
    {
     "ename": "NameError",
     "evalue": "name 'origin_or' is not defined",
     "output_type": "error",
     "traceback": [
      "\u001b[0;31m---------------------------------------------------------------------------\u001b[0m",
      "\u001b[0;31mNameError\u001b[0m                                 Traceback (most recent call last)",
      "Cell \u001b[0;32mIn[23], line 1\u001b[0m\n\u001b[0;32m----> 1\u001b[0m \u001b[43morigin_or\u001b[49m\u001b[38;5;241m.\u001b[39m\u001b[38;5;18m__qualname__\u001b[39m\n",
      "\u001b[0;31mNameError\u001b[0m: name 'origin_or' is not defined"
     ]
    }
   ],
   "source": [
    "origin_or.__qualname__"
   ]
  },
  {
   "cell_type": "markdown",
   "metadata": {},
   "source": [
    "## Optional"
   ]
  },
  {
   "cell_type": "markdown",
   "metadata": {},
   "source": [
    "### typing.Optional (Generic Alias)"
   ]
  },
  {
   "cell_type": "code",
   "execution_count": 24,
   "metadata": {
    "execution": {
     "iopub.execute_input": "2023-02-20T01:35:05.298765Z",
     "iopub.status.busy": "2023-02-20T01:35:05.298524Z",
     "iopub.status.idle": "2023-02-20T01:35:05.302353Z",
     "shell.execute_reply": "2023-02-20T01:35:05.301846Z"
    }
   },
   "outputs": [
    {
     "data": {
      "text/plain": [
       "'typing.Optional[int]'"
      ]
     },
     "execution_count": 24,
     "metadata": {},
     "output_type": "execute_result"
    }
   ],
   "source": [
    "tp_optional = typing.Optional[int]\n",
    "repr(tp_optional)"
   ]
  },
  {
   "cell_type": "code",
   "execution_count": 25,
   "metadata": {
    "execution": {
     "iopub.execute_input": "2023-02-20T01:35:05.304486Z",
     "iopub.status.busy": "2023-02-20T01:35:05.304276Z",
     "iopub.status.idle": "2023-02-20T01:35:05.307781Z",
     "shell.execute_reply": "2023-02-20T01:35:05.307298Z"
    }
   },
   "outputs": [
    {
     "data": {
      "text/plain": [
       "typing._UnionGenericAlias"
      ]
     },
     "execution_count": 25,
     "metadata": {},
     "output_type": "execute_result"
    }
   ],
   "source": [
    "type(tp_optional)"
   ]
  },
  {
   "cell_type": "code",
   "execution_count": 26,
   "metadata": {
    "execution": {
     "iopub.execute_input": "2023-02-20T01:35:05.309936Z",
     "iopub.status.busy": "2023-02-20T01:35:05.309737Z",
     "iopub.status.idle": "2023-02-20T01:35:05.313047Z",
     "shell.execute_reply": "2023-02-20T01:35:05.312625Z"
    }
   },
   "outputs": [
    {
     "data": {
      "text/plain": [
       "(typing._UnionGenericAlias,\n",
       " typing._GenericAlias,\n",
       " typing._BaseGenericAlias,\n",
       " typing._Final,\n",
       " object)"
      ]
     },
     "execution_count": 26,
     "metadata": {},
     "output_type": "execute_result"
    }
   ],
   "source": [
    "type(tp_optional).__mro__"
   ]
  },
  {
   "cell_type": "code",
   "execution_count": 27,
   "metadata": {
    "execution": {
     "iopub.execute_input": "2023-02-20T01:35:05.314971Z",
     "iopub.status.busy": "2023-02-20T01:35:05.314782Z",
     "iopub.status.idle": "2023-02-20T01:35:05.317070Z",
     "shell.execute_reply": "2023-02-20T01:35:05.316648Z"
    },
    "tags": []
   },
   "outputs": [],
   "source": [
    "tp_optional._name"
   ]
  },
  {
   "cell_type": "code",
   "execution_count": 28,
   "metadata": {
    "execution": {
     "iopub.execute_input": "2023-02-20T01:35:05.318901Z",
     "iopub.status.busy": "2023-02-20T01:35:05.318720Z",
     "iopub.status.idle": "2023-02-20T01:35:05.333429Z",
     "shell.execute_reply": "2023-02-20T01:35:05.332980Z"
    },
    "tags": []
   },
   "outputs": [
    {
     "ename": "AttributeError",
     "evalue": "__name__",
     "output_type": "error",
     "traceback": [
      "\u001b[0;31m---------------------------------------------------------------------------\u001b[0m",
      "\u001b[0;31mAttributeError\u001b[0m                            Traceback (most recent call last)",
      "Cell \u001b[0;32mIn[28], line 1\u001b[0m\n\u001b[0;32m----> 1\u001b[0m \u001b[43mtp_optional\u001b[49m\u001b[38;5;241;43m.\u001b[39;49m\u001b[38;5;18;43m__name__\u001b[39;49m\n",
      "File \u001b[0;32m/usr/local/Cellar/python@3.9/3.9.16/Frameworks/Python.framework/Versions/3.9/lib/python3.9/typing.py:711\u001b[0m, in \u001b[0;36m_BaseGenericAlias.__getattr__\u001b[0;34m(self, attr)\u001b[0m\n\u001b[1;32m    709\u001b[0m \u001b[38;5;28;01mif\u001b[39;00m \u001b[38;5;124m'\u001b[39m\u001b[38;5;124m__origin__\u001b[39m\u001b[38;5;124m'\u001b[39m \u001b[38;5;129;01min\u001b[39;00m \u001b[38;5;28mself\u001b[39m\u001b[38;5;241m.\u001b[39m\u001b[38;5;18m__dict__\u001b[39m \u001b[38;5;129;01mand\u001b[39;00m \u001b[38;5;129;01mnot\u001b[39;00m _is_dunder(attr):\n\u001b[1;32m    710\u001b[0m     \u001b[38;5;28;01mreturn\u001b[39;00m \u001b[38;5;28mgetattr\u001b[39m(\u001b[38;5;28mself\u001b[39m\u001b[38;5;241m.\u001b[39m__origin__, attr)\n\u001b[0;32m--> 711\u001b[0m \u001b[38;5;28;01mraise\u001b[39;00m \u001b[38;5;167;01mAttributeError\u001b[39;00m(attr)\n",
      "\u001b[0;31mAttributeError\u001b[0m: __name__"
     ]
    }
   ],
   "source": [
    "tp_optional.__name__"
   ]
  },
  {
   "cell_type": "code",
   "execution_count": 29,
   "metadata": {
    "execution": {
     "iopub.execute_input": "2023-02-20T01:35:05.335573Z",
     "iopub.status.busy": "2023-02-20T01:35:05.335384Z",
     "iopub.status.idle": "2023-02-20T01:35:05.350012Z",
     "shell.execute_reply": "2023-02-20T01:35:05.349490Z"
    }
   },
   "outputs": [
    {
     "ename": "AttributeError",
     "evalue": "__qualname__",
     "output_type": "error",
     "traceback": [
      "\u001b[0;31m---------------------------------------------------------------------------\u001b[0m",
      "\u001b[0;31mAttributeError\u001b[0m                            Traceback (most recent call last)",
      "Cell \u001b[0;32mIn[29], line 1\u001b[0m\n\u001b[0;32m----> 1\u001b[0m \u001b[43mtp_optional\u001b[49m\u001b[38;5;241;43m.\u001b[39;49m\u001b[38;5;18;43m__qualname__\u001b[39;49m\n",
      "File \u001b[0;32m/usr/local/Cellar/python@3.9/3.9.16/Frameworks/Python.framework/Versions/3.9/lib/python3.9/typing.py:711\u001b[0m, in \u001b[0;36m_BaseGenericAlias.__getattr__\u001b[0;34m(self, attr)\u001b[0m\n\u001b[1;32m    709\u001b[0m \u001b[38;5;28;01mif\u001b[39;00m \u001b[38;5;124m'\u001b[39m\u001b[38;5;124m__origin__\u001b[39m\u001b[38;5;124m'\u001b[39m \u001b[38;5;129;01min\u001b[39;00m \u001b[38;5;28mself\u001b[39m\u001b[38;5;241m.\u001b[39m\u001b[38;5;18m__dict__\u001b[39m \u001b[38;5;129;01mand\u001b[39;00m \u001b[38;5;129;01mnot\u001b[39;00m _is_dunder(attr):\n\u001b[1;32m    710\u001b[0m     \u001b[38;5;28;01mreturn\u001b[39;00m \u001b[38;5;28mgetattr\u001b[39m(\u001b[38;5;28mself\u001b[39m\u001b[38;5;241m.\u001b[39m__origin__, attr)\n\u001b[0;32m--> 711\u001b[0m \u001b[38;5;28;01mraise\u001b[39;00m \u001b[38;5;167;01mAttributeError\u001b[39;00m(attr)\n",
      "\u001b[0;31mAttributeError\u001b[0m: __qualname__"
     ]
    }
   ],
   "source": [
    "tp_optional.__qualname__"
   ]
  },
  {
   "cell_type": "code",
   "execution_count": 30,
   "metadata": {
    "execution": {
     "iopub.execute_input": "2023-02-20T01:35:05.352286Z",
     "iopub.status.busy": "2023-02-20T01:35:05.352046Z",
     "iopub.status.idle": "2023-02-20T01:35:05.355454Z",
     "shell.execute_reply": "2023-02-20T01:35:05.354941Z"
    }
   },
   "outputs": [
    {
     "data": {
      "text/plain": [
       "typing.Union"
      ]
     },
     "execution_count": 30,
     "metadata": {},
     "output_type": "execute_result"
    }
   ],
   "source": [
    "origin_optional = get_origin(tp_optional)\n",
    "origin_optional"
   ]
  },
  {
   "cell_type": "code",
   "execution_count": 31,
   "metadata": {
    "execution": {
     "iopub.execute_input": "2023-02-20T01:35:05.357472Z",
     "iopub.status.busy": "2023-02-20T01:35:05.357272Z",
     "iopub.status.idle": "2023-02-20T01:35:05.360895Z",
     "shell.execute_reply": "2023-02-20T01:35:05.360458Z"
    }
   },
   "outputs": [
    {
     "data": {
      "text/plain": [
       "typing._SpecialForm"
      ]
     },
     "execution_count": 31,
     "metadata": {},
     "output_type": "execute_result"
    }
   ],
   "source": [
    "type(origin_optional)"
   ]
  },
  {
   "cell_type": "code",
   "execution_count": 32,
   "metadata": {
    "execution": {
     "iopub.execute_input": "2023-02-20T01:35:05.362966Z",
     "iopub.status.busy": "2023-02-20T01:35:05.362645Z",
     "iopub.status.idle": "2023-02-20T01:35:05.366051Z",
     "shell.execute_reply": "2023-02-20T01:35:05.365600Z"
    }
   },
   "outputs": [
    {
     "data": {
      "text/plain": [
       "(typing._SpecialForm, typing._Final, object)"
      ]
     },
     "execution_count": 32,
     "metadata": {},
     "output_type": "execute_result"
    }
   ],
   "source": [
    "type(origin_optional).__mro__"
   ]
  },
  {
   "cell_type": "code",
   "execution_count": 33,
   "metadata": {
    "execution": {
     "iopub.execute_input": "2023-02-20T01:35:05.367988Z",
     "iopub.status.busy": "2023-02-20T01:35:05.367801Z",
     "iopub.status.idle": "2023-02-20T01:35:05.371170Z",
     "shell.execute_reply": "2023-02-20T01:35:05.370730Z"
    },
    "tags": []
   },
   "outputs": [
    {
     "data": {
      "text/plain": [
       "'Union'"
      ]
     },
     "execution_count": 33,
     "metadata": {},
     "output_type": "execute_result"
    }
   ],
   "source": [
    "origin_optional._name"
   ]
  },
  {
   "cell_type": "code",
   "execution_count": 34,
   "metadata": {
    "execution": {
     "iopub.execute_input": "2023-02-20T01:35:05.373128Z",
     "iopub.status.busy": "2023-02-20T01:35:05.372935Z",
     "iopub.status.idle": "2023-02-20T01:35:05.384486Z",
     "shell.execute_reply": "2023-02-20T01:35:05.383801Z"
    },
    "tags": []
   },
   "outputs": [
    {
     "ename": "AttributeError",
     "evalue": "'_SpecialForm' object has no attribute '__name__'",
     "output_type": "error",
     "traceback": [
      "\u001b[0;31m---------------------------------------------------------------------------\u001b[0m",
      "\u001b[0;31mAttributeError\u001b[0m                            Traceback (most recent call last)",
      "Cell \u001b[0;32mIn[34], line 1\u001b[0m\n\u001b[0;32m----> 1\u001b[0m \u001b[43morigin_optional\u001b[49m\u001b[38;5;241;43m.\u001b[39;49m\u001b[38;5;18;43m__name__\u001b[39;49m\n",
      "\u001b[0;31mAttributeError\u001b[0m: '_SpecialForm' object has no attribute '__name__'"
     ]
    }
   ],
   "source": [
    "origin_optional.__name__"
   ]
  },
  {
   "cell_type": "code",
   "execution_count": 35,
   "metadata": {
    "execution": {
     "iopub.execute_input": "2023-02-20T01:35:05.386602Z",
     "iopub.status.busy": "2023-02-20T01:35:05.386396Z",
     "iopub.status.idle": "2023-02-20T01:35:05.397467Z",
     "shell.execute_reply": "2023-02-20T01:35:05.396993Z"
    }
   },
   "outputs": [
    {
     "ename": "AttributeError",
     "evalue": "'_SpecialForm' object has no attribute '__qualname__'",
     "output_type": "error",
     "traceback": [
      "\u001b[0;31m---------------------------------------------------------------------------\u001b[0m",
      "\u001b[0;31mAttributeError\u001b[0m                            Traceback (most recent call last)",
      "Cell \u001b[0;32mIn[35], line 1\u001b[0m\n\u001b[0;32m----> 1\u001b[0m \u001b[43morigin_optional\u001b[49m\u001b[38;5;241;43m.\u001b[39;49m\u001b[38;5;18;43m__qualname__\u001b[39;49m\n",
      "\u001b[0;31mAttributeError\u001b[0m: '_SpecialForm' object has no attribute '__qualname__'"
     ]
    }
   ],
   "source": [
    "origin_optional.__qualname__"
   ]
  },
  {
   "cell_type": "markdown",
   "metadata": {},
   "source": [
    "### | (bitwise or) Operator"
   ]
  },
  {
   "cell_type": "code",
   "execution_count": 36,
   "metadata": {
    "execution": {
     "iopub.execute_input": "2023-02-20T01:35:05.399634Z",
     "iopub.status.busy": "2023-02-20T01:35:05.399426Z",
     "iopub.status.idle": "2023-02-20T01:35:05.410035Z",
     "shell.execute_reply": "2023-02-20T01:35:05.409566Z"
    },
    "tags": []
   },
   "outputs": [
    {
     "ename": "TypeError",
     "evalue": "unsupported operand type(s) for |: 'type' and 'NoneType'",
     "output_type": "error",
     "traceback": [
      "\u001b[0;31m---------------------------------------------------------------------------\u001b[0m",
      "\u001b[0;31mTypeError\u001b[0m                                 Traceback (most recent call last)",
      "Cell \u001b[0;32mIn[36], line 1\u001b[0m\n\u001b[0;32m----> 1\u001b[0m tp_or_none \u001b[38;5;241m=\u001b[39m \u001b[38;5;28;43mint\u001b[39;49m\u001b[43m \u001b[49m\u001b[38;5;241;43m|\u001b[39;49m\u001b[43m \u001b[49m\u001b[38;5;28;43;01mNone\u001b[39;49;00m\n\u001b[1;32m      2\u001b[0m \u001b[38;5;28mrepr\u001b[39m(tp_or_none)\n",
      "\u001b[0;31mTypeError\u001b[0m: unsupported operand type(s) for |: 'type' and 'NoneType'"
     ]
    }
   ],
   "source": [
    "tp_or_none = int | None\n",
    "repr(tp_or_none)"
   ]
  },
  {
   "cell_type": "code",
   "execution_count": 37,
   "metadata": {
    "execution": {
     "iopub.execute_input": "2023-02-20T01:35:05.412267Z",
     "iopub.status.busy": "2023-02-20T01:35:05.412051Z",
     "iopub.status.idle": "2023-02-20T01:35:05.422740Z",
     "shell.execute_reply": "2023-02-20T01:35:05.422250Z"
    },
    "tags": []
   },
   "outputs": [
    {
     "ename": "NameError",
     "evalue": "name 'tp_or_none' is not defined",
     "output_type": "error",
     "traceback": [
      "\u001b[0;31m---------------------------------------------------------------------------\u001b[0m",
      "\u001b[0;31mNameError\u001b[0m                                 Traceback (most recent call last)",
      "Cell \u001b[0;32mIn[37], line 1\u001b[0m\n\u001b[0;32m----> 1\u001b[0m \u001b[38;5;28mtype\u001b[39m(\u001b[43mtp_or_none\u001b[49m)\n",
      "\u001b[0;31mNameError\u001b[0m: name 'tp_or_none' is not defined"
     ]
    }
   ],
   "source": [
    "type(tp_or_none)"
   ]
  },
  {
   "cell_type": "code",
   "execution_count": 38,
   "metadata": {
    "execution": {
     "iopub.execute_input": "2023-02-20T01:35:05.424775Z",
     "iopub.status.busy": "2023-02-20T01:35:05.424583Z",
     "iopub.status.idle": "2023-02-20T01:35:05.434960Z",
     "shell.execute_reply": "2023-02-20T01:35:05.434508Z"
    },
    "tags": []
   },
   "outputs": [
    {
     "ename": "NameError",
     "evalue": "name 'tp_or_none' is not defined",
     "output_type": "error",
     "traceback": [
      "\u001b[0;31m---------------------------------------------------------------------------\u001b[0m",
      "\u001b[0;31mNameError\u001b[0m                                 Traceback (most recent call last)",
      "Cell \u001b[0;32mIn[38], line 1\u001b[0m\n\u001b[0;32m----> 1\u001b[0m \u001b[38;5;28mtype\u001b[39m(\u001b[43mtp_or_none\u001b[49m)\u001b[38;5;241m.\u001b[39m\u001b[38;5;18m__mro__\u001b[39m\n",
      "\u001b[0;31mNameError\u001b[0m: name 'tp_or_none' is not defined"
     ]
    }
   ],
   "source": [
    "type(tp_or_none).__mro__"
   ]
  },
  {
   "cell_type": "code",
   "execution_count": 39,
   "metadata": {
    "execution": {
     "iopub.execute_input": "2023-02-20T01:35:05.437145Z",
     "iopub.status.busy": "2023-02-20T01:35:05.436949Z",
     "iopub.status.idle": "2023-02-20T01:35:05.448048Z",
     "shell.execute_reply": "2023-02-20T01:35:05.447397Z"
    },
    "tags": []
   },
   "outputs": [
    {
     "ename": "NameError",
     "evalue": "name 'tp_or_none' is not defined",
     "output_type": "error",
     "traceback": [
      "\u001b[0;31m---------------------------------------------------------------------------\u001b[0m",
      "\u001b[0;31mNameError\u001b[0m                                 Traceback (most recent call last)",
      "Cell \u001b[0;32mIn[39], line 1\u001b[0m\n\u001b[0;32m----> 1\u001b[0m \u001b[43mtp_or_none\u001b[49m\u001b[38;5;241m.\u001b[39m_name\n",
      "\u001b[0;31mNameError\u001b[0m: name 'tp_or_none' is not defined"
     ]
    }
   ],
   "source": [
    "tp_or_none._name"
   ]
  },
  {
   "cell_type": "code",
   "execution_count": 40,
   "metadata": {
    "execution": {
     "iopub.execute_input": "2023-02-20T01:35:05.450597Z",
     "iopub.status.busy": "2023-02-20T01:35:05.450368Z",
     "iopub.status.idle": "2023-02-20T01:35:05.461262Z",
     "shell.execute_reply": "2023-02-20T01:35:05.460780Z"
    }
   },
   "outputs": [
    {
     "ename": "NameError",
     "evalue": "name 'tp_or_none' is not defined",
     "output_type": "error",
     "traceback": [
      "\u001b[0;31m---------------------------------------------------------------------------\u001b[0m",
      "\u001b[0;31mNameError\u001b[0m                                 Traceback (most recent call last)",
      "Cell \u001b[0;32mIn[40], line 1\u001b[0m\n\u001b[0;32m----> 1\u001b[0m \u001b[43mtp_or_none\u001b[49m\u001b[38;5;241m.\u001b[39m\u001b[38;5;18m__name__\u001b[39m\n",
      "\u001b[0;31mNameError\u001b[0m: name 'tp_or_none' is not defined"
     ]
    }
   ],
   "source": [
    "tp_or_none.__name__"
   ]
  },
  {
   "cell_type": "code",
   "execution_count": 41,
   "metadata": {
    "execution": {
     "iopub.execute_input": "2023-02-20T01:35:05.463392Z",
     "iopub.status.busy": "2023-02-20T01:35:05.463192Z",
     "iopub.status.idle": "2023-02-20T01:35:05.473861Z",
     "shell.execute_reply": "2023-02-20T01:35:05.473350Z"
    },
    "tags": []
   },
   "outputs": [
    {
     "ename": "NameError",
     "evalue": "name 'tp_or_none' is not defined",
     "output_type": "error",
     "traceback": [
      "\u001b[0;31m---------------------------------------------------------------------------\u001b[0m",
      "\u001b[0;31mNameError\u001b[0m                                 Traceback (most recent call last)",
      "Cell \u001b[0;32mIn[41], line 1\u001b[0m\n\u001b[0;32m----> 1\u001b[0m \u001b[43mtp_or_none\u001b[49m\u001b[38;5;241m.\u001b[39m\u001b[38;5;18m__qualname__\u001b[39m\n",
      "\u001b[0;31mNameError\u001b[0m: name 'tp_or_none' is not defined"
     ]
    }
   ],
   "source": [
    "tp_or_none.__qualname__"
   ]
  },
  {
   "cell_type": "code",
   "execution_count": 42,
   "metadata": {
    "execution": {
     "iopub.execute_input": "2023-02-20T01:35:05.475940Z",
     "iopub.status.busy": "2023-02-20T01:35:05.475736Z",
     "iopub.status.idle": "2023-02-20T01:35:05.486850Z",
     "shell.execute_reply": "2023-02-20T01:35:05.486229Z"
    },
    "tags": []
   },
   "outputs": [
    {
     "ename": "NameError",
     "evalue": "name 'tp_or_none' is not defined",
     "output_type": "error",
     "traceback": [
      "\u001b[0;31m---------------------------------------------------------------------------\u001b[0m",
      "\u001b[0;31mNameError\u001b[0m                                 Traceback (most recent call last)",
      "Cell \u001b[0;32mIn[42], line 1\u001b[0m\n\u001b[0;32m----> 1\u001b[0m origin_or_none \u001b[38;5;241m=\u001b[39m get_origin(\u001b[43mtp_or_none\u001b[49m)\n\u001b[1;32m      2\u001b[0m origin_or_none\n",
      "\u001b[0;31mNameError\u001b[0m: name 'tp_or_none' is not defined"
     ]
    }
   ],
   "source": [
    "origin_or_none = get_origin(tp_or_none)\n",
    "origin_or_none"
   ]
  },
  {
   "cell_type": "code",
   "execution_count": 43,
   "metadata": {
    "execution": {
     "iopub.execute_input": "2023-02-20T01:35:05.488922Z",
     "iopub.status.busy": "2023-02-20T01:35:05.488724Z",
     "iopub.status.idle": "2023-02-20T01:35:05.499931Z",
     "shell.execute_reply": "2023-02-20T01:35:05.499454Z"
    },
    "tags": []
   },
   "outputs": [
    {
     "ename": "NameError",
     "evalue": "name 'origin_or_none' is not defined",
     "output_type": "error",
     "traceback": [
      "\u001b[0;31m---------------------------------------------------------------------------\u001b[0m",
      "\u001b[0;31mNameError\u001b[0m                                 Traceback (most recent call last)",
      "Cell \u001b[0;32mIn[43], line 1\u001b[0m\n\u001b[0;32m----> 1\u001b[0m \u001b[38;5;28mtype\u001b[39m(\u001b[43morigin_or_none\u001b[49m)\n",
      "\u001b[0;31mNameError\u001b[0m: name 'origin_or_none' is not defined"
     ]
    }
   ],
   "source": [
    "type(origin_or_none)"
   ]
  },
  {
   "cell_type": "code",
   "execution_count": 44,
   "metadata": {
    "execution": {
     "iopub.execute_input": "2023-02-20T01:35:05.502128Z",
     "iopub.status.busy": "2023-02-20T01:35:05.501910Z",
     "iopub.status.idle": "2023-02-20T01:35:05.512246Z",
     "shell.execute_reply": "2023-02-20T01:35:05.511788Z"
    },
    "tags": []
   },
   "outputs": [
    {
     "ename": "NameError",
     "evalue": "name 'origin_or_none' is not defined",
     "output_type": "error",
     "traceback": [
      "\u001b[0;31m---------------------------------------------------------------------------\u001b[0m",
      "\u001b[0;31mNameError\u001b[0m                                 Traceback (most recent call last)",
      "Cell \u001b[0;32mIn[44], line 1\u001b[0m\n\u001b[0;32m----> 1\u001b[0m \u001b[38;5;28mtype\u001b[39m(\u001b[43morigin_or_none\u001b[49m)\u001b[38;5;241m.\u001b[39m\u001b[38;5;18m__mro__\u001b[39m\n",
      "\u001b[0;31mNameError\u001b[0m: name 'origin_or_none' is not defined"
     ]
    }
   ],
   "source": [
    "type(origin_or_none).__mro__"
   ]
  },
  {
   "cell_type": "code",
   "execution_count": 45,
   "metadata": {
    "execution": {
     "iopub.execute_input": "2023-02-20T01:35:05.514334Z",
     "iopub.status.busy": "2023-02-20T01:35:05.514119Z",
     "iopub.status.idle": "2023-02-20T01:35:05.524243Z",
     "shell.execute_reply": "2023-02-20T01:35:05.523789Z"
    },
    "tags": []
   },
   "outputs": [
    {
     "ename": "NameError",
     "evalue": "name 'origin_or_none' is not defined",
     "output_type": "error",
     "traceback": [
      "\u001b[0;31m---------------------------------------------------------------------------\u001b[0m",
      "\u001b[0;31mNameError\u001b[0m                                 Traceback (most recent call last)",
      "Cell \u001b[0;32mIn[45], line 1\u001b[0m\n\u001b[0;32m----> 1\u001b[0m \u001b[43morigin_or_none\u001b[49m\u001b[38;5;241m.\u001b[39m_name\n",
      "\u001b[0;31mNameError\u001b[0m: name 'origin_or_none' is not defined"
     ]
    }
   ],
   "source": [
    "origin_or_none._name"
   ]
  },
  {
   "cell_type": "code",
   "execution_count": 46,
   "metadata": {
    "execution": {
     "iopub.execute_input": "2023-02-20T01:35:05.526428Z",
     "iopub.status.busy": "2023-02-20T01:35:05.526192Z",
     "iopub.status.idle": "2023-02-20T01:35:05.536556Z",
     "shell.execute_reply": "2023-02-20T01:35:05.536099Z"
    },
    "tags": []
   },
   "outputs": [
    {
     "ename": "NameError",
     "evalue": "name 'origin_or_none' is not defined",
     "output_type": "error",
     "traceback": [
      "\u001b[0;31m---------------------------------------------------------------------------\u001b[0m",
      "\u001b[0;31mNameError\u001b[0m                                 Traceback (most recent call last)",
      "Cell \u001b[0;32mIn[46], line 1\u001b[0m\n\u001b[0;32m----> 1\u001b[0m \u001b[43morigin_or_none\u001b[49m\u001b[38;5;241m.\u001b[39m\u001b[38;5;18m__name__\u001b[39m\n",
      "\u001b[0;31mNameError\u001b[0m: name 'origin_or_none' is not defined"
     ]
    }
   ],
   "source": [
    "origin_or_none.__name__"
   ]
  },
  {
   "cell_type": "code",
   "execution_count": 47,
   "metadata": {
    "execution": {
     "iopub.execute_input": "2023-02-20T01:35:05.538656Z",
     "iopub.status.busy": "2023-02-20T01:35:05.538457Z",
     "iopub.status.idle": "2023-02-20T01:35:05.550157Z",
     "shell.execute_reply": "2023-02-20T01:35:05.549500Z"
    }
   },
   "outputs": [
    {
     "ename": "NameError",
     "evalue": "name 'origin_or_none' is not defined",
     "output_type": "error",
     "traceback": [
      "\u001b[0;31m---------------------------------------------------------------------------\u001b[0m",
      "\u001b[0;31mNameError\u001b[0m                                 Traceback (most recent call last)",
      "Cell \u001b[0;32mIn[47], line 1\u001b[0m\n\u001b[0;32m----> 1\u001b[0m \u001b[43morigin_or_none\u001b[49m\u001b[38;5;241m.\u001b[39m\u001b[38;5;18m__qualname__\u001b[39m\n",
      "\u001b[0;31mNameError\u001b[0m: name 'origin_or_none' is not defined"
     ]
    }
   ],
   "source": [
    "origin_or_none.__qualname__"
   ]
  },
  {
   "cell_type": "markdown",
   "metadata": {},
   "source": [
    "## Standard Collections"
   ]
  },
  {
   "cell_type": "markdown",
   "metadata": {},
   "source": [
    "### typing Module Aliases"
   ]
  },
  {
   "cell_type": "code",
   "execution_count": 48,
   "metadata": {
    "execution": {
     "iopub.execute_input": "2023-02-20T01:35:05.552784Z",
     "iopub.status.busy": "2023-02-20T01:35:05.552550Z",
     "iopub.status.idle": "2023-02-20T01:35:05.556468Z",
     "shell.execute_reply": "2023-02-20T01:35:05.555831Z"
    }
   },
   "outputs": [
    {
     "data": {
      "text/plain": [
       "'typing.List[int]'"
      ]
     },
     "execution_count": 48,
     "metadata": {},
     "output_type": "execute_result"
    }
   ],
   "source": [
    "tp_List = typing.List[int]\n",
    "repr(tp_List)"
   ]
  },
  {
   "cell_type": "code",
   "execution_count": 49,
   "metadata": {
    "execution": {
     "iopub.execute_input": "2023-02-20T01:35:05.558699Z",
     "iopub.status.busy": "2023-02-20T01:35:05.558488Z",
     "iopub.status.idle": "2023-02-20T01:35:05.561871Z",
     "shell.execute_reply": "2023-02-20T01:35:05.561396Z"
    }
   },
   "outputs": [
    {
     "data": {
      "text/plain": [
       "typing._GenericAlias"
      ]
     },
     "execution_count": 49,
     "metadata": {},
     "output_type": "execute_result"
    }
   ],
   "source": [
    "type(tp_List)"
   ]
  },
  {
   "cell_type": "code",
   "execution_count": 50,
   "metadata": {
    "execution": {
     "iopub.execute_input": "2023-02-20T01:35:05.563873Z",
     "iopub.status.busy": "2023-02-20T01:35:05.563680Z",
     "iopub.status.idle": "2023-02-20T01:35:05.566880Z",
     "shell.execute_reply": "2023-02-20T01:35:05.566454Z"
    }
   },
   "outputs": [
    {
     "data": {
      "text/plain": [
       "(typing._GenericAlias, typing._BaseGenericAlias, typing._Final, object)"
      ]
     },
     "execution_count": 50,
     "metadata": {},
     "output_type": "execute_result"
    }
   ],
   "source": [
    "type(tp_List).__mro__"
   ]
  },
  {
   "cell_type": "code",
   "execution_count": 51,
   "metadata": {
    "execution": {
     "iopub.execute_input": "2023-02-20T01:35:05.568779Z",
     "iopub.status.busy": "2023-02-20T01:35:05.568587Z",
     "iopub.status.idle": "2023-02-20T01:35:05.571728Z",
     "shell.execute_reply": "2023-02-20T01:35:05.571299Z"
    }
   },
   "outputs": [
    {
     "data": {
      "text/plain": [
       "'List'"
      ]
     },
     "execution_count": 51,
     "metadata": {},
     "output_type": "execute_result"
    }
   ],
   "source": [
    "tp_List._name"
   ]
  },
  {
   "cell_type": "code",
   "execution_count": 52,
   "metadata": {
    "execution": {
     "iopub.execute_input": "2023-02-20T01:35:05.573684Z",
     "iopub.status.busy": "2023-02-20T01:35:05.573493Z",
     "iopub.status.idle": "2023-02-20T01:35:05.588196Z",
     "shell.execute_reply": "2023-02-20T01:35:05.587729Z"
    },
    "tags": []
   },
   "outputs": [
    {
     "ename": "AttributeError",
     "evalue": "__name__",
     "output_type": "error",
     "traceback": [
      "\u001b[0;31m---------------------------------------------------------------------------\u001b[0m",
      "\u001b[0;31mAttributeError\u001b[0m                            Traceback (most recent call last)",
      "Cell \u001b[0;32mIn[52], line 1\u001b[0m\n\u001b[0;32m----> 1\u001b[0m \u001b[43mtp_List\u001b[49m\u001b[38;5;241;43m.\u001b[39;49m\u001b[38;5;18;43m__name__\u001b[39;49m\n",
      "File \u001b[0;32m/usr/local/Cellar/python@3.9/3.9.16/Frameworks/Python.framework/Versions/3.9/lib/python3.9/typing.py:711\u001b[0m, in \u001b[0;36m_BaseGenericAlias.__getattr__\u001b[0;34m(self, attr)\u001b[0m\n\u001b[1;32m    709\u001b[0m \u001b[38;5;28;01mif\u001b[39;00m \u001b[38;5;124m'\u001b[39m\u001b[38;5;124m__origin__\u001b[39m\u001b[38;5;124m'\u001b[39m \u001b[38;5;129;01min\u001b[39;00m \u001b[38;5;28mself\u001b[39m\u001b[38;5;241m.\u001b[39m\u001b[38;5;18m__dict__\u001b[39m \u001b[38;5;129;01mand\u001b[39;00m \u001b[38;5;129;01mnot\u001b[39;00m _is_dunder(attr):\n\u001b[1;32m    710\u001b[0m     \u001b[38;5;28;01mreturn\u001b[39;00m \u001b[38;5;28mgetattr\u001b[39m(\u001b[38;5;28mself\u001b[39m\u001b[38;5;241m.\u001b[39m__origin__, attr)\n\u001b[0;32m--> 711\u001b[0m \u001b[38;5;28;01mraise\u001b[39;00m \u001b[38;5;167;01mAttributeError\u001b[39;00m(attr)\n",
      "\u001b[0;31mAttributeError\u001b[0m: __name__"
     ]
    }
   ],
   "source": [
    "tp_List.__name__"
   ]
  },
  {
   "cell_type": "code",
   "execution_count": 53,
   "metadata": {
    "execution": {
     "iopub.execute_input": "2023-02-20T01:35:05.590351Z",
     "iopub.status.busy": "2023-02-20T01:35:05.590152Z",
     "iopub.status.idle": "2023-02-20T01:35:05.604579Z",
     "shell.execute_reply": "2023-02-20T01:35:05.604112Z"
    }
   },
   "outputs": [
    {
     "ename": "AttributeError",
     "evalue": "__qualname__",
     "output_type": "error",
     "traceback": [
      "\u001b[0;31m---------------------------------------------------------------------------\u001b[0m",
      "\u001b[0;31mAttributeError\u001b[0m                            Traceback (most recent call last)",
      "Cell \u001b[0;32mIn[53], line 1\u001b[0m\n\u001b[0;32m----> 1\u001b[0m \u001b[43mtp_List\u001b[49m\u001b[38;5;241;43m.\u001b[39;49m\u001b[38;5;18;43m__qualname__\u001b[39;49m\n",
      "File \u001b[0;32m/usr/local/Cellar/python@3.9/3.9.16/Frameworks/Python.framework/Versions/3.9/lib/python3.9/typing.py:711\u001b[0m, in \u001b[0;36m_BaseGenericAlias.__getattr__\u001b[0;34m(self, attr)\u001b[0m\n\u001b[1;32m    709\u001b[0m \u001b[38;5;28;01mif\u001b[39;00m \u001b[38;5;124m'\u001b[39m\u001b[38;5;124m__origin__\u001b[39m\u001b[38;5;124m'\u001b[39m \u001b[38;5;129;01min\u001b[39;00m \u001b[38;5;28mself\u001b[39m\u001b[38;5;241m.\u001b[39m\u001b[38;5;18m__dict__\u001b[39m \u001b[38;5;129;01mand\u001b[39;00m \u001b[38;5;129;01mnot\u001b[39;00m _is_dunder(attr):\n\u001b[1;32m    710\u001b[0m     \u001b[38;5;28;01mreturn\u001b[39;00m \u001b[38;5;28mgetattr\u001b[39m(\u001b[38;5;28mself\u001b[39m\u001b[38;5;241m.\u001b[39m__origin__, attr)\n\u001b[0;32m--> 711\u001b[0m \u001b[38;5;28;01mraise\u001b[39;00m \u001b[38;5;167;01mAttributeError\u001b[39;00m(attr)\n",
      "\u001b[0;31mAttributeError\u001b[0m: __qualname__"
     ]
    }
   ],
   "source": [
    "tp_List.__qualname__"
   ]
  },
  {
   "cell_type": "code",
   "execution_count": 54,
   "metadata": {
    "execution": {
     "iopub.execute_input": "2023-02-20T01:35:05.606703Z",
     "iopub.status.busy": "2023-02-20T01:35:05.606502Z",
     "iopub.status.idle": "2023-02-20T01:35:05.609801Z",
     "shell.execute_reply": "2023-02-20T01:35:05.609359Z"
    }
   },
   "outputs": [
    {
     "data": {
      "text/plain": [
       "list"
      ]
     },
     "execution_count": 54,
     "metadata": {},
     "output_type": "execute_result"
    }
   ],
   "source": [
    "origin_List = get_origin(tp_List)\n",
    "origin_List"
   ]
  },
  {
   "cell_type": "code",
   "execution_count": 55,
   "metadata": {
    "execution": {
     "iopub.execute_input": "2023-02-20T01:35:05.611819Z",
     "iopub.status.busy": "2023-02-20T01:35:05.611630Z",
     "iopub.status.idle": "2023-02-20T01:35:05.614809Z",
     "shell.execute_reply": "2023-02-20T01:35:05.614387Z"
    }
   },
   "outputs": [
    {
     "data": {
      "text/plain": [
       "type"
      ]
     },
     "execution_count": 55,
     "metadata": {},
     "output_type": "execute_result"
    }
   ],
   "source": [
    "type(origin_List)"
   ]
  },
  {
   "cell_type": "code",
   "execution_count": 56,
   "metadata": {
    "execution": {
     "iopub.execute_input": "2023-02-20T01:35:05.616763Z",
     "iopub.status.busy": "2023-02-20T01:35:05.616578Z",
     "iopub.status.idle": "2023-02-20T01:35:05.619835Z",
     "shell.execute_reply": "2023-02-20T01:35:05.619411Z"
    }
   },
   "outputs": [
    {
     "data": {
      "text/plain": [
       "tuple"
      ]
     },
     "execution_count": 56,
     "metadata": {},
     "output_type": "execute_result"
    }
   ],
   "source": [
    "type(origin_List.__mro__)"
   ]
  },
  {
   "cell_type": "code",
   "execution_count": 57,
   "metadata": {
    "execution": {
     "iopub.execute_input": "2023-02-20T01:35:05.621728Z",
     "iopub.status.busy": "2023-02-20T01:35:05.621544Z",
     "iopub.status.idle": "2023-02-20T01:35:05.636616Z",
     "shell.execute_reply": "2023-02-20T01:35:05.635981Z"
    },
    "tags": []
   },
   "outputs": [
    {
     "ename": "AttributeError",
     "evalue": "type object 'list' has no attribute '_name'",
     "output_type": "error",
     "traceback": [
      "\u001b[0;31m---------------------------------------------------------------------------\u001b[0m",
      "\u001b[0;31mAttributeError\u001b[0m                            Traceback (most recent call last)",
      "Cell \u001b[0;32mIn[57], line 1\u001b[0m\n\u001b[0;32m----> 1\u001b[0m \u001b[43morigin_List\u001b[49m\u001b[38;5;241;43m.\u001b[39;49m\u001b[43m_name\u001b[49m\n",
      "\u001b[0;31mAttributeError\u001b[0m: type object 'list' has no attribute '_name'"
     ]
    }
   ],
   "source": [
    "origin_List._name"
   ]
  },
  {
   "cell_type": "code",
   "execution_count": 58,
   "metadata": {
    "execution": {
     "iopub.execute_input": "2023-02-20T01:35:05.639512Z",
     "iopub.status.busy": "2023-02-20T01:35:05.639252Z",
     "iopub.status.idle": "2023-02-20T01:35:05.643431Z",
     "shell.execute_reply": "2023-02-20T01:35:05.642825Z"
    },
    "tags": []
   },
   "outputs": [
    {
     "data": {
      "text/plain": [
       "'list'"
      ]
     },
     "execution_count": 58,
     "metadata": {},
     "output_type": "execute_result"
    }
   ],
   "source": [
    "origin_List.__name__"
   ]
  },
  {
   "cell_type": "code",
   "execution_count": 59,
   "metadata": {
    "execution": {
     "iopub.execute_input": "2023-02-20T01:35:05.645958Z",
     "iopub.status.busy": "2023-02-20T01:35:05.645706Z",
     "iopub.status.idle": "2023-02-20T01:35:05.649350Z",
     "shell.execute_reply": "2023-02-20T01:35:05.648828Z"
    }
   },
   "outputs": [
    {
     "data": {
      "text/plain": [
       "'list'"
      ]
     },
     "execution_count": 59,
     "metadata": {},
     "output_type": "execute_result"
    }
   ],
   "source": [
    "origin_List.__qualname__"
   ]
  },
  {
   "cell_type": "markdown",
   "metadata": {},
   "source": [
    "### Standard Collection Aliases"
   ]
  },
  {
   "cell_type": "code",
   "execution_count": 60,
   "metadata": {
    "execution": {
     "iopub.execute_input": "2023-02-20T01:35:05.651706Z",
     "iopub.status.busy": "2023-02-20T01:35:05.651497Z",
     "iopub.status.idle": "2023-02-20T01:35:05.654908Z",
     "shell.execute_reply": "2023-02-20T01:35:05.654452Z"
    },
    "tags": []
   },
   "outputs": [
    {
     "data": {
      "text/plain": [
       "list[int]"
      ]
     },
     "execution_count": 60,
     "metadata": {},
     "output_type": "execute_result"
    }
   ],
   "source": [
    "tp_list = list[int]\n",
    "tp_list"
   ]
  },
  {
   "cell_type": "code",
   "execution_count": 61,
   "metadata": {
    "execution": {
     "iopub.execute_input": "2023-02-20T01:35:05.656923Z",
     "iopub.status.busy": "2023-02-20T01:35:05.656734Z",
     "iopub.status.idle": "2023-02-20T01:35:05.659904Z",
     "shell.execute_reply": "2023-02-20T01:35:05.659468Z"
    },
    "tags": []
   },
   "outputs": [
    {
     "data": {
      "text/plain": [
       "types.GenericAlias"
      ]
     },
     "execution_count": 61,
     "metadata": {},
     "output_type": "execute_result"
    }
   ],
   "source": [
    "type(tp_list)"
   ]
  },
  {
   "cell_type": "code",
   "execution_count": 62,
   "metadata": {
    "execution": {
     "iopub.execute_input": "2023-02-20T01:35:05.661946Z",
     "iopub.status.busy": "2023-02-20T01:35:05.661753Z",
     "iopub.status.idle": "2023-02-20T01:35:05.664935Z",
     "shell.execute_reply": "2023-02-20T01:35:05.664504Z"
    },
    "tags": []
   },
   "outputs": [
    {
     "data": {
      "text/plain": [
       "(types.GenericAlias, object)"
      ]
     },
     "execution_count": 62,
     "metadata": {},
     "output_type": "execute_result"
    }
   ],
   "source": [
    "type(tp_list).__mro__"
   ]
  },
  {
   "cell_type": "code",
   "execution_count": 63,
   "metadata": {
    "execution": {
     "iopub.execute_input": "2023-02-20T01:35:05.666810Z",
     "iopub.status.busy": "2023-02-20T01:35:05.666621Z",
     "iopub.status.idle": "2023-02-20T01:35:05.676978Z",
     "shell.execute_reply": "2023-02-20T01:35:05.676503Z"
    },
    "tags": []
   },
   "outputs": [
    {
     "ename": "AttributeError",
     "evalue": "type object 'list' has no attribute '_name'",
     "output_type": "error",
     "traceback": [
      "\u001b[0;31m---------------------------------------------------------------------------\u001b[0m",
      "\u001b[0;31mAttributeError\u001b[0m                            Traceback (most recent call last)",
      "Cell \u001b[0;32mIn[63], line 1\u001b[0m\n\u001b[0;32m----> 1\u001b[0m \u001b[43mtp_list\u001b[49m\u001b[38;5;241;43m.\u001b[39;49m\u001b[43m_name\u001b[49m\n",
      "\u001b[0;31mAttributeError\u001b[0m: type object 'list' has no attribute '_name'"
     ]
    }
   ],
   "source": [
    "tp_list._name"
   ]
  },
  {
   "cell_type": "code",
   "execution_count": 64,
   "metadata": {
    "execution": {
     "iopub.execute_input": "2023-02-20T01:35:05.679311Z",
     "iopub.status.busy": "2023-02-20T01:35:05.679111Z",
     "iopub.status.idle": "2023-02-20T01:35:05.682322Z",
     "shell.execute_reply": "2023-02-20T01:35:05.681886Z"
    },
    "tags": []
   },
   "outputs": [
    {
     "data": {
      "text/plain": [
       "'list'"
      ]
     },
     "execution_count": 64,
     "metadata": {},
     "output_type": "execute_result"
    }
   ],
   "source": [
    "tp_list.__name__"
   ]
  },
  {
   "cell_type": "code",
   "execution_count": 65,
   "metadata": {
    "execution": {
     "iopub.execute_input": "2023-02-20T01:35:05.684292Z",
     "iopub.status.busy": "2023-02-20T01:35:05.684095Z",
     "iopub.status.idle": "2023-02-20T01:35:05.687612Z",
     "shell.execute_reply": "2023-02-20T01:35:05.687153Z"
    }
   },
   "outputs": [
    {
     "data": {
      "text/plain": [
       "'list'"
      ]
     },
     "execution_count": 65,
     "metadata": {},
     "output_type": "execute_result"
    }
   ],
   "source": [
    "tp_list.__qualname__"
   ]
  },
  {
   "cell_type": "code",
   "execution_count": 66,
   "metadata": {
    "execution": {
     "iopub.execute_input": "2023-02-20T01:35:05.689605Z",
     "iopub.status.busy": "2023-02-20T01:35:05.689422Z",
     "iopub.status.idle": "2023-02-20T01:35:05.692676Z",
     "shell.execute_reply": "2023-02-20T01:35:05.692236Z"
    },
    "tags": []
   },
   "outputs": [
    {
     "data": {
      "text/plain": [
       "list"
      ]
     },
     "execution_count": 66,
     "metadata": {},
     "output_type": "execute_result"
    }
   ],
   "source": [
    "origin_list = get_origin(tp_list)\n",
    "origin_list"
   ]
  },
  {
   "cell_type": "code",
   "execution_count": 67,
   "metadata": {
    "execution": {
     "iopub.execute_input": "2023-02-20T01:35:05.694646Z",
     "iopub.status.busy": "2023-02-20T01:35:05.694456Z",
     "iopub.status.idle": "2023-02-20T01:35:05.697591Z",
     "shell.execute_reply": "2023-02-20T01:35:05.697167Z"
    },
    "tags": []
   },
   "outputs": [
    {
     "data": {
      "text/plain": [
       "type"
      ]
     },
     "execution_count": 67,
     "metadata": {},
     "output_type": "execute_result"
    }
   ],
   "source": [
    "type(origin_list)"
   ]
  },
  {
   "cell_type": "code",
   "execution_count": 68,
   "metadata": {
    "execution": {
     "iopub.execute_input": "2023-02-20T01:35:05.699481Z",
     "iopub.status.busy": "2023-02-20T01:35:05.699293Z",
     "iopub.status.idle": "2023-02-20T01:35:05.702584Z",
     "shell.execute_reply": "2023-02-20T01:35:05.702160Z"
    },
    "tags": []
   },
   "outputs": [
    {
     "data": {
      "text/plain": [
       "(type, object)"
      ]
     },
     "execution_count": 68,
     "metadata": {},
     "output_type": "execute_result"
    }
   ],
   "source": [
    "type(origin_list).__mro__"
   ]
  },
  {
   "cell_type": "code",
   "execution_count": 69,
   "metadata": {
    "execution": {
     "iopub.execute_input": "2023-02-20T01:35:05.704447Z",
     "iopub.status.busy": "2023-02-20T01:35:05.704263Z",
     "iopub.status.idle": "2023-02-20T01:35:05.714649Z",
     "shell.execute_reply": "2023-02-20T01:35:05.714168Z"
    },
    "tags": []
   },
   "outputs": [
    {
     "ename": "AttributeError",
     "evalue": "type object 'list' has no attribute '_name'",
     "output_type": "error",
     "traceback": [
      "\u001b[0;31m---------------------------------------------------------------------------\u001b[0m",
      "\u001b[0;31mAttributeError\u001b[0m                            Traceback (most recent call last)",
      "Cell \u001b[0;32mIn[69], line 1\u001b[0m\n\u001b[0;32m----> 1\u001b[0m \u001b[43morigin_list\u001b[49m\u001b[38;5;241;43m.\u001b[39;49m\u001b[43m_name\u001b[49m\n",
      "\u001b[0;31mAttributeError\u001b[0m: type object 'list' has no attribute '_name'"
     ]
    }
   ],
   "source": [
    "origin_list._name"
   ]
  },
  {
   "cell_type": "code",
   "execution_count": 70,
   "metadata": {
    "execution": {
     "iopub.execute_input": "2023-02-20T01:35:05.716726Z",
     "iopub.status.busy": "2023-02-20T01:35:05.716525Z",
     "iopub.status.idle": "2023-02-20T01:35:05.719828Z",
     "shell.execute_reply": "2023-02-20T01:35:05.719373Z"
    }
   },
   "outputs": [
    {
     "data": {
      "text/plain": [
       "'list'"
      ]
     },
     "execution_count": 70,
     "metadata": {},
     "output_type": "execute_result"
    }
   ],
   "source": [
    "origin_list.__name__"
   ]
  },
  {
   "cell_type": "code",
   "execution_count": 71,
   "metadata": {
    "execution": {
     "iopub.execute_input": "2023-02-20T01:35:05.721799Z",
     "iopub.status.busy": "2023-02-20T01:35:05.721614Z",
     "iopub.status.idle": "2023-02-20T01:35:05.724864Z",
     "shell.execute_reply": "2023-02-20T01:35:05.724445Z"
    },
    "tags": []
   },
   "outputs": [
    {
     "data": {
      "text/plain": [
       "'list'"
      ]
     },
     "execution_count": 71,
     "metadata": {},
     "output_type": "execute_result"
    }
   ],
   "source": [
    "origin_list.__qualname__"
   ]
  },
  {
   "attachments": {},
   "cell_type": "markdown",
   "metadata": {},
   "source": [
    "## Custom Class"
   ]
  },
  {
   "cell_type": "code",
   "execution_count": 72,
   "metadata": {
    "execution": {
     "iopub.execute_input": "2023-02-20T01:35:05.726856Z",
     "iopub.status.busy": "2023-02-20T01:35:05.726670Z",
     "iopub.status.idle": "2023-02-20T01:35:05.729354Z",
     "shell.execute_reply": "2023-02-20T01:35:05.728851Z"
    }
   },
   "outputs": [],
   "source": [
    "class MyClass: pass"
   ]
  },
  {
   "cell_type": "code",
   "execution_count": 73,
   "metadata": {
    "execution": {
     "iopub.execute_input": "2023-02-20T01:35:05.731238Z",
     "iopub.status.busy": "2023-02-20T01:35:05.731052Z",
     "iopub.status.idle": "2023-02-20T01:35:05.734272Z",
     "shell.execute_reply": "2023-02-20T01:35:05.733854Z"
    }
   },
   "outputs": [
    {
     "data": {
      "text/plain": [
       "type"
      ]
     },
     "execution_count": 73,
     "metadata": {},
     "output_type": "execute_result"
    }
   ],
   "source": [
    "type(MyClass)"
   ]
  },
  {
   "cell_type": "code",
   "execution_count": 74,
   "metadata": {
    "execution": {
     "iopub.execute_input": "2023-02-20T01:35:05.736271Z",
     "iopub.status.busy": "2023-02-20T01:35:05.735955Z",
     "iopub.status.idle": "2023-02-20T01:35:05.739206Z",
     "shell.execute_reply": "2023-02-20T01:35:05.738784Z"
    }
   },
   "outputs": [
    {
     "data": {
      "text/plain": [
       "(__main__.MyClass, object)"
      ]
     },
     "execution_count": 74,
     "metadata": {},
     "output_type": "execute_result"
    }
   ],
   "source": [
    "MyClass.__mro__"
   ]
  },
  {
   "cell_type": "code",
   "execution_count": 75,
   "metadata": {
    "execution": {
     "iopub.execute_input": "2023-02-20T01:35:05.741074Z",
     "iopub.status.busy": "2023-02-20T01:35:05.740896Z",
     "iopub.status.idle": "2023-02-20T01:35:05.743224Z",
     "shell.execute_reply": "2023-02-20T01:35:05.742802Z"
    }
   },
   "outputs": [],
   "source": [
    "get_origin(MyClass)"
   ]
  },
  {
   "cell_type": "code",
   "execution_count": 76,
   "metadata": {
    "execution": {
     "iopub.execute_input": "2023-02-20T01:35:05.745233Z",
     "iopub.status.busy": "2023-02-20T01:35:05.745038Z",
     "iopub.status.idle": "2023-02-20T01:35:05.748196Z",
     "shell.execute_reply": "2023-02-20T01:35:05.747759Z"
    }
   },
   "outputs": [
    {
     "data": {
      "text/plain": [
       "'MyClass'"
      ]
     },
     "execution_count": 76,
     "metadata": {},
     "output_type": "execute_result"
    }
   ],
   "source": [
    "MyClass.__name__"
   ]
  },
  {
   "cell_type": "code",
   "execution_count": 77,
   "metadata": {
    "execution": {
     "iopub.execute_input": "2023-02-20T01:35:05.750191Z",
     "iopub.status.busy": "2023-02-20T01:35:05.750003Z",
     "iopub.status.idle": "2023-02-20T01:35:05.753095Z",
     "shell.execute_reply": "2023-02-20T01:35:05.752672Z"
    }
   },
   "outputs": [
    {
     "data": {
      "text/plain": [
       "'MyClass'"
      ]
     },
     "execution_count": 77,
     "metadata": {},
     "output_type": "execute_result"
    }
   ],
   "source": [
    "MyClass.__qualname__"
   ]
  },
  {
   "attachments": {},
   "cell_type": "markdown",
   "metadata": {},
   "source": [
    "## Nested Class"
   ]
  },
  {
   "cell_type": "code",
   "execution_count": 78,
   "metadata": {
    "execution": {
     "iopub.execute_input": "2023-02-20T01:35:05.755147Z",
     "iopub.status.busy": "2023-02-20T01:35:05.754961Z",
     "iopub.status.idle": "2023-02-20T01:35:05.757365Z",
     "shell.execute_reply": "2023-02-20T01:35:05.756941Z"
    }
   },
   "outputs": [],
   "source": [
    "class OuterClass:\n",
    "    class InnerClass:\n",
    "        pass"
   ]
  },
  {
   "cell_type": "code",
   "execution_count": 79,
   "metadata": {
    "execution": {
     "iopub.execute_input": "2023-02-20T01:35:05.759264Z",
     "iopub.status.busy": "2023-02-20T01:35:05.759079Z",
     "iopub.status.idle": "2023-02-20T01:35:05.762266Z",
     "shell.execute_reply": "2023-02-20T01:35:05.761841Z"
    }
   },
   "outputs": [
    {
     "data": {
      "text/plain": [
       "'OuterClass'"
      ]
     },
     "execution_count": 79,
     "metadata": {},
     "output_type": "execute_result"
    }
   ],
   "source": [
    "OuterClass.__name__"
   ]
  },
  {
   "cell_type": "code",
   "execution_count": 80,
   "metadata": {
    "execution": {
     "iopub.execute_input": "2023-02-20T01:35:05.764134Z",
     "iopub.status.busy": "2023-02-20T01:35:05.763949Z",
     "iopub.status.idle": "2023-02-20T01:35:05.767063Z",
     "shell.execute_reply": "2023-02-20T01:35:05.766642Z"
    }
   },
   "outputs": [
    {
     "data": {
      "text/plain": [
       "'OuterClass'"
      ]
     },
     "execution_count": 80,
     "metadata": {},
     "output_type": "execute_result"
    }
   ],
   "source": [
    "OuterClass.__qualname__"
   ]
  },
  {
   "cell_type": "code",
   "execution_count": 81,
   "metadata": {
    "execution": {
     "iopub.execute_input": "2023-02-20T01:35:05.769162Z",
     "iopub.status.busy": "2023-02-20T01:35:05.768969Z",
     "iopub.status.idle": "2023-02-20T01:35:05.779672Z",
     "shell.execute_reply": "2023-02-20T01:35:05.779080Z"
    }
   },
   "outputs": [
    {
     "ename": "NameError",
     "evalue": "name 'InnerClass' is not defined",
     "output_type": "error",
     "traceback": [
      "\u001b[0;31m---------------------------------------------------------------------------\u001b[0m",
      "\u001b[0;31mNameError\u001b[0m                                 Traceback (most recent call last)",
      "Cell \u001b[0;32mIn[81], line 1\u001b[0m\n\u001b[0;32m----> 1\u001b[0m \u001b[43mInnerClass\u001b[49m\u001b[38;5;241m.\u001b[39m\u001b[38;5;18m__name__\u001b[39m\n",
      "\u001b[0;31mNameError\u001b[0m: name 'InnerClass' is not defined"
     ]
    }
   ],
   "source": [
    "InnerClass.__name__"
   ]
  },
  {
   "cell_type": "code",
   "execution_count": 82,
   "metadata": {
    "execution": {
     "iopub.execute_input": "2023-02-20T01:35:05.781708Z",
     "iopub.status.busy": "2023-02-20T01:35:05.781513Z",
     "iopub.status.idle": "2023-02-20T01:35:05.793566Z",
     "shell.execute_reply": "2023-02-20T01:35:05.793031Z"
    }
   },
   "outputs": [
    {
     "ename": "NameError",
     "evalue": "name 'InnerClass' is not defined",
     "output_type": "error",
     "traceback": [
      "\u001b[0;31m---------------------------------------------------------------------------\u001b[0m",
      "\u001b[0;31mNameError\u001b[0m                                 Traceback (most recent call last)",
      "Cell \u001b[0;32mIn[82], line 1\u001b[0m\n\u001b[0;32m----> 1\u001b[0m \u001b[43mInnerClass\u001b[49m\u001b[38;5;241m.\u001b[39m\u001b[38;5;18m__qualname__\u001b[39m\n",
      "\u001b[0;31mNameError\u001b[0m: name 'InnerClass' is not defined"
     ]
    }
   ],
   "source": [
    "InnerClass.__qualname__"
   ]
  },
  {
   "attachments": {},
   "cell_type": "markdown",
   "metadata": {},
   "source": [
    "## Custom Generic"
   ]
  },
  {
   "cell_type": "code",
   "execution_count": 83,
   "metadata": {
    "execution": {
     "iopub.execute_input": "2023-02-20T01:35:05.795918Z",
     "iopub.status.busy": "2023-02-20T01:35:05.795698Z",
     "iopub.status.idle": "2023-02-20T01:35:05.798664Z",
     "shell.execute_reply": "2023-02-20T01:35:05.798232Z"
    }
   },
   "outputs": [],
   "source": [
    "class MyGeneric(typing.Generic[typing.T]):\n",
    "    def __init__(self, x) -> None:\n",
    "        self.x = x"
   ]
  },
  {
   "cell_type": "code",
   "execution_count": 84,
   "metadata": {
    "execution": {
     "iopub.execute_input": "2023-02-20T01:35:05.800697Z",
     "iopub.status.busy": "2023-02-20T01:35:05.800508Z",
     "iopub.status.idle": "2023-02-20T01:35:05.803740Z",
     "shell.execute_reply": "2023-02-20T01:35:05.803315Z"
    }
   },
   "outputs": [
    {
     "data": {
      "text/plain": [
       "__main__.MyGeneric[str]"
      ]
     },
     "execution_count": 84,
     "metadata": {},
     "output_type": "execute_result"
    }
   ],
   "source": [
    "tp_custom_generic = MyGeneric[str]\n",
    "tp_custom_generic"
   ]
  },
  {
   "cell_type": "code",
   "execution_count": 85,
   "metadata": {
    "execution": {
     "iopub.execute_input": "2023-02-20T01:35:05.805652Z",
     "iopub.status.busy": "2023-02-20T01:35:05.805461Z",
     "iopub.status.idle": "2023-02-20T01:35:05.808677Z",
     "shell.execute_reply": "2023-02-20T01:35:05.808245Z"
    }
   },
   "outputs": [
    {
     "data": {
      "text/plain": [
       "typing._GenericAlias"
      ]
     },
     "execution_count": 85,
     "metadata": {},
     "output_type": "execute_result"
    }
   ],
   "source": [
    "type(tp_custom_generic)"
   ]
  },
  {
   "cell_type": "code",
   "execution_count": 86,
   "metadata": {
    "execution": {
     "iopub.execute_input": "2023-02-20T01:35:05.810562Z",
     "iopub.status.busy": "2023-02-20T01:35:05.810376Z",
     "iopub.status.idle": "2023-02-20T01:35:05.825014Z",
     "shell.execute_reply": "2023-02-20T01:35:05.824537Z"
    }
   },
   "outputs": [
    {
     "ename": "AttributeError",
     "evalue": "__name__",
     "output_type": "error",
     "traceback": [
      "\u001b[0;31m---------------------------------------------------------------------------\u001b[0m",
      "\u001b[0;31mAttributeError\u001b[0m                            Traceback (most recent call last)",
      "Cell \u001b[0;32mIn[86], line 1\u001b[0m\n\u001b[0;32m----> 1\u001b[0m \u001b[43mtp_custom_generic\u001b[49m\u001b[38;5;241;43m.\u001b[39;49m\u001b[38;5;18;43m__name__\u001b[39;49m\n",
      "File \u001b[0;32m/usr/local/Cellar/python@3.9/3.9.16/Frameworks/Python.framework/Versions/3.9/lib/python3.9/typing.py:711\u001b[0m, in \u001b[0;36m_BaseGenericAlias.__getattr__\u001b[0;34m(self, attr)\u001b[0m\n\u001b[1;32m    709\u001b[0m \u001b[38;5;28;01mif\u001b[39;00m \u001b[38;5;124m'\u001b[39m\u001b[38;5;124m__origin__\u001b[39m\u001b[38;5;124m'\u001b[39m \u001b[38;5;129;01min\u001b[39;00m \u001b[38;5;28mself\u001b[39m\u001b[38;5;241m.\u001b[39m\u001b[38;5;18m__dict__\u001b[39m \u001b[38;5;129;01mand\u001b[39;00m \u001b[38;5;129;01mnot\u001b[39;00m _is_dunder(attr):\n\u001b[1;32m    710\u001b[0m     \u001b[38;5;28;01mreturn\u001b[39;00m \u001b[38;5;28mgetattr\u001b[39m(\u001b[38;5;28mself\u001b[39m\u001b[38;5;241m.\u001b[39m__origin__, attr)\n\u001b[0;32m--> 711\u001b[0m \u001b[38;5;28;01mraise\u001b[39;00m \u001b[38;5;167;01mAttributeError\u001b[39;00m(attr)\n",
      "\u001b[0;31mAttributeError\u001b[0m: __name__"
     ]
    }
   ],
   "source": [
    "tp_custom_generic.__name__"
   ]
  },
  {
   "cell_type": "code",
   "execution_count": 87,
   "metadata": {
    "execution": {
     "iopub.execute_input": "2023-02-20T01:35:05.827168Z",
     "iopub.status.busy": "2023-02-20T01:35:05.826844Z",
     "iopub.status.idle": "2023-02-20T01:35:05.845941Z",
     "shell.execute_reply": "2023-02-20T01:35:05.845265Z"
    }
   },
   "outputs": [
    {
     "ename": "AttributeError",
     "evalue": "__qualname__",
     "output_type": "error",
     "traceback": [
      "\u001b[0;31m---------------------------------------------------------------------------\u001b[0m",
      "\u001b[0;31mAttributeError\u001b[0m                            Traceback (most recent call last)",
      "Cell \u001b[0;32mIn[87], line 1\u001b[0m\n\u001b[0;32m----> 1\u001b[0m \u001b[43mtp_custom_generic\u001b[49m\u001b[38;5;241;43m.\u001b[39;49m\u001b[38;5;18;43m__qualname__\u001b[39;49m\n",
      "File \u001b[0;32m/usr/local/Cellar/python@3.9/3.9.16/Frameworks/Python.framework/Versions/3.9/lib/python3.9/typing.py:711\u001b[0m, in \u001b[0;36m_BaseGenericAlias.__getattr__\u001b[0;34m(self, attr)\u001b[0m\n\u001b[1;32m    709\u001b[0m \u001b[38;5;28;01mif\u001b[39;00m \u001b[38;5;124m'\u001b[39m\u001b[38;5;124m__origin__\u001b[39m\u001b[38;5;124m'\u001b[39m \u001b[38;5;129;01min\u001b[39;00m \u001b[38;5;28mself\u001b[39m\u001b[38;5;241m.\u001b[39m\u001b[38;5;18m__dict__\u001b[39m \u001b[38;5;129;01mand\u001b[39;00m \u001b[38;5;129;01mnot\u001b[39;00m _is_dunder(attr):\n\u001b[1;32m    710\u001b[0m     \u001b[38;5;28;01mreturn\u001b[39;00m \u001b[38;5;28mgetattr\u001b[39m(\u001b[38;5;28mself\u001b[39m\u001b[38;5;241m.\u001b[39m__origin__, attr)\n\u001b[0;32m--> 711\u001b[0m \u001b[38;5;28;01mraise\u001b[39;00m \u001b[38;5;167;01mAttributeError\u001b[39;00m(attr)\n",
      "\u001b[0;31mAttributeError\u001b[0m: __qualname__"
     ]
    }
   ],
   "source": [
    "tp_custom_generic.__qualname__"
   ]
  },
  {
   "cell_type": "code",
   "execution_count": 88,
   "metadata": {
    "execution": {
     "iopub.execute_input": "2023-02-20T01:35:05.848495Z",
     "iopub.status.busy": "2023-02-20T01:35:05.848279Z",
     "iopub.status.idle": "2023-02-20T01:35:05.851917Z",
     "shell.execute_reply": "2023-02-20T01:35:05.851356Z"
    }
   },
   "outputs": [
    {
     "data": {
      "text/plain": [
       "__main__.MyGeneric"
      ]
     },
     "execution_count": 88,
     "metadata": {},
     "output_type": "execute_result"
    }
   ],
   "source": [
    "origin_custom_generic = get_origin(tp_custom_generic)\n",
    "origin_custom_generic"
   ]
  },
  {
   "cell_type": "code",
   "execution_count": 89,
   "metadata": {
    "execution": {
     "iopub.execute_input": "2023-02-20T01:35:05.854077Z",
     "iopub.status.busy": "2023-02-20T01:35:05.853884Z",
     "iopub.status.idle": "2023-02-20T01:35:05.857082Z",
     "shell.execute_reply": "2023-02-20T01:35:05.856637Z"
    }
   },
   "outputs": [
    {
     "data": {
      "text/plain": [
       "'MyGeneric'"
      ]
     },
     "execution_count": 89,
     "metadata": {},
     "output_type": "execute_result"
    }
   ],
   "source": [
    "origin_custom_generic.__name__"
   ]
  },
  {
   "cell_type": "code",
   "execution_count": 90,
   "metadata": {
    "execution": {
     "iopub.execute_input": "2023-02-20T01:35:05.859026Z",
     "iopub.status.busy": "2023-02-20T01:35:05.858830Z",
     "iopub.status.idle": "2023-02-20T01:35:05.862054Z",
     "shell.execute_reply": "2023-02-20T01:35:05.861633Z"
    }
   },
   "outputs": [
    {
     "data": {
      "text/plain": [
       "'MyGeneric'"
      ]
     },
     "execution_count": 90,
     "metadata": {},
     "output_type": "execute_result"
    }
   ],
   "source": [
    "origin_custom_generic.__qualname__"
   ]
  },
  {
   "attachments": {},
   "cell_type": "markdown",
   "metadata": {},
   "source": [
    "## typing.Any"
   ]
  },
  {
   "cell_type": "code",
   "execution_count": 91,
   "metadata": {
    "execution": {
     "iopub.execute_input": "2023-02-20T01:35:05.864110Z",
     "iopub.status.busy": "2023-02-20T01:35:05.863922Z",
     "iopub.status.idle": "2023-02-20T01:35:05.867218Z",
     "shell.execute_reply": "2023-02-20T01:35:05.866794Z"
    }
   },
   "outputs": [
    {
     "data": {
      "text/plain": [
       "'typing.Any'"
      ]
     },
     "execution_count": 91,
     "metadata": {},
     "output_type": "execute_result"
    }
   ],
   "source": [
    "tp_any = typing.Any\n",
    "repr(tp_any)"
   ]
  },
  {
   "cell_type": "code",
   "execution_count": 92,
   "metadata": {
    "execution": {
     "iopub.execute_input": "2023-02-20T01:35:05.870114Z",
     "iopub.status.busy": "2023-02-20T01:35:05.869914Z",
     "iopub.status.idle": "2023-02-20T01:35:05.881788Z",
     "shell.execute_reply": "2023-02-20T01:35:05.881336Z"
    }
   },
   "outputs": [
    {
     "ename": "AttributeError",
     "evalue": "'_SpecialForm' object has no attribute '__name__'",
     "output_type": "error",
     "traceback": [
      "\u001b[0;31m---------------------------------------------------------------------------\u001b[0m",
      "\u001b[0;31mAttributeError\u001b[0m                            Traceback (most recent call last)",
      "Cell \u001b[0;32mIn[92], line 1\u001b[0m\n\u001b[0;32m----> 1\u001b[0m \u001b[43mtp_any\u001b[49m\u001b[38;5;241;43m.\u001b[39;49m\u001b[38;5;18;43m__name__\u001b[39;49m\n",
      "\u001b[0;31mAttributeError\u001b[0m: '_SpecialForm' object has no attribute '__name__'"
     ]
    }
   ],
   "source": [
    "tp_any.__name__"
   ]
  },
  {
   "cell_type": "code",
   "execution_count": 93,
   "metadata": {
    "execution": {
     "iopub.execute_input": "2023-02-20T01:35:05.883997Z",
     "iopub.status.busy": "2023-02-20T01:35:05.883770Z",
     "iopub.status.idle": "2023-02-20T01:35:05.894246Z",
     "shell.execute_reply": "2023-02-20T01:35:05.893798Z"
    }
   },
   "outputs": [
    {
     "ename": "AttributeError",
     "evalue": "'_SpecialForm' object has no attribute '__qualname__'",
     "output_type": "error",
     "traceback": [
      "\u001b[0;31m---------------------------------------------------------------------------\u001b[0m",
      "\u001b[0;31mAttributeError\u001b[0m                            Traceback (most recent call last)",
      "Cell \u001b[0;32mIn[93], line 1\u001b[0m\n\u001b[0;32m----> 1\u001b[0m \u001b[43mtp_any\u001b[49m\u001b[38;5;241;43m.\u001b[39;49m\u001b[38;5;18;43m__qualname__\u001b[39;49m\n",
      "\u001b[0;31mAttributeError\u001b[0m: '_SpecialForm' object has no attribute '__qualname__'"
     ]
    }
   ],
   "source": [
    "tp_any.__qualname__"
   ]
  }
 ],
 "metadata": {
  "kernelspec": {
   "display_name": ".venv",
   "language": "python",
   "name": "python3"
  },
  "language_info": {
   "codemirror_mode": {
    "name": "ipython",
    "version": 3
   },
   "file_extension": ".py",
   "mimetype": "text/x-python",
   "name": "python",
   "nbconvert_exporter": "python",
   "pygments_lexer": "ipython3",
   "version": "3.9.16"
  },
  "vscode": {
   "interpreter": {
    "hash": "562b6b1d41146ba195661be6d6db461f2660efbf90f15e4bc583c307da246186"
   }
  }
 },
 "nbformat": 4,
 "nbformat_minor": 4
}
