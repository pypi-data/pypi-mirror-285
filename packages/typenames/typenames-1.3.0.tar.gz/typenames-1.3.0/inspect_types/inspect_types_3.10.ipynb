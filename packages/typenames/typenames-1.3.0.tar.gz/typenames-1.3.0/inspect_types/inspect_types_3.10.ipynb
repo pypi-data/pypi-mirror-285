{
 "cells": [
  {
   "cell_type": "code",
   "execution_count": 1,
   "metadata": {
    "execution": {
     "iopub.execute_input": "2023-02-20T01:35:09.243434Z",
     "iopub.status.busy": "2023-02-20T01:35:09.243090Z",
     "iopub.status.idle": "2023-02-20T01:35:09.252007Z",
     "shell.execute_reply": "2023-02-20T01:35:09.251075Z"
    }
   },
   "outputs": [],
   "source": [
    "import sys\n",
    "import typing\n",
    "try: \n",
    "    from typing import get_origin\n",
    "except ImportError:\n",
    "    from typing_extensions import get_origin"
   ]
  },
  {
   "cell_type": "code",
   "execution_count": 2,
   "metadata": {
    "execution": {
     "iopub.execute_input": "2023-02-20T01:35:09.255185Z",
     "iopub.status.busy": "2023-02-20T01:35:09.254895Z",
     "iopub.status.idle": "2023-02-20T01:35:09.261961Z",
     "shell.execute_reply": "2023-02-20T01:35:09.261224Z"
    }
   },
   "outputs": [
    {
     "data": {
      "text/plain": [
       "'3.10.10 (main, Feb  8 2023, 05:44:38) [Clang 14.0.0 (clang-1400.0.29.202)]'"
      ]
     },
     "execution_count": 2,
     "metadata": {},
     "output_type": "execute_result"
    }
   ],
   "source": [
    "sys.version"
   ]
  },
  {
   "cell_type": "markdown",
   "metadata": {},
   "source": [
    "## Union"
   ]
  },
  {
   "cell_type": "markdown",
   "metadata": {},
   "source": [
    "### typing.Union (Generic Alias)"
   ]
  },
  {
   "cell_type": "code",
   "execution_count": 3,
   "metadata": {
    "execution": {
     "iopub.execute_input": "2023-02-20T01:35:09.301149Z",
     "iopub.status.busy": "2023-02-20T01:35:09.300848Z",
     "iopub.status.idle": "2023-02-20T01:35:09.305360Z",
     "shell.execute_reply": "2023-02-20T01:35:09.304762Z"
    }
   },
   "outputs": [
    {
     "data": {
      "text/plain": [
       "'typing.Union[int, str]'"
      ]
     },
     "execution_count": 3,
     "metadata": {},
     "output_type": "execute_result"
    }
   ],
   "source": [
    "tp_union = typing.Union[int, str]\n",
    "repr(tp_union)"
   ]
  },
  {
   "cell_type": "code",
   "execution_count": 4,
   "metadata": {
    "execution": {
     "iopub.execute_input": "2023-02-20T01:35:09.307889Z",
     "iopub.status.busy": "2023-02-20T01:35:09.307642Z",
     "iopub.status.idle": "2023-02-20T01:35:09.311567Z",
     "shell.execute_reply": "2023-02-20T01:35:09.310843Z"
    }
   },
   "outputs": [
    {
     "data": {
      "text/plain": [
       "typing._UnionGenericAlias"
      ]
     },
     "execution_count": 4,
     "metadata": {},
     "output_type": "execute_result"
    }
   ],
   "source": [
    "type(tp_union)"
   ]
  },
  {
   "cell_type": "code",
   "execution_count": 5,
   "metadata": {
    "execution": {
     "iopub.execute_input": "2023-02-20T01:35:09.313869Z",
     "iopub.status.busy": "2023-02-20T01:35:09.313651Z",
     "iopub.status.idle": "2023-02-20T01:35:09.317682Z",
     "shell.execute_reply": "2023-02-20T01:35:09.317078Z"
    }
   },
   "outputs": [
    {
     "data": {
      "text/plain": [
       "(typing._UnionGenericAlias,\n",
       " typing._GenericAlias,\n",
       " typing._BaseGenericAlias,\n",
       " typing._Final,\n",
       " object)"
      ]
     },
     "execution_count": 5,
     "metadata": {},
     "output_type": "execute_result"
    }
   ],
   "source": [
    "type(tp_union).__mro__"
   ]
  },
  {
   "cell_type": "code",
   "execution_count": 6,
   "metadata": {
    "execution": {
     "iopub.execute_input": "2023-02-20T01:35:09.319979Z",
     "iopub.status.busy": "2023-02-20T01:35:09.319751Z",
     "iopub.status.idle": "2023-02-20T01:35:09.322606Z",
     "shell.execute_reply": "2023-02-20T01:35:09.322039Z"
    }
   },
   "outputs": [],
   "source": [
    "tp_union._name"
   ]
  },
  {
   "cell_type": "code",
   "execution_count": 7,
   "metadata": {
    "execution": {
     "iopub.execute_input": "2023-02-20T01:35:09.324712Z",
     "iopub.status.busy": "2023-02-20T01:35:09.324510Z",
     "iopub.status.idle": "2023-02-20T01:35:09.327745Z",
     "shell.execute_reply": "2023-02-20T01:35:09.327318Z"
    }
   },
   "outputs": [
    {
     "data": {
      "text/plain": [
       "'Union'"
      ]
     },
     "execution_count": 7,
     "metadata": {},
     "output_type": "execute_result"
    }
   ],
   "source": [
    "tp_union.__name__"
   ]
  },
  {
   "cell_type": "code",
   "execution_count": 8,
   "metadata": {
    "execution": {
     "iopub.execute_input": "2023-02-20T01:35:09.329667Z",
     "iopub.status.busy": "2023-02-20T01:35:09.329490Z",
     "iopub.status.idle": "2023-02-20T01:35:09.332560Z",
     "shell.execute_reply": "2023-02-20T01:35:09.332128Z"
    }
   },
   "outputs": [
    {
     "data": {
      "text/plain": [
       "'Union'"
      ]
     },
     "execution_count": 8,
     "metadata": {},
     "output_type": "execute_result"
    }
   ],
   "source": [
    "tp_union.__qualname__"
   ]
  },
  {
   "cell_type": "code",
   "execution_count": 9,
   "metadata": {
    "execution": {
     "iopub.execute_input": "2023-02-20T01:35:09.334425Z",
     "iopub.status.busy": "2023-02-20T01:35:09.334234Z",
     "iopub.status.idle": "2023-02-20T01:35:09.337495Z",
     "shell.execute_reply": "2023-02-20T01:35:09.337057Z"
    }
   },
   "outputs": [
    {
     "data": {
      "text/plain": [
       "typing.Union"
      ]
     },
     "execution_count": 9,
     "metadata": {},
     "output_type": "execute_result"
    }
   ],
   "source": [
    "origin_union = get_origin(tp_union)\n",
    "origin_union"
   ]
  },
  {
   "cell_type": "code",
   "execution_count": 10,
   "metadata": {
    "execution": {
     "iopub.execute_input": "2023-02-20T01:35:09.339587Z",
     "iopub.status.busy": "2023-02-20T01:35:09.339174Z",
     "iopub.status.idle": "2023-02-20T01:35:09.342492Z",
     "shell.execute_reply": "2023-02-20T01:35:09.341965Z"
    }
   },
   "outputs": [
    {
     "data": {
      "text/plain": [
       "typing._SpecialForm"
      ]
     },
     "execution_count": 10,
     "metadata": {},
     "output_type": "execute_result"
    }
   ],
   "source": [
    "type(origin_union)"
   ]
  },
  {
   "cell_type": "code",
   "execution_count": 11,
   "metadata": {
    "execution": {
     "iopub.execute_input": "2023-02-20T01:35:09.344368Z",
     "iopub.status.busy": "2023-02-20T01:35:09.344183Z",
     "iopub.status.idle": "2023-02-20T01:35:09.347384Z",
     "shell.execute_reply": "2023-02-20T01:35:09.346955Z"
    }
   },
   "outputs": [
    {
     "data": {
      "text/plain": [
       "(typing._SpecialForm, typing._Final, object)"
      ]
     },
     "execution_count": 11,
     "metadata": {},
     "output_type": "execute_result"
    }
   ],
   "source": [
    "type(origin_union).__mro__"
   ]
  },
  {
   "cell_type": "code",
   "execution_count": 12,
   "metadata": {
    "execution": {
     "iopub.execute_input": "2023-02-20T01:35:09.349247Z",
     "iopub.status.busy": "2023-02-20T01:35:09.349063Z",
     "iopub.status.idle": "2023-02-20T01:35:09.352095Z",
     "shell.execute_reply": "2023-02-20T01:35:09.351655Z"
    }
   },
   "outputs": [
    {
     "data": {
      "text/plain": [
       "'Union'"
      ]
     },
     "execution_count": 12,
     "metadata": {},
     "output_type": "execute_result"
    }
   ],
   "source": [
    "origin_union._name"
   ]
  },
  {
   "cell_type": "code",
   "execution_count": 13,
   "metadata": {
    "execution": {
     "iopub.execute_input": "2023-02-20T01:35:09.354044Z",
     "iopub.status.busy": "2023-02-20T01:35:09.353856Z",
     "iopub.status.idle": "2023-02-20T01:35:09.356996Z",
     "shell.execute_reply": "2023-02-20T01:35:09.356553Z"
    }
   },
   "outputs": [
    {
     "data": {
      "text/plain": [
       "'Union'"
      ]
     },
     "execution_count": 13,
     "metadata": {},
     "output_type": "execute_result"
    }
   ],
   "source": [
    "origin_union.__name__"
   ]
  },
  {
   "cell_type": "code",
   "execution_count": 14,
   "metadata": {
    "execution": {
     "iopub.execute_input": "2023-02-20T01:35:09.358944Z",
     "iopub.status.busy": "2023-02-20T01:35:09.358761Z",
     "iopub.status.idle": "2023-02-20T01:35:09.362102Z",
     "shell.execute_reply": "2023-02-20T01:35:09.361653Z"
    }
   },
   "outputs": [
    {
     "data": {
      "text/plain": [
       "'Union'"
      ]
     },
     "execution_count": 14,
     "metadata": {},
     "output_type": "execute_result"
    }
   ],
   "source": [
    "origin_union.__qualname__"
   ]
  },
  {
   "cell_type": "markdown",
   "metadata": {},
   "source": [
    "### | (bitwise or) operator"
   ]
  },
  {
   "cell_type": "code",
   "execution_count": 15,
   "metadata": {
    "execution": {
     "iopub.execute_input": "2023-02-20T01:35:09.364318Z",
     "iopub.status.busy": "2023-02-20T01:35:09.364000Z",
     "iopub.status.idle": "2023-02-20T01:35:09.367342Z",
     "shell.execute_reply": "2023-02-20T01:35:09.366901Z"
    },
    "tags": []
   },
   "outputs": [
    {
     "data": {
      "text/plain": [
       "'int | str'"
      ]
     },
     "execution_count": 15,
     "metadata": {},
     "output_type": "execute_result"
    }
   ],
   "source": [
    "tp_or = int | str\n",
    "repr(tp_or)"
   ]
  },
  {
   "cell_type": "code",
   "execution_count": 16,
   "metadata": {
    "execution": {
     "iopub.execute_input": "2023-02-20T01:35:09.369501Z",
     "iopub.status.busy": "2023-02-20T01:35:09.369186Z",
     "iopub.status.idle": "2023-02-20T01:35:09.372648Z",
     "shell.execute_reply": "2023-02-20T01:35:09.372225Z"
    },
    "tags": []
   },
   "outputs": [
    {
     "data": {
      "text/plain": [
       "types.UnionType"
      ]
     },
     "execution_count": 16,
     "metadata": {},
     "output_type": "execute_result"
    }
   ],
   "source": [
    "type(tp_or)"
   ]
  },
  {
   "cell_type": "code",
   "execution_count": 17,
   "metadata": {
    "execution": {
     "iopub.execute_input": "2023-02-20T01:35:09.374608Z",
     "iopub.status.busy": "2023-02-20T01:35:09.374425Z",
     "iopub.status.idle": "2023-02-20T01:35:09.377766Z",
     "shell.execute_reply": "2023-02-20T01:35:09.377296Z"
    },
    "tags": []
   },
   "outputs": [
    {
     "data": {
      "text/plain": [
       "(types.UnionType, object)"
      ]
     },
     "execution_count": 17,
     "metadata": {},
     "output_type": "execute_result"
    }
   ],
   "source": [
    "type(tp_or).__mro__"
   ]
  },
  {
   "cell_type": "code",
   "execution_count": 18,
   "metadata": {
    "execution": {
     "iopub.execute_input": "2023-02-20T01:35:09.379726Z",
     "iopub.status.busy": "2023-02-20T01:35:09.379539Z",
     "iopub.status.idle": "2023-02-20T01:35:09.382596Z",
     "shell.execute_reply": "2023-02-20T01:35:09.382176Z"
    },
    "tags": []
   },
   "outputs": [
    {
     "data": {
      "text/plain": [
       "types.UnionType"
      ]
     },
     "execution_count": 18,
     "metadata": {},
     "output_type": "execute_result"
    }
   ],
   "source": [
    "origin_or = get_origin(tp_or)\n",
    "origin_or"
   ]
  },
  {
   "cell_type": "code",
   "execution_count": 19,
   "metadata": {
    "execution": {
     "iopub.execute_input": "2023-02-20T01:35:09.384552Z",
     "iopub.status.busy": "2023-02-20T01:35:09.384324Z",
     "iopub.status.idle": "2023-02-20T01:35:09.387803Z",
     "shell.execute_reply": "2023-02-20T01:35:09.387364Z"
    },
    "tags": []
   },
   "outputs": [
    {
     "data": {
      "text/plain": [
       "type"
      ]
     },
     "execution_count": 19,
     "metadata": {},
     "output_type": "execute_result"
    }
   ],
   "source": [
    "type(origin_or)"
   ]
  },
  {
   "cell_type": "code",
   "execution_count": 20,
   "metadata": {
    "execution": {
     "iopub.execute_input": "2023-02-20T01:35:09.389699Z",
     "iopub.status.busy": "2023-02-20T01:35:09.389515Z",
     "iopub.status.idle": "2023-02-20T01:35:09.392590Z",
     "shell.execute_reply": "2023-02-20T01:35:09.392156Z"
    },
    "tags": []
   },
   "outputs": [
    {
     "data": {
      "text/plain": [
       "(type, object)"
      ]
     },
     "execution_count": 20,
     "metadata": {},
     "output_type": "execute_result"
    }
   ],
   "source": [
    "type(origin_or).__mro__"
   ]
  },
  {
   "cell_type": "code",
   "execution_count": 21,
   "metadata": {
    "execution": {
     "iopub.execute_input": "2023-02-20T01:35:09.394563Z",
     "iopub.status.busy": "2023-02-20T01:35:09.394375Z",
     "iopub.status.idle": "2023-02-20T01:35:09.524559Z",
     "shell.execute_reply": "2023-02-20T01:35:09.523896Z"
    },
    "tags": []
   },
   "outputs": [
    {
     "ename": "AttributeError",
     "evalue": "type object 'types.UnionType' has no attribute '_name'",
     "output_type": "error",
     "traceback": [
      "\u001b[0;31m---------------------------------------------------------------------------\u001b[0m",
      "\u001b[0;31mAttributeError\u001b[0m                            Traceback (most recent call last)",
      "Cell \u001b[0;32mIn[21], line 1\u001b[0m\n\u001b[0;32m----> 1\u001b[0m \u001b[43morigin_or\u001b[49m\u001b[38;5;241;43m.\u001b[39;49m\u001b[43m_name\u001b[49m\n",
      "\u001b[0;31mAttributeError\u001b[0m: type object 'types.UnionType' has no attribute '_name'"
     ]
    }
   ],
   "source": [
    "origin_or._name"
   ]
  },
  {
   "cell_type": "code",
   "execution_count": 22,
   "metadata": {
    "execution": {
     "iopub.execute_input": "2023-02-20T01:35:09.526840Z",
     "iopub.status.busy": "2023-02-20T01:35:09.526641Z",
     "iopub.status.idle": "2023-02-20T01:35:09.530073Z",
     "shell.execute_reply": "2023-02-20T01:35:09.529582Z"
    },
    "tags": []
   },
   "outputs": [
    {
     "data": {
      "text/plain": [
       "'UnionType'"
      ]
     },
     "execution_count": 22,
     "metadata": {},
     "output_type": "execute_result"
    }
   ],
   "source": [
    "origin_or.__name__"
   ]
  },
  {
   "cell_type": "code",
   "execution_count": 23,
   "metadata": {
    "execution": {
     "iopub.execute_input": "2023-02-20T01:35:09.532014Z",
     "iopub.status.busy": "2023-02-20T01:35:09.531839Z",
     "iopub.status.idle": "2023-02-20T01:35:09.535042Z",
     "shell.execute_reply": "2023-02-20T01:35:09.534605Z"
    }
   },
   "outputs": [
    {
     "data": {
      "text/plain": [
       "'UnionType'"
      ]
     },
     "execution_count": 23,
     "metadata": {},
     "output_type": "execute_result"
    }
   ],
   "source": [
    "origin_or.__qualname__"
   ]
  },
  {
   "cell_type": "markdown",
   "metadata": {},
   "source": [
    "## Optional"
   ]
  },
  {
   "cell_type": "markdown",
   "metadata": {},
   "source": [
    "### typing.Optional (Generic Alias)"
   ]
  },
  {
   "cell_type": "code",
   "execution_count": 24,
   "metadata": {
    "execution": {
     "iopub.execute_input": "2023-02-20T01:35:09.537047Z",
     "iopub.status.busy": "2023-02-20T01:35:09.536859Z",
     "iopub.status.idle": "2023-02-20T01:35:09.540035Z",
     "shell.execute_reply": "2023-02-20T01:35:09.539603Z"
    }
   },
   "outputs": [
    {
     "data": {
      "text/plain": [
       "'typing.Optional[int]'"
      ]
     },
     "execution_count": 24,
     "metadata": {},
     "output_type": "execute_result"
    }
   ],
   "source": [
    "tp_optional = typing.Optional[int]\n",
    "repr(tp_optional)"
   ]
  },
  {
   "cell_type": "code",
   "execution_count": 25,
   "metadata": {
    "execution": {
     "iopub.execute_input": "2023-02-20T01:35:09.542288Z",
     "iopub.status.busy": "2023-02-20T01:35:09.541938Z",
     "iopub.status.idle": "2023-02-20T01:35:09.545356Z",
     "shell.execute_reply": "2023-02-20T01:35:09.544913Z"
    }
   },
   "outputs": [
    {
     "data": {
      "text/plain": [
       "typing._UnionGenericAlias"
      ]
     },
     "execution_count": 25,
     "metadata": {},
     "output_type": "execute_result"
    }
   ],
   "source": [
    "type(tp_optional)"
   ]
  },
  {
   "cell_type": "code",
   "execution_count": 26,
   "metadata": {
    "execution": {
     "iopub.execute_input": "2023-02-20T01:35:09.547290Z",
     "iopub.status.busy": "2023-02-20T01:35:09.547110Z",
     "iopub.status.idle": "2023-02-20T01:35:09.550373Z",
     "shell.execute_reply": "2023-02-20T01:35:09.549954Z"
    }
   },
   "outputs": [
    {
     "data": {
      "text/plain": [
       "(typing._UnionGenericAlias,\n",
       " typing._GenericAlias,\n",
       " typing._BaseGenericAlias,\n",
       " typing._Final,\n",
       " object)"
      ]
     },
     "execution_count": 26,
     "metadata": {},
     "output_type": "execute_result"
    }
   ],
   "source": [
    "type(tp_optional).__mro__"
   ]
  },
  {
   "cell_type": "code",
   "execution_count": 27,
   "metadata": {
    "execution": {
     "iopub.execute_input": "2023-02-20T01:35:09.552306Z",
     "iopub.status.busy": "2023-02-20T01:35:09.552122Z",
     "iopub.status.idle": "2023-02-20T01:35:09.555470Z",
     "shell.execute_reply": "2023-02-20T01:35:09.554987Z"
    },
    "tags": []
   },
   "outputs": [
    {
     "data": {
      "text/plain": [
       "'Optional'"
      ]
     },
     "execution_count": 27,
     "metadata": {},
     "output_type": "execute_result"
    }
   ],
   "source": [
    "tp_optional._name"
   ]
  },
  {
   "cell_type": "code",
   "execution_count": 28,
   "metadata": {
    "execution": {
     "iopub.execute_input": "2023-02-20T01:35:09.557364Z",
     "iopub.status.busy": "2023-02-20T01:35:09.557184Z",
     "iopub.status.idle": "2023-02-20T01:35:09.560672Z",
     "shell.execute_reply": "2023-02-20T01:35:09.560221Z"
    },
    "tags": []
   },
   "outputs": [
    {
     "data": {
      "text/plain": [
       "'Optional'"
      ]
     },
     "execution_count": 28,
     "metadata": {},
     "output_type": "execute_result"
    }
   ],
   "source": [
    "tp_optional.__name__"
   ]
  },
  {
   "cell_type": "code",
   "execution_count": 29,
   "metadata": {
    "execution": {
     "iopub.execute_input": "2023-02-20T01:35:09.562753Z",
     "iopub.status.busy": "2023-02-20T01:35:09.562571Z",
     "iopub.status.idle": "2023-02-20T01:35:09.565838Z",
     "shell.execute_reply": "2023-02-20T01:35:09.565401Z"
    }
   },
   "outputs": [
    {
     "data": {
      "text/plain": [
       "'Optional'"
      ]
     },
     "execution_count": 29,
     "metadata": {},
     "output_type": "execute_result"
    }
   ],
   "source": [
    "tp_optional.__qualname__"
   ]
  },
  {
   "cell_type": "code",
   "execution_count": 30,
   "metadata": {
    "execution": {
     "iopub.execute_input": "2023-02-20T01:35:09.567899Z",
     "iopub.status.busy": "2023-02-20T01:35:09.567677Z",
     "iopub.status.idle": "2023-02-20T01:35:09.570973Z",
     "shell.execute_reply": "2023-02-20T01:35:09.570533Z"
    }
   },
   "outputs": [
    {
     "data": {
      "text/plain": [
       "typing.Union"
      ]
     },
     "execution_count": 30,
     "metadata": {},
     "output_type": "execute_result"
    }
   ],
   "source": [
    "origin_optional = get_origin(tp_optional)\n",
    "origin_optional"
   ]
  },
  {
   "cell_type": "code",
   "execution_count": 31,
   "metadata": {
    "execution": {
     "iopub.execute_input": "2023-02-20T01:35:09.572849Z",
     "iopub.status.busy": "2023-02-20T01:35:09.572669Z",
     "iopub.status.idle": "2023-02-20T01:35:09.575676Z",
     "shell.execute_reply": "2023-02-20T01:35:09.575193Z"
    }
   },
   "outputs": [
    {
     "data": {
      "text/plain": [
       "typing._SpecialForm"
      ]
     },
     "execution_count": 31,
     "metadata": {},
     "output_type": "execute_result"
    }
   ],
   "source": [
    "type(origin_optional)"
   ]
  },
  {
   "cell_type": "code",
   "execution_count": 32,
   "metadata": {
    "execution": {
     "iopub.execute_input": "2023-02-20T01:35:09.577670Z",
     "iopub.status.busy": "2023-02-20T01:35:09.577486Z",
     "iopub.status.idle": "2023-02-20T01:35:09.580799Z",
     "shell.execute_reply": "2023-02-20T01:35:09.580360Z"
    }
   },
   "outputs": [
    {
     "data": {
      "text/plain": [
       "(typing._SpecialForm, typing._Final, object)"
      ]
     },
     "execution_count": 32,
     "metadata": {},
     "output_type": "execute_result"
    }
   ],
   "source": [
    "type(origin_optional).__mro__"
   ]
  },
  {
   "cell_type": "code",
   "execution_count": 33,
   "metadata": {
    "execution": {
     "iopub.execute_input": "2023-02-20T01:35:09.582664Z",
     "iopub.status.busy": "2023-02-20T01:35:09.582480Z",
     "iopub.status.idle": "2023-02-20T01:35:09.585782Z",
     "shell.execute_reply": "2023-02-20T01:35:09.585219Z"
    },
    "tags": []
   },
   "outputs": [
    {
     "data": {
      "text/plain": [
       "'Union'"
      ]
     },
     "execution_count": 33,
     "metadata": {},
     "output_type": "execute_result"
    }
   ],
   "source": [
    "origin_optional._name"
   ]
  },
  {
   "cell_type": "code",
   "execution_count": 34,
   "metadata": {
    "execution": {
     "iopub.execute_input": "2023-02-20T01:35:09.587702Z",
     "iopub.status.busy": "2023-02-20T01:35:09.587516Z",
     "iopub.status.idle": "2023-02-20T01:35:09.590739Z",
     "shell.execute_reply": "2023-02-20T01:35:09.590299Z"
    },
    "tags": []
   },
   "outputs": [
    {
     "data": {
      "text/plain": [
       "'Union'"
      ]
     },
     "execution_count": 34,
     "metadata": {},
     "output_type": "execute_result"
    }
   ],
   "source": [
    "origin_optional.__name__"
   ]
  },
  {
   "cell_type": "code",
   "execution_count": 35,
   "metadata": {
    "execution": {
     "iopub.execute_input": "2023-02-20T01:35:09.592780Z",
     "iopub.status.busy": "2023-02-20T01:35:09.592553Z",
     "iopub.status.idle": "2023-02-20T01:35:09.595777Z",
     "shell.execute_reply": "2023-02-20T01:35:09.595340Z"
    }
   },
   "outputs": [
    {
     "data": {
      "text/plain": [
       "'Union'"
      ]
     },
     "execution_count": 35,
     "metadata": {},
     "output_type": "execute_result"
    }
   ],
   "source": [
    "origin_optional.__qualname__"
   ]
  },
  {
   "cell_type": "markdown",
   "metadata": {},
   "source": [
    "### | (bitwise or) Operator"
   ]
  },
  {
   "cell_type": "code",
   "execution_count": 36,
   "metadata": {
    "execution": {
     "iopub.execute_input": "2023-02-20T01:35:09.597700Z",
     "iopub.status.busy": "2023-02-20T01:35:09.597515Z",
     "iopub.status.idle": "2023-02-20T01:35:09.600843Z",
     "shell.execute_reply": "2023-02-20T01:35:09.600403Z"
    },
    "tags": []
   },
   "outputs": [
    {
     "data": {
      "text/plain": [
       "'int | None'"
      ]
     },
     "execution_count": 36,
     "metadata": {},
     "output_type": "execute_result"
    }
   ],
   "source": [
    "tp_or_none = int | None\n",
    "repr(tp_or_none)"
   ]
  },
  {
   "cell_type": "code",
   "execution_count": 37,
   "metadata": {
    "execution": {
     "iopub.execute_input": "2023-02-20T01:35:09.602743Z",
     "iopub.status.busy": "2023-02-20T01:35:09.602562Z",
     "iopub.status.idle": "2023-02-20T01:35:09.605795Z",
     "shell.execute_reply": "2023-02-20T01:35:09.605337Z"
    },
    "tags": []
   },
   "outputs": [
    {
     "data": {
      "text/plain": [
       "types.UnionType"
      ]
     },
     "execution_count": 37,
     "metadata": {},
     "output_type": "execute_result"
    }
   ],
   "source": [
    "type(tp_or_none)"
   ]
  },
  {
   "cell_type": "code",
   "execution_count": 38,
   "metadata": {
    "execution": {
     "iopub.execute_input": "2023-02-20T01:35:09.607686Z",
     "iopub.status.busy": "2023-02-20T01:35:09.607497Z",
     "iopub.status.idle": "2023-02-20T01:35:09.610728Z",
     "shell.execute_reply": "2023-02-20T01:35:09.610288Z"
    },
    "tags": []
   },
   "outputs": [
    {
     "data": {
      "text/plain": [
       "(types.UnionType, object)"
      ]
     },
     "execution_count": 38,
     "metadata": {},
     "output_type": "execute_result"
    }
   ],
   "source": [
    "type(tp_or_none).__mro__"
   ]
  },
  {
   "cell_type": "code",
   "execution_count": 39,
   "metadata": {
    "execution": {
     "iopub.execute_input": "2023-02-20T01:35:09.612583Z",
     "iopub.status.busy": "2023-02-20T01:35:09.612399Z",
     "iopub.status.idle": "2023-02-20T01:35:09.623290Z",
     "shell.execute_reply": "2023-02-20T01:35:09.622799Z"
    },
    "tags": []
   },
   "outputs": [
    {
     "ename": "AttributeError",
     "evalue": "'types.UnionType' object has no attribute '_name'",
     "output_type": "error",
     "traceback": [
      "\u001b[0;31m---------------------------------------------------------------------------\u001b[0m",
      "\u001b[0;31mAttributeError\u001b[0m                            Traceback (most recent call last)",
      "Cell \u001b[0;32mIn[39], line 1\u001b[0m\n\u001b[0;32m----> 1\u001b[0m \u001b[43mtp_or_none\u001b[49m\u001b[38;5;241;43m.\u001b[39;49m\u001b[43m_name\u001b[49m\n",
      "\u001b[0;31mAttributeError\u001b[0m: 'types.UnionType' object has no attribute '_name'"
     ]
    }
   ],
   "source": [
    "tp_or_none._name"
   ]
  },
  {
   "cell_type": "code",
   "execution_count": 40,
   "metadata": {
    "execution": {
     "iopub.execute_input": "2023-02-20T01:35:09.625372Z",
     "iopub.status.busy": "2023-02-20T01:35:09.625165Z",
     "iopub.status.idle": "2023-02-20T01:35:09.635999Z",
     "shell.execute_reply": "2023-02-20T01:35:09.635538Z"
    }
   },
   "outputs": [
    {
     "ename": "AttributeError",
     "evalue": "'types.UnionType' object has no attribute '__name__'",
     "output_type": "error",
     "traceback": [
      "\u001b[0;31m---------------------------------------------------------------------------\u001b[0m",
      "\u001b[0;31mAttributeError\u001b[0m                            Traceback (most recent call last)",
      "Cell \u001b[0;32mIn[40], line 1\u001b[0m\n\u001b[0;32m----> 1\u001b[0m \u001b[43mtp_or_none\u001b[49m\u001b[38;5;241;43m.\u001b[39;49m\u001b[38;5;18;43m__name__\u001b[39;49m\n",
      "\u001b[0;31mAttributeError\u001b[0m: 'types.UnionType' object has no attribute '__name__'"
     ]
    }
   ],
   "source": [
    "tp_or_none.__name__"
   ]
  },
  {
   "cell_type": "code",
   "execution_count": 41,
   "metadata": {
    "execution": {
     "iopub.execute_input": "2023-02-20T01:35:09.638256Z",
     "iopub.status.busy": "2023-02-20T01:35:09.638050Z",
     "iopub.status.idle": "2023-02-20T01:35:09.648638Z",
     "shell.execute_reply": "2023-02-20T01:35:09.648152Z"
    },
    "tags": []
   },
   "outputs": [
    {
     "ename": "AttributeError",
     "evalue": "'types.UnionType' object has no attribute '__qualname__'",
     "output_type": "error",
     "traceback": [
      "\u001b[0;31m---------------------------------------------------------------------------\u001b[0m",
      "\u001b[0;31mAttributeError\u001b[0m                            Traceback (most recent call last)",
      "Cell \u001b[0;32mIn[41], line 1\u001b[0m\n\u001b[0;32m----> 1\u001b[0m \u001b[43mtp_or_none\u001b[49m\u001b[38;5;241;43m.\u001b[39;49m\u001b[38;5;18;43m__qualname__\u001b[39;49m\n",
      "\u001b[0;31mAttributeError\u001b[0m: 'types.UnionType' object has no attribute '__qualname__'"
     ]
    }
   ],
   "source": [
    "tp_or_none.__qualname__"
   ]
  },
  {
   "cell_type": "code",
   "execution_count": 42,
   "metadata": {
    "execution": {
     "iopub.execute_input": "2023-02-20T01:35:09.650718Z",
     "iopub.status.busy": "2023-02-20T01:35:09.650519Z",
     "iopub.status.idle": "2023-02-20T01:35:09.653903Z",
     "shell.execute_reply": "2023-02-20T01:35:09.653460Z"
    },
    "tags": []
   },
   "outputs": [
    {
     "data": {
      "text/plain": [
       "types.UnionType"
      ]
     },
     "execution_count": 42,
     "metadata": {},
     "output_type": "execute_result"
    }
   ],
   "source": [
    "origin_or_none = get_origin(tp_or_none)\n",
    "origin_or_none"
   ]
  },
  {
   "cell_type": "code",
   "execution_count": 43,
   "metadata": {
    "execution": {
     "iopub.execute_input": "2023-02-20T01:35:09.655896Z",
     "iopub.status.busy": "2023-02-20T01:35:09.655703Z",
     "iopub.status.idle": "2023-02-20T01:35:09.659019Z",
     "shell.execute_reply": "2023-02-20T01:35:09.658570Z"
    },
    "tags": []
   },
   "outputs": [
    {
     "data": {
      "text/plain": [
       "type"
      ]
     },
     "execution_count": 43,
     "metadata": {},
     "output_type": "execute_result"
    }
   ],
   "source": [
    "type(origin_or_none)"
   ]
  },
  {
   "cell_type": "code",
   "execution_count": 44,
   "metadata": {
    "execution": {
     "iopub.execute_input": "2023-02-20T01:35:09.661003Z",
     "iopub.status.busy": "2023-02-20T01:35:09.660824Z",
     "iopub.status.idle": "2023-02-20T01:35:09.664001Z",
     "shell.execute_reply": "2023-02-20T01:35:09.663571Z"
    },
    "tags": []
   },
   "outputs": [
    {
     "data": {
      "text/plain": [
       "(type, object)"
      ]
     },
     "execution_count": 44,
     "metadata": {},
     "output_type": "execute_result"
    }
   ],
   "source": [
    "type(origin_or_none).__mro__"
   ]
  },
  {
   "cell_type": "code",
   "execution_count": 45,
   "metadata": {
    "execution": {
     "iopub.execute_input": "2023-02-20T01:35:09.666056Z",
     "iopub.status.busy": "2023-02-20T01:35:09.665739Z",
     "iopub.status.idle": "2023-02-20T01:35:09.676424Z",
     "shell.execute_reply": "2023-02-20T01:35:09.675899Z"
    },
    "tags": []
   },
   "outputs": [
    {
     "ename": "AttributeError",
     "evalue": "type object 'types.UnionType' has no attribute '_name'",
     "output_type": "error",
     "traceback": [
      "\u001b[0;31m---------------------------------------------------------------------------\u001b[0m",
      "\u001b[0;31mAttributeError\u001b[0m                            Traceback (most recent call last)",
      "Cell \u001b[0;32mIn[45], line 1\u001b[0m\n\u001b[0;32m----> 1\u001b[0m \u001b[43morigin_or_none\u001b[49m\u001b[38;5;241;43m.\u001b[39;49m\u001b[43m_name\u001b[49m\n",
      "\u001b[0;31mAttributeError\u001b[0m: type object 'types.UnionType' has no attribute '_name'"
     ]
    }
   ],
   "source": [
    "origin_or_none._name"
   ]
  },
  {
   "cell_type": "code",
   "execution_count": 46,
   "metadata": {
    "execution": {
     "iopub.execute_input": "2023-02-20T01:35:09.678447Z",
     "iopub.status.busy": "2023-02-20T01:35:09.678248Z",
     "iopub.status.idle": "2023-02-20T01:35:09.681635Z",
     "shell.execute_reply": "2023-02-20T01:35:09.681109Z"
    },
    "tags": []
   },
   "outputs": [
    {
     "data": {
      "text/plain": [
       "'UnionType'"
      ]
     },
     "execution_count": 46,
     "metadata": {},
     "output_type": "execute_result"
    }
   ],
   "source": [
    "origin_or_none.__name__"
   ]
  },
  {
   "cell_type": "code",
   "execution_count": 47,
   "metadata": {
    "execution": {
     "iopub.execute_input": "2023-02-20T01:35:09.683570Z",
     "iopub.status.busy": "2023-02-20T01:35:09.683378Z",
     "iopub.status.idle": "2023-02-20T01:35:09.686884Z",
     "shell.execute_reply": "2023-02-20T01:35:09.686441Z"
    }
   },
   "outputs": [
    {
     "data": {
      "text/plain": [
       "'UnionType'"
      ]
     },
     "execution_count": 47,
     "metadata": {},
     "output_type": "execute_result"
    }
   ],
   "source": [
    "origin_or_none.__qualname__"
   ]
  },
  {
   "cell_type": "markdown",
   "metadata": {},
   "source": [
    "## Standard Collections"
   ]
  },
  {
   "cell_type": "markdown",
   "metadata": {},
   "source": [
    "### typing Module Aliases"
   ]
  },
  {
   "cell_type": "code",
   "execution_count": 48,
   "metadata": {
    "execution": {
     "iopub.execute_input": "2023-02-20T01:35:09.688970Z",
     "iopub.status.busy": "2023-02-20T01:35:09.688782Z",
     "iopub.status.idle": "2023-02-20T01:35:09.691993Z",
     "shell.execute_reply": "2023-02-20T01:35:09.691561Z"
    }
   },
   "outputs": [
    {
     "data": {
      "text/plain": [
       "'typing.List[int]'"
      ]
     },
     "execution_count": 48,
     "metadata": {},
     "output_type": "execute_result"
    }
   ],
   "source": [
    "tp_List = typing.List[int]\n",
    "repr(tp_List)"
   ]
  },
  {
   "cell_type": "code",
   "execution_count": 49,
   "metadata": {
    "execution": {
     "iopub.execute_input": "2023-02-20T01:35:09.693963Z",
     "iopub.status.busy": "2023-02-20T01:35:09.693769Z",
     "iopub.status.idle": "2023-02-20T01:35:09.696901Z",
     "shell.execute_reply": "2023-02-20T01:35:09.696483Z"
    }
   },
   "outputs": [
    {
     "data": {
      "text/plain": [
       "typing._GenericAlias"
      ]
     },
     "execution_count": 49,
     "metadata": {},
     "output_type": "execute_result"
    }
   ],
   "source": [
    "type(tp_List)"
   ]
  },
  {
   "cell_type": "code",
   "execution_count": 50,
   "metadata": {
    "execution": {
     "iopub.execute_input": "2023-02-20T01:35:09.698813Z",
     "iopub.status.busy": "2023-02-20T01:35:09.698621Z",
     "iopub.status.idle": "2023-02-20T01:35:09.702006Z",
     "shell.execute_reply": "2023-02-20T01:35:09.701558Z"
    }
   },
   "outputs": [
    {
     "data": {
      "text/plain": [
       "(typing._GenericAlias, typing._BaseGenericAlias, typing._Final, object)"
      ]
     },
     "execution_count": 50,
     "metadata": {},
     "output_type": "execute_result"
    }
   ],
   "source": [
    "type(tp_List).__mro__"
   ]
  },
  {
   "cell_type": "code",
   "execution_count": 51,
   "metadata": {
    "execution": {
     "iopub.execute_input": "2023-02-20T01:35:09.703988Z",
     "iopub.status.busy": "2023-02-20T01:35:09.703799Z",
     "iopub.status.idle": "2023-02-20T01:35:09.706868Z",
     "shell.execute_reply": "2023-02-20T01:35:09.706440Z"
    }
   },
   "outputs": [
    {
     "data": {
      "text/plain": [
       "'List'"
      ]
     },
     "execution_count": 51,
     "metadata": {},
     "output_type": "execute_result"
    }
   ],
   "source": [
    "tp_List._name"
   ]
  },
  {
   "cell_type": "code",
   "execution_count": 52,
   "metadata": {
    "execution": {
     "iopub.execute_input": "2023-02-20T01:35:09.708770Z",
     "iopub.status.busy": "2023-02-20T01:35:09.708589Z",
     "iopub.status.idle": "2023-02-20T01:35:09.711903Z",
     "shell.execute_reply": "2023-02-20T01:35:09.711469Z"
    },
    "tags": []
   },
   "outputs": [
    {
     "data": {
      "text/plain": [
       "'List'"
      ]
     },
     "execution_count": 52,
     "metadata": {},
     "output_type": "execute_result"
    }
   ],
   "source": [
    "tp_List.__name__"
   ]
  },
  {
   "cell_type": "code",
   "execution_count": 53,
   "metadata": {
    "execution": {
     "iopub.execute_input": "2023-02-20T01:35:09.713957Z",
     "iopub.status.busy": "2023-02-20T01:35:09.713641Z",
     "iopub.status.idle": "2023-02-20T01:35:09.716842Z",
     "shell.execute_reply": "2023-02-20T01:35:09.716406Z"
    }
   },
   "outputs": [
    {
     "data": {
      "text/plain": [
       "'List'"
      ]
     },
     "execution_count": 53,
     "metadata": {},
     "output_type": "execute_result"
    }
   ],
   "source": [
    "tp_List.__qualname__"
   ]
  },
  {
   "cell_type": "code",
   "execution_count": 54,
   "metadata": {
    "execution": {
     "iopub.execute_input": "2023-02-20T01:35:09.718781Z",
     "iopub.status.busy": "2023-02-20T01:35:09.718596Z",
     "iopub.status.idle": "2023-02-20T01:35:09.721721Z",
     "shell.execute_reply": "2023-02-20T01:35:09.721296Z"
    }
   },
   "outputs": [
    {
     "data": {
      "text/plain": [
       "list"
      ]
     },
     "execution_count": 54,
     "metadata": {},
     "output_type": "execute_result"
    }
   ],
   "source": [
    "origin_List = get_origin(tp_List)\n",
    "origin_List"
   ]
  },
  {
   "cell_type": "code",
   "execution_count": 55,
   "metadata": {
    "execution": {
     "iopub.execute_input": "2023-02-20T01:35:09.723597Z",
     "iopub.status.busy": "2023-02-20T01:35:09.723409Z",
     "iopub.status.idle": "2023-02-20T01:35:09.726596Z",
     "shell.execute_reply": "2023-02-20T01:35:09.726127Z"
    }
   },
   "outputs": [
    {
     "data": {
      "text/plain": [
       "type"
      ]
     },
     "execution_count": 55,
     "metadata": {},
     "output_type": "execute_result"
    }
   ],
   "source": [
    "type(origin_List)"
   ]
  },
  {
   "cell_type": "code",
   "execution_count": 56,
   "metadata": {
    "execution": {
     "iopub.execute_input": "2023-02-20T01:35:09.728575Z",
     "iopub.status.busy": "2023-02-20T01:35:09.728390Z",
     "iopub.status.idle": "2023-02-20T01:35:09.731603Z",
     "shell.execute_reply": "2023-02-20T01:35:09.731170Z"
    }
   },
   "outputs": [
    {
     "data": {
      "text/plain": [
       "tuple"
      ]
     },
     "execution_count": 56,
     "metadata": {},
     "output_type": "execute_result"
    }
   ],
   "source": [
    "type(origin_List.__mro__)"
   ]
  },
  {
   "cell_type": "code",
   "execution_count": 57,
   "metadata": {
    "execution": {
     "iopub.execute_input": "2023-02-20T01:35:09.733549Z",
     "iopub.status.busy": "2023-02-20T01:35:09.733367Z",
     "iopub.status.idle": "2023-02-20T01:35:09.744922Z",
     "shell.execute_reply": "2023-02-20T01:35:09.744462Z"
    },
    "tags": []
   },
   "outputs": [
    {
     "ename": "AttributeError",
     "evalue": "type object 'list' has no attribute '_name'",
     "output_type": "error",
     "traceback": [
      "\u001b[0;31m---------------------------------------------------------------------------\u001b[0m",
      "\u001b[0;31mAttributeError\u001b[0m                            Traceback (most recent call last)",
      "Cell \u001b[0;32mIn[57], line 1\u001b[0m\n\u001b[0;32m----> 1\u001b[0m \u001b[43morigin_List\u001b[49m\u001b[38;5;241;43m.\u001b[39;49m\u001b[43m_name\u001b[49m\n",
      "\u001b[0;31mAttributeError\u001b[0m: type object 'list' has no attribute '_name'"
     ]
    }
   ],
   "source": [
    "origin_List._name"
   ]
  },
  {
   "cell_type": "code",
   "execution_count": 58,
   "metadata": {
    "execution": {
     "iopub.execute_input": "2023-02-20T01:35:09.748076Z",
     "iopub.status.busy": "2023-02-20T01:35:09.747857Z",
     "iopub.status.idle": "2023-02-20T01:35:09.751238Z",
     "shell.execute_reply": "2023-02-20T01:35:09.750770Z"
    },
    "tags": []
   },
   "outputs": [
    {
     "data": {
      "text/plain": [
       "'list'"
      ]
     },
     "execution_count": 58,
     "metadata": {},
     "output_type": "execute_result"
    }
   ],
   "source": [
    "origin_List.__name__"
   ]
  },
  {
   "cell_type": "code",
   "execution_count": 59,
   "metadata": {
    "execution": {
     "iopub.execute_input": "2023-02-20T01:35:09.753247Z",
     "iopub.status.busy": "2023-02-20T01:35:09.753047Z",
     "iopub.status.idle": "2023-02-20T01:35:09.756381Z",
     "shell.execute_reply": "2023-02-20T01:35:09.755910Z"
    }
   },
   "outputs": [
    {
     "data": {
      "text/plain": [
       "'list'"
      ]
     },
     "execution_count": 59,
     "metadata": {},
     "output_type": "execute_result"
    }
   ],
   "source": [
    "origin_List.__qualname__"
   ]
  },
  {
   "cell_type": "markdown",
   "metadata": {},
   "source": [
    "### Standard Collection Aliases"
   ]
  },
  {
   "cell_type": "code",
   "execution_count": 60,
   "metadata": {
    "execution": {
     "iopub.execute_input": "2023-02-20T01:35:09.758607Z",
     "iopub.status.busy": "2023-02-20T01:35:09.758405Z",
     "iopub.status.idle": "2023-02-20T01:35:09.761764Z",
     "shell.execute_reply": "2023-02-20T01:35:09.761309Z"
    },
    "tags": []
   },
   "outputs": [
    {
     "data": {
      "text/plain": [
       "list[int]"
      ]
     },
     "execution_count": 60,
     "metadata": {},
     "output_type": "execute_result"
    }
   ],
   "source": [
    "tp_list = list[int]\n",
    "tp_list"
   ]
  },
  {
   "cell_type": "code",
   "execution_count": 61,
   "metadata": {
    "execution": {
     "iopub.execute_input": "2023-02-20T01:35:09.763744Z",
     "iopub.status.busy": "2023-02-20T01:35:09.763561Z",
     "iopub.status.idle": "2023-02-20T01:35:09.766944Z",
     "shell.execute_reply": "2023-02-20T01:35:09.766501Z"
    },
    "tags": []
   },
   "outputs": [
    {
     "data": {
      "text/plain": [
       "types.GenericAlias"
      ]
     },
     "execution_count": 61,
     "metadata": {},
     "output_type": "execute_result"
    }
   ],
   "source": [
    "type(tp_list)"
   ]
  },
  {
   "cell_type": "code",
   "execution_count": 62,
   "metadata": {
    "execution": {
     "iopub.execute_input": "2023-02-20T01:35:09.768864Z",
     "iopub.status.busy": "2023-02-20T01:35:09.768666Z",
     "iopub.status.idle": "2023-02-20T01:35:09.772257Z",
     "shell.execute_reply": "2023-02-20T01:35:09.771665Z"
    },
    "tags": []
   },
   "outputs": [
    {
     "data": {
      "text/plain": [
       "(types.GenericAlias, object)"
      ]
     },
     "execution_count": 62,
     "metadata": {},
     "output_type": "execute_result"
    }
   ],
   "source": [
    "type(tp_list).__mro__"
   ]
  },
  {
   "cell_type": "code",
   "execution_count": 63,
   "metadata": {
    "execution": {
     "iopub.execute_input": "2023-02-20T01:35:09.774457Z",
     "iopub.status.busy": "2023-02-20T01:35:09.774259Z",
     "iopub.status.idle": "2023-02-20T01:35:09.807544Z",
     "shell.execute_reply": "2023-02-20T01:35:09.806857Z"
    },
    "tags": []
   },
   "outputs": [
    {
     "ename": "AttributeError",
     "evalue": "type object 'list' has no attribute '_name'",
     "output_type": "error",
     "traceback": [
      "\u001b[0;31m---------------------------------------------------------------------------\u001b[0m",
      "\u001b[0;31mAttributeError\u001b[0m                            Traceback (most recent call last)",
      "Cell \u001b[0;32mIn[63], line 1\u001b[0m\n\u001b[0;32m----> 1\u001b[0m \u001b[43mtp_list\u001b[49m\u001b[38;5;241;43m.\u001b[39;49m\u001b[43m_name\u001b[49m\n",
      "\u001b[0;31mAttributeError\u001b[0m: type object 'list' has no attribute '_name'"
     ]
    }
   ],
   "source": [
    "tp_list._name"
   ]
  },
  {
   "cell_type": "code",
   "execution_count": 64,
   "metadata": {
    "execution": {
     "iopub.execute_input": "2023-02-20T01:35:09.810338Z",
     "iopub.status.busy": "2023-02-20T01:35:09.810048Z",
     "iopub.status.idle": "2023-02-20T01:35:09.814309Z",
     "shell.execute_reply": "2023-02-20T01:35:09.813681Z"
    },
    "tags": []
   },
   "outputs": [
    {
     "data": {
      "text/plain": [
       "'list'"
      ]
     },
     "execution_count": 64,
     "metadata": {},
     "output_type": "execute_result"
    }
   ],
   "source": [
    "tp_list.__name__"
   ]
  },
  {
   "cell_type": "code",
   "execution_count": 65,
   "metadata": {
    "execution": {
     "iopub.execute_input": "2023-02-20T01:35:09.816978Z",
     "iopub.status.busy": "2023-02-20T01:35:09.816721Z",
     "iopub.status.idle": "2023-02-20T01:35:09.820814Z",
     "shell.execute_reply": "2023-02-20T01:35:09.820142Z"
    }
   },
   "outputs": [
    {
     "data": {
      "text/plain": [
       "'list'"
      ]
     },
     "execution_count": 65,
     "metadata": {},
     "output_type": "execute_result"
    }
   ],
   "source": [
    "tp_list.__qualname__"
   ]
  },
  {
   "cell_type": "code",
   "execution_count": 66,
   "metadata": {
    "execution": {
     "iopub.execute_input": "2023-02-20T01:35:09.823405Z",
     "iopub.status.busy": "2023-02-20T01:35:09.823160Z",
     "iopub.status.idle": "2023-02-20T01:35:09.826897Z",
     "shell.execute_reply": "2023-02-20T01:35:09.826352Z"
    },
    "tags": []
   },
   "outputs": [
    {
     "data": {
      "text/plain": [
       "list"
      ]
     },
     "execution_count": 66,
     "metadata": {},
     "output_type": "execute_result"
    }
   ],
   "source": [
    "origin_list = get_origin(tp_list)\n",
    "origin_list"
   ]
  },
  {
   "cell_type": "code",
   "execution_count": 67,
   "metadata": {
    "execution": {
     "iopub.execute_input": "2023-02-20T01:35:09.829230Z",
     "iopub.status.busy": "2023-02-20T01:35:09.829002Z",
     "iopub.status.idle": "2023-02-20T01:35:09.832595Z",
     "shell.execute_reply": "2023-02-20T01:35:09.832059Z"
    },
    "tags": []
   },
   "outputs": [
    {
     "data": {
      "text/plain": [
       "type"
      ]
     },
     "execution_count": 67,
     "metadata": {},
     "output_type": "execute_result"
    }
   ],
   "source": [
    "type(origin_list)"
   ]
  },
  {
   "cell_type": "code",
   "execution_count": 68,
   "metadata": {
    "execution": {
     "iopub.execute_input": "2023-02-20T01:35:09.834882Z",
     "iopub.status.busy": "2023-02-20T01:35:09.834656Z",
     "iopub.status.idle": "2023-02-20T01:35:09.838244Z",
     "shell.execute_reply": "2023-02-20T01:35:09.837741Z"
    },
    "tags": []
   },
   "outputs": [
    {
     "data": {
      "text/plain": [
       "(type, object)"
      ]
     },
     "execution_count": 68,
     "metadata": {},
     "output_type": "execute_result"
    }
   ],
   "source": [
    "type(origin_list).__mro__"
   ]
  },
  {
   "cell_type": "code",
   "execution_count": 69,
   "metadata": {
    "execution": {
     "iopub.execute_input": "2023-02-20T01:35:09.840442Z",
     "iopub.status.busy": "2023-02-20T01:35:09.840224Z",
     "iopub.status.idle": "2023-02-20T01:35:09.852790Z",
     "shell.execute_reply": "2023-02-20T01:35:09.852206Z"
    },
    "tags": []
   },
   "outputs": [
    {
     "ename": "AttributeError",
     "evalue": "type object 'list' has no attribute '_name'",
     "output_type": "error",
     "traceback": [
      "\u001b[0;31m---------------------------------------------------------------------------\u001b[0m",
      "\u001b[0;31mAttributeError\u001b[0m                            Traceback (most recent call last)",
      "Cell \u001b[0;32mIn[69], line 1\u001b[0m\n\u001b[0;32m----> 1\u001b[0m \u001b[43morigin_list\u001b[49m\u001b[38;5;241;43m.\u001b[39;49m\u001b[43m_name\u001b[49m\n",
      "\u001b[0;31mAttributeError\u001b[0m: type object 'list' has no attribute '_name'"
     ]
    }
   ],
   "source": [
    "origin_list._name"
   ]
  },
  {
   "cell_type": "code",
   "execution_count": 70,
   "metadata": {
    "execution": {
     "iopub.execute_input": "2023-02-20T01:35:09.855239Z",
     "iopub.status.busy": "2023-02-20T01:35:09.855008Z",
     "iopub.status.idle": "2023-02-20T01:35:09.858553Z",
     "shell.execute_reply": "2023-02-20T01:35:09.858062Z"
    }
   },
   "outputs": [
    {
     "data": {
      "text/plain": [
       "'list'"
      ]
     },
     "execution_count": 70,
     "metadata": {},
     "output_type": "execute_result"
    }
   ],
   "source": [
    "origin_list.__name__"
   ]
  },
  {
   "cell_type": "code",
   "execution_count": 71,
   "metadata": {
    "execution": {
     "iopub.execute_input": "2023-02-20T01:35:09.860863Z",
     "iopub.status.busy": "2023-02-20T01:35:09.860643Z",
     "iopub.status.idle": "2023-02-20T01:35:09.864461Z",
     "shell.execute_reply": "2023-02-20T01:35:09.863855Z"
    },
    "tags": []
   },
   "outputs": [
    {
     "data": {
      "text/plain": [
       "'list'"
      ]
     },
     "execution_count": 71,
     "metadata": {},
     "output_type": "execute_result"
    }
   ],
   "source": [
    "origin_list.__qualname__"
   ]
  },
  {
   "attachments": {},
   "cell_type": "markdown",
   "metadata": {},
   "source": [
    "## Custom Class"
   ]
  },
  {
   "cell_type": "code",
   "execution_count": 72,
   "metadata": {
    "execution": {
     "iopub.execute_input": "2023-02-20T01:35:09.866778Z",
     "iopub.status.busy": "2023-02-20T01:35:09.866550Z",
     "iopub.status.idle": "2023-02-20T01:35:09.869540Z",
     "shell.execute_reply": "2023-02-20T01:35:09.868941Z"
    }
   },
   "outputs": [],
   "source": [
    "class MyClass: pass"
   ]
  },
  {
   "cell_type": "code",
   "execution_count": 73,
   "metadata": {
    "execution": {
     "iopub.execute_input": "2023-02-20T01:35:09.871708Z",
     "iopub.status.busy": "2023-02-20T01:35:09.871498Z",
     "iopub.status.idle": "2023-02-20T01:35:09.874775Z",
     "shell.execute_reply": "2023-02-20T01:35:09.874353Z"
    }
   },
   "outputs": [
    {
     "data": {
      "text/plain": [
       "type"
      ]
     },
     "execution_count": 73,
     "metadata": {},
     "output_type": "execute_result"
    }
   ],
   "source": [
    "type(MyClass)"
   ]
  },
  {
   "cell_type": "code",
   "execution_count": 74,
   "metadata": {
    "execution": {
     "iopub.execute_input": "2023-02-20T01:35:09.876721Z",
     "iopub.status.busy": "2023-02-20T01:35:09.876536Z",
     "iopub.status.idle": "2023-02-20T01:35:09.879865Z",
     "shell.execute_reply": "2023-02-20T01:35:09.879390Z"
    }
   },
   "outputs": [
    {
     "data": {
      "text/plain": [
       "(__main__.MyClass, object)"
      ]
     },
     "execution_count": 74,
     "metadata": {},
     "output_type": "execute_result"
    }
   ],
   "source": [
    "MyClass.__mro__"
   ]
  },
  {
   "cell_type": "code",
   "execution_count": 75,
   "metadata": {
    "execution": {
     "iopub.execute_input": "2023-02-20T01:35:09.881871Z",
     "iopub.status.busy": "2023-02-20T01:35:09.881685Z",
     "iopub.status.idle": "2023-02-20T01:35:09.884062Z",
     "shell.execute_reply": "2023-02-20T01:35:09.883631Z"
    }
   },
   "outputs": [],
   "source": [
    "get_origin(MyClass)"
   ]
  },
  {
   "cell_type": "code",
   "execution_count": 76,
   "metadata": {
    "execution": {
     "iopub.execute_input": "2023-02-20T01:35:09.886091Z",
     "iopub.status.busy": "2023-02-20T01:35:09.885903Z",
     "iopub.status.idle": "2023-02-20T01:35:09.889066Z",
     "shell.execute_reply": "2023-02-20T01:35:09.888638Z"
    }
   },
   "outputs": [
    {
     "data": {
      "text/plain": [
       "'MyClass'"
      ]
     },
     "execution_count": 76,
     "metadata": {},
     "output_type": "execute_result"
    }
   ],
   "source": [
    "MyClass.__name__"
   ]
  },
  {
   "cell_type": "code",
   "execution_count": 77,
   "metadata": {
    "execution": {
     "iopub.execute_input": "2023-02-20T01:35:09.890949Z",
     "iopub.status.busy": "2023-02-20T01:35:09.890774Z",
     "iopub.status.idle": "2023-02-20T01:35:09.893983Z",
     "shell.execute_reply": "2023-02-20T01:35:09.893553Z"
    }
   },
   "outputs": [
    {
     "data": {
      "text/plain": [
       "'MyClass'"
      ]
     },
     "execution_count": 77,
     "metadata": {},
     "output_type": "execute_result"
    }
   ],
   "source": [
    "MyClass.__qualname__"
   ]
  },
  {
   "attachments": {},
   "cell_type": "markdown",
   "metadata": {},
   "source": [
    "## Nested Class"
   ]
  },
  {
   "cell_type": "code",
   "execution_count": 78,
   "metadata": {
    "execution": {
     "iopub.execute_input": "2023-02-20T01:35:09.895966Z",
     "iopub.status.busy": "2023-02-20T01:35:09.895780Z",
     "iopub.status.idle": "2023-02-20T01:35:09.898311Z",
     "shell.execute_reply": "2023-02-20T01:35:09.897899Z"
    }
   },
   "outputs": [],
   "source": [
    "class OuterClass:\n",
    "    class InnerClass:\n",
    "        pass"
   ]
  },
  {
   "cell_type": "code",
   "execution_count": 79,
   "metadata": {
    "execution": {
     "iopub.execute_input": "2023-02-20T01:35:09.900208Z",
     "iopub.status.busy": "2023-02-20T01:35:09.900019Z",
     "iopub.status.idle": "2023-02-20T01:35:09.903198Z",
     "shell.execute_reply": "2023-02-20T01:35:09.902765Z"
    }
   },
   "outputs": [
    {
     "data": {
      "text/plain": [
       "'OuterClass'"
      ]
     },
     "execution_count": 79,
     "metadata": {},
     "output_type": "execute_result"
    }
   ],
   "source": [
    "OuterClass.__name__"
   ]
  },
  {
   "cell_type": "code",
   "execution_count": 80,
   "metadata": {
    "execution": {
     "iopub.execute_input": "2023-02-20T01:35:09.905121Z",
     "iopub.status.busy": "2023-02-20T01:35:09.904931Z",
     "iopub.status.idle": "2023-02-20T01:35:09.908102Z",
     "shell.execute_reply": "2023-02-20T01:35:09.907674Z"
    }
   },
   "outputs": [
    {
     "data": {
      "text/plain": [
       "'OuterClass'"
      ]
     },
     "execution_count": 80,
     "metadata": {},
     "output_type": "execute_result"
    }
   ],
   "source": [
    "OuterClass.__qualname__"
   ]
  },
  {
   "cell_type": "code",
   "execution_count": 81,
   "metadata": {
    "execution": {
     "iopub.execute_input": "2023-02-20T01:35:09.909994Z",
     "iopub.status.busy": "2023-02-20T01:35:09.909805Z",
     "iopub.status.idle": "2023-02-20T01:35:09.920636Z",
     "shell.execute_reply": "2023-02-20T01:35:09.920194Z"
    }
   },
   "outputs": [
    {
     "ename": "NameError",
     "evalue": "name 'InnerClass' is not defined",
     "output_type": "error",
     "traceback": [
      "\u001b[0;31m---------------------------------------------------------------------------\u001b[0m",
      "\u001b[0;31mNameError\u001b[0m                                 Traceback (most recent call last)",
      "Cell \u001b[0;32mIn[81], line 1\u001b[0m\n\u001b[0;32m----> 1\u001b[0m \u001b[43mInnerClass\u001b[49m\u001b[38;5;241m.\u001b[39m\u001b[38;5;18m__name__\u001b[39m\n",
      "\u001b[0;31mNameError\u001b[0m: name 'InnerClass' is not defined"
     ]
    }
   ],
   "source": [
    "InnerClass.__name__"
   ]
  },
  {
   "cell_type": "code",
   "execution_count": 82,
   "metadata": {
    "execution": {
     "iopub.execute_input": "2023-02-20T01:35:09.922562Z",
     "iopub.status.busy": "2023-02-20T01:35:09.922373Z",
     "iopub.status.idle": "2023-02-20T01:35:09.932905Z",
     "shell.execute_reply": "2023-02-20T01:35:09.932429Z"
    }
   },
   "outputs": [
    {
     "ename": "NameError",
     "evalue": "name 'InnerClass' is not defined",
     "output_type": "error",
     "traceback": [
      "\u001b[0;31m---------------------------------------------------------------------------\u001b[0m",
      "\u001b[0;31mNameError\u001b[0m                                 Traceback (most recent call last)",
      "Cell \u001b[0;32mIn[82], line 1\u001b[0m\n\u001b[0;32m----> 1\u001b[0m \u001b[43mInnerClass\u001b[49m\u001b[38;5;241m.\u001b[39m\u001b[38;5;18m__qualname__\u001b[39m\n",
      "\u001b[0;31mNameError\u001b[0m: name 'InnerClass' is not defined"
     ]
    }
   ],
   "source": [
    "InnerClass.__qualname__"
   ]
  },
  {
   "attachments": {},
   "cell_type": "markdown",
   "metadata": {},
   "source": [
    "## Custom Generic"
   ]
  },
  {
   "cell_type": "code",
   "execution_count": 83,
   "metadata": {
    "execution": {
     "iopub.execute_input": "2023-02-20T01:35:09.935091Z",
     "iopub.status.busy": "2023-02-20T01:35:09.934892Z",
     "iopub.status.idle": "2023-02-20T01:35:09.937824Z",
     "shell.execute_reply": "2023-02-20T01:35:09.937276Z"
    }
   },
   "outputs": [],
   "source": [
    "class MyGeneric(typing.Generic[typing.T]):\n",
    "    def __init__(self, x) -> None:\n",
    "        self.x = x"
   ]
  },
  {
   "cell_type": "code",
   "execution_count": 84,
   "metadata": {
    "execution": {
     "iopub.execute_input": "2023-02-20T01:35:09.939846Z",
     "iopub.status.busy": "2023-02-20T01:35:09.939651Z",
     "iopub.status.idle": "2023-02-20T01:35:09.943088Z",
     "shell.execute_reply": "2023-02-20T01:35:09.942604Z"
    }
   },
   "outputs": [
    {
     "data": {
      "text/plain": [
       "__main__.MyGeneric[str]"
      ]
     },
     "execution_count": 84,
     "metadata": {},
     "output_type": "execute_result"
    }
   ],
   "source": [
    "tp_custom_generic = MyGeneric[str]\n",
    "tp_custom_generic"
   ]
  },
  {
   "cell_type": "code",
   "execution_count": 85,
   "metadata": {
    "execution": {
     "iopub.execute_input": "2023-02-20T01:35:09.945162Z",
     "iopub.status.busy": "2023-02-20T01:35:09.944929Z",
     "iopub.status.idle": "2023-02-20T01:35:09.948279Z",
     "shell.execute_reply": "2023-02-20T01:35:09.947850Z"
    }
   },
   "outputs": [
    {
     "data": {
      "text/plain": [
       "typing._GenericAlias"
      ]
     },
     "execution_count": 85,
     "metadata": {},
     "output_type": "execute_result"
    }
   ],
   "source": [
    "type(tp_custom_generic)"
   ]
  },
  {
   "cell_type": "code",
   "execution_count": 86,
   "metadata": {
    "execution": {
     "iopub.execute_input": "2023-02-20T01:35:09.950222Z",
     "iopub.status.busy": "2023-02-20T01:35:09.950025Z",
     "iopub.status.idle": "2023-02-20T01:35:09.953287Z",
     "shell.execute_reply": "2023-02-20T01:35:09.952824Z"
    }
   },
   "outputs": [
    {
     "data": {
      "text/plain": [
       "'MyGeneric'"
      ]
     },
     "execution_count": 86,
     "metadata": {},
     "output_type": "execute_result"
    }
   ],
   "source": [
    "tp_custom_generic.__name__"
   ]
  },
  {
   "cell_type": "code",
   "execution_count": 87,
   "metadata": {
    "execution": {
     "iopub.execute_input": "2023-02-20T01:35:09.955198Z",
     "iopub.status.busy": "2023-02-20T01:35:09.955014Z",
     "iopub.status.idle": "2023-02-20T01:35:09.958245Z",
     "shell.execute_reply": "2023-02-20T01:35:09.957816Z"
    }
   },
   "outputs": [
    {
     "data": {
      "text/plain": [
       "'MyGeneric'"
      ]
     },
     "execution_count": 87,
     "metadata": {},
     "output_type": "execute_result"
    }
   ],
   "source": [
    "tp_custom_generic.__qualname__"
   ]
  },
  {
   "cell_type": "code",
   "execution_count": 88,
   "metadata": {
    "execution": {
     "iopub.execute_input": "2023-02-20T01:35:09.960265Z",
     "iopub.status.busy": "2023-02-20T01:35:09.960081Z",
     "iopub.status.idle": "2023-02-20T01:35:09.963349Z",
     "shell.execute_reply": "2023-02-20T01:35:09.962919Z"
    }
   },
   "outputs": [
    {
     "data": {
      "text/plain": [
       "__main__.MyGeneric"
      ]
     },
     "execution_count": 88,
     "metadata": {},
     "output_type": "execute_result"
    }
   ],
   "source": [
    "origin_custom_generic = get_origin(tp_custom_generic)\n",
    "origin_custom_generic"
   ]
  },
  {
   "cell_type": "code",
   "execution_count": 89,
   "metadata": {
    "execution": {
     "iopub.execute_input": "2023-02-20T01:35:09.965397Z",
     "iopub.status.busy": "2023-02-20T01:35:09.965211Z",
     "iopub.status.idle": "2023-02-20T01:35:09.968315Z",
     "shell.execute_reply": "2023-02-20T01:35:09.967881Z"
    }
   },
   "outputs": [
    {
     "data": {
      "text/plain": [
       "'MyGeneric'"
      ]
     },
     "execution_count": 89,
     "metadata": {},
     "output_type": "execute_result"
    }
   ],
   "source": [
    "origin_custom_generic.__name__"
   ]
  },
  {
   "cell_type": "code",
   "execution_count": 90,
   "metadata": {
    "execution": {
     "iopub.execute_input": "2023-02-20T01:35:09.970196Z",
     "iopub.status.busy": "2023-02-20T01:35:09.970004Z",
     "iopub.status.idle": "2023-02-20T01:35:09.973256Z",
     "shell.execute_reply": "2023-02-20T01:35:09.972807Z"
    }
   },
   "outputs": [
    {
     "data": {
      "text/plain": [
       "'MyGeneric'"
      ]
     },
     "execution_count": 90,
     "metadata": {},
     "output_type": "execute_result"
    }
   ],
   "source": [
    "origin_custom_generic.__qualname__"
   ]
  },
  {
   "attachments": {},
   "cell_type": "markdown",
   "metadata": {},
   "source": [
    "## typing.Any"
   ]
  },
  {
   "cell_type": "code",
   "execution_count": 91,
   "metadata": {
    "execution": {
     "iopub.execute_input": "2023-02-20T01:35:09.975322Z",
     "iopub.status.busy": "2023-02-20T01:35:09.975128Z",
     "iopub.status.idle": "2023-02-20T01:35:09.978346Z",
     "shell.execute_reply": "2023-02-20T01:35:09.977915Z"
    }
   },
   "outputs": [
    {
     "data": {
      "text/plain": [
       "'typing.Any'"
      ]
     },
     "execution_count": 91,
     "metadata": {},
     "output_type": "execute_result"
    }
   ],
   "source": [
    "tp_any = typing.Any\n",
    "repr(tp_any)"
   ]
  },
  {
   "cell_type": "code",
   "execution_count": 92,
   "metadata": {
    "execution": {
     "iopub.execute_input": "2023-02-20T01:35:09.980254Z",
     "iopub.status.busy": "2023-02-20T01:35:09.980072Z",
     "iopub.status.idle": "2023-02-20T01:35:09.983097Z",
     "shell.execute_reply": "2023-02-20T01:35:09.982618Z"
    }
   },
   "outputs": [
    {
     "data": {
      "text/plain": [
       "'Any'"
      ]
     },
     "execution_count": 92,
     "metadata": {},
     "output_type": "execute_result"
    }
   ],
   "source": [
    "tp_any.__name__"
   ]
  },
  {
   "cell_type": "code",
   "execution_count": 93,
   "metadata": {
    "execution": {
     "iopub.execute_input": "2023-02-20T01:35:09.985001Z",
     "iopub.status.busy": "2023-02-20T01:35:09.984814Z",
     "iopub.status.idle": "2023-02-20T01:35:09.987824Z",
     "shell.execute_reply": "2023-02-20T01:35:09.987398Z"
    }
   },
   "outputs": [
    {
     "data": {
      "text/plain": [
       "'Any'"
      ]
     },
     "execution_count": 93,
     "metadata": {},
     "output_type": "execute_result"
    }
   ],
   "source": [
    "tp_any.__qualname__"
   ]
  }
 ],
 "metadata": {
  "kernelspec": {
   "display_name": ".venv",
   "language": "python",
   "name": "python3"
  },
  "language_info": {
   "codemirror_mode": {
    "name": "ipython",
    "version": 3
   },
   "file_extension": ".py",
   "mimetype": "text/x-python",
   "name": "python",
   "nbconvert_exporter": "python",
   "pygments_lexer": "ipython3",
   "version": "3.10.10"
  },
  "vscode": {
   "interpreter": {
    "hash": "562b6b1d41146ba195661be6d6db461f2660efbf90f15e4bc583c307da246186"
   }
  }
 },
 "nbformat": 4,
 "nbformat_minor": 4
}
