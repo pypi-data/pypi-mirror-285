{
 "cells": [
  {
   "cell_type": "code",
   "execution_count": 1,
   "metadata": {
    "execution": {
     "iopub.execute_input": "2023-02-20T01:35:13.468764Z",
     "iopub.status.busy": "2023-02-20T01:35:13.468454Z",
     "iopub.status.idle": "2023-02-20T01:35:13.478359Z",
     "shell.execute_reply": "2023-02-20T01:35:13.477551Z"
    }
   },
   "outputs": [],
   "source": [
    "import sys\n",
    "import typing\n",
    "try: \n",
    "    from typing import get_origin\n",
    "except ImportError:\n",
    "    from typing_extensions import get_origin"
   ]
  },
  {
   "cell_type": "code",
   "execution_count": 2,
   "metadata": {
    "execution": {
     "iopub.execute_input": "2023-02-20T01:35:13.481325Z",
     "iopub.status.busy": "2023-02-20T01:35:13.481056Z",
     "iopub.status.idle": "2023-02-20T01:35:13.487366Z",
     "shell.execute_reply": "2023-02-20T01:35:13.486766Z"
    }
   },
   "outputs": [
    {
     "data": {
      "text/plain": [
       "'3.11.2 (main, Feb 16 2023, 03:15:23) [Clang 14.0.0 (clang-1400.0.29.202)]'"
      ]
     },
     "execution_count": 2,
     "metadata": {},
     "output_type": "execute_result"
    }
   ],
   "source": [
    "sys.version"
   ]
  },
  {
   "cell_type": "markdown",
   "metadata": {},
   "source": [
    "## Union"
   ]
  },
  {
   "cell_type": "markdown",
   "metadata": {},
   "source": [
    "### typing.Union (Generic Alias)"
   ]
  },
  {
   "cell_type": "code",
   "execution_count": 3,
   "metadata": {
    "execution": {
     "iopub.execute_input": "2023-02-20T01:35:13.524466Z",
     "iopub.status.busy": "2023-02-20T01:35:13.524206Z",
     "iopub.status.idle": "2023-02-20T01:35:13.528420Z",
     "shell.execute_reply": "2023-02-20T01:35:13.527904Z"
    }
   },
   "outputs": [
    {
     "data": {
      "text/plain": [
       "'typing.Union[int, str]'"
      ]
     },
     "execution_count": 3,
     "metadata": {},
     "output_type": "execute_result"
    }
   ],
   "source": [
    "tp_union = typing.Union[int, str]\n",
    "repr(tp_union)"
   ]
  },
  {
   "cell_type": "code",
   "execution_count": 4,
   "metadata": {
    "execution": {
     "iopub.execute_input": "2023-02-20T01:35:13.530643Z",
     "iopub.status.busy": "2023-02-20T01:35:13.530295Z",
     "iopub.status.idle": "2023-02-20T01:35:13.533658Z",
     "shell.execute_reply": "2023-02-20T01:35:13.533189Z"
    }
   },
   "outputs": [
    {
     "data": {
      "text/plain": [
       "typing._UnionGenericAlias"
      ]
     },
     "execution_count": 4,
     "metadata": {},
     "output_type": "execute_result"
    }
   ],
   "source": [
    "type(tp_union)"
   ]
  },
  {
   "cell_type": "code",
   "execution_count": 5,
   "metadata": {
    "execution": {
     "iopub.execute_input": "2023-02-20T01:35:13.535639Z",
     "iopub.status.busy": "2023-02-20T01:35:13.535451Z",
     "iopub.status.idle": "2023-02-20T01:35:13.538834Z",
     "shell.execute_reply": "2023-02-20T01:35:13.538376Z"
    }
   },
   "outputs": [
    {
     "data": {
      "text/plain": [
       "(typing._UnionGenericAlias,\n",
       " typing._NotIterable,\n",
       " typing._GenericAlias,\n",
       " typing._BaseGenericAlias,\n",
       " typing._Final,\n",
       " object)"
      ]
     },
     "execution_count": 5,
     "metadata": {},
     "output_type": "execute_result"
    }
   ],
   "source": [
    "type(tp_union).__mro__"
   ]
  },
  {
   "cell_type": "code",
   "execution_count": 6,
   "metadata": {
    "execution": {
     "iopub.execute_input": "2023-02-20T01:35:13.540945Z",
     "iopub.status.busy": "2023-02-20T01:35:13.540757Z",
     "iopub.status.idle": "2023-02-20T01:35:13.543195Z",
     "shell.execute_reply": "2023-02-20T01:35:13.542749Z"
    }
   },
   "outputs": [],
   "source": [
    "tp_union._name"
   ]
  },
  {
   "cell_type": "code",
   "execution_count": 7,
   "metadata": {
    "execution": {
     "iopub.execute_input": "2023-02-20T01:35:13.545091Z",
     "iopub.status.busy": "2023-02-20T01:35:13.544910Z",
     "iopub.status.idle": "2023-02-20T01:35:13.548071Z",
     "shell.execute_reply": "2023-02-20T01:35:13.547639Z"
    }
   },
   "outputs": [
    {
     "data": {
      "text/plain": [
       "'Union'"
      ]
     },
     "execution_count": 7,
     "metadata": {},
     "output_type": "execute_result"
    }
   ],
   "source": [
    "tp_union.__name__"
   ]
  },
  {
   "cell_type": "code",
   "execution_count": 8,
   "metadata": {
    "execution": {
     "iopub.execute_input": "2023-02-20T01:35:13.549907Z",
     "iopub.status.busy": "2023-02-20T01:35:13.549700Z",
     "iopub.status.idle": "2023-02-20T01:35:13.552740Z",
     "shell.execute_reply": "2023-02-20T01:35:13.552247Z"
    }
   },
   "outputs": [
    {
     "data": {
      "text/plain": [
       "'Union'"
      ]
     },
     "execution_count": 8,
     "metadata": {},
     "output_type": "execute_result"
    }
   ],
   "source": [
    "tp_union.__qualname__"
   ]
  },
  {
   "cell_type": "code",
   "execution_count": 9,
   "metadata": {
    "execution": {
     "iopub.execute_input": "2023-02-20T01:35:13.554438Z",
     "iopub.status.busy": "2023-02-20T01:35:13.554280Z",
     "iopub.status.idle": "2023-02-20T01:35:13.557427Z",
     "shell.execute_reply": "2023-02-20T01:35:13.557042Z"
    }
   },
   "outputs": [
    {
     "data": {
      "text/plain": [
       "typing.Union"
      ]
     },
     "execution_count": 9,
     "metadata": {},
     "output_type": "execute_result"
    }
   ],
   "source": [
    "origin_union = get_origin(tp_union)\n",
    "origin_union"
   ]
  },
  {
   "cell_type": "code",
   "execution_count": 10,
   "metadata": {
    "execution": {
     "iopub.execute_input": "2023-02-20T01:35:13.559065Z",
     "iopub.status.busy": "2023-02-20T01:35:13.558916Z",
     "iopub.status.idle": "2023-02-20T01:35:13.561927Z",
     "shell.execute_reply": "2023-02-20T01:35:13.561537Z"
    }
   },
   "outputs": [
    {
     "data": {
      "text/plain": [
       "typing._SpecialForm"
      ]
     },
     "execution_count": 10,
     "metadata": {},
     "output_type": "execute_result"
    }
   ],
   "source": [
    "type(origin_union)"
   ]
  },
  {
   "cell_type": "code",
   "execution_count": 11,
   "metadata": {
    "execution": {
     "iopub.execute_input": "2023-02-20T01:35:13.563659Z",
     "iopub.status.busy": "2023-02-20T01:35:13.563481Z",
     "iopub.status.idle": "2023-02-20T01:35:13.566448Z",
     "shell.execute_reply": "2023-02-20T01:35:13.566082Z"
    }
   },
   "outputs": [
    {
     "data": {
      "text/plain": [
       "(typing._SpecialForm, typing._Final, typing._NotIterable, object)"
      ]
     },
     "execution_count": 11,
     "metadata": {},
     "output_type": "execute_result"
    }
   ],
   "source": [
    "type(origin_union).__mro__"
   ]
  },
  {
   "cell_type": "code",
   "execution_count": 12,
   "metadata": {
    "execution": {
     "iopub.execute_input": "2023-02-20T01:35:13.568130Z",
     "iopub.status.busy": "2023-02-20T01:35:13.567976Z",
     "iopub.status.idle": "2023-02-20T01:35:13.570742Z",
     "shell.execute_reply": "2023-02-20T01:35:13.570300Z"
    }
   },
   "outputs": [
    {
     "data": {
      "text/plain": [
       "'Union'"
      ]
     },
     "execution_count": 12,
     "metadata": {},
     "output_type": "execute_result"
    }
   ],
   "source": [
    "origin_union._name"
   ]
  },
  {
   "cell_type": "code",
   "execution_count": 13,
   "metadata": {
    "execution": {
     "iopub.execute_input": "2023-02-20T01:35:13.572428Z",
     "iopub.status.busy": "2023-02-20T01:35:13.572275Z",
     "iopub.status.idle": "2023-02-20T01:35:13.575102Z",
     "shell.execute_reply": "2023-02-20T01:35:13.574722Z"
    }
   },
   "outputs": [
    {
     "data": {
      "text/plain": [
       "'Union'"
      ]
     },
     "execution_count": 13,
     "metadata": {},
     "output_type": "execute_result"
    }
   ],
   "source": [
    "origin_union.__name__"
   ]
  },
  {
   "cell_type": "code",
   "execution_count": 14,
   "metadata": {
    "execution": {
     "iopub.execute_input": "2023-02-20T01:35:13.576723Z",
     "iopub.status.busy": "2023-02-20T01:35:13.576574Z",
     "iopub.status.idle": "2023-02-20T01:35:13.579421Z",
     "shell.execute_reply": "2023-02-20T01:35:13.579034Z"
    }
   },
   "outputs": [
    {
     "data": {
      "text/plain": [
       "'Union'"
      ]
     },
     "execution_count": 14,
     "metadata": {},
     "output_type": "execute_result"
    }
   ],
   "source": [
    "origin_union.__qualname__"
   ]
  },
  {
   "cell_type": "markdown",
   "metadata": {},
   "source": [
    "### | (bitwise or) operator"
   ]
  },
  {
   "cell_type": "code",
   "execution_count": 15,
   "metadata": {
    "execution": {
     "iopub.execute_input": "2023-02-20T01:35:13.581140Z",
     "iopub.status.busy": "2023-02-20T01:35:13.580995Z",
     "iopub.status.idle": "2023-02-20T01:35:13.583921Z",
     "shell.execute_reply": "2023-02-20T01:35:13.583539Z"
    },
    "tags": []
   },
   "outputs": [
    {
     "data": {
      "text/plain": [
       "'int | str'"
      ]
     },
     "execution_count": 15,
     "metadata": {},
     "output_type": "execute_result"
    }
   ],
   "source": [
    "tp_or = int | str\n",
    "repr(tp_or)"
   ]
  },
  {
   "cell_type": "code",
   "execution_count": 16,
   "metadata": {
    "execution": {
     "iopub.execute_input": "2023-02-20T01:35:13.585800Z",
     "iopub.status.busy": "2023-02-20T01:35:13.585612Z",
     "iopub.status.idle": "2023-02-20T01:35:13.588594Z",
     "shell.execute_reply": "2023-02-20T01:35:13.588205Z"
    },
    "tags": []
   },
   "outputs": [
    {
     "data": {
      "text/plain": [
       "types.UnionType"
      ]
     },
     "execution_count": 16,
     "metadata": {},
     "output_type": "execute_result"
    }
   ],
   "source": [
    "type(tp_or)"
   ]
  },
  {
   "cell_type": "code",
   "execution_count": 17,
   "metadata": {
    "execution": {
     "iopub.execute_input": "2023-02-20T01:35:13.590387Z",
     "iopub.status.busy": "2023-02-20T01:35:13.590241Z",
     "iopub.status.idle": "2023-02-20T01:35:13.593114Z",
     "shell.execute_reply": "2023-02-20T01:35:13.592749Z"
    },
    "tags": []
   },
   "outputs": [
    {
     "data": {
      "text/plain": [
       "(types.UnionType, object)"
      ]
     },
     "execution_count": 17,
     "metadata": {},
     "output_type": "execute_result"
    }
   ],
   "source": [
    "type(tp_or).__mro__"
   ]
  },
  {
   "cell_type": "code",
   "execution_count": 18,
   "metadata": {
    "execution": {
     "iopub.execute_input": "2023-02-20T01:35:13.594961Z",
     "iopub.status.busy": "2023-02-20T01:35:13.594810Z",
     "iopub.status.idle": "2023-02-20T01:35:13.597837Z",
     "shell.execute_reply": "2023-02-20T01:35:13.597427Z"
    },
    "tags": []
   },
   "outputs": [
    {
     "data": {
      "text/plain": [
       "types.UnionType"
      ]
     },
     "execution_count": 18,
     "metadata": {},
     "output_type": "execute_result"
    }
   ],
   "source": [
    "origin_or = get_origin(tp_or)\n",
    "origin_or"
   ]
  },
  {
   "cell_type": "code",
   "execution_count": 19,
   "metadata": {
    "execution": {
     "iopub.execute_input": "2023-02-20T01:35:13.599493Z",
     "iopub.status.busy": "2023-02-20T01:35:13.599345Z",
     "iopub.status.idle": "2023-02-20T01:35:13.602325Z",
     "shell.execute_reply": "2023-02-20T01:35:13.601898Z"
    },
    "tags": []
   },
   "outputs": [
    {
     "data": {
      "text/plain": [
       "type"
      ]
     },
     "execution_count": 19,
     "metadata": {},
     "output_type": "execute_result"
    }
   ],
   "source": [
    "type(origin_or)"
   ]
  },
  {
   "cell_type": "code",
   "execution_count": 20,
   "metadata": {
    "execution": {
     "iopub.execute_input": "2023-02-20T01:35:13.603941Z",
     "iopub.status.busy": "2023-02-20T01:35:13.603795Z",
     "iopub.status.idle": "2023-02-20T01:35:13.606631Z",
     "shell.execute_reply": "2023-02-20T01:35:13.606239Z"
    },
    "tags": []
   },
   "outputs": [
    {
     "data": {
      "text/plain": [
       "(type, object)"
      ]
     },
     "execution_count": 20,
     "metadata": {},
     "output_type": "execute_result"
    }
   ],
   "source": [
    "type(origin_or).__mro__"
   ]
  },
  {
   "cell_type": "code",
   "execution_count": 21,
   "metadata": {
    "execution": {
     "iopub.execute_input": "2023-02-20T01:35:13.608263Z",
     "iopub.status.busy": "2023-02-20T01:35:13.608119Z",
     "iopub.status.idle": "2023-02-20T01:35:13.704834Z",
     "shell.execute_reply": "2023-02-20T01:35:13.703874Z"
    },
    "tags": []
   },
   "outputs": [
    {
     "ename": "AttributeError",
     "evalue": "type object 'types.UnionType' has no attribute '_name'",
     "output_type": "error",
     "traceback": [
      "\u001b[0;31m---------------------------------------------------------------------------\u001b[0m",
      "\u001b[0;31mAttributeError\u001b[0m                            Traceback (most recent call last)",
      "Cell \u001b[0;32mIn[21], line 1\u001b[0m\n\u001b[0;32m----> 1\u001b[0m \u001b[43morigin_or\u001b[49m\u001b[38;5;241;43m.\u001b[39;49m\u001b[43m_name\u001b[49m\n",
      "\u001b[0;31mAttributeError\u001b[0m: type object 'types.UnionType' has no attribute '_name'"
     ]
    }
   ],
   "source": [
    "origin_or._name"
   ]
  },
  {
   "cell_type": "code",
   "execution_count": 22,
   "metadata": {
    "execution": {
     "iopub.execute_input": "2023-02-20T01:35:13.706818Z",
     "iopub.status.busy": "2023-02-20T01:35:13.706644Z",
     "iopub.status.idle": "2023-02-20T01:35:13.709634Z",
     "shell.execute_reply": "2023-02-20T01:35:13.709199Z"
    },
    "tags": []
   },
   "outputs": [
    {
     "data": {
      "text/plain": [
       "'UnionType'"
      ]
     },
     "execution_count": 22,
     "metadata": {},
     "output_type": "execute_result"
    }
   ],
   "source": [
    "origin_or.__name__"
   ]
  },
  {
   "cell_type": "code",
   "execution_count": 23,
   "metadata": {
    "execution": {
     "iopub.execute_input": "2023-02-20T01:35:13.711587Z",
     "iopub.status.busy": "2023-02-20T01:35:13.711293Z",
     "iopub.status.idle": "2023-02-20T01:35:13.714493Z",
     "shell.execute_reply": "2023-02-20T01:35:13.714029Z"
    }
   },
   "outputs": [
    {
     "data": {
      "text/plain": [
       "'UnionType'"
      ]
     },
     "execution_count": 23,
     "metadata": {},
     "output_type": "execute_result"
    }
   ],
   "source": [
    "origin_or.__qualname__"
   ]
  },
  {
   "cell_type": "markdown",
   "metadata": {},
   "source": [
    "## Optional"
   ]
  },
  {
   "cell_type": "markdown",
   "metadata": {},
   "source": [
    "### typing.Optional (Generic Alias)"
   ]
  },
  {
   "cell_type": "code",
   "execution_count": 24,
   "metadata": {
    "execution": {
     "iopub.execute_input": "2023-02-20T01:35:13.716227Z",
     "iopub.status.busy": "2023-02-20T01:35:13.716071Z",
     "iopub.status.idle": "2023-02-20T01:35:13.719368Z",
     "shell.execute_reply": "2023-02-20T01:35:13.718957Z"
    }
   },
   "outputs": [
    {
     "data": {
      "text/plain": [
       "'typing.Optional[int]'"
      ]
     },
     "execution_count": 24,
     "metadata": {},
     "output_type": "execute_result"
    }
   ],
   "source": [
    "tp_optional = typing.Optional[int]\n",
    "repr(tp_optional)"
   ]
  },
  {
   "cell_type": "code",
   "execution_count": 25,
   "metadata": {
    "execution": {
     "iopub.execute_input": "2023-02-20T01:35:13.720998Z",
     "iopub.status.busy": "2023-02-20T01:35:13.720827Z",
     "iopub.status.idle": "2023-02-20T01:35:13.723871Z",
     "shell.execute_reply": "2023-02-20T01:35:13.723484Z"
    }
   },
   "outputs": [
    {
     "data": {
      "text/plain": [
       "typing._UnionGenericAlias"
      ]
     },
     "execution_count": 25,
     "metadata": {},
     "output_type": "execute_result"
    }
   ],
   "source": [
    "type(tp_optional)"
   ]
  },
  {
   "cell_type": "code",
   "execution_count": 26,
   "metadata": {
    "execution": {
     "iopub.execute_input": "2023-02-20T01:35:13.725537Z",
     "iopub.status.busy": "2023-02-20T01:35:13.725377Z",
     "iopub.status.idle": "2023-02-20T01:35:13.728339Z",
     "shell.execute_reply": "2023-02-20T01:35:13.727953Z"
    }
   },
   "outputs": [
    {
     "data": {
      "text/plain": [
       "(typing._UnionGenericAlias,\n",
       " typing._NotIterable,\n",
       " typing._GenericAlias,\n",
       " typing._BaseGenericAlias,\n",
       " typing._Final,\n",
       " object)"
      ]
     },
     "execution_count": 26,
     "metadata": {},
     "output_type": "execute_result"
    }
   ],
   "source": [
    "type(tp_optional).__mro__"
   ]
  },
  {
   "cell_type": "code",
   "execution_count": 27,
   "metadata": {
    "execution": {
     "iopub.execute_input": "2023-02-20T01:35:13.730064Z",
     "iopub.status.busy": "2023-02-20T01:35:13.729914Z",
     "iopub.status.idle": "2023-02-20T01:35:13.732921Z",
     "shell.execute_reply": "2023-02-20T01:35:13.732467Z"
    },
    "tags": []
   },
   "outputs": [
    {
     "data": {
      "text/plain": [
       "'Optional'"
      ]
     },
     "execution_count": 27,
     "metadata": {},
     "output_type": "execute_result"
    }
   ],
   "source": [
    "tp_optional._name"
   ]
  },
  {
   "cell_type": "code",
   "execution_count": 28,
   "metadata": {
    "execution": {
     "iopub.execute_input": "2023-02-20T01:35:13.734511Z",
     "iopub.status.busy": "2023-02-20T01:35:13.734360Z",
     "iopub.status.idle": "2023-02-20T01:35:13.737139Z",
     "shell.execute_reply": "2023-02-20T01:35:13.736744Z"
    },
    "tags": []
   },
   "outputs": [
    {
     "data": {
      "text/plain": [
       "'Optional'"
      ]
     },
     "execution_count": 28,
     "metadata": {},
     "output_type": "execute_result"
    }
   ],
   "source": [
    "tp_optional.__name__"
   ]
  },
  {
   "cell_type": "code",
   "execution_count": 29,
   "metadata": {
    "execution": {
     "iopub.execute_input": "2023-02-20T01:35:13.738811Z",
     "iopub.status.busy": "2023-02-20T01:35:13.738656Z",
     "iopub.status.idle": "2023-02-20T01:35:13.741407Z",
     "shell.execute_reply": "2023-02-20T01:35:13.741022Z"
    }
   },
   "outputs": [
    {
     "data": {
      "text/plain": [
       "'Optional'"
      ]
     },
     "execution_count": 29,
     "metadata": {},
     "output_type": "execute_result"
    }
   ],
   "source": [
    "tp_optional.__qualname__"
   ]
  },
  {
   "cell_type": "code",
   "execution_count": 30,
   "metadata": {
    "execution": {
     "iopub.execute_input": "2023-02-20T01:35:13.743005Z",
     "iopub.status.busy": "2023-02-20T01:35:13.742856Z",
     "iopub.status.idle": "2023-02-20T01:35:13.745742Z",
     "shell.execute_reply": "2023-02-20T01:35:13.745340Z"
    }
   },
   "outputs": [
    {
     "data": {
      "text/plain": [
       "typing.Union"
      ]
     },
     "execution_count": 30,
     "metadata": {},
     "output_type": "execute_result"
    }
   ],
   "source": [
    "origin_optional = get_origin(tp_optional)\n",
    "origin_optional"
   ]
  },
  {
   "cell_type": "code",
   "execution_count": 31,
   "metadata": {
    "execution": {
     "iopub.execute_input": "2023-02-20T01:35:13.747332Z",
     "iopub.status.busy": "2023-02-20T01:35:13.747186Z",
     "iopub.status.idle": "2023-02-20T01:35:13.750180Z",
     "shell.execute_reply": "2023-02-20T01:35:13.749790Z"
    }
   },
   "outputs": [
    {
     "data": {
      "text/plain": [
       "typing._SpecialForm"
      ]
     },
     "execution_count": 31,
     "metadata": {},
     "output_type": "execute_result"
    }
   ],
   "source": [
    "type(origin_optional)"
   ]
  },
  {
   "cell_type": "code",
   "execution_count": 32,
   "metadata": {
    "execution": {
     "iopub.execute_input": "2023-02-20T01:35:13.751827Z",
     "iopub.status.busy": "2023-02-20T01:35:13.751679Z",
     "iopub.status.idle": "2023-02-20T01:35:13.754885Z",
     "shell.execute_reply": "2023-02-20T01:35:13.754448Z"
    }
   },
   "outputs": [
    {
     "data": {
      "text/plain": [
       "(typing._SpecialForm, typing._Final, typing._NotIterable, object)"
      ]
     },
     "execution_count": 32,
     "metadata": {},
     "output_type": "execute_result"
    }
   ],
   "source": [
    "type(origin_optional).__mro__"
   ]
  },
  {
   "cell_type": "code",
   "execution_count": 33,
   "metadata": {
    "execution": {
     "iopub.execute_input": "2023-02-20T01:35:13.756573Z",
     "iopub.status.busy": "2023-02-20T01:35:13.756424Z",
     "iopub.status.idle": "2023-02-20T01:35:13.759270Z",
     "shell.execute_reply": "2023-02-20T01:35:13.758891Z"
    },
    "tags": []
   },
   "outputs": [
    {
     "data": {
      "text/plain": [
       "'Union'"
      ]
     },
     "execution_count": 33,
     "metadata": {},
     "output_type": "execute_result"
    }
   ],
   "source": [
    "origin_optional._name"
   ]
  },
  {
   "cell_type": "code",
   "execution_count": 34,
   "metadata": {
    "execution": {
     "iopub.execute_input": "2023-02-20T01:35:13.760938Z",
     "iopub.status.busy": "2023-02-20T01:35:13.760790Z",
     "iopub.status.idle": "2023-02-20T01:35:13.763664Z",
     "shell.execute_reply": "2023-02-20T01:35:13.763276Z"
    },
    "tags": []
   },
   "outputs": [
    {
     "data": {
      "text/plain": [
       "'Union'"
      ]
     },
     "execution_count": 34,
     "metadata": {},
     "output_type": "execute_result"
    }
   ],
   "source": [
    "origin_optional.__name__"
   ]
  },
  {
   "cell_type": "code",
   "execution_count": 35,
   "metadata": {
    "execution": {
     "iopub.execute_input": "2023-02-20T01:35:13.765321Z",
     "iopub.status.busy": "2023-02-20T01:35:13.765124Z",
     "iopub.status.idle": "2023-02-20T01:35:13.768187Z",
     "shell.execute_reply": "2023-02-20T01:35:13.767802Z"
    }
   },
   "outputs": [
    {
     "data": {
      "text/plain": [
       "'Union'"
      ]
     },
     "execution_count": 35,
     "metadata": {},
     "output_type": "execute_result"
    }
   ],
   "source": [
    "origin_optional.__qualname__"
   ]
  },
  {
   "cell_type": "markdown",
   "metadata": {},
   "source": [
    "### | (bitwise or) Operator"
   ]
  },
  {
   "cell_type": "code",
   "execution_count": 36,
   "metadata": {
    "execution": {
     "iopub.execute_input": "2023-02-20T01:35:13.770054Z",
     "iopub.status.busy": "2023-02-20T01:35:13.769867Z",
     "iopub.status.idle": "2023-02-20T01:35:13.773006Z",
     "shell.execute_reply": "2023-02-20T01:35:13.772502Z"
    },
    "tags": []
   },
   "outputs": [
    {
     "data": {
      "text/plain": [
       "'int | None'"
      ]
     },
     "execution_count": 36,
     "metadata": {},
     "output_type": "execute_result"
    }
   ],
   "source": [
    "tp_or_none = int | None\n",
    "repr(tp_or_none)"
   ]
  },
  {
   "cell_type": "code",
   "execution_count": 37,
   "metadata": {
    "execution": {
     "iopub.execute_input": "2023-02-20T01:35:13.775126Z",
     "iopub.status.busy": "2023-02-20T01:35:13.774937Z",
     "iopub.status.idle": "2023-02-20T01:35:13.778459Z",
     "shell.execute_reply": "2023-02-20T01:35:13.778015Z"
    },
    "tags": []
   },
   "outputs": [
    {
     "data": {
      "text/plain": [
       "types.UnionType"
      ]
     },
     "execution_count": 37,
     "metadata": {},
     "output_type": "execute_result"
    }
   ],
   "source": [
    "type(tp_or_none)"
   ]
  },
  {
   "cell_type": "code",
   "execution_count": 38,
   "metadata": {
    "execution": {
     "iopub.execute_input": "2023-02-20T01:35:13.780232Z",
     "iopub.status.busy": "2023-02-20T01:35:13.780028Z",
     "iopub.status.idle": "2023-02-20T01:35:13.783129Z",
     "shell.execute_reply": "2023-02-20T01:35:13.782743Z"
    },
    "tags": []
   },
   "outputs": [
    {
     "data": {
      "text/plain": [
       "(types.UnionType, object)"
      ]
     },
     "execution_count": 38,
     "metadata": {},
     "output_type": "execute_result"
    }
   ],
   "source": [
    "type(tp_or_none).__mro__"
   ]
  },
  {
   "cell_type": "code",
   "execution_count": 39,
   "metadata": {
    "execution": {
     "iopub.execute_input": "2023-02-20T01:35:13.784857Z",
     "iopub.status.busy": "2023-02-20T01:35:13.784690Z",
     "iopub.status.idle": "2023-02-20T01:35:13.794005Z",
     "shell.execute_reply": "2023-02-20T01:35:13.793449Z"
    },
    "tags": []
   },
   "outputs": [
    {
     "ename": "AttributeError",
     "evalue": "'types.UnionType' object has no attribute '_name'",
     "output_type": "error",
     "traceback": [
      "\u001b[0;31m---------------------------------------------------------------------------\u001b[0m",
      "\u001b[0;31mAttributeError\u001b[0m                            Traceback (most recent call last)",
      "Cell \u001b[0;32mIn[39], line 1\u001b[0m\n\u001b[0;32m----> 1\u001b[0m \u001b[43mtp_or_none\u001b[49m\u001b[38;5;241;43m.\u001b[39;49m\u001b[43m_name\u001b[49m\n",
      "\u001b[0;31mAttributeError\u001b[0m: 'types.UnionType' object has no attribute '_name'"
     ]
    }
   ],
   "source": [
    "tp_or_none._name"
   ]
  },
  {
   "cell_type": "code",
   "execution_count": 40,
   "metadata": {
    "execution": {
     "iopub.execute_input": "2023-02-20T01:35:13.795827Z",
     "iopub.status.busy": "2023-02-20T01:35:13.795680Z",
     "iopub.status.idle": "2023-02-20T01:35:13.804250Z",
     "shell.execute_reply": "2023-02-20T01:35:13.803810Z"
    }
   },
   "outputs": [
    {
     "ename": "AttributeError",
     "evalue": "'types.UnionType' object has no attribute '__name__'",
     "output_type": "error",
     "traceback": [
      "\u001b[0;31m---------------------------------------------------------------------------\u001b[0m",
      "\u001b[0;31mAttributeError\u001b[0m                            Traceback (most recent call last)",
      "Cell \u001b[0;32mIn[40], line 1\u001b[0m\n\u001b[0;32m----> 1\u001b[0m \u001b[43mtp_or_none\u001b[49m\u001b[38;5;241;43m.\u001b[39;49m\u001b[38;5;18;43m__name__\u001b[39;49m\n",
      "\u001b[0;31mAttributeError\u001b[0m: 'types.UnionType' object has no attribute '__name__'"
     ]
    }
   ],
   "source": [
    "tp_or_none.__name__"
   ]
  },
  {
   "cell_type": "code",
   "execution_count": 41,
   "metadata": {
    "execution": {
     "iopub.execute_input": "2023-02-20T01:35:13.806434Z",
     "iopub.status.busy": "2023-02-20T01:35:13.806121Z",
     "iopub.status.idle": "2023-02-20T01:35:13.815110Z",
     "shell.execute_reply": "2023-02-20T01:35:13.814642Z"
    },
    "tags": []
   },
   "outputs": [
    {
     "ename": "AttributeError",
     "evalue": "'types.UnionType' object has no attribute '__qualname__'",
     "output_type": "error",
     "traceback": [
      "\u001b[0;31m---------------------------------------------------------------------------\u001b[0m",
      "\u001b[0;31mAttributeError\u001b[0m                            Traceback (most recent call last)",
      "Cell \u001b[0;32mIn[41], line 1\u001b[0m\n\u001b[0;32m----> 1\u001b[0m \u001b[43mtp_or_none\u001b[49m\u001b[38;5;241;43m.\u001b[39;49m\u001b[38;5;18;43m__qualname__\u001b[39;49m\n",
      "\u001b[0;31mAttributeError\u001b[0m: 'types.UnionType' object has no attribute '__qualname__'"
     ]
    }
   ],
   "source": [
    "tp_or_none.__qualname__"
   ]
  },
  {
   "cell_type": "code",
   "execution_count": 42,
   "metadata": {
    "execution": {
     "iopub.execute_input": "2023-02-20T01:35:13.816923Z",
     "iopub.status.busy": "2023-02-20T01:35:13.816771Z",
     "iopub.status.idle": "2023-02-20T01:35:13.819753Z",
     "shell.execute_reply": "2023-02-20T01:35:13.819365Z"
    },
    "tags": []
   },
   "outputs": [
    {
     "data": {
      "text/plain": [
       "types.UnionType"
      ]
     },
     "execution_count": 42,
     "metadata": {},
     "output_type": "execute_result"
    }
   ],
   "source": [
    "origin_or_none = get_origin(tp_or_none)\n",
    "origin_or_none"
   ]
  },
  {
   "cell_type": "code",
   "execution_count": 43,
   "metadata": {
    "execution": {
     "iopub.execute_input": "2023-02-20T01:35:13.821432Z",
     "iopub.status.busy": "2023-02-20T01:35:13.821267Z",
     "iopub.status.idle": "2023-02-20T01:35:13.824318Z",
     "shell.execute_reply": "2023-02-20T01:35:13.823931Z"
    },
    "tags": []
   },
   "outputs": [
    {
     "data": {
      "text/plain": [
       "type"
      ]
     },
     "execution_count": 43,
     "metadata": {},
     "output_type": "execute_result"
    }
   ],
   "source": [
    "type(origin_or_none)"
   ]
  },
  {
   "cell_type": "code",
   "execution_count": 44,
   "metadata": {
    "execution": {
     "iopub.execute_input": "2023-02-20T01:35:13.825894Z",
     "iopub.status.busy": "2023-02-20T01:35:13.825741Z",
     "iopub.status.idle": "2023-02-20T01:35:13.828608Z",
     "shell.execute_reply": "2023-02-20T01:35:13.828231Z"
    },
    "tags": []
   },
   "outputs": [
    {
     "data": {
      "text/plain": [
       "(type, object)"
      ]
     },
     "execution_count": 44,
     "metadata": {},
     "output_type": "execute_result"
    }
   ],
   "source": [
    "type(origin_or_none).__mro__"
   ]
  },
  {
   "cell_type": "code",
   "execution_count": 45,
   "metadata": {
    "execution": {
     "iopub.execute_input": "2023-02-20T01:35:13.830186Z",
     "iopub.status.busy": "2023-02-20T01:35:13.830030Z",
     "iopub.status.idle": "2023-02-20T01:35:13.839287Z",
     "shell.execute_reply": "2023-02-20T01:35:13.838627Z"
    },
    "tags": []
   },
   "outputs": [
    {
     "ename": "AttributeError",
     "evalue": "type object 'types.UnionType' has no attribute '_name'",
     "output_type": "error",
     "traceback": [
      "\u001b[0;31m---------------------------------------------------------------------------\u001b[0m",
      "\u001b[0;31mAttributeError\u001b[0m                            Traceback (most recent call last)",
      "Cell \u001b[0;32mIn[45], line 1\u001b[0m\n\u001b[0;32m----> 1\u001b[0m \u001b[43morigin_or_none\u001b[49m\u001b[38;5;241;43m.\u001b[39;49m\u001b[43m_name\u001b[49m\n",
      "\u001b[0;31mAttributeError\u001b[0m: type object 'types.UnionType' has no attribute '_name'"
     ]
    }
   ],
   "source": [
    "origin_or_none._name"
   ]
  },
  {
   "cell_type": "code",
   "execution_count": 46,
   "metadata": {
    "execution": {
     "iopub.execute_input": "2023-02-20T01:35:13.841327Z",
     "iopub.status.busy": "2023-02-20T01:35:13.841161Z",
     "iopub.status.idle": "2023-02-20T01:35:13.844224Z",
     "shell.execute_reply": "2023-02-20T01:35:13.843820Z"
    },
    "tags": []
   },
   "outputs": [
    {
     "data": {
      "text/plain": [
       "'UnionType'"
      ]
     },
     "execution_count": 46,
     "metadata": {},
     "output_type": "execute_result"
    }
   ],
   "source": [
    "origin_or_none.__name__"
   ]
  },
  {
   "cell_type": "code",
   "execution_count": 47,
   "metadata": {
    "execution": {
     "iopub.execute_input": "2023-02-20T01:35:13.845901Z",
     "iopub.status.busy": "2023-02-20T01:35:13.845748Z",
     "iopub.status.idle": "2023-02-20T01:35:13.848622Z",
     "shell.execute_reply": "2023-02-20T01:35:13.848237Z"
    }
   },
   "outputs": [
    {
     "data": {
      "text/plain": [
       "'UnionType'"
      ]
     },
     "execution_count": 47,
     "metadata": {},
     "output_type": "execute_result"
    }
   ],
   "source": [
    "origin_or_none.__qualname__"
   ]
  },
  {
   "cell_type": "markdown",
   "metadata": {},
   "source": [
    "## Standard Collections"
   ]
  },
  {
   "cell_type": "markdown",
   "metadata": {},
   "source": [
    "### typing Module Aliases"
   ]
  },
  {
   "cell_type": "code",
   "execution_count": 48,
   "metadata": {
    "execution": {
     "iopub.execute_input": "2023-02-20T01:35:13.850456Z",
     "iopub.status.busy": "2023-02-20T01:35:13.850303Z",
     "iopub.status.idle": "2023-02-20T01:35:13.853459Z",
     "shell.execute_reply": "2023-02-20T01:35:13.853048Z"
    }
   },
   "outputs": [
    {
     "data": {
      "text/plain": [
       "'typing.List[int]'"
      ]
     },
     "execution_count": 48,
     "metadata": {},
     "output_type": "execute_result"
    }
   ],
   "source": [
    "tp_List = typing.List[int]\n",
    "repr(tp_List)"
   ]
  },
  {
   "cell_type": "code",
   "execution_count": 49,
   "metadata": {
    "execution": {
     "iopub.execute_input": "2023-02-20T01:35:13.855140Z",
     "iopub.status.busy": "2023-02-20T01:35:13.854987Z",
     "iopub.status.idle": "2023-02-20T01:35:13.857932Z",
     "shell.execute_reply": "2023-02-20T01:35:13.857546Z"
    }
   },
   "outputs": [
    {
     "data": {
      "text/plain": [
       "typing._GenericAlias"
      ]
     },
     "execution_count": 49,
     "metadata": {},
     "output_type": "execute_result"
    }
   ],
   "source": [
    "type(tp_List)"
   ]
  },
  {
   "cell_type": "code",
   "execution_count": 50,
   "metadata": {
    "execution": {
     "iopub.execute_input": "2023-02-20T01:35:13.859837Z",
     "iopub.status.busy": "2023-02-20T01:35:13.859682Z",
     "iopub.status.idle": "2023-02-20T01:35:13.862579Z",
     "shell.execute_reply": "2023-02-20T01:35:13.862202Z"
    }
   },
   "outputs": [
    {
     "data": {
      "text/plain": [
       "(typing._GenericAlias, typing._BaseGenericAlias, typing._Final, object)"
      ]
     },
     "execution_count": 50,
     "metadata": {},
     "output_type": "execute_result"
    }
   ],
   "source": [
    "type(tp_List).__mro__"
   ]
  },
  {
   "cell_type": "code",
   "execution_count": 51,
   "metadata": {
    "execution": {
     "iopub.execute_input": "2023-02-20T01:35:13.864209Z",
     "iopub.status.busy": "2023-02-20T01:35:13.864056Z",
     "iopub.status.idle": "2023-02-20T01:35:13.866931Z",
     "shell.execute_reply": "2023-02-20T01:35:13.866531Z"
    }
   },
   "outputs": [
    {
     "data": {
      "text/plain": [
       "'List'"
      ]
     },
     "execution_count": 51,
     "metadata": {},
     "output_type": "execute_result"
    }
   ],
   "source": [
    "tp_List._name"
   ]
  },
  {
   "cell_type": "code",
   "execution_count": 52,
   "metadata": {
    "execution": {
     "iopub.execute_input": "2023-02-20T01:35:13.868623Z",
     "iopub.status.busy": "2023-02-20T01:35:13.868471Z",
     "iopub.status.idle": "2023-02-20T01:35:13.871356Z",
     "shell.execute_reply": "2023-02-20T01:35:13.870978Z"
    },
    "tags": []
   },
   "outputs": [
    {
     "data": {
      "text/plain": [
       "'List'"
      ]
     },
     "execution_count": 52,
     "metadata": {},
     "output_type": "execute_result"
    }
   ],
   "source": [
    "tp_List.__name__"
   ]
  },
  {
   "cell_type": "code",
   "execution_count": 53,
   "metadata": {
    "execution": {
     "iopub.execute_input": "2023-02-20T01:35:13.873023Z",
     "iopub.status.busy": "2023-02-20T01:35:13.872870Z",
     "iopub.status.idle": "2023-02-20T01:35:13.875623Z",
     "shell.execute_reply": "2023-02-20T01:35:13.875253Z"
    }
   },
   "outputs": [
    {
     "data": {
      "text/plain": [
       "'List'"
      ]
     },
     "execution_count": 53,
     "metadata": {},
     "output_type": "execute_result"
    }
   ],
   "source": [
    "tp_List.__qualname__"
   ]
  },
  {
   "cell_type": "code",
   "execution_count": 54,
   "metadata": {
    "execution": {
     "iopub.execute_input": "2023-02-20T01:35:13.877244Z",
     "iopub.status.busy": "2023-02-20T01:35:13.877090Z",
     "iopub.status.idle": "2023-02-20T01:35:13.879929Z",
     "shell.execute_reply": "2023-02-20T01:35:13.879516Z"
    }
   },
   "outputs": [
    {
     "data": {
      "text/plain": [
       "list"
      ]
     },
     "execution_count": 54,
     "metadata": {},
     "output_type": "execute_result"
    }
   ],
   "source": [
    "origin_List = get_origin(tp_List)\n",
    "origin_List"
   ]
  },
  {
   "cell_type": "code",
   "execution_count": 55,
   "metadata": {
    "execution": {
     "iopub.execute_input": "2023-02-20T01:35:13.881515Z",
     "iopub.status.busy": "2023-02-20T01:35:13.881364Z",
     "iopub.status.idle": "2023-02-20T01:35:13.884250Z",
     "shell.execute_reply": "2023-02-20T01:35:13.883873Z"
    }
   },
   "outputs": [
    {
     "data": {
      "text/plain": [
       "type"
      ]
     },
     "execution_count": 55,
     "metadata": {},
     "output_type": "execute_result"
    }
   ],
   "source": [
    "type(origin_List)"
   ]
  },
  {
   "cell_type": "code",
   "execution_count": 56,
   "metadata": {
    "execution": {
     "iopub.execute_input": "2023-02-20T01:35:13.885948Z",
     "iopub.status.busy": "2023-02-20T01:35:13.885794Z",
     "iopub.status.idle": "2023-02-20T01:35:13.888731Z",
     "shell.execute_reply": "2023-02-20T01:35:13.888350Z"
    }
   },
   "outputs": [
    {
     "data": {
      "text/plain": [
       "tuple"
      ]
     },
     "execution_count": 56,
     "metadata": {},
     "output_type": "execute_result"
    }
   ],
   "source": [
    "type(origin_List.__mro__)"
   ]
  },
  {
   "cell_type": "code",
   "execution_count": 57,
   "metadata": {
    "execution": {
     "iopub.execute_input": "2023-02-20T01:35:13.890395Z",
     "iopub.status.busy": "2023-02-20T01:35:13.890245Z",
     "iopub.status.idle": "2023-02-20T01:35:13.898882Z",
     "shell.execute_reply": "2023-02-20T01:35:13.898451Z"
    },
    "tags": []
   },
   "outputs": [
    {
     "ename": "AttributeError",
     "evalue": "type object 'list' has no attribute '_name'",
     "output_type": "error",
     "traceback": [
      "\u001b[0;31m---------------------------------------------------------------------------\u001b[0m",
      "\u001b[0;31mAttributeError\u001b[0m                            Traceback (most recent call last)",
      "Cell \u001b[0;32mIn[57], line 1\u001b[0m\n\u001b[0;32m----> 1\u001b[0m \u001b[43morigin_List\u001b[49m\u001b[38;5;241;43m.\u001b[39;49m\u001b[43m_name\u001b[49m\n",
      "\u001b[0;31mAttributeError\u001b[0m: type object 'list' has no attribute '_name'"
     ]
    }
   ],
   "source": [
    "origin_List._name"
   ]
  },
  {
   "cell_type": "code",
   "execution_count": 58,
   "metadata": {
    "execution": {
     "iopub.execute_input": "2023-02-20T01:35:13.900697Z",
     "iopub.status.busy": "2023-02-20T01:35:13.900529Z",
     "iopub.status.idle": "2023-02-20T01:35:13.903586Z",
     "shell.execute_reply": "2023-02-20T01:35:13.903203Z"
    },
    "tags": []
   },
   "outputs": [
    {
     "data": {
      "text/plain": [
       "'list'"
      ]
     },
     "execution_count": 58,
     "metadata": {},
     "output_type": "execute_result"
    }
   ],
   "source": [
    "origin_List.__name__"
   ]
  },
  {
   "cell_type": "code",
   "execution_count": 59,
   "metadata": {
    "execution": {
     "iopub.execute_input": "2023-02-20T01:35:13.905184Z",
     "iopub.status.busy": "2023-02-20T01:35:13.905027Z",
     "iopub.status.idle": "2023-02-20T01:35:13.907884Z",
     "shell.execute_reply": "2023-02-20T01:35:13.907509Z"
    }
   },
   "outputs": [
    {
     "data": {
      "text/plain": [
       "'list'"
      ]
     },
     "execution_count": 59,
     "metadata": {},
     "output_type": "execute_result"
    }
   ],
   "source": [
    "origin_List.__qualname__"
   ]
  },
  {
   "cell_type": "markdown",
   "metadata": {},
   "source": [
    "### Standard Collection Aliases"
   ]
  },
  {
   "cell_type": "code",
   "execution_count": 60,
   "metadata": {
    "execution": {
     "iopub.execute_input": "2023-02-20T01:35:13.909531Z",
     "iopub.status.busy": "2023-02-20T01:35:13.909382Z",
     "iopub.status.idle": "2023-02-20T01:35:13.912263Z",
     "shell.execute_reply": "2023-02-20T01:35:13.911836Z"
    },
    "tags": []
   },
   "outputs": [
    {
     "data": {
      "text/plain": [
       "list[int]"
      ]
     },
     "execution_count": 60,
     "metadata": {},
     "output_type": "execute_result"
    }
   ],
   "source": [
    "tp_list = list[int]\n",
    "tp_list"
   ]
  },
  {
   "cell_type": "code",
   "execution_count": 61,
   "metadata": {
    "execution": {
     "iopub.execute_input": "2023-02-20T01:35:13.913907Z",
     "iopub.status.busy": "2023-02-20T01:35:13.913754Z",
     "iopub.status.idle": "2023-02-20T01:35:13.916545Z",
     "shell.execute_reply": "2023-02-20T01:35:13.916176Z"
    },
    "tags": []
   },
   "outputs": [
    {
     "data": {
      "text/plain": [
       "types.GenericAlias"
      ]
     },
     "execution_count": 61,
     "metadata": {},
     "output_type": "execute_result"
    }
   ],
   "source": [
    "type(tp_list)"
   ]
  },
  {
   "cell_type": "code",
   "execution_count": 62,
   "metadata": {
    "execution": {
     "iopub.execute_input": "2023-02-20T01:35:13.918121Z",
     "iopub.status.busy": "2023-02-20T01:35:13.917968Z",
     "iopub.status.idle": "2023-02-20T01:35:13.920849Z",
     "shell.execute_reply": "2023-02-20T01:35:13.920453Z"
    },
    "tags": []
   },
   "outputs": [
    {
     "data": {
      "text/plain": [
       "(types.GenericAlias, object)"
      ]
     },
     "execution_count": 62,
     "metadata": {},
     "output_type": "execute_result"
    }
   ],
   "source": [
    "type(tp_list).__mro__"
   ]
  },
  {
   "cell_type": "code",
   "execution_count": 63,
   "metadata": {
    "execution": {
     "iopub.execute_input": "2023-02-20T01:35:13.922423Z",
     "iopub.status.busy": "2023-02-20T01:35:13.922268Z",
     "iopub.status.idle": "2023-02-20T01:35:13.930796Z",
     "shell.execute_reply": "2023-02-20T01:35:13.930362Z"
    },
    "tags": []
   },
   "outputs": [
    {
     "ename": "AttributeError",
     "evalue": "type object 'list' has no attribute '_name'",
     "output_type": "error",
     "traceback": [
      "\u001b[0;31m---------------------------------------------------------------------------\u001b[0m",
      "\u001b[0;31mAttributeError\u001b[0m                            Traceback (most recent call last)",
      "Cell \u001b[0;32mIn[63], line 1\u001b[0m\n\u001b[0;32m----> 1\u001b[0m \u001b[43mtp_list\u001b[49m\u001b[38;5;241;43m.\u001b[39;49m\u001b[43m_name\u001b[49m\n",
      "\u001b[0;31mAttributeError\u001b[0m: type object 'list' has no attribute '_name'"
     ]
    }
   ],
   "source": [
    "tp_list._name"
   ]
  },
  {
   "cell_type": "code",
   "execution_count": 64,
   "metadata": {
    "execution": {
     "iopub.execute_input": "2023-02-20T01:35:13.932574Z",
     "iopub.status.busy": "2023-02-20T01:35:13.932418Z",
     "iopub.status.idle": "2023-02-20T01:35:13.935498Z",
     "shell.execute_reply": "2023-02-20T01:35:13.935074Z"
    },
    "tags": []
   },
   "outputs": [
    {
     "data": {
      "text/plain": [
       "'list'"
      ]
     },
     "execution_count": 64,
     "metadata": {},
     "output_type": "execute_result"
    }
   ],
   "source": [
    "tp_list.__name__"
   ]
  },
  {
   "cell_type": "code",
   "execution_count": 65,
   "metadata": {
    "execution": {
     "iopub.execute_input": "2023-02-20T01:35:13.937160Z",
     "iopub.status.busy": "2023-02-20T01:35:13.937001Z",
     "iopub.status.idle": "2023-02-20T01:35:13.939913Z",
     "shell.execute_reply": "2023-02-20T01:35:13.939465Z"
    }
   },
   "outputs": [
    {
     "data": {
      "text/plain": [
       "'list'"
      ]
     },
     "execution_count": 65,
     "metadata": {},
     "output_type": "execute_result"
    }
   ],
   "source": [
    "tp_list.__qualname__"
   ]
  },
  {
   "cell_type": "code",
   "execution_count": 66,
   "metadata": {
    "execution": {
     "iopub.execute_input": "2023-02-20T01:35:13.941505Z",
     "iopub.status.busy": "2023-02-20T01:35:13.941355Z",
     "iopub.status.idle": "2023-02-20T01:35:13.944166Z",
     "shell.execute_reply": "2023-02-20T01:35:13.943789Z"
    },
    "tags": []
   },
   "outputs": [
    {
     "data": {
      "text/plain": [
       "list"
      ]
     },
     "execution_count": 66,
     "metadata": {},
     "output_type": "execute_result"
    }
   ],
   "source": [
    "origin_list = get_origin(tp_list)\n",
    "origin_list"
   ]
  },
  {
   "cell_type": "code",
   "execution_count": 67,
   "metadata": {
    "execution": {
     "iopub.execute_input": "2023-02-20T01:35:13.945790Z",
     "iopub.status.busy": "2023-02-20T01:35:13.945636Z",
     "iopub.status.idle": "2023-02-20T01:35:13.948577Z",
     "shell.execute_reply": "2023-02-20T01:35:13.948193Z"
    },
    "tags": []
   },
   "outputs": [
    {
     "data": {
      "text/plain": [
       "type"
      ]
     },
     "execution_count": 67,
     "metadata": {},
     "output_type": "execute_result"
    }
   ],
   "source": [
    "type(origin_list)"
   ]
  },
  {
   "cell_type": "code",
   "execution_count": 68,
   "metadata": {
    "execution": {
     "iopub.execute_input": "2023-02-20T01:35:13.950245Z",
     "iopub.status.busy": "2023-02-20T01:35:13.950090Z",
     "iopub.status.idle": "2023-02-20T01:35:13.952922Z",
     "shell.execute_reply": "2023-02-20T01:35:13.952545Z"
    },
    "tags": []
   },
   "outputs": [
    {
     "data": {
      "text/plain": [
       "(type, object)"
      ]
     },
     "execution_count": 68,
     "metadata": {},
     "output_type": "execute_result"
    }
   ],
   "source": [
    "type(origin_list).__mro__"
   ]
  },
  {
   "cell_type": "code",
   "execution_count": 69,
   "metadata": {
    "execution": {
     "iopub.execute_input": "2023-02-20T01:35:13.954537Z",
     "iopub.status.busy": "2023-02-20T01:35:13.954386Z",
     "iopub.status.idle": "2023-02-20T01:35:13.963020Z",
     "shell.execute_reply": "2023-02-20T01:35:13.962623Z"
    },
    "tags": []
   },
   "outputs": [
    {
     "ename": "AttributeError",
     "evalue": "type object 'list' has no attribute '_name'",
     "output_type": "error",
     "traceback": [
      "\u001b[0;31m---------------------------------------------------------------------------\u001b[0m",
      "\u001b[0;31mAttributeError\u001b[0m                            Traceback (most recent call last)",
      "Cell \u001b[0;32mIn[69], line 1\u001b[0m\n\u001b[0;32m----> 1\u001b[0m \u001b[43morigin_list\u001b[49m\u001b[38;5;241;43m.\u001b[39;49m\u001b[43m_name\u001b[49m\n",
      "\u001b[0;31mAttributeError\u001b[0m: type object 'list' has no attribute '_name'"
     ]
    }
   ],
   "source": [
    "origin_list._name"
   ]
  },
  {
   "cell_type": "code",
   "execution_count": 70,
   "metadata": {
    "execution": {
     "iopub.execute_input": "2023-02-20T01:35:13.964849Z",
     "iopub.status.busy": "2023-02-20T01:35:13.964676Z",
     "iopub.status.idle": "2023-02-20T01:35:13.967571Z",
     "shell.execute_reply": "2023-02-20T01:35:13.967198Z"
    }
   },
   "outputs": [
    {
     "data": {
      "text/plain": [
       "'list'"
      ]
     },
     "execution_count": 70,
     "metadata": {},
     "output_type": "execute_result"
    }
   ],
   "source": [
    "origin_list.__name__"
   ]
  },
  {
   "cell_type": "code",
   "execution_count": 71,
   "metadata": {
    "execution": {
     "iopub.execute_input": "2023-02-20T01:35:13.969170Z",
     "iopub.status.busy": "2023-02-20T01:35:13.969000Z",
     "iopub.status.idle": "2023-02-20T01:35:13.972059Z",
     "shell.execute_reply": "2023-02-20T01:35:13.971643Z"
    },
    "tags": []
   },
   "outputs": [
    {
     "data": {
      "text/plain": [
       "'list'"
      ]
     },
     "execution_count": 71,
     "metadata": {},
     "output_type": "execute_result"
    }
   ],
   "source": [
    "origin_list.__qualname__"
   ]
  },
  {
   "attachments": {},
   "cell_type": "markdown",
   "metadata": {},
   "source": [
    "## Custom Class"
   ]
  },
  {
   "cell_type": "code",
   "execution_count": 72,
   "metadata": {
    "execution": {
     "iopub.execute_input": "2023-02-20T01:35:13.973961Z",
     "iopub.status.busy": "2023-02-20T01:35:13.973802Z",
     "iopub.status.idle": "2023-02-20T01:35:13.975843Z",
     "shell.execute_reply": "2023-02-20T01:35:13.975431Z"
    }
   },
   "outputs": [],
   "source": [
    "class MyClass: pass"
   ]
  },
  {
   "cell_type": "code",
   "execution_count": 73,
   "metadata": {
    "execution": {
     "iopub.execute_input": "2023-02-20T01:35:13.977462Z",
     "iopub.status.busy": "2023-02-20T01:35:13.977310Z",
     "iopub.status.idle": "2023-02-20T01:35:13.980206Z",
     "shell.execute_reply": "2023-02-20T01:35:13.979830Z"
    }
   },
   "outputs": [
    {
     "data": {
      "text/plain": [
       "type"
      ]
     },
     "execution_count": 73,
     "metadata": {},
     "output_type": "execute_result"
    }
   ],
   "source": [
    "type(MyClass)"
   ]
  },
  {
   "cell_type": "code",
   "execution_count": 74,
   "metadata": {
    "execution": {
     "iopub.execute_input": "2023-02-20T01:35:13.981812Z",
     "iopub.status.busy": "2023-02-20T01:35:13.981657Z",
     "iopub.status.idle": "2023-02-20T01:35:13.984522Z",
     "shell.execute_reply": "2023-02-20T01:35:13.984141Z"
    }
   },
   "outputs": [
    {
     "data": {
      "text/plain": [
       "(__main__.MyClass, object)"
      ]
     },
     "execution_count": 74,
     "metadata": {},
     "output_type": "execute_result"
    }
   ],
   "source": [
    "MyClass.__mro__"
   ]
  },
  {
   "cell_type": "code",
   "execution_count": 75,
   "metadata": {
    "execution": {
     "iopub.execute_input": "2023-02-20T01:35:13.986100Z",
     "iopub.status.busy": "2023-02-20T01:35:13.985947Z",
     "iopub.status.idle": "2023-02-20T01:35:13.988065Z",
     "shell.execute_reply": "2023-02-20T01:35:13.987689Z"
    }
   },
   "outputs": [],
   "source": [
    "get_origin(MyClass)"
   ]
  },
  {
   "cell_type": "code",
   "execution_count": 76,
   "metadata": {
    "execution": {
     "iopub.execute_input": "2023-02-20T01:35:13.989694Z",
     "iopub.status.busy": "2023-02-20T01:35:13.989543Z",
     "iopub.status.idle": "2023-02-20T01:35:13.992278Z",
     "shell.execute_reply": "2023-02-20T01:35:13.991894Z"
    }
   },
   "outputs": [
    {
     "data": {
      "text/plain": [
       "'MyClass'"
      ]
     },
     "execution_count": 76,
     "metadata": {},
     "output_type": "execute_result"
    }
   ],
   "source": [
    "MyClass.__name__"
   ]
  },
  {
   "cell_type": "code",
   "execution_count": 77,
   "metadata": {
    "execution": {
     "iopub.execute_input": "2023-02-20T01:35:13.993854Z",
     "iopub.status.busy": "2023-02-20T01:35:13.993702Z",
     "iopub.status.idle": "2023-02-20T01:35:13.996569Z",
     "shell.execute_reply": "2023-02-20T01:35:13.996178Z"
    }
   },
   "outputs": [
    {
     "data": {
      "text/plain": [
       "'MyClass'"
      ]
     },
     "execution_count": 77,
     "metadata": {},
     "output_type": "execute_result"
    }
   ],
   "source": [
    "MyClass.__qualname__"
   ]
  },
  {
   "attachments": {},
   "cell_type": "markdown",
   "metadata": {},
   "source": [
    "## Nested Class"
   ]
  },
  {
   "cell_type": "code",
   "execution_count": 78,
   "metadata": {
    "execution": {
     "iopub.execute_input": "2023-02-20T01:35:13.998233Z",
     "iopub.status.busy": "2023-02-20T01:35:13.998080Z",
     "iopub.status.idle": "2023-02-20T01:35:14.000288Z",
     "shell.execute_reply": "2023-02-20T01:35:13.999903Z"
    }
   },
   "outputs": [],
   "source": [
    "class OuterClass:\n",
    "    class InnerClass:\n",
    "        pass"
   ]
  },
  {
   "cell_type": "code",
   "execution_count": 79,
   "metadata": {
    "execution": {
     "iopub.execute_input": "2023-02-20T01:35:14.001878Z",
     "iopub.status.busy": "2023-02-20T01:35:14.001726Z",
     "iopub.status.idle": "2023-02-20T01:35:14.004569Z",
     "shell.execute_reply": "2023-02-20T01:35:14.004163Z"
    }
   },
   "outputs": [
    {
     "data": {
      "text/plain": [
       "'OuterClass'"
      ]
     },
     "execution_count": 79,
     "metadata": {},
     "output_type": "execute_result"
    }
   ],
   "source": [
    "OuterClass.__name__"
   ]
  },
  {
   "cell_type": "code",
   "execution_count": 80,
   "metadata": {
    "execution": {
     "iopub.execute_input": "2023-02-20T01:35:14.006245Z",
     "iopub.status.busy": "2023-02-20T01:35:14.006095Z",
     "iopub.status.idle": "2023-02-20T01:35:14.008932Z",
     "shell.execute_reply": "2023-02-20T01:35:14.008548Z"
    }
   },
   "outputs": [
    {
     "data": {
      "text/plain": [
       "'OuterClass'"
      ]
     },
     "execution_count": 80,
     "metadata": {},
     "output_type": "execute_result"
    }
   ],
   "source": [
    "OuterClass.__qualname__"
   ]
  },
  {
   "cell_type": "code",
   "execution_count": 81,
   "metadata": {
    "execution": {
     "iopub.execute_input": "2023-02-20T01:35:14.010521Z",
     "iopub.status.busy": "2023-02-20T01:35:14.010370Z",
     "iopub.status.idle": "2023-02-20T01:35:14.019015Z",
     "shell.execute_reply": "2023-02-20T01:35:14.018563Z"
    }
   },
   "outputs": [
    {
     "ename": "NameError",
     "evalue": "name 'InnerClass' is not defined",
     "output_type": "error",
     "traceback": [
      "\u001b[0;31m---------------------------------------------------------------------------\u001b[0m",
      "\u001b[0;31mNameError\u001b[0m                                 Traceback (most recent call last)",
      "Cell \u001b[0;32mIn[81], line 1\u001b[0m\n\u001b[0;32m----> 1\u001b[0m \u001b[43mInnerClass\u001b[49m\u001b[38;5;241m.\u001b[39m\u001b[38;5;18m__name__\u001b[39m\n",
      "\u001b[0;31mNameError\u001b[0m: name 'InnerClass' is not defined"
     ]
    }
   ],
   "source": [
    "InnerClass.__name__"
   ]
  },
  {
   "cell_type": "code",
   "execution_count": 82,
   "metadata": {
    "execution": {
     "iopub.execute_input": "2023-02-20T01:35:14.020826Z",
     "iopub.status.busy": "2023-02-20T01:35:14.020659Z",
     "iopub.status.idle": "2023-02-20T01:35:14.029389Z",
     "shell.execute_reply": "2023-02-20T01:35:14.028974Z"
    }
   },
   "outputs": [
    {
     "ename": "NameError",
     "evalue": "name 'InnerClass' is not defined",
     "output_type": "error",
     "traceback": [
      "\u001b[0;31m---------------------------------------------------------------------------\u001b[0m",
      "\u001b[0;31mNameError\u001b[0m                                 Traceback (most recent call last)",
      "Cell \u001b[0;32mIn[82], line 1\u001b[0m\n\u001b[0;32m----> 1\u001b[0m \u001b[43mInnerClass\u001b[49m\u001b[38;5;241m.\u001b[39m\u001b[38;5;18m__qualname__\u001b[39m\n",
      "\u001b[0;31mNameError\u001b[0m: name 'InnerClass' is not defined"
     ]
    }
   ],
   "source": [
    "InnerClass.__qualname__"
   ]
  },
  {
   "attachments": {},
   "cell_type": "markdown",
   "metadata": {},
   "source": [
    "## Custom Generic"
   ]
  },
  {
   "cell_type": "code",
   "execution_count": 83,
   "metadata": {
    "execution": {
     "iopub.execute_input": "2023-02-20T01:35:14.031255Z",
     "iopub.status.busy": "2023-02-20T01:35:14.031077Z",
     "iopub.status.idle": "2023-02-20T01:35:14.033648Z",
     "shell.execute_reply": "2023-02-20T01:35:14.033262Z"
    }
   },
   "outputs": [],
   "source": [
    "class MyGeneric(typing.Generic[typing.T]):\n",
    "    def __init__(self, x) -> None:\n",
    "        self.x = x"
   ]
  },
  {
   "cell_type": "code",
   "execution_count": 84,
   "metadata": {
    "execution": {
     "iopub.execute_input": "2023-02-20T01:35:14.035391Z",
     "iopub.status.busy": "2023-02-20T01:35:14.035228Z",
     "iopub.status.idle": "2023-02-20T01:35:14.038313Z",
     "shell.execute_reply": "2023-02-20T01:35:14.037905Z"
    }
   },
   "outputs": [
    {
     "data": {
      "text/plain": [
       "__main__.MyGeneric[str]"
      ]
     },
     "execution_count": 84,
     "metadata": {},
     "output_type": "execute_result"
    }
   ],
   "source": [
    "tp_custom_generic = MyGeneric[str]\n",
    "tp_custom_generic"
   ]
  },
  {
   "cell_type": "code",
   "execution_count": 85,
   "metadata": {
    "execution": {
     "iopub.execute_input": "2023-02-20T01:35:14.039988Z",
     "iopub.status.busy": "2023-02-20T01:35:14.039831Z",
     "iopub.status.idle": "2023-02-20T01:35:14.042793Z",
     "shell.execute_reply": "2023-02-20T01:35:14.042384Z"
    }
   },
   "outputs": [
    {
     "data": {
      "text/plain": [
       "typing._GenericAlias"
      ]
     },
     "execution_count": 85,
     "metadata": {},
     "output_type": "execute_result"
    }
   ],
   "source": [
    "type(tp_custom_generic)"
   ]
  },
  {
   "cell_type": "code",
   "execution_count": 86,
   "metadata": {
    "execution": {
     "iopub.execute_input": "2023-02-20T01:35:14.044480Z",
     "iopub.status.busy": "2023-02-20T01:35:14.044318Z",
     "iopub.status.idle": "2023-02-20T01:35:14.047207Z",
     "shell.execute_reply": "2023-02-20T01:35:14.046778Z"
    }
   },
   "outputs": [
    {
     "data": {
      "text/plain": [
       "'MyGeneric'"
      ]
     },
     "execution_count": 86,
     "metadata": {},
     "output_type": "execute_result"
    }
   ],
   "source": [
    "tp_custom_generic.__name__"
   ]
  },
  {
   "cell_type": "code",
   "execution_count": 87,
   "metadata": {
    "execution": {
     "iopub.execute_input": "2023-02-20T01:35:14.048860Z",
     "iopub.status.busy": "2023-02-20T01:35:14.048705Z",
     "iopub.status.idle": "2023-02-20T01:35:14.051529Z",
     "shell.execute_reply": "2023-02-20T01:35:14.051135Z"
    }
   },
   "outputs": [
    {
     "data": {
      "text/plain": [
       "'MyGeneric'"
      ]
     },
     "execution_count": 87,
     "metadata": {},
     "output_type": "execute_result"
    }
   ],
   "source": [
    "tp_custom_generic.__qualname__"
   ]
  },
  {
   "cell_type": "code",
   "execution_count": 88,
   "metadata": {
    "execution": {
     "iopub.execute_input": "2023-02-20T01:35:14.053159Z",
     "iopub.status.busy": "2023-02-20T01:35:14.053004Z",
     "iopub.status.idle": "2023-02-20T01:35:14.055758Z",
     "shell.execute_reply": "2023-02-20T01:35:14.055379Z"
    }
   },
   "outputs": [
    {
     "data": {
      "text/plain": [
       "__main__.MyGeneric"
      ]
     },
     "execution_count": 88,
     "metadata": {},
     "output_type": "execute_result"
    }
   ],
   "source": [
    "origin_custom_generic = get_origin(tp_custom_generic)\n",
    "origin_custom_generic"
   ]
  },
  {
   "cell_type": "code",
   "execution_count": 89,
   "metadata": {
    "execution": {
     "iopub.execute_input": "2023-02-20T01:35:14.057416Z",
     "iopub.status.busy": "2023-02-20T01:35:14.057262Z",
     "iopub.status.idle": "2023-02-20T01:35:14.060224Z",
     "shell.execute_reply": "2023-02-20T01:35:14.059755Z"
    }
   },
   "outputs": [
    {
     "data": {
      "text/plain": [
       "'MyGeneric'"
      ]
     },
     "execution_count": 89,
     "metadata": {},
     "output_type": "execute_result"
    }
   ],
   "source": [
    "origin_custom_generic.__name__"
   ]
  },
  {
   "cell_type": "code",
   "execution_count": 90,
   "metadata": {
    "execution": {
     "iopub.execute_input": "2023-02-20T01:35:14.062227Z",
     "iopub.status.busy": "2023-02-20T01:35:14.062041Z",
     "iopub.status.idle": "2023-02-20T01:35:14.065075Z",
     "shell.execute_reply": "2023-02-20T01:35:14.064662Z"
    }
   },
   "outputs": [
    {
     "data": {
      "text/plain": [
       "'MyGeneric'"
      ]
     },
     "execution_count": 90,
     "metadata": {},
     "output_type": "execute_result"
    }
   ],
   "source": [
    "origin_custom_generic.__qualname__"
   ]
  },
  {
   "attachments": {},
   "cell_type": "markdown",
   "metadata": {},
   "source": [
    "## typing.Any"
   ]
  },
  {
   "cell_type": "code",
   "execution_count": 91,
   "metadata": {
    "execution": {
     "iopub.execute_input": "2023-02-20T01:35:14.066999Z",
     "iopub.status.busy": "2023-02-20T01:35:14.066816Z",
     "iopub.status.idle": "2023-02-20T01:35:14.069926Z",
     "shell.execute_reply": "2023-02-20T01:35:14.069508Z"
    }
   },
   "outputs": [
    {
     "data": {
      "text/plain": [
       "'typing.Any'"
      ]
     },
     "execution_count": 91,
     "metadata": {},
     "output_type": "execute_result"
    }
   ],
   "source": [
    "tp_any = typing.Any\n",
    "repr(tp_any)"
   ]
  },
  {
   "cell_type": "code",
   "execution_count": 92,
   "metadata": {
    "execution": {
     "iopub.execute_input": "2023-02-20T01:35:14.071692Z",
     "iopub.status.busy": "2023-02-20T01:35:14.071513Z",
     "iopub.status.idle": "2023-02-20T01:35:14.074624Z",
     "shell.execute_reply": "2023-02-20T01:35:14.074163Z"
    }
   },
   "outputs": [
    {
     "data": {
      "text/plain": [
       "'Any'"
      ]
     },
     "execution_count": 92,
     "metadata": {},
     "output_type": "execute_result"
    }
   ],
   "source": [
    "tp_any.__name__"
   ]
  },
  {
   "cell_type": "code",
   "execution_count": 93,
   "metadata": {
    "execution": {
     "iopub.execute_input": "2023-02-20T01:35:14.076421Z",
     "iopub.status.busy": "2023-02-20T01:35:14.076247Z",
     "iopub.status.idle": "2023-02-20T01:35:14.079221Z",
     "shell.execute_reply": "2023-02-20T01:35:14.078812Z"
    }
   },
   "outputs": [
    {
     "data": {
      "text/plain": [
       "'Any'"
      ]
     },
     "execution_count": 93,
     "metadata": {},
     "output_type": "execute_result"
    }
   ],
   "source": [
    "tp_any.__qualname__"
   ]
  }
 ],
 "metadata": {
  "kernelspec": {
   "display_name": ".venv",
   "language": "python",
   "name": "python3"
  },
  "language_info": {
   "codemirror_mode": {
    "name": "ipython",
    "version": 3
   },
   "file_extension": ".py",
   "mimetype": "text/x-python",
   "name": "python",
   "nbconvert_exporter": "python",
   "pygments_lexer": "ipython3",
   "version": "3.11.2"
  },
  "vscode": {
   "interpreter": {
    "hash": "562b6b1d41146ba195661be6d6db461f2660efbf90f15e4bc583c307da246186"
   }
  }
 },
 "nbformat": 4,
 "nbformat_minor": 4
}
