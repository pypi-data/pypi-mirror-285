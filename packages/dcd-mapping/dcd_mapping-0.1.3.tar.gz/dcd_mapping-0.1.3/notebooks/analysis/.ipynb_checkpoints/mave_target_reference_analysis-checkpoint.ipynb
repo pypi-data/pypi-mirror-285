{
 "cells": [
  {
   "cell_type": "code",
   "execution_count": null,
   "metadata": {},
   "outputs": [],
   "source": [
    "import requests\n",
    "from biocommons.seqrepo import SeqRepo"
   ]
  },
  {
   "cell_type": "code",
   "execution_count": null,
   "metadata": {},
   "outputs": [],
   "source": [
    "def get_target_sequence_data():\n",
    "    response = requests.get('https://www.mavedb.org/api/scoresets/')\n",
    "    json_parse = response.json()\n",
    "    n_scoresets = len(json_parse)\n",
    "    target_sequences = list()\n",
    "    for i in range(n_scoresets):\n",
    "        if json_parse[i]['target']['reference_maps'][0]['genome']['organism_name'] == 'Homo sapiens':\n",
    "            target_sequences.append(json_parse[i]['target']['reference_sequence']\n",
    "                                ['sequence'])\n",
    "    return target_sequences"
   ]
  },
  {
   "cell_type": "code",
   "execution_count": null,
   "metadata": {},
   "outputs": [],
   "source": [
    "def get_refseq():\n",
    "    response = requests.get('https://www.mavedb.org/api/scoresets/')\n",
    "    json_parse = response.json()\n",
    "    n_scoresets = len(json_parse)\n",
    "    ref_seqid = list()\n",
    "    for i in range(n_scoresets):\n",
    "        if json_parse[i]['target']['reference_maps'][0]['genome']['organism_name'] == 'Homo sapiens':\n",
    "            ref_seqid.append(json_parse[i]['target']['refseq'])\n",
    "    identifiers = list()\n",
    "    for i in range(len(ref_seqid)):\n",
    "        if ref_seqid[i] is not None:\n",
    "            identifiers.append(ref_seqid[i]['identifier'])\n",
    "    print(set(identifiers))\n",
    "    return ref_seqid"
   ]
  },
  {
   "cell_type": "code",
   "execution_count": null,
   "metadata": {},
   "outputs": [],
   "source": [
    "def get_template_sequences():\n",
    "    sr = SeqRepo(\"/usr/local/share/seqrepo/latest\")\n",
    "    target_list = get_target_sequence_data()\n",
    "    template_list = get_refseq()\n",
    "    sequences_list = list()\n",
    "    for i in range(len(template_list)):\n",
    "        if template_list[i] is None or '.' not in template_list[i]['identifier']:\n",
    "            sequences_list.append('')\n",
    "        elif template_list[i]['offset'] == 0:\n",
    "            length = len(target_list[i])\n",
    "            sequences_list.append(sr[template_list[i]['identifier']][0:length])\n",
    "        else:\n",
    "            length = len(target_list[i])\n",
    "            try:\n",
    "                sequences_list.append(sr[template_list[i]['identifier']]\n",
    "                                  [template_list[i]['offset'] - 1:template_list[i]['offset'] - 1 + length])\n",
    "            except:\n",
    "                sequences_list.append('')\n",
    "    return sequences_list"
   ]
  },
  {
   "cell_type": "code",
   "execution_count": null,
   "metadata": {},
   "outputs": [],
   "source": [
    "def determine_matches(tarl, templ):\n",
    "    match_percent_list = list()\n",
    "    for i in range(len(tarl)):\n",
    "        if templ[i] == '' or len(tarl[i]) != len(templ[i]):\n",
    "            match_percent_list.append(None)\n",
    "        else:\n",
    "            match_percent_list.append(match_percent(tarl[i], templ[i]))\n",
    "    print(match_percent_list)\n",
    "    return match_percent_list"
   ]
  },
  {
   "cell_type": "code",
   "execution_count": null,
   "metadata": {},
   "outputs": [],
   "source": [
    "def match_percent(str1, str2):\n",
    "    count = 0\n",
    "    for i in range(len(str1)):\n",
    "        if str1[i] == str2[i]:\n",
    "            count = count + 1\n",
    "    return 100 * count / len(str1)"
   ]
  },
  {
   "cell_type": "code",
   "execution_count": null,
   "metadata": {},
   "outputs": [],
   "source": [
    "def main():\n",
    "    tarl = get_target_sequence_data()\n",
    "    get_refseq()\n",
    "    templ = get_template_sequences()\n",
    "    determine_matches(tarl, templ)"
   ]
  },
  {
   "cell_type": "code",
   "execution_count": null,
   "metadata": {},
   "outputs": [],
   "source": [
    "if __name__ == '__main__':\n",
    "    main()"
   ]
  }
 ],
 "metadata": {
  "kernelspec": {
   "display_name": "Python 3 (ipykernel)",
   "language": "python",
   "name": "python3"
  },
  "language_info": {
   "codemirror_mode": {
    "name": "ipython",
    "version": 3
   },
   "file_extension": ".py",
   "mimetype": "text/x-python",
   "name": "python",
   "nbconvert_exporter": "python",
   "pygments_lexer": "ipython3",
   "version": "3.10.3"
  }
 },
 "nbformat": 4,
 "nbformat_minor": 2
}
