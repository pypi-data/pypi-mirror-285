{
 "cells": [
  {
   "cell_type": "markdown",
   "id": "7e14c65b-82fd-4c28-9208-8c8485394d11",
   "metadata": {},
   "source": [
    "# Analysis of UReRf on SickKids Dataset"
   ]
  },
  {
   "cell_type": "code",
   "execution_count": null,
   "id": "73b38d35-fedd-43b0-9de3-e8d04b307e17",
   "metadata": {},
   "outputs": [],
   "source": [
    "# auto-format every cell to black\n",
    "%load_ext lab_black"
   ]
  },
  {
   "cell_type": "code",
   "execution_count": 1,
   "id": "9a7b7768-5ddf-4d57-9cf3-ca3b28b7b519",
   "metadata": {},
   "outputs": [
    {
     "ename": "ModuleNotFoundError",
     "evalue": "No module named 'rerf'",
     "output_type": "error",
     "traceback": [
      "\u001b[0;31m---------------------------------------------------------------------------\u001b[0m",
      "\u001b[0;31mModuleNotFoundError\u001b[0m                       Traceback (most recent call last)",
      "Input \u001b[0;32mIn [1]\u001b[0m, in \u001b[0;36m<cell line: 6>\u001b[0;34m()\u001b[0m\n\u001b[1;32m      3\u001b[0m \u001b[38;5;28;01mfrom\u001b[39;00m \u001b[38;5;21;01msklearn\u001b[39;00m\u001b[38;5;21;01m.\u001b[39;00m\u001b[38;5;21;01mcluster\u001b[39;00m \u001b[38;5;28;01mimport\u001b[39;00m AgglomerativeClustering\n\u001b[1;32m      4\u001b[0m \u001b[38;5;28;01mfrom\u001b[39;00m \u001b[38;5;21;01msklearn\u001b[39;00m\u001b[38;5;21;01m.\u001b[39;00m\u001b[38;5;21;01mmetrics\u001b[39;00m \u001b[38;5;28;01mimport\u001b[39;00m adjusted_rand_score\n\u001b[0;32m----> 6\u001b[0m \u001b[38;5;28;01mfrom\u001b[39;00m \u001b[38;5;21;01mrerf\u001b[39;00m\u001b[38;5;21;01m.\u001b[39;00m\u001b[38;5;21;01murerf\u001b[39;00m \u001b[38;5;28;01mimport\u001b[39;00m UnsupervisedRandomForest\n",
      "\u001b[0;31mModuleNotFoundError\u001b[0m: No module named 'rerf'"
     ]
    }
   ],
   "source": [
    "import matplotlib.pyplot as plt\n",
    "from sklearn import datasets\n",
    "from sklearn.cluster import AgglomerativeClustering\n",
    "from sklearn.metrics import adjusted_rand_score\n",
    "\n",
    "from rerf.urerf import UnsupervisedRandomForest"
   ]
  },
  {
   "cell_type": "markdown",
   "id": "b3b350ad-8407-4b52-b08b-3d45f2143b19",
   "metadata": {},
   "source": [
    "# Load Data"
   ]
  },
  {
   "cell_type": "code",
   "execution_count": null,
   "id": "ec6f8de2-4542-4a72-86a6-324834ee5299",
   "metadata": {},
   "outputs": [],
   "source": []
  },
  {
   "cell_type": "markdown",
   "id": "dfce531a-5a42-44c6-bc5a-92401ab9169a",
   "metadata": {},
   "source": [
    "# Run Unsupervised ReRF on Data\n",
    "\n",
    "Since the data shows fragility heatmaps of different datasets, we will compute an affinity matrix between all channels for all maps and then compare them conditioned on surgical outcome."
   ]
  },
  {
   "cell_type": "code",
   "execution_count": null,
   "id": "44d6747f-8ef1-4bc1-982d-195881cd4d3c",
   "metadata": {},
   "outputs": [],
   "source": []
  }
 ],
 "metadata": {
  "kernelspec": {
   "display_name": "sklearn-devm1",
   "language": "python",
   "name": "sklearn-devm1"
  },
  "language_info": {
   "codemirror_mode": {
    "name": "ipython",
    "version": 3
   },
   "file_extension": ".py",
   "mimetype": "text/x-python",
   "name": "python",
   "nbconvert_exporter": "python",
   "pygments_lexer": "ipython3",
   "version": "3.8.12"
  }
 },
 "nbformat": 4,
 "nbformat_minor": 5
}
