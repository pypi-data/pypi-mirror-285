{
 "cells": [
  {
   "cell_type": "markdown",
   "id": "82b50032-8117-4771-9dca-ed0997c489f8",
   "metadata": {
    "deletable": false,
    "pagebreakheader": true
   },
   "source": [
    "# New Pagebreak "
   ]
  },
  {
   "cell_type": "code",
   "execution_count": null,
   "id": "359a1eab-53d3-4ce6-9a1f-596e0a097498",
   "metadata": {},
   "outputs": [],
   "source": []
  },
  {
   "cell_type": "raw",
   "id": "3ca36e7c-552e-4eb9-b054-49e6865bc577",
   "metadata": {
    "deletable": false,
    "pagebreak": true
   },
   "source": [
    "export {  }"
   ]
  },
  {
   "cell_type": "markdown",
   "id": "21f11b83-53bb-4e5d-8456-35622e061a2b",
   "metadata": {
    "deletable": false,
    "pagebreakheader": true
   },
   "source": [
    "# New Pagebreak "
   ]
  },
  {
   "cell_type": "code",
   "execution_count": null,
   "id": "96a842ee-42a8-4df1-bc53-0b37b03734f6",
   "metadata": {},
   "outputs": [],
   "source": []
  },
  {
   "cell_type": "raw",
   "id": "9537b564-d7d3-4fab-ac63-c56f382720d1",
   "metadata": {
    "deletable": false,
    "pagebreak": true
   },
   "source": [
    "export {  }"
   ]
  },
  {
   "cell_type": "markdown",
   "id": "ebb06ed6-d6f5-4aa8-af80-fb8d4d31316e",
   "metadata": {
    "deletable": false,
    "pagebreakheader": true
   },
   "source": [
    "# New Pagebreak "
   ]
  },
  {
   "cell_type": "code",
   "execution_count": null,
   "id": "262c0e9d-26c1-48ea-ad39-3a6c8af74a37",
   "metadata": {},
   "outputs": [],
   "source": []
  },
  {
   "cell_type": "raw",
   "id": "5c47c4f4-7978-43d5-be5d-0e7630d7f49f",
   "metadata": {
    "deletable": false,
    "pagebreak": true
   },
   "source": [
    "export {  }"
   ]
  },
  {
   "cell_type": "markdown",
   "id": "9218187c-5fb0-458a-9df8-871ba314d68d",
   "metadata": {
    "deletable": false,
    "pagebreakheader": true
   },
   "source": [
    "# New Pagebreak "
   ]
  },
  {
   "cell_type": "code",
   "execution_count": null,
   "id": "68e3d332-607b-409d-9fd2-fc4f8e037da5",
   "metadata": {},
   "outputs": [],
   "source": []
  },
  {
   "cell_type": "raw",
   "id": "24052aad-b72f-4bbd-819a-045d43f4743b",
   "metadata": {
    "deletable": false,
    "pagebreak": true
   },
   "source": [
    "export {  }"
   ]
  },
  {
   "cell_type": "markdown",
   "id": "3539e2f4-007b-46c4-a28c-082ef87863e0",
   "metadata": {
    "deletable": false,
    "pagebreakheader": true
   },
   "source": [
    "# New Pagebreak "
   ]
  },
  {
   "cell_type": "code",
   "execution_count": 2,
   "id": "d13edf62-e454-4100-8caf-7777933b4cbd",
   "metadata": {},
   "outputs": [],
   "source": [
    "a = 3"
   ]
  },
  {
   "cell_type": "code",
   "execution_count": 3,
   "id": "8da96e27-76cf-4725-b1bb-667a15a35a22",
   "metadata": {},
   "outputs": [],
   "source": [
    "b = 2"
   ]
  },
  {
   "cell_type": "code",
   "execution_count": null,
   "id": "8bca8a67-cd1b-40be-ab49-5a5e7908c01c",
   "metadata": {},
   "outputs": [],
   "source": []
  },
  {
   "cell_type": "code",
   "execution_count": null,
   "id": "19897418-17ce-4980-9f96-6a752972ee9c",
   "metadata": {},
   "outputs": [],
   "source": []
  },
  {
   "cell_type": "raw",
   "id": "3f1c1438-6502-4aa4-b204-df29d6061d28",
   "metadata": {
    "deletable": false,
    "pagebreak": true
   },
   "source": [
    "export { a }"
   ]
  },
  {
   "cell_type": "code",
   "execution_count": 1,
   "id": "cd33edb4-7bc8-4f8f-883c-b5998e02f532",
   "metadata": {},
   "outputs": [],
   "source": [
    "%load_ext pagebreaksip"
   ]
  },
  {
   "cell_type": "code",
   "execution_count": 4,
   "id": "208fae25-3d9c-423e-8ea4-61a7922b9740",
   "metadata": {},
   "outputs": [
    {
     "name": "stdout",
     "output_type": "stream",
     "text": [
      "Variable      Type   Scope   Export Exist?    Data/Info\n",
      "-------------------------------\n",
      "a             str    4       True             3\n",
      "b             str    4       False            2\n"
     ]
    }
   ],
   "source": [
    "%who_pb"
   ]
  },
  {
   "cell_type": "code",
   "execution_count": null,
   "id": "d3e4689d-31b9-4810-92ac-d66f4ddaec9f",
   "metadata": {},
   "outputs": [],
   "source": []
  },
  {
   "cell_type": "code",
   "execution_count": null,
   "id": "5d47fa40-517d-42dc-b268-54c112e6fea1",
   "metadata": {},
   "outputs": [],
   "source": []
  },
  {
   "cell_type": "code",
   "execution_count": null,
   "id": "67d26623-a5bf-4309-90a1-6f139dc4d044",
   "metadata": {},
   "outputs": [],
   "source": []
  },
  {
   "cell_type": "code",
   "execution_count": null,
   "id": "5462d458-adbc-4a88-b2dd-5d9a9c4b10af",
   "metadata": {},
   "outputs": [],
   "source": []
  },
  {
   "cell_type": "code",
   "execution_count": null,
   "id": "56ed398c-7cb3-4ff9-abcf-8b83de50c680",
   "metadata": {},
   "outputs": [],
   "source": []
  },
  {
   "cell_type": "code",
   "execution_count": null,
   "id": "5879c3eb-8a68-4866-8bd2-17d51078ff03",
   "metadata": {},
   "outputs": [],
   "source": []
  },
  {
   "cell_type": "code",
   "execution_count": null,
   "id": "de6f3b97-2ea6-4e02-8d57-1aedb274ca06",
   "metadata": {},
   "outputs": [],
   "source": [
    "test\n",
    "test\n",
    "test\n",
    "test\n",
    "test\n",
    "test\n"
   ]
  }
 ],
 "metadata": {
  "kernelspec": {
   "display_name": "Python 3 (ipykernel)",
   "language": "python",
   "name": "python3"
  },
  "language_info": {
   "codemirror_mode": {
    "name": "ipython",
    "version": 3
   },
   "file_extension": ".py",
   "mimetype": "text/x-python",
   "name": "python",
   "nbconvert_exporter": "python",
   "pygments_lexer": "ipython3",
   "version": "3.12.3"
  }
 },
 "nbformat": 4,
 "nbformat_minor": 5
}
