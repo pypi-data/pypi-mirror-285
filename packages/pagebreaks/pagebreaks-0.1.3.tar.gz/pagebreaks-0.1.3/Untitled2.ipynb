{
 "cells": [
  {
   "cell_type": "markdown",
   "id": "0521b91a-5273-446e-aa6a-4edab84ebed8",
   "metadata": {
    "deletable": false,
    "pagebreakheader": true
   },
   "source": [
    "# New Pagebreak "
   ]
  },
  {
   "cell_type": "code",
   "execution_count": 7,
   "id": "c231e141-8998-4004-9521-fa2b40b0ca3c",
   "metadata": {},
   "outputs": [],
   "source": [
    "a = 4"
   ]
  },
  {
   "cell_type": "raw",
   "id": "ac102683-c538-41d1-a78f-5c32ceb92221",
   "metadata": {
    "deletable": false,
    "pagebreak": true
   },
   "source": [
    "export {  }"
   ]
  },
  {
   "cell_type": "code",
   "execution_count": 8,
   "id": "a997a787-dcad-4c84-a2d9-c02aff5b0eaa",
   "metadata": {},
   "outputs": [
    {
     "name": "stdout",
     "output_type": "stream",
     "text": [
      "Variable   Type   Scope   Export Exist?    Data/Info\n",
      "----------------------------\n",
      "a          str    0       False            4\n"
     ]
    }
   ],
   "source": [
    "%who_pb"
   ]
  },
  {
   "cell_type": "code",
   "execution_count": null,
   "id": "74bc49d2-62f9-4c9b-89dc-4ce2c58dc123",
   "metadata": {},
   "outputs": [],
   "source": []
  }
 ],
 "metadata": {
  "kernelspec": {
   "display_name": "Python 3 (ipykernel)",
   "language": "python",
   "name": "python3"
  },
  "language_info": {
   "codemirror_mode": {
    "name": "ipython",
    "version": 3
   },
   "file_extension": ".py",
   "mimetype": "text/x-python",
   "name": "python",
   "nbconvert_exporter": "python",
   "pygments_lexer": "ipython3",
   "version": "3.12.3"
  }
 },
 "nbformat": 4,
 "nbformat_minor": 5
}
