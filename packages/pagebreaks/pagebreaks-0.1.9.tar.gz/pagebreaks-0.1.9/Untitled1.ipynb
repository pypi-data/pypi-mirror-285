{
 "cells": [
  {
   "cell_type": "code",
   "execution_count": 1,
   "id": "cb309525-72c0-47ea-9172-8b2fc73b5e43",
   "metadata": {},
   "outputs": [],
   "source": [
    "%load_ext pagebreaksip"
   ]
  },
  {
   "cell_type": "code",
   "execution_count": null,
   "id": "2a13dccf-5611-4cf8-a80f-14755911aac7",
   "metadata": {},
   "outputs": [],
   "source": []
  },
  {
   "cell_type": "code",
   "execution_count": null,
   "id": "b63b54bf-accb-499e-a6fa-dd73f3865de4",
   "metadata": {},
   "outputs": [],
   "source": []
  }
 ],
 "metadata": {
  "kernelspec": {
   "display_name": "Python 3 (ipykernel)",
   "language": "python",
   "name": "python3"
  },
  "language_info": {
   "codemirror_mode": {
    "name": "ipython",
    "version": 3
   },
   "file_extension": ".py",
   "mimetype": "text/x-python",
   "name": "python",
   "nbconvert_exporter": "python",
   "pygments_lexer": "ipython3",
   "version": "3.12.3"
  }
 },
 "nbformat": 4,
 "nbformat_minor": 5
}
