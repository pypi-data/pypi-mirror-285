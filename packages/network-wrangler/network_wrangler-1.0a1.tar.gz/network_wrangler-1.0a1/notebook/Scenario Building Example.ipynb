{
 "cells": [
  {
   "attachments": {},
   "cell_type": "markdown",
   "metadata": {},
   "source": [
    "# Scenario Building\n",
    "The purpose of this notebook is to understand the various methods that Network Wrangler can use to define and build scenarios.\n",
    "\n",
    "The basic steps are:\n",
    "\n",
    "1. Define base scenario (networks, projects)\n",
    "2. Specify projects to add\n",
    "3. Build the scenario\n",
    "\n",
    "This notebook shows how this process can be used to build scenario upon scenario. "
   ]
  },
  {
   "cell_type": "code",
   "execution_count": 1,
   "metadata": {},
   "outputs": [],
   "source": [
    "import os\n",
    "import sys\n",
    "from network_wrangler import load_roadway, load_transit, Scenario, create_scenario\n",
    "\n",
    "%config IPCompleter.greedy=True\n",
    "\n",
    "import pandas as pd\n",
    "\n",
    "pd.set_option(\"display.max_columns\", None)\n",
    "\n",
    "import warnings\n",
    "\n",
    "warnings.filterwarnings(\"ignore\")"
   ]
  },
  {
   "cell_type": "code",
   "execution_count": 2,
   "metadata": {},
   "outputs": [],
   "source": [
    "%load_ext autoreload\n",
    "%autoreload 2\n",
    "\n",
    "import logging\n",
    "\n",
    "logger = logging.getLogger(\"WranglerLogger\")\n",
    "logger.handlers[0].stream = sys.stdout\n",
    "# set to logging.INFO for less detail or logging.DEBUG for more\n",
    "logger.setLevel(logging.INFO)"
   ]
  },
  {
   "cell_type": "code",
   "execution_count": null,
   "metadata": {},
   "outputs": [],
   "source": [
    "# if you need to reset variables in the notebook\n",
    "%reset"
   ]
  },
  {
   "attachments": {},
   "cell_type": "markdown",
   "metadata": {},
   "source": [
    "## Define Base Scenario\n",
    "\n",
    "A base scenario is at a minimum a `RoadwayNetwork` and `TransitNetwork`, defined with a dictionary."
   ]
  },
  {
   "cell_type": "code",
   "execution_count": 3,
   "metadata": {},
   "outputs": [
    {
     "name": "stdout",
     "output_type": "stream",
     "text": [
      "2020-09-03 09:49:02, INFO: Reading from following files:\n",
      "-/Users/elizabeth/Documents/urbanlabs/MetCouncil/working/network_wrangler/notebook/../examples/stpaul/link.json\n",
      "-/Users/elizabeth/Documents/urbanlabs/MetCouncil/working/network_wrangler/notebook/../examples/stpaul/node.geojson\n",
      "-/Users/elizabeth/Documents/urbanlabs/MetCouncil/working/network_wrangler/notebook/../examples/stpaul/shape.geojson.\n",
      "2020-09-03 09:49:02, INFO: Reading from following files:\n",
      "-/Users/elizabeth/Documents/urbanlabs/MetCouncil/working/network_wrangler/notebook/../examples/stpaul/link.json\n",
      "-/Users/elizabeth/Documents/urbanlabs/MetCouncil/working/network_wrangler/notebook/../examples/stpaul/node.geojson\n",
      "-/Users/elizabeth/Documents/urbanlabs/MetCouncil/working/network_wrangler/notebook/../examples/stpaul/shape.geojson.\n",
      "2020-09-03 09:49:08, INFO: Read 66253 links from /Users/elizabeth/Documents/urbanlabs/MetCouncil/working/network_wrangler/notebook/../examples/stpaul/link.json\n",
      "2020-09-03 09:49:08, INFO: Read 66253 links from /Users/elizabeth/Documents/urbanlabs/MetCouncil/working/network_wrangler/notebook/../examples/stpaul/link.json\n",
      "2020-09-03 09:49:08, INFO: Read 17159 nodes from /Users/elizabeth/Documents/urbanlabs/MetCouncil/working/network_wrangler/notebook/../examples/stpaul/node.geojson\n",
      "2020-09-03 09:49:08, INFO: Read 17159 nodes from /Users/elizabeth/Documents/urbanlabs/MetCouncil/working/network_wrangler/notebook/../examples/stpaul/node.geojson\n",
      "2020-09-03 09:49:08, INFO: Read 66253 shapes from /Users/elizabeth/Documents/urbanlabs/MetCouncil/working/network_wrangler/notebook/../examples/stpaul/shape.geojson\n",
      "2020-09-03 09:49:08, INFO: Read 66253 shapes from /Users/elizabeth/Documents/urbanlabs/MetCouncil/working/network_wrangler/notebook/../examples/stpaul/shape.geojson\n",
      "2020-09-03 09:49:20, INFO: Read in transit feed from: /Users/elizabeth/Documents/urbanlabs/MetCouncil/working/network_wrangler/notebook/../examples/stpaul\n",
      "2020-09-03 09:49:20, INFO: Read in transit feed from: /Users/elizabeth/Documents/urbanlabs/MetCouncil/working/network_wrangler/notebook/../examples/stpaul\n",
      "2020-09-03 09:49:20, INFO: Removing calendar.txt from transit network config because file not found\n",
      "2020-09-03 09:49:20, INFO: Removing calendar.txt from transit network config because file not found\n",
      "2020-09-03 09:49:20, INFO: Removing calendar_dates.txt from transit network config because file not found\n",
      "2020-09-03 09:49:20, INFO: Removing calendar_dates.txt from transit network config because file not found\n",
      "2020-09-03 09:49:20, INFO: Removing fare_attributes.txt from transit network config because file not found\n",
      "2020-09-03 09:49:20, INFO: Removing fare_attributes.txt from transit network config because file not found\n",
      "2020-09-03 09:49:20, INFO: Removing fare_rules.txt from transit network config because file not found\n",
      "2020-09-03 09:49:20, INFO: Removing fare_rules.txt from transit network config because file not found\n",
      "2020-09-03 09:49:20, INFO: Removing transfers.txt from transit network config because file not found\n",
      "2020-09-03 09:49:20, INFO: Removing transfers.txt from transit network config because file not found\n",
      "2020-09-03 09:49:20, INFO: Removing feed_info.txt from transit network config because file not found\n",
      "2020-09-03 09:49:20, INFO: Removing feed_info.txt from transit network config because file not found\n"
     ]
    }
   ],
   "source": [
    "STPAUL_DIR = os.path.join(os.getcwd(), \"../\", \"examples\", \"stpaul\")\n",
    "STPAUL_SHAPE_FILE = os.path.join(STPAUL_DIR, \"shape.geojson\")\n",
    "STPAUL_LINK_FILE = os.path.join(STPAUL_DIR, \"link.json\")\n",
    "STPAUL_NODE_FILE = os.path.join(STPAUL_DIR, \"node.geojson\")\n",
    "\n",
    "road_net = load_roadway(\n",
    "    links_file=STPAUL_LINK_FILE,\n",
    "    nodes_file=STPAUL_NODE_FILE,\n",
    "    shapes_file=STPAUL_SHAPE_FILE,\n",
    ")\n",
    "\n",
    "transit_net = load_transit(STPAUL_DIR)"
   ]
  },
  {
   "cell_type": "code",
   "execution_count": 4,
   "metadata": {},
   "outputs": [],
   "source": [
    "base_scenario = {\n",
    "    \"road_net\": road_net,\n",
    "    \"transit_net\": transit_net,\n",
    "}"
   ]
  },
  {
   "attachments": {},
   "cell_type": "markdown",
   "metadata": {},
   "source": [
    "## Define \"Future No Build\" Scenario\n",
    "\n",
    "In this case, we will create a future no-build scenario based on all projects in a directory with a certain filename pattern using the `glob_search` feature, but this could also be baed on a tag or whatever."
   ]
  },
  {
   "cell_type": "code",
   "execution_count": 5,
   "metadata": {},
   "outputs": [
    {
     "name": "stdout",
     "output_type": "stream",
     "text": [
      "2020-09-03 09:50:35, INFO: Creating Scenario\n",
      "2020-09-03 09:50:35, INFO: Creating Scenario\n",
      "2020-09-03 09:50:35, ERROR: Failed Project Card validation: Validation Error\n",
      "2020-09-03 09:50:35, ERROR: Failed Project Card validation: Validation Error\n",
      "2020-09-03 09:50:35, ERROR: Project Card File Loc:/Users/elizabeth/Documents/urbanlabs/MetCouncil/working/network_wrangler/notebook/../examples/stpaul/project_cards/1_simple_roadway_attribute_change.yml\n",
      "2020-09-03 09:50:35, ERROR: Project Card File Loc:/Users/elizabeth/Documents/urbanlabs/MetCouncil/working/network_wrangler/notebook/../examples/stpaul/project_cards/1_simple_roadway_attribute_change.yml\n",
      "2020-09-03 09:50:35, ERROR: Project Card Schema Loc:/Users/elizabeth/Documents/urbanlabs/MetCouncil/working/network_wrangler/network_wrangler/schemas/project_card.json\n",
      "2020-09-03 09:50:35, ERROR: Project Card Schema Loc:/Users/elizabeth/Documents/urbanlabs/MetCouncil/working/network_wrangler/network_wrangler/schemas/project_card.json\n",
      "2020-09-03 09:50:35, ERROR: [{'osm_link_id': ['223371529']}] is valid under each of {'required': ['osm_link_id']}, {'required': ['model_link_id']}, {'required': ['name']}\n",
      "2020-09-03 09:50:35, ERROR: [{'osm_link_id': ['223371529']}] is valid under each of {'required': ['osm_link_id']}, {'required': ['model_link_id']}, {'required': ['name']}\n",
      "2020-09-03 09:50:35, ERROR: Failed Project Card validation: Validation Error\n",
      "2020-09-03 09:50:35, ERROR: Failed Project Card validation: Validation Error\n",
      "2020-09-03 09:50:35, ERROR: Project Card File Loc:/Users/elizabeth/Documents/urbanlabs/MetCouncil/working/network_wrangler/notebook/../examples/stpaul/project_cards/3_multiple_roadway_attribute_change.yml\n",
      "2020-09-03 09:50:35, ERROR: Project Card File Loc:/Users/elizabeth/Documents/urbanlabs/MetCouncil/working/network_wrangler/notebook/../examples/stpaul/project_cards/3_multiple_roadway_attribute_change.yml\n",
      "2020-09-03 09:50:35, ERROR: Project Card Schema Loc:/Users/elizabeth/Documents/urbanlabs/MetCouncil/working/network_wrangler/network_wrangler/schemas/project_card.json\n",
      "2020-09-03 09:50:35, ERROR: Project Card Schema Loc:/Users/elizabeth/Documents/urbanlabs/MetCouncil/working/network_wrangler/network_wrangler/schemas/project_card.json\n",
      "2020-09-03 09:50:35, ERROR: [{'name': ['6th', 'Sixth', 'sixth']}] is valid under each of {'required': ['osm_link_id']}, {'required': ['model_link_id']}, {'required': ['name']}\n",
      "2020-09-03 09:50:35, ERROR: [{'name': ['6th', 'Sixth', 'sixth']}] is valid under each of {'required': ['osm_link_id']}, {'required': ['model_link_id']}, {'required': ['name']}\n"
     ]
    }
   ],
   "source": [
    "my_scenario_nobuild = create_scenario(\n",
    "    base_scenario=base_scenario,\n",
    "    card_search_dir=os.path.join(STPAUL_DIR, \"project_cards\"),\n",
    "    glob_search=\"road*attribute_change*.yml\",\n",
    ")"
   ]
  },
  {
   "attachments": {},
   "cell_type": "markdown",
   "metadata": {},
   "source": [
    "**Check that the correct projects got added**\n",
    "\n",
    "- These projects haven't been applied (or \"built\") yet, they are just specified at this point."
   ]
  },
  {
   "cell_type": "code",
   "execution_count": 6,
   "metadata": {},
   "outputs": [
    {
     "data": {
      "text/plain": [
       "['Improve Express Bus Frequency',\n",
       " '6th St E Road Diet',\n",
       " 'Blue Line Service Enhancement D',\n",
       " 'Blue Line Service Enhancement B',\n",
       " 'Blue Line Service Enhancement C',\n",
       " 'Blue Line Service Enhancement A',\n",
       " 'Improve Express Bus Frequency B',\n",
       " '6th Street Transitway']"
      ]
     },
     "execution_count": 6,
     "metadata": {},
     "output_type": "execute_result"
    }
   ],
   "source": [
    "my_scenario_nobuild.queued_projects"
   ]
  },
  {
   "attachments": {},
   "cell_type": "markdown",
   "metadata": {},
   "source": [
    "## Build the \"Future No Build\" Scenario\n",
    " - This is where you are actually \"building\" the projects\n",
    " - You can check to see *all* the built projects using the `applied_projects` attribute"
   ]
  },
  {
   "cell_type": "code",
   "execution_count": 8,
   "metadata": {
    "scrolled": true
   },
   "outputs": [
    {
     "name": "stdout",
     "output_type": "stream",
     "text": [
      "2020-09-03 09:53:17, INFO: Applying 6th Street Transitway\n",
      "2020-09-03 09:53:17, INFO: Applying 6th Street Transitway\n",
      "2020-09-03 09:53:17, INFO: Applying Project to Roadway Network: 6th Street Transitway\n",
      "2020-09-03 09:53:17, INFO: Applying Project to Roadway Network: 6th Street Transitway\n",
      "2020-09-03 09:53:17, WARNING: Existing value defined for lanes in project card does not match the value in the roadway network for the selected links\n",
      "2020-09-03 09:53:17, WARNING: Existing value defined for lanes in project card does not match the value in the roadway network for the selected links\n",
      "2020-09-03 09:53:17, INFO: Applying Improve Express Bus Frequency B\n",
      "2020-09-03 09:53:17, INFO: Applying Improve Express Bus Frequency B\n",
      "2020-09-03 09:53:17, INFO: Applying Project to Transit Network: Improve Express Bus Frequency B\n",
      "2020-09-03 09:53:17, INFO: Applying Project to Transit Network: Improve Express Bus Frequency B\n",
      "2020-09-03 09:53:17, INFO: Applying Blue Line Service Enhancement A\n",
      "2020-09-03 09:53:17, INFO: Applying Blue Line Service Enhancement A\n",
      "2020-09-03 09:53:17, INFO: Applying Project to Transit Network: Blue Line Service Enhancement A\n",
      "2020-09-03 09:53:17, INFO: Applying Project to Transit Network: Blue Line Service Enhancement A\n",
      "2020-09-03 09:53:17, INFO: Applying Blue Line Service Enhancement C\n",
      "2020-09-03 09:53:17, INFO: Applying Blue Line Service Enhancement C\n",
      "2020-09-03 09:53:17, INFO: Applying Project to Transit Network: Blue Line Service Enhancement C\n",
      "2020-09-03 09:53:17, INFO: Applying Project to Transit Network: Blue Line Service Enhancement C\n",
      "2020-09-03 09:53:17, INFO: Applying Blue Line Service Enhancement B\n",
      "2020-09-03 09:53:17, INFO: Applying Blue Line Service Enhancement B\n",
      "2020-09-03 09:53:17, INFO: Applying Project to Transit Network: Blue Line Service Enhancement B\n",
      "2020-09-03 09:53:17, INFO: Applying Project to Transit Network: Blue Line Service Enhancement B\n",
      "2020-09-03 09:53:17, INFO: Applying Blue Line Service Enhancement D\n",
      "2020-09-03 09:53:17, INFO: Applying Blue Line Service Enhancement D\n",
      "2020-09-03 09:53:17, INFO: Applying Project to Transit Network: Blue Line Service Enhancement D\n",
      "2020-09-03 09:53:17, INFO: Applying Project to Transit Network: Blue Line Service Enhancement D\n",
      "2020-09-03 09:53:17, INFO: Applying 6th St E Road Diet\n",
      "2020-09-03 09:53:17, INFO: Applying 6th St E Road Diet\n",
      "2020-09-03 09:53:17, INFO: Applying Project to Roadway Network: 6th St E Road Diet\n",
      "2020-09-03 09:53:17, INFO: Applying Project to Roadway Network: 6th St E Road Diet\n",
      "2020-09-03 09:53:17, WARNING: Existing value defined for lanes in project card does not match the value in the roadway network for the selected links\n",
      "2020-09-03 09:53:17, WARNING: Existing value defined for lanes in project card does not match the value in the roadway network for the selected links\n",
      "2020-09-03 09:53:17, INFO: Applying Improve Express Bus Frequency\n",
      "2020-09-03 09:53:17, INFO: Applying Improve Express Bus Frequency\n",
      "2020-09-03 09:53:17, INFO: Applying Project to Transit Network: Improve Express Bus Frequency\n",
      "2020-09-03 09:53:17, INFO: Applying Project to Transit Network: Improve Express Bus Frequency\n"
     ]
    }
   ],
   "source": [
    "my_scenario_nobuild.apply_all_projects()"
   ]
  },
  {
   "cell_type": "code",
   "execution_count": 9,
   "metadata": {},
   "outputs": [
    {
     "data": {
      "text/plain": [
       "['6th Street Transitway',\n",
       " 'Improve Express Bus Frequency B',\n",
       " 'Blue Line Service Enhancement A',\n",
       " 'Blue Line Service Enhancement C',\n",
       " 'Blue Line Service Enhancement B',\n",
       " 'Blue Line Service Enhancement D',\n",
       " '6th St E Road Diet',\n",
       " 'Improve Express Bus Frequency']"
      ]
     },
     "execution_count": 9,
     "metadata": {},
     "output_type": "execute_result"
    }
   ],
   "source": [
    "my_scenario_nobuild.applied_projects"
   ]
  },
  {
   "attachments": {},
   "cell_type": "markdown",
   "metadata": {},
   "source": [
    "## Define \"Future Build\" Scenario\n",
    "\n",
    " - Specify specific cards to add for a build scenario\n",
    " - This scenario will be tiered off of the no-build scenario and will have 'knowledge' of what projects have already been applied when checking pre-requisites.\n",
    " \n",
    "\n",
    " - Here, we are going to specify a list of very specific build projects.\n",
    " - In this case, we need to create `ProjectCard` instances from the YML files and then add them to the `project_card_list` keyword. "
   ]
  },
  {
   "cell_type": "code",
   "execution_count": 10,
   "metadata": {},
   "outputs": [],
   "source": [
    "BUILD_CARD_FILENAMES = [\n",
    "    \"road.managed_lane.simple.yml\",\n",
    "]"
   ]
  },
  {
   "cell_type": "code",
   "execution_count": 11,
   "metadata": {},
   "outputs": [
    {
     "name": "stdout",
     "output_type": "stream",
     "text": [
      "2020-09-03 09:56:47, INFO: Creating Scenario\n",
      "2020-09-03 09:56:47, INFO: Creating Scenario\n"
     ]
    },
    {
     "data": {
      "text/plain": [
       "['6th Street Transitway',\n",
       " 'Improve Express Bus Frequency B',\n",
       " 'Blue Line Service Enhancement A',\n",
       " 'Blue Line Service Enhancement C',\n",
       " 'Blue Line Service Enhancement B',\n",
       " 'Blue Line Service Enhancement D',\n",
       " '6th St E Road Diet',\n",
       " 'Improve Express Bus Frequency']"
      ]
     },
     "execution_count": 11,
     "metadata": {},
     "output_type": "execute_result"
    }
   ],
   "source": [
    "my_scenario_build_alt1 = Scenario.create_scenario(\n",
    "    base_scenario=my_scenario_nobuild.__dict__,\n",
    "    project_card_filepath=BUILD_CARD_FILENAMES,\n",
    ")\n",
    "\n",
    "my_scenario_build_alt1.applied_projects"
   ]
  },
  {
   "cell_type": "code",
   "execution_count": 12,
   "metadata": {},
   "outputs": [],
   "source": [
    "## Apply Build Scenario Projects"
   ]
  },
  {
   "cell_type": "code",
   "execution_count": 13,
   "metadata": {},
   "outputs": [
    {
     "name": "stdout",
     "output_type": "stream",
     "text": [
      "2020-09-03 09:57:07, INFO: Applying test managed lane project\n",
      "2020-09-03 09:57:07, INFO: Applying test managed lane project\n",
      "2020-09-03 09:57:07, INFO: Applying Project to Roadway Network: test managed lane project\n",
      "2020-09-03 09:57:07, INFO: Applying Project to Roadway Network: test managed lane project\n"
     ]
    }
   ],
   "source": [
    "my_scenario_build_alt1.apply_all_projects()"
   ]
  },
  {
   "cell_type": "code",
   "execution_count": 14,
   "metadata": {},
   "outputs": [
    {
     "data": {
      "text/plain": [
       "['6th Street Transitway',\n",
       " 'Improve Express Bus Frequency B',\n",
       " 'Blue Line Service Enhancement A',\n",
       " 'Blue Line Service Enhancement C',\n",
       " 'Blue Line Service Enhancement B',\n",
       " 'Blue Line Service Enhancement D',\n",
       " '6th St E Road Diet',\n",
       " 'Improve Express Bus Frequency',\n",
       " 'test managed lane project']"
      ]
     },
     "execution_count": 14,
     "metadata": {},
     "output_type": "execute_result"
    }
   ],
   "source": [
    "my_scenario_build_alt1.applied_projects"
   ]
  },
  {
   "cell_type": "code",
   "execution_count": null,
   "metadata": {},
   "outputs": [],
   "source": []
  }
 ],
 "metadata": {
  "kernelspec": {
   "display_name": "wrangler",
   "language": "python",
   "name": "python3"
  },
  "language_info": {
   "codemirror_mode": {
    "name": "ipython",
    "version": 3
   },
   "file_extension": ".py",
   "mimetype": "text/x-python",
   "name": "python",
   "nbconvert_exporter": "python",
   "pygments_lexer": "ipython3",
   "version": "3.10.10"
  },
  "vscode": {
   "interpreter": {
    "hash": "5cfb67e0b2744a84e81e5a9906808c277839f4126dccc23f819e7f035f52be10"
   }
  }
 },
 "nbformat": 4,
 "nbformat_minor": 2
}
