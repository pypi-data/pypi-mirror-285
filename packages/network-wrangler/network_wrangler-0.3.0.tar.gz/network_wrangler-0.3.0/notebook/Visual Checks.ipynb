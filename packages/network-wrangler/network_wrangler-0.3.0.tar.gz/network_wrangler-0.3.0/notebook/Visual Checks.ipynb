{
 "cells": [
  {
   "attachments": {},
   "cell_type": "markdown",
   "metadata": {},
   "source": [
    "## Scenario Visualization\n",
    "The purpose of this notebook is to visualize the projects in a scenario that you constructed."
   ]
  },
  {
   "cell_type": "code",
   "execution_count": 232,
   "metadata": {},
   "outputs": [],
   "source": [
    "import os\n",
    "import sys\n",
    "import pandas as pd\n",
    "import network_wrangler as wr\n",
    "\n",
    "from ipywidgets import Output, HTML\n",
    "from IPython.display import display\n",
    "\n",
    "%config IPCompleter.greedy=True\n",
    "import warnings\n",
    "\n",
    "warnings.filterwarnings(\"ignore\")\n",
    "pd.set_option(\"display.max_columns\", None)\n",
    "pd.set_option(\"display.max_colwidth\", 1000)\n",
    "\n",
    "import logging\n",
    "\n",
    "logger = logging.getLogger(\"WranglerLogger\")\n",
    "logger.handlers[0].stream = sys.stdout\n",
    "# if you don't want to see so much detail, set to logging.INFO or DEBUG\n",
    "logger.setLevel(logging.INFO)"
   ]
  },
  {
   "cell_type": "code",
   "execution_count": 2,
   "metadata": {},
   "outputs": [],
   "source": [
    "%load_ext autoreload\n",
    "%autoreload 2"
   ]
  },
  {
   "cell_type": "code",
   "execution_count": 3,
   "metadata": {},
   "outputs": [
    {
     "name": "stdout",
     "output_type": "stream",
     "text": [
      "Once deleted, variables cannot be recovered. Proceed (y/[n])? n\n",
      "Nothing done.\n"
     ]
    }
   ],
   "source": [
    "# if you need to reset variables in the notebook\n",
    "%reset"
   ]
  },
  {
   "attachments": {},
   "cell_type": "markdown",
   "metadata": {},
   "source": [
    "### Define Base Files, Networks, and Scenario"
   ]
  },
  {
   "cell_type": "code",
   "execution_count": 4,
   "metadata": {},
   "outputs": [],
   "source": [
    "STPAUL_DIR = os.path.join(os.getcwd(), \"../\", \"examples\", \"stpaul\")\n",
    "STPAUL_SHAPE_FILE = os.path.join(STPAUL_DIR, \"shape.geojson\")\n",
    "STPAUL_LINK_FILE = os.path.join(STPAUL_DIR, \"link.json\")\n",
    "STPAUL_NODE_FILE = os.path.join(STPAUL_DIR, \"node.geojson\")"
   ]
  },
  {
   "cell_type": "code",
   "execution_count": 5,
   "metadata": {},
   "outputs": [
    {
     "name": "stdout",
     "output_type": "stream",
     "text": [
      "2020-09-03 15:13:38, INFO: Reading from following files:\n",
      "-/Users/elizabeth/Documents/urbanlabs/MetCouncil/working/network_wrangler/notebook/../examples/stpaul/link.json\n",
      "-/Users/elizabeth/Documents/urbanlabs/MetCouncil/working/network_wrangler/notebook/../examples/stpaul/node.geojson\n",
      "-/Users/elizabeth/Documents/urbanlabs/MetCouncil/working/network_wrangler/notebook/../examples/stpaul/shape.geojson.\n",
      "2020-09-03 15:13:38, INFO: Reading from following files:\n",
      "-/Users/elizabeth/Documents/urbanlabs/MetCouncil/working/network_wrangler/notebook/../examples/stpaul/link.json\n",
      "-/Users/elizabeth/Documents/urbanlabs/MetCouncil/working/network_wrangler/notebook/../examples/stpaul/node.geojson\n",
      "-/Users/elizabeth/Documents/urbanlabs/MetCouncil/working/network_wrangler/notebook/../examples/stpaul/shape.geojson.\n",
      "2020-09-03 15:13:44, INFO: Read 66253 links from /Users/elizabeth/Documents/urbanlabs/MetCouncil/working/network_wrangler/notebook/../examples/stpaul/link.json\n",
      "2020-09-03 15:13:44, INFO: Read 66253 links from /Users/elizabeth/Documents/urbanlabs/MetCouncil/working/network_wrangler/notebook/../examples/stpaul/link.json\n",
      "2020-09-03 15:13:44, INFO: Read 17159 nodes from /Users/elizabeth/Documents/urbanlabs/MetCouncil/working/network_wrangler/notebook/../examples/stpaul/node.geojson\n",
      "2020-09-03 15:13:44, INFO: Read 17159 nodes from /Users/elizabeth/Documents/urbanlabs/MetCouncil/working/network_wrangler/notebook/../examples/stpaul/node.geojson\n",
      "2020-09-03 15:13:44, INFO: Read 66253 shapes from /Users/elizabeth/Documents/urbanlabs/MetCouncil/working/network_wrangler/notebook/../examples/stpaul/shape.geojson\n",
      "2020-09-03 15:13:44, INFO: Read 66253 shapes from /Users/elizabeth/Documents/urbanlabs/MetCouncil/working/network_wrangler/notebook/../examples/stpaul/shape.geojson\n"
     ]
    }
   ],
   "source": [
    "road_net = wr.load_roadway(\n",
    "    links_file=STPAUL_LINK_FILE,\n",
    "    nodes_file=STPAUL_NODE_FILE,\n",
    "    shapes_file=STPAUL_SHAPE_FILE,\n",
    ")"
   ]
  },
  {
   "cell_type": "code",
   "execution_count": 6,
   "metadata": {},
   "outputs": [
    {
     "name": "stdout",
     "output_type": "stream",
     "text": [
      "2020-09-03 15:13:56, INFO: Read in transit feed from: /Users/elizabeth/Documents/urbanlabs/MetCouncil/working/network_wrangler/notebook/../examples/stpaul\n",
      "2020-09-03 15:13:56, INFO: Read in transit feed from: /Users/elizabeth/Documents/urbanlabs/MetCouncil/working/network_wrangler/notebook/../examples/stpaul\n",
      "2020-09-03 15:13:56, DEBUG: ...agency.txt:\n",
      "  agency_id       agency_name                   agency_url  agency_timezone  \\\n",
      "0         0     Metro Transit  http://www.metrotransit.org  America/Chicago   \n",
      "1         2     Metro Transit  http://www.metrotransit.org  America/Chicago   \n",
      "2         3  Minnesota Valley          http://www.mvta.com  America/Chicago   \n",
      "\n",
      "  agency_lang  \n",
      "0          EN  \n",
      "1          EN  \n",
      "2          EN  \n",
      "2020-09-03 15:13:56, DEBUG: ...routes.txt:\n",
      "  route_id agency_id route_short_name  \\\n",
      "0    3-111         0                3   \n",
      "1   16-111         2               16   \n",
      "2   21-111         0               21   \n",
      "3   53-111         0               53   \n",
      "4   62-111         0               62   \n",
      "5   67-111         0               67   \n",
      "6   70-111         0               70   \n",
      "7   71-111         0               71   \n",
      "8   75-111         0               75   \n",
      "9   94-111         0               94   \n",
      "\n",
      "                                    route_long_name route_desc  route_type  \\\n",
      "0   U of M - Como Av - Energy Park Dr - Maryland Av        NaN           3   \n",
      "1                            University Av - Midway        NaN           3   \n",
      "2             Uptown - Lake St - Midway - Selby  Av        NaN           3   \n",
      "3         Ltd Stop - Uptown - Lake St - Marshall Av        NaN           3   \n",
      "4  Shoreview - Little Canada - Rice St Signal Hills        NaN           3   \n",
      "5        W Minnehaha Av - Raymond Sta - Franklin Av        NaN           3   \n",
      "6        St Clair Av - W 7th St - Burns Av - Sunray        NaN           3   \n",
      "7  Little Canada - Edgerton - Concord - Inver Hills        NaN           3   \n",
      "8   Stryker - Robert - Mendota Hts - Lake Cove Apts        NaN           3   \n",
      "9                          Express - Mpls - St Paul        NaN           3   \n",
      "\n",
      "                              route_url route_color route_text_color  \n",
      "0   http://www.metrotransit.org/route/3         NaN           000000  \n",
      "1  http://www.metrotransit.org/route/16         NaN           000000  \n",
      "2  http://www.metrotransit.org/route/21         NaN           000000  \n",
      "3  http://www.metrotransit.org/route/53         NaN           000000  \n",
      "4  http://www.metrotransit.org/route/62         NaN           000000  \n",
      "5  http://www.metrotransit.org/route/67         NaN           000000  \n",
      "6  http://www.metrotransit.org/route/70         NaN           000000  \n",
      "7  http://www.metrotransit.org/route/71         NaN           000000  \n",
      "8  http://www.metrotransit.org/route/75         NaN           000000  \n",
      "9  http://www.metrotransit.org/route/94         NaN           000000  \n",
      "2020-09-03 15:13:56, DEBUG: ...calendar.txt:\n",
      "Empty DataFrame\n",
      "Columns: [service_id, monday, tuesday, wednesday, thursday, friday, saturday, sunday, start_date, end_date]\n",
      "Index: []\n",
      "2020-09-03 15:13:56, INFO: Removing calendar.txt from transit network config because file not found\n",
      "2020-09-03 15:13:56, INFO: Removing calendar.txt from transit network config because file not found\n",
      "2020-09-03 15:13:56, DEBUG: ...trips.txt:\n",
      "  route_id                service_id                            trip_id  \\\n",
      "0  452-111  JUN19-MVS-BUS-Weekday-01  14940701-JUN19-MVS-BUS-Weekday-01   \n",
      "1    3-111  JUN19-MVS-BUS-Weekday-01  14941148-JUN19-MVS-BUS-Weekday-01   \n",
      "2    3-111  JUN19-MVS-BUS-Weekday-01  14941151-JUN19-MVS-BUS-Weekday-01   \n",
      "3    3-111  JUN19-MVS-BUS-Weekday-01  14941153-JUN19-MVS-BUS-Weekday-01   \n",
      "4    3-111  JUN19-MVS-BUS-Weekday-01  14941163-JUN19-MVS-BUS-Weekday-01   \n",
      "5  417-111  JUN19-MVS-BUS-Weekday-01  14942968-JUN19-MVS-BUS-Weekday-01   \n",
      "6  294-111  JUN19-MVS-BUS-Weekday-01  14943414-JUN19-MVS-BUS-Weekday-01   \n",
      "7  294-111  JUN19-MVS-BUS-Weekday-01  14943415-JUN19-MVS-BUS-Weekday-01   \n",
      "8   21-111  JUN19-MVS-BUS-Weekday-01  14944012-JUN19-MVS-BUS-Weekday-01   \n",
      "9   21-111  JUN19-MVS-BUS-Weekday-01  14944018-JUN19-MVS-BUS-Weekday-01   \n",
      "\n",
      "                                       trip_headsign  direction_id block_id  \\\n",
      "0               Westbound 452  Express / Minneapolis             1     1874   \n",
      "1     Eastbound 3B Como Av/St Paul - Depot/Via Front             0     1018   \n",
      "2     Westbound 3B Como-Front/Dwtn Mpls/Target Field             1     1017   \n",
      "3     Westbound 3B Como-Front/Dwtn Mpls/Target Field             1     1017   \n",
      "4     Eastbound 3B Como Av/St Paul - Depot/Via Front             0     1036   \n",
      "5          Northbound 417 Ltd Stop/ Dodd Rd/ St Paul             0    31290   \n",
      "6                   Westbound 294  Express / St Paul             1     1576   \n",
      "7  Eastbound 294 Express/St Crx P&R/Via 4 Front Tech             0     1649   \n",
      "8                Eastbound 21A  Selby-Lake / St Paul             0     1385   \n",
      "9                Eastbound 21A  Selby-Lake / St Paul             0     1384   \n",
      "\n",
      "  shape_id  wheelchair_accessible trip_destination trip_short_name  \\\n",
      "0  4520004                    1.0              NaN             NaN   \n",
      "1    30009                    1.0              NaN             NaN   \n",
      "2    30014                    1.0              NaN             NaN   \n",
      "3    30014                    1.0              NaN             NaN   \n",
      "4    30009                    1.0              NaN             NaN   \n",
      "5  4170001                    1.0              NaN             NaN   \n",
      "6  2940002                    1.0              NaN             NaN   \n",
      "7  2940004                    1.0              NaN             NaN   \n",
      "8   210002                    1.0              NaN             NaN   \n",
      "9   210002                    1.0              NaN             NaN   \n",
      "\n",
      "  trip_route_name pub_dir_id rm_block_id  \n",
      "0             NaN        NaN         NaN  \n",
      "1             NaN        NaN         NaN  \n",
      "2             NaN        NaN         NaN  \n",
      "3             NaN        NaN         NaN  \n",
      "4             NaN        NaN         NaN  \n",
      "5             NaN        NaN         NaN  \n",
      "6             NaN        NaN         NaN  \n",
      "7             NaN        NaN         NaN  \n",
      "8             NaN        NaN         NaN  \n",
      "9             NaN        NaN         NaN  \n",
      "2020-09-03 15:13:56, DEBUG: ...calendar_dates.txt:\n",
      "Empty DataFrame\n",
      "Columns: [service_id, date, exception_type]\n",
      "Index: []\n",
      "2020-09-03 15:13:56, INFO: Removing calendar_dates.txt from transit network config because file not found\n",
      "2020-09-03 15:13:56, INFO: Removing calendar_dates.txt from transit network config because file not found\n",
      "2020-09-03 15:13:56, DEBUG: ...fare_attributes.txt:\n",
      "Empty DataFrame\n",
      "Columns: [fare_id, price, currency_type, payment_method, transfers]\n",
      "Index: []\n",
      "2020-09-03 15:13:56, INFO: Removing fare_attributes.txt from transit network config because file not found\n",
      "2020-09-03 15:13:56, INFO: Removing fare_attributes.txt from transit network config because file not found\n",
      "2020-09-03 15:13:56, DEBUG: ...fare_rules.txt:\n",
      "Empty DataFrame\n",
      "Columns: [fare_id]\n",
      "Index: []\n",
      "2020-09-03 15:13:56, INFO: Removing fare_rules.txt from transit network config because file not found\n",
      "2020-09-03 15:13:56, INFO: Removing fare_rules.txt from transit network config because file not found\n",
      "2020-09-03 15:13:56, DEBUG: ...stops.txt:\n",
      "  stop_id stop_code                        stop_name      stop_desc  \\\n",
      "0   10037       NaN       Fillmore Ave E & Robert St     Far side E   \n",
      "1   10039       NaN        Fillmore Ave E & State St    Near side E   \n",
      "2   10040       NaN  Fillmore Ave E & Lafayette Rd W    Near side E   \n",
      "3   10041       NaN  Fillmore Ave E & Lafayette Rd E    Mid block E   \n",
      "4   10042       NaN   Fillmore Ave E & Ridder Circle    Near side S   \n",
      "5   10044       NaN          Plato Blvd & Chester St     Far side W   \n",
      "6   10045       NaN            Plato Blvd & State St    Near side W   \n",
      "7   10046       NaN              Plato Blvd & Eva St    Near side W   \n",
      "8   10048       NaN         Cesar Chavez St & Ada St  Across from E   \n",
      "9   10050       NaN   Cesar Chavez St & Bancroft Ave  Across from S   \n",
      "\n",
      "    stop_lat   stop_lon zone_id  \\\n",
      "0  44.941361 -93.084769     NaN   \n",
      "1  44.943261 -93.080287     NaN   \n",
      "2  44.943613 -93.078382     NaN   \n",
      "3  44.943831 -93.075466     NaN   \n",
      "4  44.943484 -93.073947     NaN   \n",
      "5  44.941021 -93.073295     NaN   \n",
      "6  44.939498 -93.077998     NaN   \n",
      "7  44.939186 -93.080285     NaN   \n",
      "8  44.929481 -93.076961     NaN   \n",
      "9  44.928429 -93.073356     NaN   \n",
      "\n",
      "                                                         stop_url  \\\n",
      "0  http://www.metrotransit.org/NexTripBadge.aspx?stopnumber=10037   \n",
      "1  http://www.metrotransit.org/NexTripBadge.aspx?stopnumber=10039   \n",
      "2  http://www.metrotransit.org/NexTripBadge.aspx?stopnumber=10040   \n",
      "3  http://www.metrotransit.org/NexTripBadge.aspx?stopnumber=10041   \n",
      "4  http://www.metrotransit.org/NexTripBadge.aspx?stopnumber=10042   \n",
      "5  http://www.metrotransit.org/NexTripBadge.aspx?stopnumber=10044   \n",
      "6  http://www.metrotransit.org/NexTripBadge.aspx?stopnumber=10045   \n",
      "7  http://www.metrotransit.org/NexTripBadge.aspx?stopnumber=10046   \n",
      "8  http://www.metrotransit.org/NexTripBadge.aspx?stopnumber=10048   \n",
      "9  http://www.metrotransit.org/NexTripBadge.aspx?stopnumber=10050   \n",
      "\n",
      "   location_type  wheelchair_boarding model_node_id osm_node_id  \\\n",
      "0              0                  1.0         57992   187891416   \n",
      "1              0                  2.0         46975   187868185   \n",
      "2              0                  2.0         57958   187891352   \n",
      "3              0                  2.0         53127   187880229   \n",
      "4              0                  2.0        134910   685094533   \n",
      "5              0                  1.0         75345   652981907   \n",
      "6              0                  1.0         75331   652981874   \n",
      "7              0                  1.0         75328   652981865   \n",
      "8              0                  1.0         73016   187931000   \n",
      "9              0                  1.0         50291   187874284   \n",
      "\n",
      "                          node_ssid parent_station  \n",
      "0  98e48a4ff360a8833c1f04b975fb8f73            NaN  \n",
      "1  1203d85e0764f1e36a8a598977364db0            NaN  \n",
      "2  3127e296d73928bc1cec808a7acd6d3a            NaN  \n",
      "3  0c017fc146f71e6b5e8fb8ad17e95fd5            NaN  \n",
      "4  7d8495c9a972d3a5610639e4765aa0b2            NaN  \n",
      "5  60fb130174d6fe9448d03fec65881fc3            NaN  \n",
      "6  0191e96771fbdd9bd1ea7384a0f6ce4d            NaN  \n",
      "7  6a77d7a489e09b13192fff19ff715337            NaN  \n",
      "8  76337cafa350f64fe6d48d50cea4722e            NaN  \n",
      "9  19f4dd39177ae8afa146824d7a990775            NaN  \n"
     ]
    },
    {
     "name": "stdout",
     "output_type": "stream",
     "text": [
      "2020-09-03 15:13:56, DEBUG: ...frequencies.txt:\n",
      "                             trip_id  headway_secs  start_time  end_time\n",
      "0  14940701-JUN19-MVS-BUS-Weekday-01          3600     21600.0   32400.0\n",
      "1  14941148-JUN19-MVS-BUS-Weekday-01           830     21600.0   32400.0\n",
      "2  14941151-JUN19-MVS-BUS-Weekday-01           540     21600.0   32400.0\n",
      "3  14941153-JUN19-MVS-BUS-Weekday-01           696     32400.0   54000.0\n",
      "4  14941163-JUN19-MVS-BUS-Weekday-01           830     32400.0   54000.0\n",
      "5  14942968-JUN19-MVS-BUS-Weekday-01          5400     21600.0   32400.0\n",
      "6  14943414-JUN19-MVS-BUS-Weekday-01          2160     21600.0   32400.0\n",
      "7  14943415-JUN19-MVS-BUS-Weekday-01          5400     21600.0   32400.0\n",
      "8  14944012-JUN19-MVS-BUS-Weekday-01           553     32400.0   54000.0\n",
      "9  14944018-JUN19-MVS-BUS-Weekday-01           720     21600.0   32400.0\n",
      "2020-09-03 15:13:56, DEBUG: ...shapes.txt:\n",
      "  shape_id  shape_pt_lat  shape_pt_lon  shape_pt_sequence shape_osm_node_id  \\\n",
      "0  4520004     44.923257    -93.067060                 55         507955865   \n",
      "1  4520004     44.930632    -93.071166                 56         507951624   \n",
      "2  4520004     44.932669    -93.071710                 57         507951633   \n",
      "3  4520004     44.939445    -93.075273                 58         507951645   \n",
      "4  4520004     44.943056    -93.076998                 59        2548150957   \n",
      "5  4520004     44.951951    -93.081687                 60        2291969930   \n",
      "6  4520004     44.952673    -93.083884                 61         187872060   \n",
      "7  4520004     44.952707    -93.087583                 62         961117649   \n",
      "8  4520004     44.954043    -93.089649                 63         961116213   \n",
      "9  4520004     44.952407    -93.096553                 64         961086473   \n",
      "\n",
      "  shape_model_node_id  \n",
      "0              152495  \n",
      "1              151635  \n",
      "2              151637  \n",
      "3              151641  \n",
      "4               23834  \n",
      "5              108658  \n",
      "6               49113  \n",
      "7               19614  \n",
      "8               19288  \n",
      "9               11354  \n",
      "2020-09-03 15:13:56, DEBUG: ...stop_times.txt:\n",
      "                             trip_id  arrival_time  departure_time stop_id  \\\n",
      "0  14941148-JUN19-MVS-BUS-Weekday-01           0.0             0.0   18618   \n",
      "1  14941148-JUN19-MVS-BUS-Weekday-01          60.0            60.0   18619   \n",
      "2  14941148-JUN19-MVS-BUS-Weekday-01          60.0            60.0   18621   \n",
      "3  14941148-JUN19-MVS-BUS-Weekday-01         120.0           120.0     948   \n",
      "4  14941148-JUN19-MVS-BUS-Weekday-01         120.0           120.0     950   \n",
      "5  14941148-JUN19-MVS-BUS-Weekday-01         180.0           180.0     952   \n",
      "6  14941148-JUN19-MVS-BUS-Weekday-01         180.0           180.0     954   \n",
      "7  14941148-JUN19-MVS-BUS-Weekday-01         240.0           240.0     956   \n",
      "8  14941148-JUN19-MVS-BUS-Weekday-01         240.0           240.0     957   \n",
      "9  14941148-JUN19-MVS-BUS-Weekday-01         300.0           300.0     958   \n",
      "\n",
      "   stop_sequence  pickup_type drop_off_type stop_distance  timepoint  \\\n",
      "0             46            0             0           NaN        NaN   \n",
      "1             47            0             0           NaN        NaN   \n",
      "2             48            0             0           NaN        NaN   \n",
      "3             49            0             0           NaN        NaN   \n",
      "4             50            0             0           NaN        NaN   \n",
      "5             51            0             0           NaN        NaN   \n",
      "6             52            0             0           NaN        NaN   \n",
      "7             53            0             0           NaN        NaN   \n",
      "8             54            0             0           NaN        NaN   \n",
      "9             55            0             0           NaN        NaN   \n",
      "\n",
      "  stop_is_skipped  \n",
      "0             NaN  \n",
      "1             NaN  \n",
      "2             NaN  \n",
      "3             NaN  \n",
      "4             NaN  \n",
      "5             NaN  \n",
      "6             NaN  \n",
      "7             NaN  \n",
      "8             NaN  \n",
      "9             NaN  \n",
      "2020-09-03 15:13:56, DEBUG: ...transfers.txt:\n",
      "Empty DataFrame\n",
      "Columns: [from_stop_id, to_stop_id, transfer_type, min_transfer_time]\n",
      "Index: []\n",
      "2020-09-03 15:13:56, INFO: Removing transfers.txt from transit network config because file not found\n",
      "2020-09-03 15:13:56, INFO: Removing transfers.txt from transit network config because file not found\n",
      "2020-09-03 15:13:56, DEBUG: ...feed_info.txt:\n",
      "Empty DataFrame\n",
      "Columns: [feed_publisher_name, feed_publisher_url, feed_lang]\n",
      "Index: []\n",
      "2020-09-03 15:13:56, INFO: Removing feed_info.txt from transit network config because file not found\n",
      "2020-09-03 15:13:56, INFO: Removing feed_info.txt from transit network config because file not found\n"
     ]
    }
   ],
   "source": [
    "transit_net = wr.load_transit(STPAUL_DIR)"
   ]
  },
  {
   "cell_type": "code",
   "execution_count": 7,
   "metadata": {},
   "outputs": [],
   "source": [
    "base_scenario = {\n",
    "    \"road_net\": road_net,\n",
    "    \"transit_net\": transit_net,\n",
    "}"
   ]
  },
  {
   "attachments": {},
   "cell_type": "markdown",
   "metadata": {},
   "source": [
    "### Build a Scenario by Specifying Specific Project Cards"
   ]
  },
  {
   "cell_type": "code",
   "execution_count": 8,
   "metadata": {},
   "outputs": [],
   "source": [
    "BUILD_CARD_FILENAMES = [\n",
    "    \"road.prop_changes.multiple.yml\",\n",
    "    \"roadway.prop_changes.segment.yml\",\n",
    "    \"road.managed_lane.simple.yml\",\n",
    "]"
   ]
  },
  {
   "cell_type": "code",
   "execution_count": 308,
   "metadata": {},
   "outputs": [
    {
     "name": "stdout",
     "output_type": "stream",
     "text": [
      "2020-09-04 22:05:45, INFO: Creating Scenario\n",
      "2020-09-04 22:05:45, INFO: Creating Scenario\n",
      "2020-09-04 22:05:45, INFO: Applying test managed lane project\n",
      "2020-09-04 22:05:45, INFO: Applying test managed lane project\n",
      "2020-09-04 22:05:45, INFO: Applying Project to Roadway Network: test managed lane project\n",
      "2020-09-04 22:05:45, INFO: Applying Project to Roadway Network: test managed lane project\n",
      "2020-09-04 22:05:45, INFO: Applying road diet on one way couplet 5th and 6th\n",
      "2020-09-04 22:05:45, INFO: Applying road diet on one way couplet 5th and 6th\n",
      "2020-09-04 22:05:45, INFO: Applying road diet on one way couplet 5th and 6th\n",
      "2020-09-04 22:05:45, INFO: Applying road diet on one way couplet 5th and 6th\n",
      "2020-09-04 22:05:45, INFO: Applying Project to Roadway Network: road diet on one way couplet 5th and 6th\n",
      "2020-09-04 22:05:45, INFO: Applying Project to Roadway Network: road diet on one way couplet 5th and 6th\n",
      "2020-09-04 22:05:45, INFO: Applying road diet on one way couplet 5th and 6th\n",
      "2020-09-04 22:05:45, INFO: Applying road diet on one way couplet 5th and 6th\n",
      "2020-09-04 22:05:45, INFO: Applying Project to Roadway Network: road diet on one way couplet 5th and 6th\n",
      "2020-09-04 22:05:45, INFO: Applying Project to Roadway Network: road diet on one way couplet 5th and 6th\n",
      "2020-09-04 22:05:45, INFO: Applying 6th Street Transitway\n",
      "2020-09-04 22:05:45, INFO: Applying 6th Street Transitway\n",
      "2020-09-04 22:05:45, INFO: Applying Project to Roadway Network: 6th Street Transitway\n",
      "2020-09-04 22:05:45, INFO: Applying Project to Roadway Network: 6th Street Transitway\n"
     ]
    }
   ],
   "source": [
    "my_scenario = wr.create_scenario(\n",
    "    base_scenario=base_scenario, project_card_filepath=BUILD_CARD_FILENAMES\n",
    ")\n",
    "my_scenario.apply_all_projects()"
   ]
  },
  {
   "cell_type": "code",
   "execution_count": 10,
   "metadata": {},
   "outputs": [
    {
     "data": {
      "text/plain": [
       "['test managed lane project',\n",
       " 'road diet on one way couplet 5th and 6th',\n",
       " '6th Street Transitway']"
      ]
     },
     "execution_count": 10,
     "metadata": {},
     "output_type": "execute_result"
    }
   ],
   "source": [
    "my_scenario.applied_projects"
   ]
  },
  {
   "attachments": {},
   "cell_type": "markdown",
   "metadata": {},
   "source": [
    "## Project Summaries\n",
    "\n",
    "The method `Scenario.applied_project_card_summary()` "
   ]
  },
  {
   "cell_type": "code",
   "execution_count": 307,
   "metadata": {},
   "outputs": [
    {
     "name": "stdout",
     "output_type": "stream",
     "text": [
      "2020-09-04 22:05:38, INFO: Summarizing Scenario\n",
      "2020-09-04 22:05:38, INFO: Summarizing Scenario\n"
     ]
    }
   ],
   "source": [
    "scenario_summary = my_scenario.scenario_summary()"
   ]
  },
  {
   "cell_type": "code",
   "execution_count": 193,
   "metadata": {},
   "outputs": [],
   "source": [
    "with out:\n",
    "    display(HTML(scenario_summary))"
   ]
  },
  {
   "cell_type": "code",
   "execution_count": 306,
   "metadata": {},
   "outputs": [],
   "source": [
    "with out:\n",
    "    for pc in my_scenario.project_cards:\n",
    "        s = my_scenario.applied_project_card_summary(pc.__dict__)\n",
    "        display(HTML(\"<h2>PROJECT CARD: \" + pc.project + \"</h2><hr>\"))\n",
    "        display(HTML(\"<var>Source File:</var><code>\" + pc.file + \"</code>\"))\n",
    "        display(HTML(\"<b>Changes in project: \" + str(s[\"total_parts\"]) + \"</b>\"))\n",
    "        for p in range(s[\"total_parts\"]):\n",
    "            part = \"Part \" + str(p + 1)\n",
    "            part_summary = s[part]\n",
    "            display(\n",
    "                HTML(\n",
    "                    \"<h3>\"\n",
    "                    + part_summary[\"project\"]\n",
    "                    + \"</h3></br><var>Change Category:</var>\"\n",
    "                    + part_summary[\"category\"]\n",
    "                )\n",
    "            )\n",
    "            display(part_summary)\n",
    "            display(part_summary[\"map\"])"
   ]
  },
  {
   "cell_type": "code",
   "execution_count": 304,
   "metadata": {},
   "outputs": [],
   "source": [
    "out = Output(\n",
    "    layout={\n",
    "        \"height\": \"auto\",\n",
    "        \"width\": \"98%\",\n",
    "        \"border\": \"4px solid grey\",\n",
    "        \"overflow_y\": \"visible\",\n",
    "        \"right-margin\": \"15px\",\n",
    "        \"padding\": \"5px\",\n",
    "        \"object_fit\": \"scale-down\",\n",
    "    }\n",
    ")\n",
    "out.clear_output(wait=True)"
   ]
  },
  {
   "cell_type": "code",
   "execution_count": 305,
   "metadata": {},
   "outputs": [
    {
     "data": {
      "application/vnd.jupyter.widget-view+json": {
       "model_id": "b43066288ae941249266e7a641be9303",
       "version_major": 2,
       "version_minor": 0
      },
      "text/plain": [
       "Output(layout=Layout(border='4px solid grey', height='auto', object_fit='scale-down', overflow_y='visible', pa…"
      ]
     },
     "metadata": {},
     "output_type": "display_data"
    }
   ],
   "source": [
    "out"
   ]
  },
  {
   "cell_type": "code",
   "execution_count": null,
   "metadata": {},
   "outputs": [],
   "source": []
  }
 ],
 "metadata": {
  "kernelspec": {
   "display_name": "wrangler",
   "language": "python",
   "name": "python3"
  },
  "language_info": {
   "codemirror_mode": {
    "name": "ipython",
    "version": 3
   },
   "file_extension": ".py",
   "mimetype": "text/x-python",
   "name": "python",
   "nbconvert_exporter": "python",
   "pygments_lexer": "ipython3",
   "version": "3.10.10"
  },
  "vscode": {
   "interpreter": {
    "hash": "5cfb67e0b2744a84e81e5a9906808c277839f4126dccc23f819e7f035f52be10"
   }
  }
 },
 "nbformat": 4,
 "nbformat_minor": 2
}
