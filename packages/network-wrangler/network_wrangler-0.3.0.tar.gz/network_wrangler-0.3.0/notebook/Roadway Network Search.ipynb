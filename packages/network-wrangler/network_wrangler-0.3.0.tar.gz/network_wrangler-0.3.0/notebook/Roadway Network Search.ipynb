{
 "cells": [
  {
   "cell_type": "markdown",
   "metadata": {},
   "source": [
    "# Roadway Network Search\n",
    "The purpose of this notebook is to understand and visualize how Network Wrangler conducts searches. \n",
    "It can also be used as a template to troubleshoot or check specific searches."
   ]
  },
  {
   "cell_type": "code",
   "execution_count": 1,
   "metadata": {},
   "outputs": [],
   "source": [
    "import os\n",
    "import warnings\n",
    "\n",
    "import folium\n",
    "import osmnx as ox\n",
    "import pandas as pd\n",
    "\n",
    "from network_wrangler.roadway.network import RoadwayNetwork, load_roadway\n",
    "from projectcard import ProjectCard\n",
    "\n",
    "%config IPCompleter.greedy=True\n",
    "pd.set_option(\"display.max_columns\", None)\n",
    "\n",
    "warnings.filterwarnings(\"ignore\")"
   ]
  },
  {
   "cell_type": "code",
   "execution_count": 2,
   "metadata": {},
   "outputs": [],
   "source": [
    "%load_ext autoreload\n",
    "%autoreload 2"
   ]
  },
  {
   "cell_type": "code",
   "execution_count": 3,
   "metadata": {},
   "outputs": [
    {
     "name": "stdout",
     "output_type": "stream",
     "text": [
      "Once deleted, variables cannot be recovered. Proceed (y/[n])? n\n",
      "Nothing done.\n"
     ]
    }
   ],
   "source": [
    "# if you need to reset variables in the notebook\n",
    "%reset"
   ]
  },
  {
   "cell_type": "code",
   "execution_count": 3,
   "metadata": {},
   "outputs": [],
   "source": [
    "import logging\n",
    "import sys\n",
    "\n",
    "logger = logging.getLogger(\"WranglerLogger\")\n",
    "logger.handlers[0].stream = sys.stdout\n",
    "\n",
    "# set to logging.INFO for less detail or logging.DEBUG for more\n",
    "logger.setLevel(logging.DEBUG)"
   ]
  },
  {
   "cell_type": "markdown",
   "metadata": {},
   "source": [
    "# 1 - Load Network\n",
    "\n",
    " - Read the network files into the `RoadwayNetwork` class"
   ]
  },
  {
   "cell_type": "code",
   "execution_count": 4,
   "metadata": {},
   "outputs": [],
   "source": [
    "STPAUL_DIR = os.path.join(os.path.dirname(os.getcwd()), \"examples\", \"stpaul\")\n",
    "STPAUL_SHAPE_FILE = os.path.join(STPAUL_DIR, \"shape.geojson\")\n",
    "STPAUL_LINK_FILE = os.path.join(STPAUL_DIR, \"link.json\")\n",
    "STPAUL_NODE_FILE = os.path.join(STPAUL_DIR, \"node.geojson\")"
   ]
  },
  {
   "cell_type": "code",
   "execution_count": 5,
   "metadata": {},
   "outputs": [
    {
     "name": "stdout",
     "output_type": "stream",
     "text": [
      "2022-02-18 10:07:52, INFO: Reading from following files:\n",
      "-/Users/elizabeth/Documents/urbanlabs/MetCouncil/working/network_wrangler/examples/stpaul/link.json\n",
      "-/Users/elizabeth/Documents/urbanlabs/MetCouncil/working/network_wrangler/examples/stpaul/node.geojson\n",
      "-/Users/elizabeth/Documents/urbanlabs/MetCouncil/working/network_wrangler/examples/stpaul/shape.geojson.\n",
      "2022-02-18 10:07:52, INFO: Reading from following files:\n",
      "-/Users/elizabeth/Documents/urbanlabs/MetCouncil/working/network_wrangler/examples/stpaul/link.json\n",
      "-/Users/elizabeth/Documents/urbanlabs/MetCouncil/working/network_wrangler/examples/stpaul/node.geojson\n",
      "-/Users/elizabeth/Documents/urbanlabs/MetCouncil/working/network_wrangler/examples/stpaul/shape.geojson.\n",
      "2022-02-18 10:08:03, INFO: Read 66253 links from /Users/elizabeth/Documents/urbanlabs/MetCouncil/working/network_wrangler/examples/stpaul/link.json\n",
      "2022-02-18 10:08:03, INFO: Read 66253 links from /Users/elizabeth/Documents/urbanlabs/MetCouncil/working/network_wrangler/examples/stpaul/link.json\n",
      "2022-02-18 10:08:03, INFO: Read 17159 nodes from /Users/elizabeth/Documents/urbanlabs/MetCouncil/working/network_wrangler/examples/stpaul/node.geojson\n",
      "2022-02-18 10:08:03, INFO: Read 17159 nodes from /Users/elizabeth/Documents/urbanlabs/MetCouncil/working/network_wrangler/examples/stpaul/node.geojson\n",
      "2022-02-18 10:08:03, INFO: Read 66253 shapes from /Users/elizabeth/Documents/urbanlabs/MetCouncil/working/network_wrangler/examples/stpaul/shape.geojson\n",
      "2022-02-18 10:08:03, INFO: Read 66253 shapes from /Users/elizabeth/Documents/urbanlabs/MetCouncil/working/network_wrangler/examples/stpaul/shape.geojson\n"
     ]
    }
   ],
   "source": [
    "net = load_roadway(\n",
    "    links_file=STPAUL_LINK_FILE,\n",
    "    nodes_file=STPAUL_NODE_FILE,\n",
    "    shapes_file=STPAUL_SHAPE_FILE,\n",
    ")"
   ]
  },
  {
   "attachments": {},
   "cell_type": "markdown",
   "metadata": {},
   "source": [
    "# 2 - Define Selections\n",
    "  - can be represented by dictionaries\n",
    "  - `link.name` is required unless a `link` unique ID is used (set at `links_df.params._addtl_explicit_ids`)\n",
    "  - A and B nodes should be set with a unique identifier\n",
    "  - If you want to qualify your selection farther based on attributes, you can add that as well"
   ]
  },
  {
   "cell_type": "code",
   "execution_count": 19,
   "metadata": {},
   "outputs": [],
   "source": [
    "easy_selection = {\n",
    "    \"link\": [\n",
    "        {\n",
    "            \"name\": [\"6th\", \"Sixth\", \"sixth\"]\n",
    "        },  # find streets that have one of the various forms of 6th\n",
    "    ],\n",
    "    \"A\": {\"osm_node_id\": \"187899923\"},  # start searching for segments at A\n",
    "    \"B\": {\"osm_node_id\": \"187865924\"},  # end at B\n",
    "}\n",
    "\n",
    "longer_selection = {\n",
    "    \"link\": [\n",
    "        {\n",
    "            \"name\": [\"6th\", \"Sixth\", \"sixth\"]\n",
    "        },  # find streets that have one of the various forms of 6th\n",
    "    ],\n",
    "    \"A\": {\"osm_node_id\": \"187899923\"},  # start searching for segments at A\n",
    "    \"B\": {\"osm_node_id\": \"187942339\"},  # end at B\n",
    "}\n",
    "\n",
    "multi_criteria_selection = {\n",
    "    \"link\": [\n",
    "        {\n",
    "            \"name\": [\"6th\", \"Sixth\", \"sixth\"]\n",
    "        },  # find streets that have one of the various forms of 6th\n",
    "        {\"lanes\": [1, 2]},  # from the initial selection, only select streets with 1 or 2 lanes\n",
    "    ],\n",
    "    \"A\": {\"osm_node_id\": \"187899923\"},  # start searching for segments at A\n",
    "    \"B\": {\"osm_node_id\": \"187942339\"},  # end at B\n",
    "}\n",
    "\n",
    "all_selection = {\"link\": \"all\"}"
   ]
  },
  {
   "cell_type": "markdown",
   "metadata": {},
   "source": [
    "### Selection Query\n",
    "\n",
    "This is what the selection looks like when translated into a query."
   ]
  },
  {
   "cell_type": "code",
   "execution_count": 21,
   "metadata": {},
   "outputs": [
    {
     "data": {
      "text/plain": [
       "'((lanes==1 or lanes==2) and (drive_access==1))'"
      ]
     },
     "execution_count": 21,
     "metadata": {},
     "output_type": "execute_result"
    }
   ],
   "source": [
    "S = multi_criteria_selection\n",
    "ProjectCard.build_selection_query(\n",
    "    S, unique_ids=RoadwayNetwork.UNIQUE_MODEL_LINK_IDENTIFIERS, ignore=[\"name\"]\n",
    ")"
   ]
  },
  {
   "cell_type": "markdown",
   "metadata": {},
   "source": [
    "# 3 - Run Selections\n",
    "\n",
    "  - Selections are run by feeding the selection dictionary into `select_roadway_features()` and are stored in a key which can be created by running `build_selection_key()`\n",
    "  - Becuase it doesn't take computational time, select all is not stored."
   ]
  },
  {
   "cell_type": "code",
   "execution_count": 37,
   "metadata": {},
   "outputs": [
    {
     "name": "stdout",
     "output_type": "stream",
     "text": [
      "66253\n",
      "66253\n"
     ]
    }
   ],
   "source": [
    "# Selecting all, including non roadway nodes. This is useful for creating a default.\n",
    "\n",
    "selected_ix = net.select_roadway_features(all_selection)\n",
    "all_ix = net.links_df.index.to_list()\n",
    "print(len(selected_ix))\n",
    "print(len(all_ix))\n",
    "assert selected_ix == all_ix"
   ]
  },
  {
   "cell_type": "code",
   "execution_count": 29,
   "metadata": {},
   "outputs": [
    {
     "name": "stdout",
     "output_type": "stream",
     "text": [
      "2022-02-18 10:24:46, DEBUG: validating selection\n",
      "2022-02-18 10:24:46, DEBUG: Selection Key: ('((name.str.contains(\"6th\") or name.str.contains(\"Sixth\") or name.str.contains(\"sixth\")) and (drive_access==1))', 62146, 45691)\n",
      "2022-02-18 10:24:46, DEBUG: validating selection\n",
      "2022-02-18 10:24:46, DEBUG: Selection Key: ('((name.str.contains(\"6th\") or name.str.contains(\"Sixth\") or name.str.contains(\"sixth\")) and (drive_access==1))', 62146, 77073)\n",
      "2022-02-18 10:24:46, DEBUG: validating selection\n",
      "2022-02-18 10:24:46, DEBUG: Selection Key: ('((name.str.contains(\"6th\") or name.str.contains(\"Sixth\") or name.str.contains(\"sixth\")) and (lanes==1 or lanes==2) and (drive_access==1))', 62146, 77073)\n"
     ]
    }
   ],
   "source": [
    "# default is 10, but we may want to set it higher here for debugging purposes\n",
    "# in reality, we probably want to set it lower\n",
    "RoadwayNetwork.MAX_SEARCH_BREADTH = 15\n",
    "\n",
    "net.select_roadway_features(easy_selection)\n",
    "net.select_roadway_features(longer_selection)\n",
    "net.select_roadway_features(multi_criteria_selection)\n",
    "\n",
    "easy_key = net.build_selection_key(easy_selection)\n",
    "longer_key = net.build_selection_key(longer_selection)\n",
    "multi_key = net.build_selection_key(multi_criteria_selection)"
   ]
  },
  {
   "cell_type": "markdown",
   "metadata": {},
   "source": [
    "## Search Graph\n",
    "When Network Wrangler conducts a search, it tries to navigate from A to B. If it cannot do so initially, it will expand its search graph several time until it achieves a navigable route – or reaches the maximum number of expansions which defaults to 10 but can be set higher by running `RoadwayNetwork.MAX_SEARCH_BREADTH = 15`. In production, you will want to set the search breadth low so that you don't get strange routes. \n",
    "\n",
    "The graphs for the searches are stored in the `graph` key of the `selections` attribute of the RoadwayNetwork class  in Network X format so they can be used in the future. "
   ]
  },
  {
   "cell_type": "code",
   "execution_count": 27,
   "metadata": {},
   "outputs": [],
   "source": [
    "G = net.selections[easy_key][\"graph\"]\n",
    "# G.edges\n",
    "# nx.get_edge_attributes(G,'weight')"
   ]
  },
  {
   "cell_type": "markdown",
   "metadata": {},
   "source": [
    "# 4 - Visualizing the Selection\n",
    "\n",
    "Selection visualization has been thrown into the class defined below `selection_map`.  In the future, this should be generalized and moved into Network Wrangler."
   ]
  },
  {
   "cell_type": "code",
   "execution_count": 28,
   "metadata": {},
   "outputs": [],
   "source": [
    "class selection_map:\n",
    "    def __init__(self, net, selection={}):\n",
    "        self.net = net\n",
    "        self.selection = selection\n",
    "        self.query = ProjectCard.build_selection_query(\n",
    "            selection, unique_ids=RoadwayNetwork.UNIQUE_MODEL_LINK_IDENTIFIERS\n",
    "        )\n",
    "\n",
    "        self.selection_key = net.build_selection_key(self.selection)\n",
    "\n",
    "        self.G = self.net.selections[self.selection_key][\"graph\"]\n",
    "        self.links = self.net.selections[self.selection_key][\"candidate_links\"]\n",
    "        self.A_name = self.selection_key[1]\n",
    "        self.B_name = self.selection_key[2]\n",
    "\n",
    "        self.A = self.G.nodes[self.A_name]\n",
    "        self.B = self.G.nodes[self.B_name]\n",
    "\n",
    "        self.sel_found = self.net.selections[self.selection_key][\"selection_found\"]\n",
    "        if self.sel_found:\n",
    "            self.selected_links = self.net.selections[self.selection_key][\"selected_links\"]\n",
    "            self.sp_route = self.net.selections[self.selection_key][\"route\"]\n",
    "\n",
    "    def folium_node(self, node, node_name, color=\"white\", icon=\"\"):\n",
    "        node_marker = folium.Marker(\n",
    "            location=[node[\"Y\"], node[\"X\"]],\n",
    "            icon=folium.Icon(icon=icon, color=color),\n",
    "            tooltip=node_name,\n",
    "        )\n",
    "        return node_marker\n",
    "\n",
    "    def folium_route(self):\n",
    "        \"\"\"Shows the sp route along which the selection is being created\"\"\"\n",
    "        m = ox.plot_route_folium(\n",
    "            self.G,\n",
    "            self.sp_route,\n",
    "            route_map=self.folium_graph(),\n",
    "            route_color=\"white\",\n",
    "            route_width=15,\n",
    "            route_opacity=0.5,\n",
    "        )\n",
    "        return m\n",
    "\n",
    "    def folium_selection(self):\n",
    "        \"\"\"Shows which links are selected\"\"\"\n",
    "        m = self.folium_graph()\n",
    "\n",
    "        for _, row in self.net.selections[self.selection_key][\"selected_links\"].iterrows():\n",
    "            pl = ox.folium._make_folium_polyline(\n",
    "                edge=row, edge_color=\"green\", edge_width=7, edge_opacity=0.4\n",
    "            )\n",
    "            pl.add_to(m)\n",
    "\n",
    "        return m\n",
    "\n",
    "    def folium_graph(self):\n",
    "        \"\"\"Shows the entirety of the search subgraph\"\"\"\n",
    "        m = ox.plot_graph_folium(\n",
    "            self.G,\n",
    "            edge_color=\"blue\",\n",
    "            edge_width=5,\n",
    "            edge_opacity=0.1,\n",
    "            tiles=\"cartodbdark_matter\",\n",
    "        )\n",
    "        self.folium_node(self.A, self.A_name, color=\"green\", icon=\"play\").add_to(m)\n",
    "        self.folium_node(self.B, self.B_name, color=\"pink\", icon=\"star\").add_to(m)\n",
    "\n",
    "        return m\n",
    "\n",
    "    def candidate_graph(self):\n",
    "        \"\"\"To review in case it doesn't find the SP\n",
    "        ##todo doesn't work.\n",
    "        \"\"\"\n",
    "        m = self.folium_graph()\n",
    "\n",
    "        links = ox.utils_graph.graph_to_gdfs(self.G, nodes=False, fill_edge_geometry=True)\n",
    "        colors = ox.plot.get_colors(10)\n",
    "        colors_d = {c: value for c, value in enumerate(colors, 0)}\n",
    "        links[\"color\"] = links[\"i\"].map(colors_d)\n",
    "        # print(links[['i','color']])\n",
    "\n",
    "        for _, row in links.iterrows():\n",
    "            pl = ox.folium._make_folium_polyline(\n",
    "                edge=row, edge_color=row[\"color\"], edge_width=5, edge_opacity=1.0\n",
    "            )\n",
    "            pl.add_to(m)\n",
    "        self.folium_node(self.A, self.A_name, color=\"green\").add_to(m)\n",
    "        self.folium_node(self.B, self.B_name, color=\"pink\").add_to(m)\n",
    "\n",
    "        return m\n",
    "\n",
    "\n",
    "sel = selection_map(net, selection=easy_selection)"
   ]
  },
  {
   "cell_type": "markdown",
   "metadata": {},
   "source": [
    "## Display Selection\n",
    "\n",
    "Showing final selected links in green and candidate links in blue."
   ]
  },
  {
   "cell_type": "code",
   "execution_count": 12,
   "metadata": {},
   "outputs": [
    {
     "data": {
      "text/html": [
       "<div style=\"width:100%;\"><div style=\"position:relative;width:100%;height:0;padding-bottom:60%;\"><span style=\"color:#565656\">Make this Notebook Trusted to load map: File -> Trust Notebook</span><iframe src=\"about:blank\" style=\"position:absolute;width:100%;height:100%;left:0;top:0;border:none !important;\" data-html=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 onload=\"this.contentDocument.open();this.contentDocument.write(atob(this.getAttribute('data-html')));this.contentDocument.close();\" allowfullscreen webkitallowfullscreen mozallowfullscreen></iframe></div></div>"
      ],
      "text/plain": [
       "<folium.folium.Map at 0x126501990>"
      ]
     },
     "execution_count": 12,
     "metadata": {},
     "output_type": "execute_result"
    }
   ],
   "source": [
    "sel.folium_selection()"
   ]
  },
  {
   "cell_type": "markdown",
   "metadata": {},
   "source": [
    "#### Selection Candidates\n",
    "\n",
    "From selection attributes before selecting from A to B"
   ]
  },
  {
   "cell_type": "code",
   "execution_count": 13,
   "metadata": {},
   "outputs": [
    {
     "data": {
      "text/html": [
       "<div style=\"width:100%;\"><div style=\"position:relative;width:100%;height:0;padding-bottom:60%;\"><span style=\"color:#565656\">Make this Notebook Trusted to load map: File -> Trust Notebook</span><iframe src=\"about:blank\" style=\"position:absolute;width:100%;height:100%;left:0;top:0;border:none !important;\" data-html=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 onload=\"this.contentDocument.open();this.contentDocument.write(atob(this.getAttribute('data-html')));this.contentDocument.close();\" allowfullscreen webkitallowfullscreen mozallowfullscreen></iframe></div></div>"
      ],
      "text/plain": [
       "<folium.folium.Map at 0x12650f490>"
      ]
     },
     "execution_count": 13,
     "metadata": {},
     "output_type": "execute_result"
    }
   ],
   "source": [
    "sel.candidate_graph()"
   ]
  },
  {
   "cell_type": "markdown",
   "metadata": {},
   "source": [
    "Candidate links are stored as well."
   ]
  },
  {
   "cell_type": "code",
   "execution_count": 14,
   "metadata": {},
   "outputs": [
    {
     "data": {
      "text/html": [
       "<div>\n",
       "<style scoped>\n",
       "    .dataframe tbody tr th:only-of-type {\n",
       "        vertical-align: middle;\n",
       "    }\n",
       "\n",
       "    .dataframe tbody tr th {\n",
       "        vertical-align: top;\n",
       "    }\n",
       "\n",
       "    .dataframe thead th {\n",
       "        text-align: right;\n",
       "    }\n",
       "</style>\n",
       "<table border=\"1\" class=\"dataframe\">\n",
       "  <thead>\n",
       "    <tr style=\"text-align: right;\">\n",
       "      <th></th>\n",
       "      <th>model_link_id</th>\n",
       "      <th>A</th>\n",
       "      <th>B</th>\n",
       "      <th>name</th>\n",
       "    </tr>\n",
       "  </thead>\n",
       "  <tbody>\n",
       "    <tr>\n",
       "      <th>40</th>\n",
       "      <td>2846</td>\n",
       "      <td>4758</td>\n",
       "      <td>4806</td>\n",
       "      <td>East 6th Street</td>\n",
       "    </tr>\n",
       "    <tr>\n",
       "      <th>52</th>\n",
       "      <td>2918</td>\n",
       "      <td>4806</td>\n",
       "      <td>72303</td>\n",
       "      <td>East 6th Street</td>\n",
       "    </tr>\n",
       "    <tr>\n",
       "      <th>53</th>\n",
       "      <td>2919</td>\n",
       "      <td>4806</td>\n",
       "      <td>4807</td>\n",
       "      <td>East 6th Street</td>\n",
       "    </tr>\n",
       "    <tr>\n",
       "      <th>148</th>\n",
       "      <td>8426</td>\n",
       "      <td>7688</td>\n",
       "      <td>45687</td>\n",
       "      <td>West 6th Street</td>\n",
       "    </tr>\n",
       "    <tr>\n",
       "      <th>201</th>\n",
       "      <td>15110</td>\n",
       "      <td>11188</td>\n",
       "      <td>84899</td>\n",
       "      <td>North Broadway Street,East 6th Street</td>\n",
       "    </tr>\n",
       "    <tr>\n",
       "      <th>434</th>\n",
       "      <td>53998</td>\n",
       "      <td>28505</td>\n",
       "      <td>77075</td>\n",
       "      <td>East 6th Street</td>\n",
       "    </tr>\n",
       "    <tr>\n",
       "      <th>435</th>\n",
       "      <td>53999</td>\n",
       "      <td>28505</td>\n",
       "      <td>28515</td>\n",
       "      <td>E 6th Street</td>\n",
       "    </tr>\n",
       "    <tr>\n",
       "      <th>442</th>\n",
       "      <td>54019</td>\n",
       "      <td>28513</td>\n",
       "      <td>77078</td>\n",
       "      <td>East 6th Street</td>\n",
       "    </tr>\n",
       "    <tr>\n",
       "      <th>443</th>\n",
       "      <td>54020</td>\n",
       "      <td>28513</td>\n",
       "      <td>28516</td>\n",
       "      <td>E 6th Street</td>\n",
       "    </tr>\n",
       "    <tr>\n",
       "      <th>445</th>\n",
       "      <td>54026</td>\n",
       "      <td>28515</td>\n",
       "      <td>28513</td>\n",
       "      <td>E 6th Street</td>\n",
       "    </tr>\n",
       "    <tr>\n",
       "      <th>447</th>\n",
       "      <td>54028</td>\n",
       "      <td>28516</td>\n",
       "      <td>28505</td>\n",
       "      <td>E 6th Street</td>\n",
       "    </tr>\n",
       "    <tr>\n",
       "      <th>616</th>\n",
       "      <td>78732</td>\n",
       "      <td>39425</td>\n",
       "      <td>62146</td>\n",
       "      <td>East 6th Street</td>\n",
       "    </tr>\n",
       "    <tr>\n",
       "      <th>1125</th>\n",
       "      <td>85185</td>\n",
       "      <td>41991</td>\n",
       "      <td>70841</td>\n",
       "      <td>East 6th Street</td>\n",
       "    </tr>\n",
       "    <tr>\n",
       "      <th>1681</th>\n",
       "      <td>94472</td>\n",
       "      <td>45683</td>\n",
       "      <td>45685</td>\n",
       "      <td>West 6th Street</td>\n",
       "    </tr>\n",
       "    <tr>\n",
       "      <th>1683</th>\n",
       "      <td>94477</td>\n",
       "      <td>45685</td>\n",
       "      <td>7688</td>\n",
       "      <td>West 6th Street</td>\n",
       "    </tr>\n",
       "    <tr>\n",
       "      <th>1687</th>\n",
       "      <td>94484</td>\n",
       "      <td>45687</td>\n",
       "      <td>100784</td>\n",
       "      <td>West 6th Street</td>\n",
       "    </tr>\n",
       "    <tr>\n",
       "      <th>1688</th>\n",
       "      <td>94485</td>\n",
       "      <td>45688</td>\n",
       "      <td>37609</td>\n",
       "      <td>West 6th Street</td>\n",
       "    </tr>\n",
       "    <tr>\n",
       "      <th>1689</th>\n",
       "      <td>94489</td>\n",
       "      <td>45691</td>\n",
       "      <td>69793</td>\n",
       "      <td>West 6th Street</td>\n",
       "    </tr>\n",
       "    <tr>\n",
       "      <th>1985</th>\n",
       "      <td>96984</td>\n",
       "      <td>46666</td>\n",
       "      <td>77077</td>\n",
       "      <td>East 6th Street</td>\n",
       "    </tr>\n",
       "    <tr>\n",
       "      <th>4498</th>\n",
       "      <td>134543</td>\n",
       "      <td>62146</td>\n",
       "      <td>41991</td>\n",
       "      <td>East 6th Street</td>\n",
       "    </tr>\n",
       "    <tr>\n",
       "      <th>5237</th>\n",
       "      <td>148979</td>\n",
       "      <td>68609</td>\n",
       "      <td>39425</td>\n",
       "      <td>East 6th Street</td>\n",
       "    </tr>\n",
       "    <tr>\n",
       "      <th>5445</th>\n",
       "      <td>151603</td>\n",
       "      <td>69793</td>\n",
       "      <td>45683</td>\n",
       "      <td>West 6th Street</td>\n",
       "    </tr>\n",
       "    <tr>\n",
       "      <th>5570</th>\n",
       "      <td>154004</td>\n",
       "      <td>70841</td>\n",
       "      <td>45691</td>\n",
       "      <td>East 6th Street</td>\n",
       "    </tr>\n",
       "    <tr>\n",
       "      <th>5842</th>\n",
       "      <td>157437</td>\n",
       "      <td>72303</td>\n",
       "      <td>77072</td>\n",
       "      <td>East 6th Street</td>\n",
       "    </tr>\n",
       "    <tr>\n",
       "      <th>5843</th>\n",
       "      <td>157438</td>\n",
       "      <td>72303</td>\n",
       "      <td>4806</td>\n",
       "      <td>East 6th Street</td>\n",
       "    </tr>\n",
       "    <tr>\n",
       "      <th>6230</th>\n",
       "      <td>163185</td>\n",
       "      <td>74961</td>\n",
       "      <td>77075</td>\n",
       "      <td>East 6th Street</td>\n",
       "    </tr>\n",
       "    <tr>\n",
       "      <th>6232</th>\n",
       "      <td>163187</td>\n",
       "      <td>74961</td>\n",
       "      <td>77073</td>\n",
       "      <td>East 6th Street</td>\n",
       "    </tr>\n",
       "    <tr>\n",
       "      <th>6233</th>\n",
       "      <td>163235</td>\n",
       "      <td>74997</td>\n",
       "      <td>84899</td>\n",
       "      <td>East 6th Street</td>\n",
       "    </tr>\n",
       "    <tr>\n",
       "      <th>6512</th>\n",
       "      <td>167745</td>\n",
       "      <td>77072</td>\n",
       "      <td>77073</td>\n",
       "      <td>East 6th Street</td>\n",
       "    </tr>\n",
       "    <tr>\n",
       "      <th>6513</th>\n",
       "      <td>167746</td>\n",
       "      <td>77072</td>\n",
       "      <td>72303</td>\n",
       "      <td>East 6th Street</td>\n",
       "    </tr>\n",
       "    <tr>\n",
       "      <th>6516</th>\n",
       "      <td>167749</td>\n",
       "      <td>77073</td>\n",
       "      <td>77072</td>\n",
       "      <td>East 6th Street</td>\n",
       "    </tr>\n",
       "    <tr>\n",
       "      <th>6518</th>\n",
       "      <td>167751</td>\n",
       "      <td>77073</td>\n",
       "      <td>74961</td>\n",
       "      <td>East 6th Street</td>\n",
       "    </tr>\n",
       "    <tr>\n",
       "      <th>6520</th>\n",
       "      <td>167754</td>\n",
       "      <td>77075</td>\n",
       "      <td>28505</td>\n",
       "      <td>East 6th Street</td>\n",
       "    </tr>\n",
       "    <tr>\n",
       "      <th>6521</th>\n",
       "      <td>167755</td>\n",
       "      <td>77075</td>\n",
       "      <td>74961</td>\n",
       "      <td>East 6th Street</td>\n",
       "    </tr>\n",
       "    <tr>\n",
       "      <th>6524</th>\n",
       "      <td>167759</td>\n",
       "      <td>77077</td>\n",
       "      <td>68609</td>\n",
       "      <td>East 6th Street</td>\n",
       "    </tr>\n",
       "    <tr>\n",
       "      <th>6527</th>\n",
       "      <td>167762</td>\n",
       "      <td>77078</td>\n",
       "      <td>28513</td>\n",
       "      <td>East 6th Street</td>\n",
       "    </tr>\n",
       "    <tr>\n",
       "      <th>6893</th>\n",
       "      <td>185111</td>\n",
       "      <td>84899</td>\n",
       "      <td>46666</td>\n",
       "      <td>East 6th Street</td>\n",
       "    </tr>\n",
       "    <tr>\n",
       "      <th>6999</th>\n",
       "      <td>223697</td>\n",
       "      <td>100782</td>\n",
       "      <td>45688</td>\n",
       "      <td>West 6th Street</td>\n",
       "    </tr>\n",
       "    <tr>\n",
       "      <th>7000</th>\n",
       "      <td>223701</td>\n",
       "      <td>100784</td>\n",
       "      <td>100782</td>\n",
       "      <td>West 6th Street</td>\n",
       "    </tr>\n",
       "    <tr>\n",
       "      <th>7469</th>\n",
       "      <td>381640</td>\n",
       "      <td>4759</td>\n",
       "      <td>4758</td>\n",
       "      <td>East 6th Street</td>\n",
       "    </tr>\n",
       "    <tr>\n",
       "      <th>7489</th>\n",
       "      <td>381673</td>\n",
       "      <td>4807</td>\n",
       "      <td>4760</td>\n",
       "      <td>East 6th Street</td>\n",
       "    </tr>\n",
       "  </tbody>\n",
       "</table>\n",
       "</div>"
      ],
      "text/plain": [
       "      model_link_id       A       B                                   name\n",
       "40             2846    4758    4806                        East 6th Street\n",
       "52             2918    4806   72303                        East 6th Street\n",
       "53             2919    4806    4807                        East 6th Street\n",
       "148            8426    7688   45687                        West 6th Street\n",
       "201           15110   11188   84899  North Broadway Street,East 6th Street\n",
       "434           53998   28505   77075                        East 6th Street\n",
       "435           53999   28505   28515                           E 6th Street\n",
       "442           54019   28513   77078                        East 6th Street\n",
       "443           54020   28513   28516                           E 6th Street\n",
       "445           54026   28515   28513                           E 6th Street\n",
       "447           54028   28516   28505                           E 6th Street\n",
       "616           78732   39425   62146                        East 6th Street\n",
       "1125          85185   41991   70841                        East 6th Street\n",
       "1681          94472   45683   45685                        West 6th Street\n",
       "1683          94477   45685    7688                        West 6th Street\n",
       "1687          94484   45687  100784                        West 6th Street\n",
       "1688          94485   45688   37609                        West 6th Street\n",
       "1689          94489   45691   69793                        West 6th Street\n",
       "1985          96984   46666   77077                        East 6th Street\n",
       "4498         134543   62146   41991                        East 6th Street\n",
       "5237         148979   68609   39425                        East 6th Street\n",
       "5445         151603   69793   45683                        West 6th Street\n",
       "5570         154004   70841   45691                        East 6th Street\n",
       "5842         157437   72303   77072                        East 6th Street\n",
       "5843         157438   72303    4806                        East 6th Street\n",
       "6230         163185   74961   77075                        East 6th Street\n",
       "6232         163187   74961   77073                        East 6th Street\n",
       "6233         163235   74997   84899                        East 6th Street\n",
       "6512         167745   77072   77073                        East 6th Street\n",
       "6513         167746   77072   72303                        East 6th Street\n",
       "6516         167749   77073   77072                        East 6th Street\n",
       "6518         167751   77073   74961                        East 6th Street\n",
       "6520         167754   77075   28505                        East 6th Street\n",
       "6521         167755   77075   74961                        East 6th Street\n",
       "6524         167759   77077   68609                        East 6th Street\n",
       "6527         167762   77078   28513                        East 6th Street\n",
       "6893         185111   84899   46666                        East 6th Street\n",
       "6999         223697  100782   45688                        West 6th Street\n",
       "7000         223701  100784  100782                        West 6th Street\n",
       "7469         381640    4759    4758                        East 6th Street\n",
       "7489         381673    4807    4760                        East 6th Street"
      ]
     },
     "execution_count": 14,
     "metadata": {},
     "output_type": "execute_result"
    }
   ],
   "source": [
    "sel.links[[\"model_link_id\", \"A\", \"B\", \"name\"]]"
   ]
  },
  {
   "cell_type": "markdown",
   "metadata": {},
   "source": [
    "#### Route Map\n",
    "\n",
    "Showing selected links from A to B."
   ]
  },
  {
   "cell_type": "code",
   "execution_count": 15,
   "metadata": {},
   "outputs": [
    {
     "data": {
      "text/html": [
       "<div style=\"width:100%;\"><div style=\"position:relative;width:100%;height:0;padding-bottom:60%;\"><span style=\"color:#565656\">Make this Notebook Trusted to load map: File -> Trust Notebook</span><iframe src=\"about:blank\" style=\"position:absolute;width:100%;height:100%;left:0;top:0;border:none !important;\" data-html=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 onload=\"this.contentDocument.open();this.contentDocument.write(atob(this.getAttribute('data-html')));this.contentDocument.close();\" allowfullscreen webkitallowfullscreen mozallowfullscreen></iframe></div></div>"
      ],
      "text/plain": [
       "<folium.folium.Map at 0x126d292d0>"
      ]
     },
     "execution_count": 15,
     "metadata": {},
     "output_type": "execute_result"
    }
   ],
   "source": [
    "sel.folium_route()"
   ]
  },
  {
   "cell_type": "code",
   "execution_count": null,
   "metadata": {},
   "outputs": [],
   "source": []
  }
 ],
 "metadata": {
  "kernelspec": {
   "display_name": "Python 3.7.12 ('wrangler')",
   "language": "python",
   "name": "python3"
  },
  "language_info": {
   "codemirror_mode": {
    "name": "ipython",
    "version": 3
   },
   "file_extension": ".py",
   "mimetype": "text/x-python",
   "name": "python",
   "nbconvert_exporter": "python",
   "pygments_lexer": "ipython3",
   "version": "3.7.12"
  },
  "vscode": {
   "interpreter": {
    "hash": "5cfb67e0b2744a84e81e5a9906808c277839f4126dccc23f819e7f035f52be10"
   }
  }
 },
 "nbformat": 4,
 "nbformat_minor": 4
}
