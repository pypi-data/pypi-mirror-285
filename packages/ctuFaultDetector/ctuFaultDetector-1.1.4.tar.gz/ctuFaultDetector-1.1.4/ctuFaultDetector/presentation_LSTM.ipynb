{
 "cells": [
  {
   "cell_type": "code",
   "execution_count": 1,
   "metadata": {},
   "outputs": [],
   "source": [
    "%load_ext autoreload\n",
    "%autoreload 2\n",
    "import numpy as np\n",
    "import pandas as pd\n",
    "import os\n",
    "os.chdir(r\"..\")\n",
    "from ctuFaultDetector.utils import *\n",
    "from ctuFaultDetector.visual import *\n",
    "from ctuFaultDetector.models.lstmClassifier import *"
   ]
  },
  {
   "cell_type": "markdown",
   "metadata": {},
   "source": [
    "## Data load"
   ]
  },
  {
   "cell_type": "markdown",
   "metadata": {},
   "source": [
    "At first we will need to prepair the data. We have a csv file with all the signals. The columns of the csv file are:\n",
    "\n",
    "idx, label, meas_id, Force_x, Force_y, Force_z, Torque_x, Torque_y, Torque_z\n",
    "\n",
    "- idx is the identifier of the signal\n",
    "- label is the boolean or None label of the signal\n",
    "- meas_id is the identifier of the group of measurement (e.g. day of the measurement) in the form of an int 1 - n\n",
    "- The other columns are signal feature columns\n",
    "\n",
    "\n",
    "We create variables:\n",
    "\n",
    "data, signals, labels, correct_signals, anom_signals\n",
    "\n",
    "- data: list of tuples in the form of (signal : pd.DataFrame, label : bool)\n",
    "- signals: list of signals in the form of pd.Dataframe\n",
    "- labels: list of boolean/None labels\n",
    "- correct_signals: list of signals with label \"True\"\n",
    "- wrong_signals: list of signals with label \"False\"\n",
    "- unlabeled_signals: list of signals with label \"None\"\n",
    "\n"
   ]
  },
  {
   "cell_type": "markdown",
   "metadata": {},
   "source": [
    "### Loading the data.\n",
    "We will begin our presentation with loading the data from the dataset. Execute the following cell to do that"
   ]
  },
  {
   "cell_type": "code",
   "execution_count": 2,
   "metadata": {},
   "outputs": [
    {
     "name": "stdout",
     "output_type": "stream",
     "text": [
      "c:\\Users\\altrn\\Documents\\fifth_semester\\PROJ\\Anomaly-detection-in-timeseries\n",
      "Number of correct:  285 , Number of anomalous:  107\n",
      "\n",
      "Number of signals: 392\n",
      "\n",
      "Format of a signal:\n",
      "\n",
      " (        Force_x  Force_y    Force_z  Torque_x  Torque_y  Torque_z\n",
      "0     22.672001    0.000  22.672001    -1.028     1.216     0.960\n",
      "1     22.672001    0.000  22.672001    -1.028     1.216     0.960\n",
      "2     22.464001    0.000  22.256001    -0.976     1.184     1.000\n",
      "3     22.464001    0.000  22.256001    -0.976     1.184     1.000\n",
      "4     22.256001   -0.208  21.216000    -0.876     1.152     0.980\n",
      "...         ...      ...        ...       ...       ...       ...\n",
      "1008  20.384001    0.208  18.719999    -0.852     1.112     0.852\n",
      "1009  19.968000    0.000  18.304001    -0.944     1.104     0.832\n",
      "1010  19.968000    0.000  18.304001    -0.944     1.104     0.832\n",
      "1011  20.384001   -0.416  17.888000    -0.812     1.112     0.896\n",
      "1012  21.007999   -0.624  18.096001    -0.748     1.108     0.916\n",
      "\n",
      "[1013 rows x 6 columns], False)\n"
     ]
    }
   ],
   "source": [
    "print(os.getcwd())\n",
    "data = load_data(\"./ctuFaultDetector/data/dataset.csv\", id = [1,2,5,6])\n",
    "signals = [i[0] for i in data]\n",
    "labels = [i[1] for i in data]\n",
    "correct_signals = [transform_pd_to_npy(i[0]) for i in data if i[1] == False]\n",
    "anom_signals = [transform_pd_to_npy(i[0]) for i in data if i[1]==True]\n",
    "print(\"Number of correct: \", len(correct_signals), \", Number of anomalous: \", len(anom_signals))\n",
    "print()\n",
    "print(\"Number of signals:\", len(data))\n",
    "print()\n",
    "print(\"Format of a signal:\\n\\n\", data[0])"
   ]
  },
  {
   "cell_type": "markdown",
   "metadata": {},
   "source": [
    "Now that we have loaded the data, let us see the methods we developed. Let's divide the dataset into a training and testing split!"
   ]
  },
  {
   "cell_type": "code",
   "execution_count": 3,
   "metadata": {},
   "outputs": [
    {
     "name": "stdout",
     "output_type": "stream",
     "text": [
      "The length of the training set: 336\n",
      "Number of correct/anomalous processes: 244/92\n",
      "\n",
      "\n",
      "The length of the testing set: 56\n",
      "Number of correct/anomalous processes: 41/15\n"
     ]
    }
   ],
   "source": [
    "np.random.seed(42)\n",
    "np.random.shuffle(data)\n",
    "training_set, testing_set = get_n_th_fold(data, 0, small_train=False)\n",
    "correct_training_signals = [transform_pd_to_npy(i[0]) for i in training_set if i[1] == False]\n",
    "anom_training_signals = [transform_pd_to_npy(i[0]) for i in training_set if i[1]==True]\n",
    "correct_testing_signals = [transform_pd_to_npy(i[0]) for i in testing_set if i[1] == False]\n",
    "anom_testing_signals = [transform_pd_to_npy(i[0]) for i in testing_set if i[1]==True]\n",
    "print(f\"The length of the training set: {len(training_set)}\")\n",
    "print(f\"Number of correct/anomalous processes: {len(correct_training_signals)}/{len(anom_training_signals)}\")\n",
    "print(\"\\n\")\n",
    "print(f\"The length of the testing set: {len(testing_set)}\")\n",
    "print(f\"Number of correct/anomalous processes: {len(correct_testing_signals)}/{len(anom_testing_signals)}\")"
   ]
  },
  {
   "cell_type": "markdown",
   "metadata": {},
   "source": [
    "Ok, now we are all set up to start testing the methods. We start by training the neural network. If we do not want to spend time training (10-15 minutes), we can load from the presaved model. Change the value of TRAIN_MODEL variable to True to train the model or to False to load already trained model.\n",
    "\n",
    "\n",
    "## LSTM detector\n"
   ]
  },
  {
   "cell_type": "code",
   "execution_count": 4,
   "metadata": {},
   "outputs": [],
   "source": [
    "TRAIN_MODEL = False\n",
    "lk = lstmClassifier(6,2)\n",
    "if TRAIN_MODEL:\n",
    "    lk.train_classifier(data, N_EPOCHS = 60, weighted_loss = True, weight = 1)\n",
    "else:\n",
    "    lk = torch.load(\"./ctuFaultDetector/model_params/lstm_WL.pth\")"
   ]
  },
  {
   "cell_type": "code",
   "execution_count": 5,
   "metadata": {},
   "outputs": [],
   "source": [
    "def evaluate_offline_lstm(classifier, testing_set):\n",
    "    correct_testing_signals = [transform_pd_to_npy(i[0]) for i in testing_set if i[1] == False]\n",
    "    anom_testing_signals = [transform_pd_to_npy(i[0]) for i in testing_set if i[1]==True]\n",
    "    correct_perf = 0\n",
    "    anomaly_perf = 0\n",
    "    for sig in correct_testing_signals:\n",
    "        correct_perf += not classifier.predict(sig)\n",
    "    for sig in anom_testing_signals:\n",
    "        anomaly_perf += classifier.predict(sig)\n",
    "    print(f\"Correctly predicted successfull signals: {correct_perf}/{len(correct_testing_signals)} --> TNR = {correct_perf/len(correct_testing_signals)}\")\n",
    "    print(f\"Correctly predicted anomalous signals: {anomaly_perf}/{len(anom_testing_signals)} --> TPR =  {anomaly_perf/len(anom_testing_signals)}\")\n",
    "    print(f\"Accuracy: {(correct_perf+anomaly_perf)/len(testing_set)}\")"
   ]
  },
  {
   "cell_type": "code",
   "execution_count": 6,
   "metadata": {},
   "outputs": [
    {
     "name": "stdout",
     "output_type": "stream",
     "text": [
      "Correctly predicted successfull signals: 39/41 --> TNR = 0.9512195121951219\n",
      "Correctly predicted anomalous signals: 11/15 --> TPR =  0.7333333333333333\n",
      "Accuracy: 0.8928571428571429\n"
     ]
    }
   ],
   "source": [
    "evaluate_offline_lstm(lk, testing_set)"
   ]
  },
  {
   "cell_type": "code",
   "execution_count": 11,
   "metadata": {},
   "outputs": [],
   "source": [
    "torch.save(lk, \"./ctuFaultDetector/model_params/lstm_WL.pth\")"
   ]
  }
 ],
 "metadata": {
  "kernelspec": {
   "display_name": "base",
   "language": "python",
   "name": "python3"
  },
  "language_info": {
   "codemirror_mode": {
    "name": "ipython",
    "version": 3
   },
   "file_extension": ".py",
   "mimetype": "text/x-python",
   "name": "python",
   "nbconvert_exporter": "python",
   "pygments_lexer": "ipython3",
   "version": "3.11.4"
  }
 },
 "nbformat": 4,
 "nbformat_minor": 2
}
