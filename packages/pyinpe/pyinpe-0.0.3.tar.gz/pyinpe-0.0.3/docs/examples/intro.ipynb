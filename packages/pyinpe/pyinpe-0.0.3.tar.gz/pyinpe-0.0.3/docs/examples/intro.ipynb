{
 "cells": [
  {
   "cell_type": "code",
   "execution_count": 5,
   "metadata": {},
   "outputs": [
    {
     "name": "stdout",
     "output_type": "stream",
     "text": [
      "Requirement already satisfied: pyinpe in c:\\users\\luizs\\anaconda3\\lib\\site-packages (0.0.2)\n",
      "Requirement already satisfied: numpy in c:\\users\\luizs\\anaconda3\\lib\\site-packages (from pyinpe) (1.26.4)\n",
      "Requirement already satisfied: owslib in c:\\users\\luizs\\anaconda3\\lib\\site-packages (from pyinpe) (0.31.0)\n",
      "Requirement already satisfied: lxml in c:\\users\\luizs\\anaconda3\\lib\\site-packages (from owslib->pyinpe) (4.9.3)\n",
      "Requirement already satisfied: python-dateutil>=1.5 in c:\\users\\luizs\\anaconda3\\lib\\site-packages (from owslib->pyinpe) (2.8.2)\n",
      "Requirement already satisfied: pytz in c:\\users\\luizs\\anaconda3\\lib\\site-packages (from owslib->pyinpe) (2023.3.post1)\n",
      "Requirement already satisfied: pyyaml in c:\\users\\luizs\\anaconda3\\lib\\site-packages (from owslib->pyinpe) (6.0.1)\n",
      "Requirement already satisfied: requests>=1.0 in c:\\users\\luizs\\anaconda3\\lib\\site-packages (from owslib->pyinpe) (2.31.0)\n",
      "Requirement already satisfied: six>=1.5 in c:\\users\\luizs\\anaconda3\\lib\\site-packages (from python-dateutil>=1.5->owslib->pyinpe) (1.16.0)\n",
      "Requirement already satisfied: charset-normalizer<4,>=2 in c:\\users\\luizs\\anaconda3\\lib\\site-packages (from requests>=1.0->owslib->pyinpe) (2.0.4)\n",
      "Requirement already satisfied: idna<4,>=2.5 in c:\\users\\luizs\\anaconda3\\lib\\site-packages (from requests>=1.0->owslib->pyinpe) (3.4)\n",
      "Requirement already satisfied: urllib3<3,>=1.21.1 in c:\\users\\luizs\\anaconda3\\lib\\site-packages (from requests>=1.0->owslib->pyinpe) (2.0.7)\n",
      "Requirement already satisfied: certifi>=2017.4.17 in c:\\users\\luizs\\anaconda3\\lib\\site-packages (from requests>=1.0->owslib->pyinpe) (2024.2.2)\n"
     ]
    },
    {
     "ename": "ModuleNotFoundError",
     "evalue": "No module named 'pyinpe.WFS'",
     "output_type": "error",
     "traceback": [
      "\u001b[1;31m---------------------------------------------------------------------------\u001b[0m",
      "\u001b[1;31mModuleNotFoundError\u001b[0m                       Traceback (most recent call last)",
      "Cell \u001b[1;32mIn[5], line 2\u001b[0m\n\u001b[0;32m      1\u001b[0m get_ipython()\u001b[38;5;241m.\u001b[39msystem(\u001b[38;5;124m'\u001b[39m\u001b[38;5;124mpip install pyinpe\u001b[39m\u001b[38;5;124m'\u001b[39m)\n\u001b[1;32m----> 2\u001b[0m \u001b[38;5;28;01mfrom\u001b[39;00m \u001b[38;5;21;01mpyinpe\u001b[39;00m\u001b[38;5;21;01m.\u001b[39;00m\u001b[38;5;21;01mWFS\u001b[39;00m \u001b[38;5;28;01mimport\u001b[39;00m get_contents, get_collectionSchema\n\u001b[0;32m      4\u001b[0m get_contents()\n",
      "\u001b[1;31mModuleNotFoundError\u001b[0m: No module named 'pyinpe.WFS'"
     ]
    }
   ],
   "source": [
    "!pip install pyinpe\n",
    "from pyinpe.WFS import get_contents, get_collectionSchema\n",
    "\n",
    "# Get collections at INPE's Queimadas WFS\n",
    "get_contents()\n",
    "\n",
    "# Get schema of collection 'dados_abertos:focos_2023_br_satref' from INPE's Queimadas\n",
    "get_collectionSchema()\n",
    "\n",
    "# Get collections at INPE's DETER Cerrado WFS\n",
    "get_contents(database = 'deter_cerrado')\n",
    "\n",
    "# Get schema of collection 'deter-cerrado:deter_cerrado' from INPE's DETER Cerrado\n",
    "get_collectionSchema(database = 'deter_cerrado', collection = 'deter-cerrado:deter_cerrado')"
   ]
  }
 ],
 "metadata": {
  "kernelspec": {
   "display_name": "base",
   "language": "python",
   "name": "python3"
  },
  "language_info": {
   "codemirror_mode": {
    "name": "ipython",
    "version": 3
   },
   "file_extension": ".py",
   "mimetype": "text/x-python",
   "name": "python",
   "nbconvert_exporter": "python",
   "pygments_lexer": "ipython3",
   "version": "3.11.7"
  },
  "orig_nbformat": 4
 },
 "nbformat": 4,
 "nbformat_minor": 2
}
