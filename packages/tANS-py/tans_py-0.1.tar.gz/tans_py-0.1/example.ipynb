{
 "cells": [
  {
   "cell_type": "markdown",
   "metadata": {},
   "source": [
    "# Example Workflow\n",
    "This notebook shows an example workflow using `tANS_py`."
   ]
  },
  {
   "cell_type": "markdown",
   "metadata": {},
   "source": [
    "## Using `Coder` Class\n",
    "This is a higher level object that simplifies encoding and decoding"
   ]
  },
  {
   "cell_type": "code",
   "execution_count": 1,
   "metadata": {},
   "outputs": [
    {
     "name": "stdout",
     "output_type": "stream",
     "text": [
      "Comp Ratio: 1.124893455223296\n"
     ]
    }
   ],
   "source": [
    "# importing the Coder class as well as the Utils module, which helps with generating random data for testing\n",
    "import tANS_py.Coder, tANS_py.Utils\n",
    "import numpy as np\n",
    "\n",
    "# Set up the alphabet\n",
    "s = [\"A\", \"B\", \"C\", \"D\", \"E\", \"F\", \"G\", \"H\", \"I\", \"J\", \"K\", \"L\", \"M\", \"N\", \"O\", \"P\", \"Q\", \"R\", \"S\", \"T\", \"U\", \"V\", \"W\", \"X\", \"Y\", \"Z\"]\n",
    "nbits = 5 # 5 bits per symbol as there are 26 symbols in the alphabet\n",
    "\n",
    "# Run this multiple times to see how it performs on average\n",
    "comp_ratios = []\n",
    "for i in range(50):\n",
    "    # Set up random frequencies\n",
    "    # This specifically generates a list of len(s) numbers randomly chosen between 1 and 100\n",
    "    freq = tANS_py.Utils.generate_random_list_target(len(s), 100, 1024)\n",
    "\n",
    "    # Create the Coder object\n",
    "    c = tANS_py.Coder.Coder(sum(freq), s, freq, fast = False) # specifies fast = False to use slower, but more effecient spread function\n",
    "\n",
    "    # Create a message\n",
    "    # Specifically generates a random string using symbols from s with frequencies from freq\n",
    "    msg = tANS_py.Utils.generate_random_string(s, freq)\n",
    "\n",
    "    # Encode and decode the message and get the number of bits of the encoded message\n",
    "    # Note: you must pass in message as a list of symbols\n",
    "    out, bits = c.encode_decode(list(msg))\n",
    "\n",
    "    # Check if the decoding worked\n",
    "    if \"\".join(out) != msg:\n",
    "        # If the decoding failed, print a message\n",
    "        print(\"Coding failed\")\n",
    "    else:\n",
    "        # If the decoding worked, save the compression ratio\n",
    "        comp_ratios.append(len(msg) * nbits / bits)\n",
    "    \n",
    "print(\"Comp Ratio:\", np.mean(comp_ratios))"
   ]
  },
  {
   "cell_type": "markdown",
   "metadata": {},
   "source": [
    "## Using `Encoder` and `Decoder` Classes\n",
    "These are the low level objects used to encode and decode data. "
   ]
  },
  {
   "cell_type": "code",
   "execution_count": 2,
   "metadata": {},
   "outputs": [
    {
     "name": "stdout",
     "output_type": "stream",
     "text": [
      "Coding worked: True\n"
     ]
    }
   ],
   "source": [
    "# Testing code \n",
    "import tANS_py.Decoder\n",
    "import tANS_py.Encoder\n",
    "\n",
    "# Define the alphabet and the frequency of each symbol\n",
    "s = [\"A\",\"B\",\"C\"]\n",
    "freq = [6, 2, 24]\n",
    "\n",
    "# Create the encoder and decoder\n",
    "t = tANS_py.Decoder.DecodeTable(32, s, freq, fast = False)\n",
    "g = tANS_py.Encoder.Encoder(32, s,freq,t.symbol_spread)\n",
    "\n",
    "# Create message\n",
    "msg = \"CAACACCCCCCCCBCCCACCCACCCACCCBCC\"\n",
    "msg_temp = list(msg)\n",
    "\n",
    "# Encode message\n",
    "bit = g.encode(msg_temp)\n",
    "\n",
    "# Decode message\n",
    "out = t.decode(bit)\n",
    "out.reverse()   # Reverse the list to get the correct order, as the decoder outputs the list in reverse order\n",
    "print(\"Coding worked:\", \"\".join(out) == msg)"
   ]
  },
  {
   "cell_type": "markdown",
   "metadata": {},
   "source": [
    "# `Utils` Module\n",
    "This module contains helper functions to convert between different data types and to visualize the encoded data."
   ]
  },
  {
   "cell_type": "code",
   "execution_count": 3,
   "metadata": {},
   "outputs": [],
   "source": [
    "from tANS_py import Utils"
   ]
  },
  {
   "cell_type": "code",
   "execution_count": 4,
   "metadata": {},
   "outputs": [
    {
     "name": "stdout",
     "output_type": "stream",
     "text": [
      "List is [7, 8, 8, 8, 8, 1, 4, 10, 4, 6] and sum is 64\n"
     ]
    }
   ],
   "source": [
    "# generates a list of length numbers that sum to a power of 2, with each number being randomly chosen between 1 and n\n",
    "l = Utils.generate_random_list_pow2(10, 10)\n",
    "print(\"List is\",l , \"and sum is\", sum(l))"
   ]
  },
  {
   "cell_type": "code",
   "execution_count": 5,
   "metadata": {},
   "outputs": [
    {
     "name": "stdout",
     "output_type": "stream",
     "text": [
      "List is [5, 4, 3, 9, 8, 3, 1, 5, 8, 4] and sum is 50\n"
     ]
    }
   ],
   "source": [
    "# generates a list of length numbers that sum to a target sum, with each number being randomly chosen between 1 and n\n",
    "l = Utils.generate_random_list_target(10, 10, 50)\n",
    "print(\"List is\",l,\"and sum is\", sum(l))"
   ]
  },
  {
   "cell_type": "code",
   "execution_count": 6,
   "metadata": {},
   "outputs": [
    {
     "name": "stdout",
     "output_type": "stream",
     "text": [
      "Original list: [1, 2, 3, 4, 5, 6, 7, 8, 9, 10] Original sum: 55\n",
      "Rescaled list: [2, 5, 7, 9, 12, 14, 16, 19, 21, 23] Rescaled sum: 128\n",
      "Rescaled list: [2, 5, 7, 9, 12, 14, 16, 19, 21, 23] Rescaled sum: 128\n"
     ]
    }
   ],
   "source": [
    "# rescales a list of numbers to sum to a power of 2 that is less than or equal to max sum\n",
    "input_list = [1,2,3,4,5,6,7,8,9,10]\n",
    "print(\"Original list:\", input_list, \"Original sum:\", sum(input_list))\n",
    "rescaled_list = Utils.rescale_list_to_power_of_2(input_list, 128)\n",
    "print(\"Rescaled list:\", rescaled_list, \"Rescaled sum:\", sum(rescaled_list))\n",
    "# trying to rescale to a sum that is not a power of two will rescale to the nearest power of two that is lower than the target sum\n",
    "rescaled_list = Utils.rescale_list_to_power_of_2(input_list, 100) # should rescale to 64\n",
    "print(\"Rescaled list:\", rescaled_list, \"Rescaled sum:\", sum(rescaled_list))"
   ]
  },
  {
   "cell_type": "code",
   "execution_count": 7,
   "metadata": {},
   "outputs": [
    {
     "name": "stdout",
     "output_type": "stream",
     "text": [
      "DCCBDADDBC\n"
     ]
    }
   ],
   "source": [
    "# generates a random string of length n using symbols from s with frequencies from freq\n",
    "s = [\"A\", \"B\", \"C\", \"D\"]\n",
    "freq = [1, 2, 3, 4]\n",
    "print(Utils.generate_random_string(s, freq))"
   ]
  }
 ],
 "metadata": {
  "kernelspec": {
   "display_name": "base",
   "language": "python",
   "name": "python3"
  },
  "language_info": {
   "codemirror_mode": {
    "name": "ipython",
    "version": 3
   },
   "file_extension": ".py",
   "mimetype": "text/x-python",
   "name": "python",
   "nbconvert_exporter": "python",
   "pygments_lexer": "ipython3",
   "version": "3.12.4"
  }
 },
 "nbformat": 4,
 "nbformat_minor": 2
}
