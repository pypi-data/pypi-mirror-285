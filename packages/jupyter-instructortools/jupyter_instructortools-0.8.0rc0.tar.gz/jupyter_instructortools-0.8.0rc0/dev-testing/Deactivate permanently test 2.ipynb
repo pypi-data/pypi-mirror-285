{
 "cells": [
  {
   "cell_type": "code",
   "execution_count": 2,
   "id": "50143e31",
   "metadata": {},
   "outputs": [],
   "source": [
    "from InstructorTools import *"
   ]
  },
  {
   "cell_type": "code",
   "execution_count": 2,
   "id": "459ac021",
   "metadata": {},
   "outputs": [
    {
     "data": {
      "application/javascript": [
       "Jupyter.notebook.metadata\n"
      ],
      "text/plain": [
       "<IPython.core.display.Javascript object>"
      ]
     },
     "metadata": {},
     "output_type": "display_data"
    }
   ],
   "source": [
    "%%javascript\n",
    "Jupyter.notebook.metadata"
   ]
  },
  {
   "cell_type": "code",
   "execution_count": null,
   "id": "40b501e2",
   "metadata": {},
   "outputs": [],
   "source": []
  }
 ],
 "metadata": {
  "kernelspec": {
   "display_name": "Python 3",
   "language": "python",
   "name": "python3"
  },
  "language_info": {
   "codemirror_mode": {
    "name": "ipython",
    "version": 3
   },
   "file_extension": ".py",
   "mimetype": "text/x-python",
   "name": "python",
   "nbconvert_exporter": "python",
   "pygments_lexer": "ipython3",
   "version": "3.8.10"
  }
 },
 "nbformat": 4,
 "nbformat_minor": 5
}
