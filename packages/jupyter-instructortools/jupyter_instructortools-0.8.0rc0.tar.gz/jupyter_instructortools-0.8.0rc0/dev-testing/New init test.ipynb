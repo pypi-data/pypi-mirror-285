{
 "cells": [
  {
   "cell_type": "markdown",
   "id": "a37e4b58",
   "metadata": {
    "JPSL": {
     "hide_on_print": true
    }
   },
   "source": [
    "<div style = \"width: 100%; height:10px;border-width:5px; border-color:green;border-style:solid;border-bottom-style:none;margin-bottom: 4px; min-width: 15px;background-color:yellow;\"></div>\n",
    "\n",
    "\n"
   ]
  },
  {
   "cell_type": "code",
   "execution_count": null,
   "id": "fd9105ed",
   "metadata": {},
   "outputs": [],
   "source": [
    "import JPSLUtils\n",
    "JPSLUtils.JPSL_Tools_Menu()\n",
    "JPSLUtils.record_names_timestamp()\n"
   ]
  }
 ],
 "metadata": {
  "kernelspec": {
   "display_name": "Python 3",
   "language": "python",
   "name": "python3"
  },
  "language_info": {
   "codemirror_mode": {
    "name": "ipython",
    "version": 3
   },
   "file_extension": ".py",
   "mimetype": "text/x-python",
   "name": "python",
   "nbconvert_exporter": "python",
   "pygments_lexer": "ipython3",
   "version": "3.8.10"
  }
 },
 "nbformat": 4,
 "nbformat_minor": 5
}
