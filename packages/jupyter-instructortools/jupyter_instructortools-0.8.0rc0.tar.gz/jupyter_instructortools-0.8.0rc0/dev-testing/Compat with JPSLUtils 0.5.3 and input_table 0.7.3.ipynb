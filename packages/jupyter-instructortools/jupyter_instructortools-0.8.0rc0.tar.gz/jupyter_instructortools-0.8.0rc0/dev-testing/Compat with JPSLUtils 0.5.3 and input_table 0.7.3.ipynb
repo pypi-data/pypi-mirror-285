{
 "cells": [
  {
   "cell_type": "markdown",
   "id": "cf83a8c3",
   "metadata": {},
   "source": [
    "### You must initialize the software each time you use     this notebook.\n",
    " 1. First, check that the notebook is \"Trusted\" by looking     near the right of the Jupyter toolbars. If the notebook is not     trusted you need to click on the \"not trusted\" button and trust the notebook. **You should only trust notebooks that come from a *trusted source*, such as the class website.**\n",
    " 2. The cell immediately below contains code that loads the software modules necessary for this notebook to run. It also collects some bookkeeping information that can be used for troubleshooting. **You must run this cell each time you use the notebook or later cells may not work.**\n",
    " 3. If you are doing calculations that depend upon using variables passed from calculations done the previous time the notebook was opened, you will need to run those previous cells to redefine the variables.\n",
    " 4. *DO NOT run cells that contain plot displays of live data collection, as that will restart the data collection.* You can reload data collected from the `.csv` files  written for each collection run. Ideally you would do this in a new notebook."
   ]
  },
  {
   "cell_type": "markdown",
   "id": "8d0bde6b",
   "metadata": {},
   "source": [
    "### You must initialize the software each time you use     this notebook.\n",
    " 1. First, check that the notebook is \"Trusted\" by looking     near the right of the Jupyter toolbars. If the notebook is not     trusted you need to click on the \"not trusted\" button and trust the notebook. **You should only trust notebooks that come from a *trusted source*, such as the class website.**\n",
    " 2. The cell immediately below contains code that loads the software modules necessary for this notebook to run. It also collects some bookkeeping information that can be used for troubleshooting. **You must run this cell each time you use the notebook or later cells may not work.**\n",
    " 3. If you are doing calculations that depend upon using variables passed from calculations done the previous time the notebook was opened, you will need to run those previous cells to redefine the variables.\n",
    " 4. *DO NOT run cells that contain plot displays of live data collection, as that will restart the data collection.* You can reload data collected from the `.csv` files  written for each collection run. Ideally you would do this in a new notebook."
   ]
  },
  {
   "cell_type": "code",
   "execution_count": 8,
   "id": "63fe5079",
   "metadata": {
    "editable": false
   },
   "outputs": [
    {
     "data": {
      "text/html": [
       "<div id=\"Last-User\" style=\"font-weight:bold;\">Initialization -- Computer: jonathan-XPS-13-7390 | User: jonathan | Time: Thu Jul 15 11:15:25 2021</div>"
      ],
      "text/plain": [
       "<IPython.core.display.HTML object>"
      ]
     },
     "metadata": {},
     "output_type": "display_data"
    },
    {
     "data": {
      "application/javascript": [
       "var event = new MouseEvent(\"click\", {view: window,bubbles: true,cancelable: true});var start = new Date().getTime();var elem = document.getElementById(\"Last-User\");do {elem = document.getElementById(\"Last-User\");} while ((elem == null) && (new Date().getTime() < start+5000));if (elem == null){alert(\"It took more than 5 seconds to build element.\");}var cancelled = !elem.dispatchEvent(event);if (cancelled) {alert(\"Something is wrong. Try running the cell that creates this GUI.\");}"
      ],
      "text/plain": [
       "<IPython.core.display.Javascript object>"
      ]
     },
     "metadata": {},
     "output_type": "display_data"
    },
    {
     "data": {
      "application/javascript": [
       "\n",
       "    if (Date.now() > 1626365740901.4788){\n",
       "        //alert('old do not run')\n",
       "    } else{\n",
       "        JPSLUtils.record_names()\n",
       "    }\n",
       "    "
      ],
      "text/plain": [
       "<IPython.core.display.Javascript object>"
      ]
     },
     "metadata": {},
     "output_type": "display_data"
    }
   ],
   "source": [
    "\n",
    "import JPSLUtils\n",
    "JPSLUtils.record_names_timestamp()\n",
    "# Initialization -- Computer: jonathan-XPS-13-7390 | User: jonathan | Time: Thu Jul 15 11:15:25 2021\n",
    "# Partners: Test1"
   ]
  },
  {
   "cell_type": "code",
   "execution_count": 6,
   "id": "82b1d058",
   "metadata": {
    "editable": false
   },
   "outputs": [
    {
     "data": {
      "text/html": [
       "<table class=\"input_table\" id=\"it_1626365516611\"><caption>Table 1</caption><tbody> <tr class=\"input_table r0\">  <th class=\"input_table r0 c0\"><select class=\"form-control table-actions\" onchange=\"var lastvalue = this.value;this.value = &quot;Table Actions&quot;;if(lastvalue==&quot;Edit Data&quot;){edit_input_table(&quot;it_1626365516611&quot;);}if(lastvalue==&quot;Data to Pandas...&quot;){data_table_to_Pandas(&quot;it_1626365516611&quot;);}\"><option title=\"Things you can do to this table.\">Table Actions</option><option title=\"Start editing the data.\">Edit Data</option><option title=\"Create a Panda DataFrame from table.\">Data to Pandas...</option></select></th><th class=\"input_table r0 c1\"><span class=\"table_label\">Col_0</span></th><th class=\"input_table r0 c2\"><span class=\"table_label\">Col_1</span></th><th class=\"input_table r0 c3\"><span class=\"table_label\">Col_2</span></th> </tr> <tr class=\"input_table r1\"><th class=\"input_table r1 c0\"><span class=\"table_label\">0</span></th>  <td class=\"input_table r1 c1\"><span class=\"data_cell\">a</span></td>  <td class=\"input_table r1 c2\"><span class=\"data_cell\">0.3</span></td>  <td class=\"input_table r1 c3\"><span class=\"data_cell\">up</span></td> </tr> <tr class=\"input_table r2\"><th class=\"input_table r2 c0\"><span class=\"table_label\">1</span></th>  <td class=\"input_table r2 c1\"><span class=\"data_cell\">b</span></td>  <td class=\"input_table r2 c2\"><span class=\"data_cell\">0.2</span></td>  <td class=\"input_table r2 c3\"><span class=\"data_cell\">down</span></td> </tr></tbody></table>"
      ],
      "text/plain": [
       "<IPython.core.display.HTML object>"
      ]
     },
     "metadata": {},
     "output_type": "display_data"
    }
   ],
   "source": [
    "# If no data table appears in the output of this cell, run the cell to display the table.\n",
    "\n",
    "from IPython.display import HTML\n",
    "try:\n",
    "    import input_table\n",
    "except (ImportError, FileNotFoundError) as e:\n",
    "    print(\"Table editing will not work because `jupyter_datainputtable` module is not installed in python kernel\")\n",
    "display(HTML('<table class=\"input_table\" id=\"it_1626365516611\"><caption>Table 1</caption><tbody> <tr class=\"input_table r0\">  <th class=\"input_table r0 c0\"><select class=\"form-control table-actions\" onchange=\"var lastvalue = this.value;this.value = &quot;Table Actions&quot;;if(lastvalue==&quot;Edit Data&quot;){edit_input_table(&quot;it_1626365516611&quot;);}if(lastvalue==&quot;Data to Pandas...&quot;){data_table_to_Pandas(&quot;it_1626365516611&quot;);}\"><option title=\"Things you can do to this table.\">Table Actions</option><option title=\"Start editing the data.\">Edit Data</option><option title=\"Create a Panda DataFrame from table.\">Data to Pandas...</option></select></th><th class=\"input_table r0 c1\"><span class=\"table_label\">Col_0</span></th><th class=\"input_table r0 c2\"><span class=\"table_label\">Col_1</span></th><th class=\"input_table r0 c3\"><span class=\"table_label\">Col_2</span></th> </tr> <tr class=\"input_table r1\"><th class=\"input_table r1 c0\"><span class=\"table_label\">0</span></th>  <td class=\"input_table r1 c1\"><span class=\"data_cell\">a</span></td>  <td class=\"input_table r1 c2\"><span class=\"data_cell\">0.3</span></td>  <td class=\"input_table r1 c3\"><span class=\"data_cell\">up</span></td> </tr> <tr class=\"input_table r2\"><th class=\"input_table r2 c0\"><span class=\"table_label\">1</span></th>  <td class=\"input_table r2 c1\"><span class=\"data_cell\">b</span></td>  <td class=\"input_table r2 c2\"><span class=\"data_cell\">0.2</span></td>  <td class=\"input_table r2 c3\"><span class=\"data_cell\">down</span></td> </tr></tbody></table>'))"
   ]
  },
  {
   "cell_type": "code",
   "execution_count": 7,
   "id": "6aaee35d",
   "metadata": {},
   "outputs": [
    {
     "name": "stdout",
     "output_type": "stream",
     "text": [
      "DataFrame `DF2`:\n"
     ]
    },
    {
     "data": {
      "text/html": [
       "<div>\n",
       "<style scoped>\n",
       "    .dataframe tbody tr th:only-of-type {\n",
       "        vertical-align: middle;\n",
       "    }\n",
       "\n",
       "    .dataframe tbody tr th {\n",
       "        vertical-align: top;\n",
       "    }\n",
       "\n",
       "    .dataframe thead th {\n",
       "        text-align: right;\n",
       "    }\n",
       "</style>\n",
       "<table border=\"1\" class=\"dataframe\">\n",
       "  <thead>\n",
       "    <tr style=\"text-align: right;\">\n",
       "      <th></th>\n",
       "      <th>Col_0</th>\n",
       "      <th>Col_1</th>\n",
       "      <th>Col_2</th>\n",
       "    </tr>\n",
       "  </thead>\n",
       "  <tbody>\n",
       "    <tr>\n",
       "      <th>0</th>\n",
       "      <td>a</td>\n",
       "      <td>0.3</td>\n",
       "      <td>up</td>\n",
       "    </tr>\n",
       "    <tr>\n",
       "      <th>1</th>\n",
       "      <td>b</td>\n",
       "      <td>0.2</td>\n",
       "      <td>down</td>\n",
       "    </tr>\n",
       "  </tbody>\n",
       "</table>\n",
       "</div>"
      ],
      "text/plain": [
       "  Col_0  Col_1 Col_2\n",
       "0     a    0.3    up\n",
       "1     b    0.2  down"
      ]
     },
     "execution_count": 7,
     "metadata": {},
     "output_type": "execute_result"
    }
   ],
   "source": [
    "\n",
    "Col_0=['a','b']\n",
    "Col_1=[0.3,0.2]\n",
    "Col_2=['up','down']\n",
    "DF2= pd.DataFrame({\"Col_0\":Col_0,\n",
    "    \"Col_1\":Col_1,\n",
    "    \"Col_2\":Col_2,\n",
    "    })\n",
    "print('DataFrame `DF2`:')\n",
    "DF2"
   ]
  },
  {
   "cell_type": "code",
   "execution_count": 5,
   "id": "405b3e8a",
   "metadata": {},
   "outputs": [
    {
     "name": "stdout",
     "output_type": "stream",
     "text": [
      "DataFrame `DF1`:\n"
     ]
    },
    {
     "data": {
      "text/html": [
       "<div>\n",
       "<style scoped>\n",
       "    .dataframe tbody tr th:only-of-type {\n",
       "        vertical-align: middle;\n",
       "    }\n",
       "\n",
       "    .dataframe tbody tr th {\n",
       "        vertical-align: top;\n",
       "    }\n",
       "\n",
       "    .dataframe thead th {\n",
       "        text-align: right;\n",
       "    }\n",
       "</style>\n",
       "<table border=\"1\" class=\"dataframe\">\n",
       "  <thead>\n",
       "    <tr style=\"text-align: right;\">\n",
       "      <th></th>\n",
       "      <th>Col_0</th>\n",
       "      <th>Col_1</th>\n",
       "      <th>Col_2</th>\n",
       "    </tr>\n",
       "  </thead>\n",
       "  <tbody>\n",
       "    <tr>\n",
       "      <th>0</th>\n",
       "      <td>NaN</td>\n",
       "      <td>NaN</td>\n",
       "      <td>NaN</td>\n",
       "    </tr>\n",
       "    <tr>\n",
       "      <th>1</th>\n",
       "      <td>NaN</td>\n",
       "      <td>NaN</td>\n",
       "      <td>NaN</td>\n",
       "    </tr>\n",
       "  </tbody>\n",
       "</table>\n",
       "</div>"
      ],
      "text/plain": [
       "   Col_0  Col_1  Col_2\n",
       "0    NaN    NaN    NaN\n",
       "1    NaN    NaN    NaN"
      ]
     },
     "execution_count": 5,
     "metadata": {},
     "output_type": "execute_result"
    }
   ],
   "source": [
    "import numpy as np # numpy not imported previously.\n",
    "import pandas as pd # pandas not imported previously.\n",
    "Col_0=[np.nan,np.nan]\n",
    "Col_1=[np.nan,np.nan]\n",
    "Col_2=[np.nan,np.nan]\n",
    "DF1= pd.DataFrame({\"Col_0\":Col_0,\n",
    "    \"Col_1\":Col_1,\n",
    "    \"Col_2\":Col_2,\n",
    "    })\n",
    "print('DataFrame `DF1`:')\n",
    "DF1"
   ]
  }
 ],
 "metadata": {
  "kernelspec": {
   "display_name": "Python 3",
   "language": "python",
   "name": "python3"
  },
  "language_info": {
   "codemirror_mode": {
    "name": "ipython",
    "version": 3
   },
   "file_extension": ".py",
   "mimetype": "text/x-python",
   "name": "python",
   "nbconvert_exporter": "python",
   "pygments_lexer": "ipython3",
   "version": "3.8.10"
  }
 },
 "nbformat": 4,
 "nbformat_minor": 5
}
