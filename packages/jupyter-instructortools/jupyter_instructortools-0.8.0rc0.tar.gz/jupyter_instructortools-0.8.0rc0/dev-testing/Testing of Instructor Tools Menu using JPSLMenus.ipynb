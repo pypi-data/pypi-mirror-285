{
 "cells": [
  {
   "cell_type": "markdown",
   "id": "d152ae70",
   "metadata": {},
   "source": [
    "<div style = \"width: 100%; height:10px;border-width:5px; border-color:green;border-style:solid;border-bottom-style:none;margin-bottom: 4px; min-width: 15px;background-color:yellow;\"></div>\n",
    "\n",
    "\n",
    "<div style = \"height: 100%; width:10px;float:left; border-width:5px; border-color:cyan;border-style:solid; border-right-style:none;margin-right: 4px; min-height: 15px;\"></div>\n",
    "\n",
    "\n",
    "<div style = \"height: 100%; width:10px;float:left; border-width:5px; border-color:red;border-style:solid; border-right-style:none;margin-right: 4px; min-height: 15px;\"></div>\n",
    "\n",
    "\n",
    "\n",
    "<div style = \"width: 100%; height:10px;border-width:5px;border-color:sienna;border-style:solid;border-top-style:none;margin-top: 4px; min-width: 15px;background-color:yellow;\"></div>\n"
   ]
  },
  {
   "cell_type": "markdown",
   "id": "9e7e8bd3",
   "metadata": {},
   "source": [
    "### You must initialize the software each time you use     this notebook.\n",
    " 1. First, check that the notebook is \"Trusted\" by looking     near the right of the Jupyter toolbars. If the notebook is not     trusted you need to click on the \"not trusted\" button and trust the notebook. **You should only trust notebooks that come from a *trusted source*, such as the class website.**\n",
    " 2. The cell immediately below contains code that loads the software modules necessary for this notebook to run. It also collects some bookkeeping information that can be used for troubleshooting. **You must run this cell each time you open the notebook or later cells may not work.**\n",
    " 3. If you are doing calculations that depend upon using variables passed from calculations done the previous time the notebook was opened, you will need to run those previous cells to redefine the variables.\n",
    " 4. *DO NOT run cells that contain plot displays of live data collection, as that will restart the data collection.* You can reload data collected from the `.csv` files  written for each collection run. Ideally you would do this in a new notebook."
   ]
  },
  {
   "cell_type": "code",
   "execution_count": null,
   "id": "027a0364",
   "metadata": {},
   "outputs": [],
   "source": [
    "import JPSLUtils\n",
    "JPSLUtils.JPSL_Tools_Menu()\n",
    "JPSLUtils.record_names_timestamp()\n"
   ]
  },
  {
   "cell_type": "code",
   "execution_count": 4,
   "id": "a825cd8b",
   "metadata": {
    "JPSL": {
     "hide_code": false,
     "hide_on_print": true,
     "input_table_cell": true
    }
   },
   "outputs": [
    {
     "data": {
      "text/html": [
       "<table class=\"input_table\" id=\"it_1653269704255\"><caption  style=\"font-weight:bold;font-size:1.5em;color:darkkhaki\">Test table</caption><tbody> <tr class=\"input_table r0\">  <th class=\"input_table r0 c0\"><button class=\"lock_btn\" onclick=\"lock_labels('it_1653269704255')\">Lock Column and Row Labels</button></th><th class=\"input_table r0 c1\"><input class=\"table_label\" type=\"text\" size=\"15\" value=\"Col_0\" onblur=\"record_input(this)\"></input></th><th class=\"input_table r0 c2\"><input class=\"table_label\" type=\"text\" size=\"15\" value=\"Col_1\" onblur=\"record_input(this)\"></input></th><th class=\"input_table r0 c3\"><input class=\"table_label\" type=\"text\" size=\"15\" value=\"Col_2\" onblur=\"record_input(this)\"></input></th> </tr> <tr class=\"input_table r1\"><th class=\"input_table r1 c0\"><input class=\"table_label\" type=\"text\" size=\"7\" value=\"0\" onblur=\"record_input(this)\"></input></th>  <td class=\"input_table r1 c1\"><input class=\"data_cell\" type=\"text\" size=\"7\" onblur=\"record_input(this)\"></input></td>  <td class=\"input_table r1 c2\"><input class=\"data_cell\" type=\"text\" size=\"7\" onblur=\"record_input(this)\"></input></td>  <td class=\"input_table r1 c3\"><input class=\"data_cell\" type=\"text\" size=\"7\" onblur=\"record_input(this)\"></input></td> </tr> <tr class=\"input_table r2\"><th class=\"input_table r2 c0\"><input class=\"table_label\" type=\"text\" size=\"7\" value=\"1\" onblur=\"record_input(this)\"></input></th>  <td class=\"input_table r2 c1\"><input class=\"data_cell\" type=\"text\" size=\"7\" onblur=\"record_input(this)\"></input></td>  <td class=\"input_table r2 c2\"><input class=\"data_cell\" type=\"text\" size=\"7\" onblur=\"record_input(this)\"></input></td>  <td class=\"input_table r2 c3\"><input class=\"data_cell\" type=\"text\" size=\"7\" onblur=\"record_input(this)\"></input></td> </tr> <tr class=\"input_table r3\"><th class=\"input_table r3 c0\"><input class=\"table_label\" type=\"text\" size=\"7\" value=\"2\" onblur=\"record_input(this)\"></input></th>  <td class=\"input_table r3 c1\"><input class=\"data_cell\" type=\"text\" size=\"7\" onblur=\"record_input(this)\"></input></td>  <td class=\"input_table r3 c2\"><input class=\"data_cell\" type=\"text\" size=\"7\" onblur=\"record_input(this)\"></input></td>  <td class=\"input_table r3 c3\"><input class=\"data_cell\" type=\"text\" size=\"7\" onblur=\"record_input(this)\"></input></td> </tr></tbody></table>"
      ],
      "text/plain": [
       "<IPython.core.display.HTML object>"
      ]
     },
     "metadata": {},
     "output_type": "display_data"
    }
   ],
   "source": [
    "# If no data table appears in the output of this cell, run the cell to display the table.\n",
    "\n",
    "from IPython.display import HTML\n",
    "try:\n",
    "    import input_table\n",
    "except (ImportError, FileNotFoundError) as e:\n",
    "    print(\"Table editing will not work because `jupyter_datainputtable` module ### You must initialize the software each time you use     this notebook.\")\n",
    "display(HTML('<table class=\"input_table\" id=\"it_1653269704255\"><caption  style=\"font-weight:bold;font-size:1.5em;color:darkkhaki\">Test table</caption><tbody> <tr class=\"input_table r0\">  <th class=\"input_table r0 c0\"><button class=\"lock_btn\" onclick=\"lock_labels(\\'it_1653269704255\\')\">Lock Column and Row Labels</button></th><th class=\"input_table r0 c1\"><input class=\"table_label\" type=\"text\" size=\"15\" value=\"Col_0\" onblur=\"record_input(this)\"></input></th><th class=\"input_table r0 c2\"><input class=\"table_label\" type=\"text\" size=\"15\" value=\"Col_1\" onblur=\"record_input(this)\"></input></th><th class=\"input_table r0 c3\"><input class=\"table_label\" type=\"text\" size=\"15\" value=\"Col_2\" onblur=\"record_input(this)\"></input></th> </tr> <tr class=\"input_table r1\"><th class=\"input_table r1 c0\"><input class=\"table_label\" type=\"text\" size=\"7\" value=\"0\" onblur=\"record_input(this)\"></input></th>  <td class=\"input_table r1 c1\"><input class=\"data_cell\" type=\"text\" size=\"7\" onblur=\"record_input(this)\"></input></td>  <td class=\"input_table r1 c2\"><input class=\"data_cell\" type=\"text\" size=\"7\" onblur=\"record_input(this)\"></input></td>  <td class=\"input_table r1 c3\"><input class=\"data_cell\" type=\"text\" size=\"7\" onblur=\"record_input(this)\"></input></td> </tr> <tr class=\"input_table r2\"><th class=\"input_table r2 c0\"><input class=\"table_label\" type=\"text\" size=\"7\" value=\"1\" onblur=\"record_input(this)\"></input></th>  <td class=\"input_table r2 c1\"><input class=\"data_cell\" type=\"text\" size=\"7\" onblur=\"record_input(this)\"></input></td>  <td class=\"input_table r2 c2\"><input class=\"data_cell\" type=\"text\" size=\"7\" onblur=\"record_input(this)\"></input></td>  <td class=\"input_table r2 c3\"><input class=\"data_cell\" type=\"text\" size=\"7\" onblur=\"record_input(this)\"></input></td> </tr> <tr class=\"input_table r3\"><th class=\"input_table r3 c0\"><input class=\"table_label\" type=\"text\" size=\"7\" value=\"2\" onblur=\"record_input(this)\"></input></th>  <td class=\"input_table r3 c1\"><input class=\"data_cell\" type=\"text\" size=\"7\" onblur=\"record_input(this)\"></input></td>  <td class=\"input_table r3 c2\"><input class=\"data_cell\" type=\"text\" size=\"7\" onblur=\"record_input(this)\"></input></td>  <td class=\"input_table r3 c3\"><input class=\"data_cell\" type=\"text\" size=\"7\" onblur=\"record_input(this)\"></input></td> </tr></tbody></table>'))"
   ]
  },
  {
   "cell_type": "code",
   "execution_count": null,
   "id": "d34643c2",
   "metadata": {},
   "outputs": [],
   "source": []
  }
 ],
 "metadata": {
  "kernelspec": {
   "display_name": "Python 3",
   "language": "python",
   "name": "python3"
  },
  "language_info": {
   "codemirror_mode": {
    "name": "ipython",
    "version": 3
   },
   "file_extension": ".py",
   "mimetype": "text/x-python",
   "name": "python",
   "nbconvert_exporter": "python",
   "pygments_lexer": "ipython3",
   "version": "3.8.10"
  },
  "noinstructortool": true
 },
 "nbformat": 4,
 "nbformat_minor": 5
}
