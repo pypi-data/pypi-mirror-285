{
 "cells": [
  {
   "cell_type": "code",
   "execution_count": null,
   "id": "f07cf600-1204-4cbb-9950-830d1fb28833",
   "metadata": {
    "JPSL": {
     "noinstructortools": true
    },
    "deletable": true,
    "editable": false,
    "slideshow": {
     "slide_type": ""
    },
    "tags": []
   },
   "outputs": [],
   "source": [
    "# Test of \"deletable\": false"
   ]
  },
  {
   "cell_type": "code",
   "execution_count": 2,
   "id": "bf9d5ddc-665c-4895-93da-ac0c69eb8df3",
   "metadata": {
    "JPSL": {
     "hide_code_on_print": true,
     "noinstructortools": true,
     "test": "does this delete hide_on_print?"
    },
    "deletable": false,
    "editable": false,
    "slideshow": {
     "slide_type": ""
    },
    "tags": []
   },
   "outputs": [
    {
     "name": "stdout",
     "output_type": "stream",
     "text": [
      "This cell will have its code hidden.\n"
     ]
    }
   ],
   "source": [
    "# test cell 3. also protected.\n",
    "print('This cell will have its code hidden.')"
   ]
  },
  {
   "cell_type": "code",
   "execution_count": 3,
   "id": "9d3673fe-7aa4-401f-b71a-a0933e2440c5",
   "metadata": {
    "JPSL": {
     "hide_on_print": true,
     "noinstructortools": true,
     "test": "does this delete hide_on_print?"
    },
    "deletable": true
   },
   "outputs": [],
   "source": [
    "#test cell 4 also protected.\n"
   ]
  },
  {
   "cell_type": "code",
   "execution_count": null,
   "id": "1f6693a0-405f-4ad5-a9c8-db5144d8f5ad",
   "metadata": {
    "JPSL": {
     "noinstructortools": true
    }
   },
   "outputs": [],
   "source": []
  },
  {
   "cell_type": "code",
   "execution_count": null,
   "id": "a554953b-faa7-4f18-b1d0-0ddc82b07597",
   "metadata": {
    "JPSL": {
     "noinstructortools": true
    }
   },
   "outputs": [],
   "source": []
  },
  {
   "cell_type": "code",
   "execution_count": null,
   "id": "c9a87eef-4fcb-4f84-a25d-3734309731e9",
   "metadata": {
    "JPSL": {
     "noinstructortools": true
    }
   },
   "outputs": [],
   "source": []
  }
 ],
 "metadata": {
  "JPSL": {
   "noinstructortools": true
  },
  "kernelspec": {
   "display_name": "Python 3 (ipykernel)",
   "language": "python",
   "name": "python3"
  },
  "language_info": {
   "codemirror_mode": {
    "name": "ipython",
    "version": 3
   },
   "file_extension": ".py",
   "mimetype": "text/x-python",
   "name": "python",
   "nbconvert_exporter": "python",
   "pygments_lexer": "ipython3",
   "version": "3.10.12"
  },
  "widgets": {
   "application/vnd.jupyter.widget-state+json": {
    "state": {},
    "version_major": 2,
    "version_minor": 0
   }
  }
 },
 "nbformat": 4,
 "nbformat_minor": 5
}
