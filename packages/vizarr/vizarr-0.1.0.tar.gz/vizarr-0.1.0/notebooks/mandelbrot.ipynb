{
 "cells": [
  {
   "cell_type": "markdown",
   "metadata": {},
   "source": [
    "# Setup\n",
    "\n",
    "Before start, please make sure you have all the dependencies installed."
   ]
  },
  {
   "cell_type": "code",
   "execution_count": null,
   "metadata": {},
   "outputs": [],
   "source": [
    "!uv pip install --quiet vizarr zarr numba"
   ]
  },
  {
   "cell_type": "code",
   "execution_count": 1,
   "metadata": {},
   "outputs": [],
   "source": [
    "import zarr\n",
    "import numcodecs\n",
    "import numba\n",
    "import numpy as np\n",
    "\n",
    "import vizarr"
   ]
  },
  {
   "cell_type": "markdown",
   "metadata": {},
   "source": [
    "## Zoomable Mandelbrot Set\n",
    "\n",
    "This notebook a contains `vizarr` example visualizing a generic multiscale zarr. The first cell contains code to create the underlying generatvie zarr store. It dynamically creates \"chunks\" at different zoom levels and associated array metadata."
   ]
  },
  {
   "cell_type": "code",
   "execution_count": 2,
   "metadata": {},
   "outputs": [],
   "source": [
    "\n",
    "def create_meta_store(levels: int, tilesize: int, compressor, dtype: str):\n",
    "    store = dict()\n",
    "    zarr.storage.init_group(store)\n",
    "    \n",
    "    datasets = [{\"path\": str(i)} for i in range(levels)]\n",
    "    root_attrs = {\"multiscales\": [{\"datasets\": datasets, \"version\": \"0.1\"}]}\n",
    "    store[\".zattrs\"] = zarr.util.json_dumps(root_attrs)\n",
    "    \n",
    "    base_width = tilesize * 2 ** levels\n",
    "    for level in range(levels):\n",
    "        width = int(base_width / 2 ** level)\n",
    "        zarr.storage.init_array(\n",
    "            store,\n",
    "            path=str(level),\n",
    "            shape=(width, width),\n",
    "            chunks=(tilesize, tilesize),\n",
    "            dtype=dtype,\n",
    "            compressor=compressor,\n",
    "        )\n",
    "    return store\n",
    "\n",
    "\n",
    "@numba.njit\n",
    "def mandelbrot(out, from_x, from_y, to_x, to_y, grid_size, maxiter):\n",
    "    step_x = (to_x - from_x) / grid_size\n",
    "    step_y = (to_y - from_y) / grid_size\n",
    "    creal = from_x\n",
    "    cimag = from_y\n",
    "    for i in range(grid_size):\n",
    "        cimag = from_y\n",
    "        for j in range(grid_size):\n",
    "            nreal = real = imag = n = 0\n",
    "            for _ in range(maxiter):\n",
    "                nreal = real * real - imag * imag + creal\n",
    "                imag = 2 * real * imag + cimag\n",
    "                real = nreal\n",
    "                if real * real + imag * imag > 4.0:\n",
    "                    break\n",
    "                n += 1\n",
    "            out[j * grid_size + i] = n\n",
    "            cimag += step_y\n",
    "        creal += step_x\n",
    "    return out\n",
    "\n",
    "\n",
    "@numba.njit\n",
    "def tile_bounds(level, x, y, max_level, min_coord=-2.5, max_coord=2.5):\n",
    "    max_width = max_coord - min_coord\n",
    "    tile_width = max_width / 2 ** (max_level - level)\n",
    "    from_x = min_coord + x * tile_width\n",
    "    to_x = min_coord + (x + 1) * tile_width\n",
    "\n",
    "    from_y = min_coord + y * tile_width\n",
    "    to_y = min_coord + (y + 1) * tile_width\n",
    "\n",
    "    return from_x, from_y, to_x, to_y\n",
    "\n",
    "\n",
    "class MandlebrotStore(zarr.storage.BaseStore):\n",
    "    \n",
    "    def __init__(self, levels, tilesize, maxiter=255, compressor=None):\n",
    "        self.levels = levels\n",
    "        self.tilesize = tilesize\n",
    "        self.compressor = compressor\n",
    "        self.dtype = np.dtype(np.uint8 if maxiter < 256 else np.uint16)\n",
    "        self.maxiter = maxiter\n",
    "        self._store = create_meta_store(levels, tilesize, compressor, self.dtype)\n",
    "\n",
    "    def __getitem__(self, key):\n",
    "        if key in self._store:\n",
    "            return self._store[key]\n",
    "\n",
    "        try:\n",
    "            # Try parsing pyramidal coords\n",
    "            level, chunk_key = key.split(\"/\")\n",
    "            level = int(level)\n",
    "            y, x = map(int, chunk_key.split(\".\"))\n",
    "        except:\n",
    "            raise KeyError\n",
    "\n",
    "        from_x, from_y, to_x, to_y = tile_bounds(level, x, y, self.levels)\n",
    "        out = np.zeros(self.tilesize * self.tilesize, dtype=self.dtype)\n",
    "        tile = mandelbrot(out, from_x, from_y, to_x, to_y, self.tilesize, self.maxiter)\n",
    "        tile = tile.reshape(self.tilesize, self.tilesize)\n",
    "\n",
    "        if self.compressor:\n",
    "            return self.compressor.encode(tile)\n",
    "\n",
    "        return tile.tobytes()\n",
    "\n",
    "    def __iter__(self):\n",
    "        return iter(self._store)\n",
    "        \n",
    "    def __len__(self):\n",
    "        return len(self._store)\n",
    "\n",
    "    def __delitem__(self, key):\n",
    "        raise NotImplementedError(\"read-only store\")\n",
    "        \n",
    "    def __setitem__(self, key):\n",
    "        raise NotImplementedError(\"read-only store\")"
   ]
  },
  {
   "cell_type": "markdown",
   "metadata": {},
   "source": [
    "### Running vizarr\n",
    "\n",
    "Simply initalize the multiscale store implemented above, and open as a `zarr.Group` for vizarr. "
   ]
  },
  {
   "cell_type": "code",
   "execution_count": 3,
   "metadata": {},
   "outputs": [
    {
     "data": {
      "application/vnd.jupyter.widget-view+json": {
       "model_id": "165e1b6dccd5403287a74a0f88eb3bbc",
       "version_major": 2,
       "version_minor": 1
      },
      "text/plain": [
       "Viewer()"
      ]
     },
     "execution_count": 3,
     "metadata": {},
     "output_type": "execute_result"
    }
   ],
   "source": [
    "# Initialize the store\n",
    "store = MandlebrotStore(levels=50, tilesize=512, compressor=numcodecs.Blosc())\n",
    "# Wrap in a cache so that tiles don't need to be computed as often\n",
    "store = zarr.LRUStoreCache(store, max_size=1e9)\n",
    "\n",
    "# This store implements the 'multiscales' zarr specfiication which is recognized by vizarr\n",
    "grp = zarr.open(store, mode=\"r\")\n",
    "\n",
    "viewer = vizarr.Viewer()\n",
    "viewer.add_image(source=grp, name=\"mandelbrot\")\n",
    "viewer"
   ]
  },
  {
   "cell_type": "code",
   "execution_count": null,
   "metadata": {},
   "outputs": [],
   "source": []
  }
 ],
 "metadata": {
  "kernelspec": {
   "display_name": "Python 3 (ipykernel)",
   "language": "python",
   "name": "python3"
  },
  "language_info": {
   "codemirror_mode": {
    "name": "ipython",
    "version": 3
   },
   "file_extension": ".py",
   "mimetype": "text/x-python",
   "name": "python",
   "nbconvert_exporter": "python",
   "pygments_lexer": "ipython3",
   "version": "3.12.3"
  },
  "widgets": {
   "application/vnd.jupyter.widget-state+json": {
    "state": {
     "165e1b6dccd5403287a74a0f88eb3bbc": {
      "model_module": "anywidget",
      "model_module_version": "~0.9.*",
      "model_name": "AnyModel",
      "state": {
       "_anywidget_id": "vizarr._widget.Viewer",
       "_configs": [
        {
         "name": "mandelbrot",
         "source": {
          "id": 0
         }
        }
       ],
       "_esm": "import * as vizarr from \"https://hms-dbmi.github.io/vizarr/index.js\";\nimport debounce from \"https://esm.sh/just-debounce-it@3\";\n\n/**\n * @template T\n * @param {import(\"npm:@anywidget/types\").AnyModel} model\n * @param {any} payload\n * @param {{ timeout?: number }} [options]\n * @returns {Promise<{ data: T, buffers: DataView[] }>}\n */\nfunction send(model, payload, { timeout = 3000 } = {}) {\n\tlet uuid = globalThis.crypto.randomUUID();\n\treturn new Promise((resolve, reject) => {\n\t\tlet timer = setTimeout(() => {\n\t\t\treject(new Error(`Promise timed out after ${timeout} ms`));\n\t\t\tmodel.off(\"msg:custom\", handler);\n\t\t}, timeout);\n\t\t/**\n\t\t * @param {{ uuid: string, payload: T }} msg\n\t\t * @param {DataView[]} buffers\n\t\t */\n\t\tfunction handler(msg, buffers) {\n\t\t\tif (!(msg.uuid === uuid)) return;\n\t\t\tclearTimeout(timer);\n\t\t\tresolve({ data: msg.payload, buffers });\n\t\t\tmodel.off(\"msg:custom\", handler);\n\t\t}\n\t\tmodel.on(\"msg:custom\", handler);\n\t\tmodel.send({ payload, uuid });\n\t});\n}\n\n/**\n * @param {import(\"npm:@anywidget/types\").AnyModel} model\n * @param {string | { id: string }} source\n */\nfunction get_source(model, source) {\n\tif (typeof source === \"string\") {\n\t\treturn source;\n\t}\n\t// create a python\n\treturn {\n\t\t/**\n\t\t * @param {string} key\n\t\t * @return {Promise<Uint8Array | undefined>}\n\t\t */\n\t\tasync get(key) {\n\t\t\tconst { data, buffers } = await send(model, {\n\t\t\t\ttype: \"get\",\n\t\t\t\tsource_id: source.id,\n\t\t\t\tkey,\n\t\t\t});\n\t\t\tif (!data.success) {\n\t\t\t\treturn undefined;\n\t\t\t}\n\t\t\treturn new Uint8Array(buffers[0].buffer);\n\t\t}\n\t};\n}\n\n/**\n * @typedef Model\n * @property {string} height\n * @property {ViewState=} view_state\n * @property {{ source: string | { id: string }}[]} _configs\n */\n\n/**\n * @typedef ViewState\n * @property {number} zoom\n * @property {[x: number, y: number]} target\n */\n\n/** @type {import(\"npm:@anywidget/types\").Render<Model>} */\nexport async function render({ model, el }) {\n\tlet div = document.createElement(\"div\");\n\t{\n\t\tdiv.style.height = model.get(\"height\");\n\t\tdiv.style.backgroundColor = \"black\";\n\t\tmodel.on(\"change:height\", () => {\n\t\t\tdiv.style.height = model.get(\"height\");\n\t\t});\n\t}\n\tlet viewer = await vizarr.createViewer(div);\n\t{\n\t\tmodel.on(\"change:view_state\", () => {\n\t\t\tviewer.setViewState(model.get(\"view_state\"));\n\t\t});\n\t\tviewer.on(\n\t\t\t\"viewStateChange\",\n\t\t\tdebounce((/** @type {ViewState} */ update) => {\n\t\t\t\tmodel.set(\"view_state\", update);\n\t\t\t\tmodel.save_changes();\n\t\t\t}, 200),\n\t\t);\n\t}\n\t{\n\t\t// sources are append-only now\n\t\tfor (const config of model.get(\"_configs\")) {\n\t\t\tconst source = get_source(model, config.source);\n\t\t\tviewer.addImage({ ...config, source });\n\t\t}\n\t\tmodel.on(\"change:_configs\", () => {\n\t\t\tconst last = model.get(\"_configs\").at(-1);\n\t\t\tif (!last) return;\n\t\t\tconst source = get_source(model, last.source);\n\t\t\tviewer.addImage({ ...last, source });\n\t\t});\n\t}\n\tel.appendChild(div);\n}\n",
       "_model_module": "anywidget",
       "_model_module_version": "~0.9.*",
       "_model_name": "AnyModel",
       "_view_module": "anywidget",
       "_view_module_version": "~0.9.*",
       "_view_name": "AnyView",
       "height": "500px",
       "layout": "IPY_MODEL_2dc35bae9e0e4f46aa8c3ecf6357a48f",
       "view_state": {
        "target": [
         331352772393865540,
         235756285335411900
        ],
        "zoom": -44.76227004102456
       }
      }
     },
     "2dc35bae9e0e4f46aa8c3ecf6357a48f": {
      "model_module": "@jupyter-widgets/base",
      "model_module_version": "2.0.0",
      "model_name": "LayoutModel",
      "state": {}
     }
    },
    "version_major": 2,
    "version_minor": 0
   }
  }
 },
 "nbformat": 4,
 "nbformat_minor": 4
}
