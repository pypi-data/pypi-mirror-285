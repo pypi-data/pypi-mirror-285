{
 "cells": [
  {
   "cell_type": "code",
   "execution_count": 18,
   "metadata": {},
   "outputs": [],
   "source": [
    "from adc import align, count, fit\n",
    "from functools import partial\n",
    "from importlib.metadata import version\n",
    "import urllib3\n",
    "import shutil\n",
    "import os\n",
    "import pathlib\n",
    "\n",
    "\n",
    "import matplotlib.pyplot as plt\n",
    "import yaml\n",
    "\n",
    "import tifffile as tf\n",
    "import seaborn as sns"
   ]
  },
  {
   "cell_type": "code",
   "execution_count": 2,
   "metadata": {},
   "outputs": [
    {
     "data": {
      "text/plain": [
       "'0.0.3.dev0+g7d4f7cc.d20220628'"
      ]
     },
     "execution_count": 2,
     "metadata": {},
     "output_type": "execute_result"
    }
   ],
   "source": [
    "__version__ = version('anchor-droplet-chip')\n",
    "__version__"
   ]
  },
  {
   "cell_type": "code",
   "execution_count": 3,
   "metadata": {},
   "outputs": [],
   "source": [
    "def load_data(url, filename, dir=None):\n",
    "    if dir is not None:\n",
    "        cwd = pathlib.Path.cwd()\n",
    "        subfolder = cwd.joinpath(dir)\n",
    "        subfolder.mkdir(exist_ok=True)\n",
    "        filename = subfolder.joinpath(filename)\n",
    "    else:\n",
    "        filename = pathlib.Path(filename)\n",
    "        \n",
    "    if not filename.exists():\n",
    "        print(f'loading {filename}')\n",
    "        c = urllib3.PoolManager()\n",
    "\n",
    "        with c.request('GET',url, preload_content=False) as resp, filename.open(mode='wb') as out_file:\n",
    "            shutil.copyfileobj(resp, out_file)\n",
    "\n",
    "        resp.release_conn()\n",
    "    else:\n",
    "        print(f'{filename} already exists')\n",
    "    print(f'reading from disk {filename}')\n",
    "    return tf.imread(filename)\n",
    "\n",
    "\n",
    "def process_urls(key, config):\n",
    "    if 'url' in config[key]:\n",
    "        return load_data(**config[key])\n",
    "    else:\n",
    "        return config[key]\n",
    "\n",
    "def load_dataset(path):\n",
    "    with open(path,'r') as f:\n",
    "        config  = yaml.load(f, Loader=yaml.SafeLoader)\n",
    "        print (config)\n",
    "\n",
    "    return {key: process_urls(key, config) for key in config}\n",
    "     "
   ]
  },
  {
   "cell_type": "code",
   "execution_count": 4,
   "metadata": {},
   "outputs": [
    {
     "name": "stdout",
     "output_type": "stream",
     "text": [
      "{'data': {'filename': '00ng_BF_TRITC_bin2.tif', 'dir': 'day1', 'url': 'https://github.com/BaroudLab/anchor-droplet-chip/releases/download/v0.0.1/00ng_BF_TRITC_bin2.tif'}, 'mask2': {'filename': 'labels_bin2.tif', 'url': 'https://github.com/BaroudLab/anchor-droplet-chip/releases/download/v0.0.1/labels_bin2+100.tif'}, 'template16': {'filename': 'template_bin16_bf.tif', 'url': 'https://github.com/BaroudLab/anchor-droplet-chip/releases/download/v0.0.1/template_bin16_bf.tif'}, 'path_to_save': 'day1/00ng_aligned.tif', 'binnings': [2, 16, 2], 'constraints': {'scale': [1, 0.2], 'tx': [0, 500], 'ty': [0, 50], 'angle': [0, 30]}}\n",
      "/home/aaristov/Documents/anchor-droplet-chip/day1/00ng_BF_TRITC_bin2.tif already exists\n",
      "reading from disk /home/aaristov/Documents/anchor-droplet-chip/day1/00ng_BF_TRITC_bin2.tif\n",
      "labels_bin2.tif already exists\n",
      "reading from disk labels_bin2.tif\n",
      "template_bin16_bf.tif already exists\n",
      "reading from disk template_bin16_bf.tif\n",
      "{'data': {'filename': '00ng_BF_TRITC_bin2-24h.tif', 'dir': 'day2', 'url': 'https://github.com/BaroudLab/anchor-droplet-chip/releases/download/v0.0.1/00ng_BF_TRITC_bin2-24h.tif'}, 'mask2': {'filename': 'labels_bin2.tif', 'url': 'https://github.com/BaroudLab/anchor-droplet-chip/releases/download/v0.0.1/labels_bin2+100.tif'}, 'template16': {'filename': 'template_bin16_bf.tif', 'url': 'https://github.com/BaroudLab/anchor-droplet-chip/releases/download/v0.0.1/template_bin16_bf.tif'}, 'path_to_save': 'day2/00ng_aligned_24h.tif', 'binnings': [2, 16, 2], 'constraints': {'scale': [1, 0.2], 'tx': [0, 500], 'ty': [0, 50], 'angle': [0, 30]}}\n",
      "/home/aaristov/Documents/anchor-droplet-chip/day2/00ng_BF_TRITC_bin2-24h.tif already exists\n",
      "reading from disk /home/aaristov/Documents/anchor-droplet-chip/day2/00ng_BF_TRITC_bin2-24h.tif\n",
      "labels_bin2.tif already exists\n",
      "reading from disk labels_bin2.tif\n",
      "template_bin16_bf.tif already exists\n",
      "reading from disk template_bin16_bf.tif\n"
     ]
    }
   ],
   "source": [
    "data_0h = load_dataset('test_data_0h.yaml')\n",
    "data_24h = load_dataset('test_data_24h.yaml')\n"
   ]
  },
  {
   "cell_type": "code",
   "execution_count": 5,
   "metadata": {},
   "outputs": [
    {
     "name": "stderr",
     "output_type": "stream",
     "text": [
      "2022-07-05 18:23:55,327 INFO : Found transform: {'tvec': array([-66.49074166, -48.11976624]), 'success': 0.033438634530226136, 'angle': -1.7821884214446868, 'scale': 0.9967281194497374, 'Dscale': 0.00048304883928820217, 'Dangle': 0.013485166317051244, 'Dt': 0.25, 'timg': None}\n",
      "2022-07-05 18:23:55,328 INFO : Applying the transform to the brightfield channel\n",
      "2022-07-05 18:24:16,247 INFO : Applying the transform to the fluorescence channel\n",
      "2022-07-05 18:24:48,881 INFO : Found transform: {'tvec': array([-130.05149521, -289.98512969]), 'success': 0.02192667678082884, 'angle': -1.6569281453164137, 'scale': 0.9972586375438617, 'Dscale': 0.0004754544406975486, 'Dangle': 0.013477088948787063, 'Dt': 0.25, 'timg': None}\n",
      "2022-07-05 18:24:48,881 INFO : Applying the transform to the brightfield channel\n",
      "2022-07-05 18:25:07,262 INFO : Applying the transform to the fluorescence channel\n"
     ]
    }
   ],
   "source": [
    "aligned_stack_0h, tvec_0h = align.align_stack(**data_0h)\n",
    "aligned_stack_24h, tvec_0h = align.align_stack(**data_24h)\n"
   ]
  },
  {
   "cell_type": "code",
   "execution_count": 13,
   "metadata": {},
   "outputs": [],
   "source": [
    "tf.imwrite('day1/00ng_BF_TRITC_bin2-aligned.tif', aligned_stack_0h, imagej=True, metadata=align.META_ALIGNED)\n",
    "tf.imwrite('day2/00ng_BF_TRITC_bin2-24h-aligned.tif', aligned_stack_24h, imagej=True, metadata=align.META_ALIGNED)\n"
   ]
  },
  {
   "cell_type": "code",
   "execution_count": 7,
   "metadata": {},
   "outputs": [
    {
     "data": {
      "text/html": [
       "<div>\n",
       "<style scoped>\n",
       "    .dataframe tbody tr th:only-of-type {\n",
       "        vertical-align: middle;\n",
       "    }\n",
       "\n",
       "    .dataframe tbody tr th {\n",
       "        vertical-align: top;\n",
       "    }\n",
       "\n",
       "    .dataframe thead th {\n",
       "        text-align: right;\n",
       "    }\n",
       "</style>\n",
       "<table border=\"1\" class=\"dataframe\">\n",
       "  <thead>\n",
       "    <tr style=\"text-align: right;\">\n",
       "      <th></th>\n",
       "      <th>label</th>\n",
       "      <th>x</th>\n",
       "      <th>y</th>\n",
       "      <th>n_cells</th>\n",
       "    </tr>\n",
       "  </thead>\n",
       "  <tbody>\n",
       "    <tr>\n",
       "      <th>0</th>\n",
       "      <td>1</td>\n",
       "      <td>417.128241</td>\n",
       "      <td>663.248626</td>\n",
       "      <td>2</td>\n",
       "    </tr>\n",
       "    <tr>\n",
       "      <th>1</th>\n",
       "      <td>2</td>\n",
       "      <td>948.961450</td>\n",
       "      <td>664.647675</td>\n",
       "      <td>3</td>\n",
       "    </tr>\n",
       "    <tr>\n",
       "      <th>2</th>\n",
       "      <td>3</td>\n",
       "      <td>1475.729516</td>\n",
       "      <td>665.043884</td>\n",
       "      <td>3</td>\n",
       "    </tr>\n",
       "    <tr>\n",
       "      <th>3</th>\n",
       "      <td>4</td>\n",
       "      <td>16298.040220</td>\n",
       "      <td>661.226322</td>\n",
       "      <td>2</td>\n",
       "    </tr>\n",
       "    <tr>\n",
       "      <th>4</th>\n",
       "      <td>5</td>\n",
       "      <td>16826.050217</td>\n",
       "      <td>660.757642</td>\n",
       "      <td>1</td>\n",
       "    </tr>\n",
       "    <tr>\n",
       "      <th>...</th>\n",
       "      <td>...</td>\n",
       "      <td>...</td>\n",
       "      <td>...</td>\n",
       "      <td>...</td>\n",
       "    </tr>\n",
       "    <tr>\n",
       "      <th>496</th>\n",
       "      <td>497</td>\n",
       "      <td>4646.000000</td>\n",
       "      <td>5962.000000</td>\n",
       "      <td>2</td>\n",
       "    </tr>\n",
       "    <tr>\n",
       "      <th>497</th>\n",
       "      <td>498</td>\n",
       "      <td>5177.702880</td>\n",
       "      <td>5961.897296</td>\n",
       "      <td>4</td>\n",
       "    </tr>\n",
       "    <tr>\n",
       "      <th>498</th>\n",
       "      <td>499</td>\n",
       "      <td>5706.998255</td>\n",
       "      <td>5961.526499</td>\n",
       "      <td>0</td>\n",
       "    </tr>\n",
       "    <tr>\n",
       "      <th>499</th>\n",
       "      <td>500</td>\n",
       "      <td>6236.971642</td>\n",
       "      <td>5961.537016</td>\n",
       "      <td>0</td>\n",
       "    </tr>\n",
       "    <tr>\n",
       "      <th>500</th>\n",
       "      <td>501</td>\n",
       "      <td>6765.801022</td>\n",
       "      <td>5961.585169</td>\n",
       "      <td>0</td>\n",
       "    </tr>\n",
       "  </tbody>\n",
       "</table>\n",
       "<p>501 rows × 4 columns</p>\n",
       "</div>"
      ],
      "text/plain": [
       "     label             x            y  n_cells\n",
       "0        1    417.128241   663.248626        2\n",
       "1        2    948.961450   664.647675        3\n",
       "2        3   1475.729516   665.043884        3\n",
       "3        4  16298.040220   661.226322        2\n",
       "4        5  16826.050217   660.757642        1\n",
       "..     ...           ...          ...      ...\n",
       "496    497   4646.000000  5962.000000        2\n",
       "497    498   5177.702880  5961.897296        4\n",
       "498    499   5706.998255  5961.526499        0\n",
       "499    500   6236.971642  5961.537016        0\n",
       "500    501   6765.801022  5961.585169        0\n",
       "\n",
       "[501 rows x 4 columns]"
      ]
     },
     "execution_count": 7,
     "metadata": {},
     "output_type": "execute_result"
    }
   ],
   "source": [
    "counts_0h = count.stack(aligned_stack_0h)\n",
    "counts_0h"
   ]
  },
  {
   "cell_type": "code",
   "execution_count": 11,
   "metadata": {},
   "outputs": [
    {
     "name": "stderr",
     "output_type": "stream",
     "text": [
      "2022-07-05 18:28:41,494 INFO : Max value: 42, truncating to 8 based on mean + 3 * std\n"
     ]
    },
    {
     "data": {
      "image/png": "[encoded data removed]",
      "text/plain": [
       "<Figure size 432x288 with 1 Axes>"
      ]
     },
     "metadata": {
      "needs_background": "light"
     },
     "output_type": "display_data"
    }
   ],
   "source": [
    "poisson_lambda = fit.poisson(counts_0h.n_cells)   "
   ]
  },
  {
   "cell_type": "code",
   "execution_count": 8,
   "metadata": {},
   "outputs": [
    {
     "data": {
      "text/html": [
       "<div>\n",
       "<style scoped>\n",
       "    .dataframe tbody tr th:only-of-type {\n",
       "        vertical-align: middle;\n",
       "    }\n",
       "\n",
       "    .dataframe tbody tr th {\n",
       "        vertical-align: top;\n",
       "    }\n",
       "\n",
       "    .dataframe thead th {\n",
       "        text-align: right;\n",
       "    }\n",
       "</style>\n",
       "<table border=\"1\" class=\"dataframe\">\n",
       "  <thead>\n",
       "    <tr style=\"text-align: right;\">\n",
       "      <th></th>\n",
       "      <th>label</th>\n",
       "      <th>x</th>\n",
       "      <th>y</th>\n",
       "      <th>n_cells</th>\n",
       "    </tr>\n",
       "  </thead>\n",
       "  <tbody>\n",
       "    <tr>\n",
       "      <th>0</th>\n",
       "      <td>1</td>\n",
       "      <td>417.128241</td>\n",
       "      <td>663.248626</td>\n",
       "      <td>17</td>\n",
       "    </tr>\n",
       "    <tr>\n",
       "      <th>1</th>\n",
       "      <td>2</td>\n",
       "      <td>948.961450</td>\n",
       "      <td>664.647675</td>\n",
       "      <td>78</td>\n",
       "    </tr>\n",
       "    <tr>\n",
       "      <th>2</th>\n",
       "      <td>3</td>\n",
       "      <td>1475.729516</td>\n",
       "      <td>665.043884</td>\n",
       "      <td>91</td>\n",
       "    </tr>\n",
       "    <tr>\n",
       "      <th>3</th>\n",
       "      <td>4</td>\n",
       "      <td>16298.040220</td>\n",
       "      <td>661.226322</td>\n",
       "      <td>64</td>\n",
       "    </tr>\n",
       "    <tr>\n",
       "      <th>4</th>\n",
       "      <td>5</td>\n",
       "      <td>16826.050217</td>\n",
       "      <td>660.757642</td>\n",
       "      <td>22</td>\n",
       "    </tr>\n",
       "    <tr>\n",
       "      <th>...</th>\n",
       "      <td>...</td>\n",
       "      <td>...</td>\n",
       "      <td>...</td>\n",
       "      <td>...</td>\n",
       "    </tr>\n",
       "    <tr>\n",
       "      <th>496</th>\n",
       "      <td>497</td>\n",
       "      <td>4646.000000</td>\n",
       "      <td>5962.000000</td>\n",
       "      <td>21</td>\n",
       "    </tr>\n",
       "    <tr>\n",
       "      <th>497</th>\n",
       "      <td>498</td>\n",
       "      <td>5177.702880</td>\n",
       "      <td>5961.897296</td>\n",
       "      <td>28</td>\n",
       "    </tr>\n",
       "    <tr>\n",
       "      <th>498</th>\n",
       "      <td>499</td>\n",
       "      <td>5706.998255</td>\n",
       "      <td>5961.526499</td>\n",
       "      <td>0</td>\n",
       "    </tr>\n",
       "    <tr>\n",
       "      <th>499</th>\n",
       "      <td>500</td>\n",
       "      <td>6236.971642</td>\n",
       "      <td>5961.537016</td>\n",
       "      <td>0</td>\n",
       "    </tr>\n",
       "    <tr>\n",
       "      <th>500</th>\n",
       "      <td>501</td>\n",
       "      <td>6765.801022</td>\n",
       "      <td>5961.585169</td>\n",
       "      <td>89</td>\n",
       "    </tr>\n",
       "  </tbody>\n",
       "</table>\n",
       "<p>501 rows × 4 columns</p>\n",
       "</div>"
      ],
      "text/plain": [
       "     label             x            y  n_cells\n",
       "0        1    417.128241   663.248626       17\n",
       "1        2    948.961450   664.647675       78\n",
       "2        3   1475.729516   665.043884       91\n",
       "3        4  16298.040220   661.226322       64\n",
       "4        5  16826.050217   660.757642       22\n",
       "..     ...           ...          ...      ...\n",
       "496    497   4646.000000  5962.000000       21\n",
       "497    498   5177.702880  5961.897296       28\n",
       "498    499   5706.998255  5961.526499        0\n",
       "499    500   6236.971642  5961.537016        0\n",
       "500    501   6765.801022  5961.585169       89\n",
       "\n",
       "[501 rows x 4 columns]"
      ]
     },
     "execution_count": 8,
     "metadata": {},
     "output_type": "execute_result"
    }
   ],
   "source": [
    "counts_24h = count.stack(aligned_stack_24h)\n",
    "counts_24h"
   ]
  },
  {
   "cell_type": "code",
   "execution_count": 15,
   "metadata": {},
   "outputs": [],
   "source": [
    "table = counts_0h.copy()"
   ]
  },
  {
   "cell_type": "code",
   "execution_count": 16,
   "metadata": {},
   "outputs": [],
   "source": [
    "table.loc[:, \"n_cells_final\"]  = counts_24h.n_cells"
   ]
  },
  {
   "cell_type": "code",
   "execution_count": 19,
   "metadata": {},
   "outputs": [
    {
     "name": "stderr",
     "output_type": "stream",
     "text": [
      "/home/aaristov/Documents/anchor-droplet-chip/venv/lib/python3.8/site-packages/seaborn/categorical.py:1296: UserWarning: 82.0% of the points cannot be placed; you may want to decrease the size of the markers or use stripplot.\n",
      "  warnings.warn(msg, UserWarning)\n",
      "/home/aaristov/Documents/anchor-droplet-chip/venv/lib/python3.8/site-packages/seaborn/categorical.py:1296: UserWarning: 38.5% of the points cannot be placed; you may want to decrease the size of the markers or use stripplot.\n",
      "  warnings.warn(msg, UserWarning)\n",
      "/home/aaristov/Documents/anchor-droplet-chip/venv/lib/python3.8/site-packages/seaborn/categorical.py:1296: UserWarning: 23.1% of the points cannot be placed; you may want to decrease the size of the markers or use stripplot.\n",
      "  warnings.warn(msg, UserWarning)\n"
     ]
    },
    {
     "data": {
      "text/plain": [
       "<AxesSubplot:xlabel='n_cells', ylabel='n_cells_final'>"
      ]
     },
     "execution_count": 19,
     "metadata": {},
     "output_type": "execute_result"
    },
    {
     "data": {
      "image/png": "[encoded data removed]",
      "text/plain": [
       "<Figure size 432x288 with 1 Axes>"
      ]
     },
     "metadata": {
      "needs_background": "light"
     },
     "output_type": "display_data"
    }
   ],
   "source": [
    "sns.swarmplot(data=table, x='n_cells', y='n_cells_final')"
   ]
  },
  {
   "cell_type": "code",
   "execution_count": null,
   "metadata": {},
   "outputs": [],
   "source": []
  }
 ],
 "metadata": {
  "interpreter": {
   "hash": "c6792cc9a88834ff6b18506f67a4cda3e9b05e1dbee9ac6edb151d8a7b39a7c5"
  },
  "kernelspec": {
   "display_name": "Python 3 (ipykernel)",
   "language": "python",
   "name": "python3"
  },
  "language_info": {
   "codemirror_mode": {
    "name": "ipython",
    "version": 3
   },
   "file_extension": ".py",
   "mimetype": "text/x-python",
   "name": "python",
   "nbconvert_exporter": "python",
   "pygments_lexer": "ipython3",
   "version": "3.8.10"
  }
 },
 "nbformat": 4,
 "nbformat_minor": 4
}
