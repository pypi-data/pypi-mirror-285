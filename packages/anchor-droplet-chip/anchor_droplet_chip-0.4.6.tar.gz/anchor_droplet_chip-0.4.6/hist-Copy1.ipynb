{
 "cells": [
  {
   "cell_type": "code",
   "execution_count": null,
   "id": "e12b7e4c-0189-4fef-8eef-3225e7c48708",
   "metadata": {},
   "outputs": [],
   "source": [
    "import os\n",
    "import numpy as np\n",
    "from pathlib import Path\n",
    "import tifffile as tf\n",
    "from skimage.measure import regionprops\n",
    "import pandas as pd\n",
    "import matplotlib.pyplot as plt\n",
    "import plotly"
   ]
  },
  {
   "cell_type": "code",
   "execution_count": null,
   "id": "0064bd35-28e9-45d7-9c1b-95947f53ce0f",
   "metadata": {},
   "outputs": [],
   "source": [
    "!pip install plotly"
   ]
  },
  {
   "cell_type": "code",
   "execution_count": null,
   "id": "7e04a8c6-dc77-4aa1-8c4f-e35bd851be2d",
   "metadata": {},
   "outputs": [],
   "source": [
    "path = Path(\"/home/aaristov/Multicell/Madison/2024-02-16_MLY0012_Cas9/pos/Include/pos33/\")"
   ]
  },
  {
   "cell_type": "code",
   "execution_count": null,
   "id": "a80625d8-d202-4362-a81d-4147c82da126",
   "metadata": {},
   "outputs": [],
   "source": [
    "good_labels = pd.read_csv((path / \"output\" / \"table_0.csv\"))[[\"label\", \"frame\"]]\n",
    "good_labels\n"
   ]
  },
  {
   "cell_type": "code",
   "execution_count": null,
   "id": "4de4ec70-54ac-4967-8064-956ae9557943",
   "metadata": {},
   "outputs": [],
   "source": [
    "labels = tf.imread((path/\"input\"/\"cellpose.tif\"))\n",
    "labels.shape"
   ]
  },
  {
   "cell_type": "code",
   "execution_count": null,
   "id": "05d472c8-8e16-4c7e-bb05-75b0d9c42c87",
   "metadata": {},
   "outputs": [],
   "source": [
    "mcherry = tf.imread((path/\"input\"/\"stack.tif\"))[:,1]\n",
    "mcherry.shape"
   ]
  },
  {
   "cell_type": "code",
   "execution_count": null,
   "id": "c75854af-cde5-4f99-ac81-e1f42053d302",
   "metadata": {},
   "outputs": [],
   "source": [
    "def get_props(i):\n",
    "    L = labels[good_labels.loc[i].frame]\n",
    "    L[L != good_labels.loc[i].label] = 0\n",
    "    mask = L\n",
    "    props = regionprops(mask, intensity_image=mcherry[good_labels.loc[i].frame])[0]\n",
    "    I = props.image_intensity.ravel()\n",
    "    cell_intensities = I[I > 0]\n",
    "    return cell_intensities"
   ]
  },
  {
   "cell_type": "code",
   "execution_count": null,
   "id": "d748fcaf-a7ef-4a5c-a063-c9902b558cfc",
   "metadata": {},
   "outputs": [],
   "source": [
    "def plot_hist(i):\n",
    "    p = get_props(i)\n",
    "\n",
    "    h = np.histogram(p)\n",
    "\n",
    "    plt.plot(h[1][:-1], h[0], label=i)"
   ]
  },
  {
   "cell_type": "code",
   "execution_count": null,
   "id": "1e9d7511-7b68-4064-bcee-6500fffff2ba",
   "metadata": {},
   "outputs": [],
   "source": [
    "list(map(plot_hist, range(41)))\n",
    "plt.legend()"
   ]
  },
  {
   "cell_type": "code",
   "execution_count": null,
   "id": "2d15cb1b-c0e3-4382-acf2-825f193704eb",
   "metadata": {},
   "outputs": [],
   "source": []
  }
 ],
 "metadata": {
  "kernelspec": {
   "display_name": "Python 3 (ipykernel)",
   "language": "python",
   "name": "python3"
  },
  "language_info": {
   "codemirror_mode": {
    "name": "ipython",
    "version": 3
   },
   "file_extension": ".py",
   "mimetype": "text/x-python",
   "name": "python",
   "nbconvert_exporter": "python",
   "pygments_lexer": "ipython3",
   "version": "3.9.13"
  }
 },
 "nbformat": 4,
 "nbformat_minor": 5
}
