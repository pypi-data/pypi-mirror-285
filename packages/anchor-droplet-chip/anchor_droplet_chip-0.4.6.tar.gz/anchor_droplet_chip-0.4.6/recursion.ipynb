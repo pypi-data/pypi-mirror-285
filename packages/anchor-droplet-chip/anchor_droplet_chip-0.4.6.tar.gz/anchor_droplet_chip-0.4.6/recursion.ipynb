{
 "cells": [
  {
   "cell_type": "code",
   "execution_count": 9,
   "metadata": {},
   "outputs": [],
   "source": [
    "import numpy as np\n",
    "from adc.count import add_chip_index_to_coords\n",
    "from operator import add\n",
    "from functools import reduce\n",
    "from napari import Viewer"
   ]
  },
  {
   "cell_type": "code",
   "execution_count": 21,
   "metadata": {},
   "outputs": [],
   "source": [
    "def process_recursive(data, positions, index=[]):\n",
    "    \"\"\"\n",
    "    Recurcively processing 2d arrays.\n",
    "    data: np.ndarray n-dimensional\n",
    "    positions: np.ndarray 2D (m, n') \n",
    "        where m - number of positions\n",
    "        n' - number of dimensions, can be smaller than n, but not bigger\n",
    "        two last columns: y, x\n",
    "        others: dimentionsl indices (from napari)\n",
    "    \"\"\"\n",
    "    if data.ndim > 2:\n",
    "        result = []\n",
    "\n",
    "        # print(f\"serializing {len(data)}\")\n",
    "        for i, d in enumerate(data):\n",
    "            new_ind = index + [i]\n",
    "            if positions.shape[-1] < len(data.shape):\n",
    "                use_coords = positions\n",
    "            else:\n",
    "                use_coords = positions[positions[:,0] == i]\n",
    "            result += process_recursive(d, positions=use_coords, index=new_ind)\n",
    "        return result\n",
    "    else:\n",
    "        # print(\"result for 6 wells\")\n",
    "        out = process2d(data, positions=positions)\n",
    "        out = [index + list(o) for o in out]  \n",
    "        return out\n",
    "\n",
    "def process2d(data, positions):\n",
    "    return np.vstack([np.random.rand(5,2) + p for p in positions])\n",
    "\n",
    "pos = np.array([[0,0],[0,20]])\n",
    "a = process2d(np.zeros((2,2)), positions=pos)\n",
    "assert len(a) == 10"
   ]
  },
  {
   "cell_type": "code",
   "execution_count": 22,
   "metadata": {},
   "outputs": [],
   "source": [
    "b = process_recursive(np.zeros((5,4,3,2,2)), positions=pos)\n",
    "assert len(b) == 5*4*3*2*5"
   ]
  },
  {
   "cell_type": "code",
   "execution_count": 10,
   "metadata": {},
   "outputs": [
    {
     "name": "stderr",
     "output_type": "stream",
     "text": [
      "/home/aaristov/Documents/anchor-droplet-chip/venv/lib/python3.8/site-packages/superqt/qtcompat/__init__.py:7: UserWarning: The superqt.qtcompat module is deprecated as of v0.3.0. Please import from `qtpy` instead.\n",
      "  warnings.warn(\n",
      "2023-05-16 11:26:33,588 INFO : VERSION = 2.3.0\n",
      "\n",
      "2023-05-16 11:26:33,589 INFO : The bioformats_package.jar is not present.Can only use Python backend for reading/writing images.\n",
      "2023-05-16 11:26:33,667 INFO : Resource 'XMLSchema.xsd' is already loaded\n"
     ]
    }
   ],
   "source": [
    "v = Viewer()"
   ]
  },
  {
   "cell_type": "code",
   "execution_count": 16,
   "metadata": {},
   "outputs": [
    {
     "data": {
      "text/plain": [
       "<Points layer 'a [1]' at 0x7f98becb6af0>"
      ]
     },
     "execution_count": 16,
     "metadata": {},
     "output_type": "execute_result"
    }
   ],
   "source": [
    "v.add_points(a)"
   ]
  },
  {
   "cell_type": "code",
   "execution_count": 18,
   "metadata": {},
   "outputs": [
    {
     "data": {
      "text/plain": [
       "<Points layer 'Points' at 0x7f991a34ce20>"
      ]
     },
     "execution_count": 18,
     "metadata": {},
     "output_type": "execute_result"
    }
   ],
   "source": [
    "v.add_points(b, size=.5)"
   ]
  }
 ],
 "metadata": {
  "kernelspec": {
   "display_name": "venv",
   "language": "python",
   "name": "python3"
  },
  "language_info": {
   "codemirror_mode": {
    "name": "ipython",
    "version": 3
   },
   "file_extension": ".py",
   "mimetype": "text/x-python",
   "name": "python",
   "nbconvert_exporter": "python",
   "pygments_lexer": "ipython3",
   "version": "3.8.10"
  },
  "orig_nbformat": 4,
  "vscode": {
   "interpreter": {
    "hash": "c6792cc9a88834ff6b18506f67a4cda3e9b05e1dbee9ac6edb151d8a7b39a7c5"
   }
  }
 },
 "nbformat": 4,
 "nbformat_minor": 2
}
