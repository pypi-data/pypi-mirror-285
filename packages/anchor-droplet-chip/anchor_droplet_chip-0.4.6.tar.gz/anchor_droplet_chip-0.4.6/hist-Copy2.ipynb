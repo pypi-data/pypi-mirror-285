{
 "cells": [
  {
   "cell_type": "code",
   "execution_count": null,
   "id": "e12b7e4c-0189-4fef-8eef-3225e7c48708",
   "metadata": {},
   "outputs": [],
   "source": [
    "import os\n",
    "import numpy as np\n",
    "from pathlib import Path\n",
    "import tifffile as tf\n",
    "from skimage.measure import regionprops\n",
    "import pandas as pd\n",
    "import matplotlib.pyplot as plt\n",
    "import plotly.express as px\n",
    "from napari import Viewer\n",
    "from functools import reduce\n",
    "from operator import add\n",
    "from tqdm import tqdm\n",
    "from scipy.stats import skewnorm\n",
    "import seaborn as sns"
   ]
  },
  {
   "cell_type": "code",
   "execution_count": null,
   "id": "7e04a8c6-dc77-4aa1-8c4f-e35bd851be2d",
   "metadata": {},
   "outputs": [],
   "source": [
    "path = Path(\"/home/aaristov/Multicell/Madison/2023-12-06_MLY009_Cas9/pos/Include/pos14/\")"
   ]
  },
  {
   "cell_type": "code",
   "execution_count": null,
   "id": "a80625d8-d202-4362-a81d-4147c82da126",
   "metadata": {},
   "outputs": [],
   "source": [
    "good_labels = pd.read_csv((path / \"output\" / \"table_1.csv\"))[[\"label\", \"frame\"]]\n",
    "good_labels\n"
   ]
  },
  {
   "cell_type": "code",
   "execution_count": null,
   "id": "4de4ec70-54ac-4967-8064-956ae9557943",
   "metadata": {},
   "outputs": [],
   "source": [
    "labels = tf.imread((path/\"input\"/\"cellpose.tif\"))\n",
    "labels.shape"
   ]
  },
  {
   "cell_type": "code",
   "execution_count": null,
   "id": "05d472c8-8e16-4c7e-bb05-75b0d9c42c87",
   "metadata": {},
   "outputs": [],
   "source": [
    "mcherry = tf.imread((path/\"input\"/\"stack.tif\"))[:,1]\n",
    "mcherry.shape"
   ]
  },
  {
   "cell_type": "code",
   "execution_count": null,
   "id": "97dd93ac-7aec-46f9-a851-7d1df120d43f",
   "metadata": {},
   "outputs": [],
   "source": [
    "all_props = reduce(add, [regionprops(lb, intensity_image=img) for lb, img in tqdm(zip(labels, mcherry))])"
   ]
  },
  {
   "cell_type": "code",
   "execution_count": null,
   "id": "fd62ab86-cdcd-4da4-ac0c-e3168fae10d6",
   "metadata": {},
   "outputs": [],
   "source": [
    "good_props = list(filter(lambda p: p.label in good_labels.label.values, all_props))\n",
    "len(good_props)"
   ]
  },
  {
   "cell_type": "code",
   "execution_count": null,
   "id": "c75854af-cde5-4f99-ac81-e1f42053d302",
   "metadata": {},
   "outputs": [],
   "source": [
    "def get_cell_intensities(prop):\n",
    "    I = prop.image_intensity.ravel()\n",
    "    cell_intensities = I[I > 0]\n",
    "    return cell_intensities"
   ]
  },
  {
   "cell_type": "code",
   "execution_count": null,
   "id": "d748fcaf-a7ef-4a5c-a063-c9902b558cfc",
   "metadata": {},
   "outputs": [],
   "source": [
    "def get_hist_df(prop, step=10):\n",
    "    try:\n",
    "        cell_intensities = get_cell_intensities(prop)\n",
    "        a, loc, scale = skewnorm.fit(cell_intensities)\n",
    "        h = np.histogram(cell_intensities, bins=range(100,300,step))\n",
    "    \n",
    "        return pd.DataFrame({\n",
    "            \"bins\": h[1][:-1], \n",
    "            \"intensities\": h[0], \n",
    "            \"label\": prop.label, \n",
    "            \"area\": prop.area, \n",
    "            \"skew\": a, \n",
    "            \"mod\": loc, \n",
    "            \"mean\": prop.mean_intensity,\n",
    "            \"max\": prop.max_intensity,\n",
    "            \"ratio\": prop.max_intensity / prop.mean_intensity,\n",
    "            \"scale\": scale, \n",
    "            \"pdf\": skewnorm.pdf(h[1][:-1], a, loc, scale) * prop.area * step\n",
    "        })\n",
    "    except IndexError:\n",
    "        print(\"index error: \", prop.label)"
   ]
  },
  {
   "cell_type": "code",
   "execution_count": null,
   "id": "1e9d7511-7b68-4064-bcee-6500fffff2ba",
   "metadata": {
    "scrolled": true
   },
   "outputs": [],
   "source": [
    "df = pd.concat(map(get_hist_df, tqdm(good_props)), ignore_index=True).merge(good_labels, on=\"label\")\n"
   ]
  },
  {
   "cell_type": "code",
   "execution_count": null,
   "id": "90ad498c-bc34-4880-8c6d-b98a26adef8f",
   "metadata": {},
   "outputs": [],
   "source": [
    "plot_args = {\"height\": 500, \"hover_data\": df.columns}"
   ]
  },
  {
   "cell_type": "code",
   "execution_count": null,
   "id": "2d15cb1b-c0e3-4382-acf2-825f193704eb",
   "metadata": {},
   "outputs": [],
   "source": [
    "px.line(df, x=\"bins\", y=\"pdf\", color=\"label\")"
   ]
  },
  {
   "cell_type": "code",
   "execution_count": null,
   "id": "c9e6d069-bbdd-4c15-b6d1-1eada2eb410a",
   "metadata": {},
   "outputs": [],
   "source": [
    "px.line(df, x=\"bins\", y=\"intensities\", color=\"label\")"
   ]
  },
  {
   "cell_type": "code",
   "execution_count": null,
   "id": "2bac91d9-30ab-42c1-829e-e809534775ce",
   "metadata": {},
   "outputs": [],
   "source": [
    "px.scatter(df, x=\"frame\", y=\"skew\", color=\"max\", size=\"area\", **plot_args)"
   ]
  },
  {
   "cell_type": "code",
   "execution_count": null,
   "id": "956c4e2e-50f0-4cbd-ae80-95e4a89566b0",
   "metadata": {},
   "outputs": [],
   "source": [
    "px.scatter(df, x=\"frame\", y=\"mod\", color=\"skew\", size=\"area\", **plot_args)"
   ]
  },
  {
   "cell_type": "code",
   "execution_count": null,
   "id": "002919d2-70d7-47a2-abf9-3388b5f8ce9a",
   "metadata": {},
   "outputs": [],
   "source": [
    "px.scatter(df, x=\"frame\", y=\"mean\", color=\"skew\", size=\"area\",  **plot_args)"
   ]
  },
  {
   "cell_type": "code",
   "execution_count": null,
   "id": "5e2d49b8-d4f5-4889-820d-dc2b60d48fe6",
   "metadata": {},
   "outputs": [],
   "source": [
    "px.scatter(df, x=\"frame\", y=\"max\", color=\"skew\", size=\"area\", **plot_args)"
   ]
  },
  {
   "cell_type": "code",
   "execution_count": null,
   "id": "f3f5468b-b839-4e22-8096-547f130791db",
   "metadata": {},
   "outputs": [],
   "source": [
    "px.scatter(df, x=\"frame\", y=\"ratio\", color=\"skew\", size=\"area\", **plot_args)"
   ]
  },
  {
   "cell_type": "code",
   "execution_count": null,
   "id": "59d75cc0-3e2e-4c7e-9b38-e1008c77dcd4",
   "metadata": {},
   "outputs": [],
   "source": []
  },
  {
   "cell_type": "code",
   "execution_count": null,
   "id": "9b37da94-dea8-4309-9ede-0d6780357b1e",
   "metadata": {},
   "outputs": [],
   "source": [
    "sns.scatterplot(data=df, x=\"frame\", y=\"skew\")"
   ]
  },
  {
   "cell_type": "code",
   "execution_count": null,
   "id": "b80bff61-a676-408e-aa8a-9e420d9951e6",
   "metadata": {},
   "outputs": [],
   "source": [
    "sns.lineplot(data=df, x=\"frame\", y=\"skew\")"
   ]
  },
  {
   "cell_type": "code",
   "execution_count": null,
   "id": "d1c90d02-44c8-4abb-857d-6472cf94cd5b",
   "metadata": {},
   "outputs": [],
   "source": [
    "sns.heatmap(data=df, "
   ]
  }
 ],
 "metadata": {
  "kernelspec": {
   "display_name": "Python 3 (ipykernel)",
   "language": "python",
   "name": "python3"
  },
  "language_info": {
   "codemirror_mode": {
    "name": "ipython",
    "version": 3
   },
   "file_extension": ".py",
   "mimetype": "text/x-python",
   "name": "python",
   "nbconvert_exporter": "python",
   "pygments_lexer": "ipython3",
   "version": "3.9.13"
  }
 },
 "nbformat": 4,
 "nbformat_minor": 5
}
