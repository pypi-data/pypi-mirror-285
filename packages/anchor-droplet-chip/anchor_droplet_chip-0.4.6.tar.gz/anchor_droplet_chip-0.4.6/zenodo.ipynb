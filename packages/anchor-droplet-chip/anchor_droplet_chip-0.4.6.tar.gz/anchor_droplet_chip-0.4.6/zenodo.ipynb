{
 "cells": [
  {
   "cell_type": "code",
   "execution_count": 6,
   "metadata": {},
   "outputs": [],
   "source": [
    "import zenodopy\n",
    "import shutil\n",
    "import urllib3\n",
    "import os"
   ]
  },
  {
   "cell_type": "code",
   "execution_count": 7,
   "metadata": {},
   "outputs": [],
   "source": [
    "zeno = zenodopy.Client()"
   ]
  },
  {
   "cell_type": "code",
   "execution_count": 8,
   "metadata": {},
   "outputs": [
    {
     "data": {
      "text/plain": [
       "'SJZbA3MQJEZaJaUU0vSLK0dm9etU9a6Cp0Zti81xSep3Uf25GpVNDVQMOBqG'"
      ]
     },
     "execution_count": 8,
     "metadata": {},
     "output_type": "execute_result"
    }
   ],
   "source": [
    "zeno._get_key()"
   ]
  },
  {
   "cell_type": "code",
   "execution_count": 11,
   "metadata": {},
   "outputs": [
    {
     "data": {
      "text/plain": [
       "'SJZbA3MQJEZaJaUU0vSLK0dm9etU9a6Cp0Zti81xSep3Uf25GpVNDVQMOBqG'"
      ]
     },
     "execution_count": 11,
     "metadata": {},
     "output_type": "execute_result"
    }
   ],
   "source": [
    "zeno._get_key()"
   ]
  },
  {
   "cell_type": "code",
   "execution_count": 3,
   "metadata": {},
   "outputs": [
    {
     "name": "stdout",
     "output_type": "stream",
     "text": [
      "Project Name ---- ID\n",
      "------------------------\n",
      "Dataset from 20210705 ----- 6817282\n"
     ]
    }
   ],
   "source": [
    "pr = zeno.list_projects"
   ]
  },
  {
   "cell_type": "code",
   "execution_count": 4,
   "metadata": {},
   "outputs": [
    {
     "data": {
      "text/plain": [
       "[{'conceptrecid': '6817281',\n",
       "  'created': '2022-07-11T09:59:02.098573',\n",
       "  'doi': '',\n",
       "  'doi_url': 'https://doi.org/',\n",
       "  'id': 6817282,\n",
       "  'links': {'discard': 'https://zenodo.org/api/deposit/depositions/6817282/actions/discard',\n",
       "   'edit': 'https://zenodo.org/api/deposit/depositions/6817282/actions/edit',\n",
       "   'files': 'https://zenodo.org/api/deposit/depositions/6817282/files',\n",
       "   'html': 'https://zenodo.org/deposit/6817282',\n",
       "   'latest_draft': 'https://zenodo.org/api/deposit/depositions/6817282',\n",
       "   'latest_draft_html': 'https://zenodo.org/deposit/6817282',\n",
       "   'publish': 'https://zenodo.org/api/deposit/depositions/6817282/actions/publish',\n",
       "   'self': 'https://zenodo.org/api/deposit/depositions/6817282'},\n",
       "  'metadata': {'access_right': 'open',\n",
       "   'creators': [{'affiliation': 'Institut Pasteur', 'name': 'Andrey Aristov'}],\n",
       "   'description': '<p>This is the raw data from the MIC experiment of 20210705</p>',\n",
       "   'doi': '',\n",
       "   'license': 'CC-BY-4.0',\n",
       "   'prereserve_doi': {'doi': '10.5281/zenodo.6817282', 'recid': 6817282},\n",
       "   'publication_date': '2022-07-11',\n",
       "   'title': 'Dataset from 20210705',\n",
       "   'upload_type': 'dataset'},\n",
       "  'modified': '2022-07-11T10:04:08.259074',\n",
       "  'owner': 371816,\n",
       "  'record_id': 6817282,\n",
       "  'state': 'unsubmitted',\n",
       "  'submitted': False,\n",
       "  'title': 'Dataset from 20210705'}]"
      ]
     },
     "execution_count": 4,
     "metadata": {},
     "output_type": "execute_result"
    }
   ],
   "source": [
    "pr"
   ]
  },
  {
   "cell_type": "code",
   "execution_count": 5,
   "metadata": {},
   "outputs": [],
   "source": [
    "zeno.set_project(pr[0][\"record_id\"])"
   ]
  },
  {
   "cell_type": "code",
   "execution_count": 5,
   "metadata": {},
   "outputs": [
    {
     "data": {
      "text/plain": [
       "zenodoapi('None','None','None')"
      ]
     },
     "execution_count": 5,
     "metadata": {},
     "output_type": "execute_result"
    }
   ],
   "source": [
    "zeno"
   ]
  },
  {
   "cell_type": "code",
   "execution_count": 7,
   "metadata": {},
   "outputs": [
    {
     "name": "stdout",
     "output_type": "stream",
     "text": [
      "Files\n",
      "------------------------\n",
      "00ng-24h.tif\n",
      "00ng.tif\n",
      "05ng-24h.tif\n",
      "05ng.tif\n",
      "06ng-24h.tif\n",
      "06ng.tif\n",
      "07ng-24h.tif\n",
      "07ng.tif\n",
      "08ng-24h.tif\n",
      "08ng.tif\n",
      "10ng-24h.tif\n",
      "12ng-24h.tif\n",
      "12ng.tif\n",
      "15ng-24h.tif\n",
      "15ng.tif\n"
     ]
    },
    {
     "data": {
      "text/plain": [
       "{'conceptrecid': '6817281',\n",
       " 'created': '2022-07-11T09:59:02.098573+00:00',\n",
       " 'doi': '',\n",
       " 'doi_url': 'https://doi.org/',\n",
       " 'files': [{'checksum': '2727e55123ee99e5342516b471a7f847',\n",
       "   'filename': '00ng-24h.tif',\n",
       "   'filesize': 624945768,\n",
       "   'id': '97afbb99-f7ad-424b-8c2b-775ba0fe8346',\n",
       "   'links': {'download': 'https://zenodo.org/api/files/1f0ff52c-46c1-4ae8-99d8-13f0e65697a4/00ng-24h.tif',\n",
       "    'self': 'https://zenodo.org/api/deposit/depositions/6817282/files/97afbb99-f7ad-424b-8c2b-775ba0fe8346'}},\n",
       "  {'checksum': '577167d86ff392f24dc30728913954d6',\n",
       "   'filename': '00ng.tif',\n",
       "   'filesize': 690989868,\n",
       "   'id': '218a4079-ce28-48c7-9283-eb12c5a1e382',\n",
       "   'links': {'download': 'https://zenodo.org/api/files/1f0ff52c-46c1-4ae8-99d8-13f0e65697a4/00ng.tif',\n",
       "    'self': 'https://zenodo.org/api/deposit/depositions/6817282/files/218a4079-ce28-48c7-9283-eb12c5a1e382'}},\n",
       "  {'checksum': '5e7689a9200204f3dbc9e803b397bb97',\n",
       "   'filename': '05ng-24h.tif',\n",
       "   'filesize': 756943992,\n",
       "   'id': 'e6263a37-ae9c-48a4-bf31-662e8528aa12',\n",
       "   'links': {'download': 'https://zenodo.org/api/files/1f0ff52c-46c1-4ae8-99d8-13f0e65697a4/05ng-24h.tif',\n",
       "    'self': 'https://zenodo.org/api/deposit/depositions/6817282/files/e6263a37-ae9c-48a4-bf31-662e8528aa12'}},\n",
       "  {'checksum': 'ea7ce65d736d35204e9fa9c9e3730c09',\n",
       "   'filename': '05ng.tif',\n",
       "   'filesize': 756943992,\n",
       "   'id': 'eb0973a6-8dbd-47b4-8f11-92708eeffedb',\n",
       "   'links': {'download': 'https://zenodo.org/api/files/1f0ff52c-46c1-4ae8-99d8-13f0e65697a4/05ng.tif',\n",
       "    'self': 'https://zenodo.org/api/deposit/depositions/6817282/files/eb0973a6-8dbd-47b4-8f11-92708eeffedb'}},\n",
       "  {'checksum': 'fc6cddcd83a74ce4b5dc0b61b4773a66',\n",
       "   'filename': '06ng-24h.tif',\n",
       "   'filesize': 741902068,\n",
       "   'id': '3e180f20-75af-495a-a009-f0b4c7d72dcc',\n",
       "   'links': {'download': 'https://zenodo.org/api/files/1f0ff52c-46c1-4ae8-99d8-13f0e65697a4/06ng-24h.tif',\n",
       "    'self': 'https://zenodo.org/api/deposit/depositions/6817282/files/3e180f20-75af-495a-a009-f0b4c7d72dcc'}},\n",
       "  {'checksum': 'c7b02c9023734100b4838948f2451fe4',\n",
       "   'filename': '06ng.tif',\n",
       "   'filesize': 756943992,\n",
       "   'id': 'e41c4099-798d-408d-b224-8f843b32f8b7',\n",
       "   'links': {'download': 'https://zenodo.org/api/files/1f0ff52c-46c1-4ae8-99d8-13f0e65697a4/06ng.tif',\n",
       "    'self': 'https://zenodo.org/api/deposit/depositions/6817282/files/e41c4099-798d-408d-b224-8f843b32f8b7'}},\n",
       "  {'checksum': 'bc540ee95ff39f2e0a67612a2464f155',\n",
       "   'filename': '07ng-24h.tif',\n",
       "   'filesize': 756943992,\n",
       "   'id': 'ea6a47b4-1472-45de-8581-8ade1b1c9b66',\n",
       "   'links': {'download': 'https://zenodo.org/api/files/1f0ff52c-46c1-4ae8-99d8-13f0e65697a4/07ng-24h.tif',\n",
       "    'self': 'https://zenodo.org/api/deposit/depositions/6817282/files/ea6a47b4-1472-45de-8581-8ade1b1c9b66'}},\n",
       "  {'checksum': '0e95cc081251614bba3df9a4d2e7861c',\n",
       "   'filename': '07ng.tif',\n",
       "   'filesize': 690989700,\n",
       "   'id': '3ea5c64f-e455-4b7a-9d7f-e636bf804ace',\n",
       "   'links': {'download': 'https://zenodo.org/api/files/1f0ff52c-46c1-4ae8-99d8-13f0e65697a4/07ng.tif',\n",
       "    'self': 'https://zenodo.org/api/deposit/depositions/6817282/files/3ea5c64f-e455-4b7a-9d7f-e636bf804ace'}},\n",
       "  {'checksum': '110a1ba046588180f1246050082e86c8',\n",
       "   'filename': '08ng-24h.tif',\n",
       "   'filesize': 624945768,\n",
       "   'id': '27edee77-5a41-4868-9080-5ed523b94724',\n",
       "   'links': {'download': 'https://zenodo.org/api/files/1f0ff52c-46c1-4ae8-99d8-13f0e65697a4/08ng-24h.tif',\n",
       "    'self': 'https://zenodo.org/api/deposit/depositions/6817282/files/27edee77-5a41-4868-9080-5ed523b94724'}},\n",
       "  {'checksum': '96a9f45eb185604a4aa1b378cb828507',\n",
       "   'filename': '08ng.tif',\n",
       "   'filesize': 690989700,\n",
       "   'id': '7a46a481-8884-4b41-a32b-bfee1f7cdf1f',\n",
       "   'links': {'download': 'https://zenodo.org/api/files/1f0ff52c-46c1-4ae8-99d8-13f0e65697a4/08ng.tif',\n",
       "    'self': 'https://zenodo.org/api/deposit/depositions/6817282/files/7a46a481-8884-4b41-a32b-bfee1f7cdf1f'}},\n",
       "  {'checksum': '2b94b097963add232a1cbc0de3b8c1c9',\n",
       "   'filename': '10ng-24h.tif',\n",
       "   'filesize': 756943992,\n",
       "   'id': '6a4a2b25-66d1-4ea0-8a78-11aa4b5fde93',\n",
       "   'links': {'download': 'https://zenodo.org/api/files/1f0ff52c-46c1-4ae8-99d8-13f0e65697a4/10ng-24h.tif',\n",
       "    'self': 'https://zenodo.org/api/deposit/depositions/6817282/files/6a4a2b25-66d1-4ea0-8a78-11aa4b5fde93'}},\n",
       "  {'checksum': 'b2a92263378e9713a6f3878f488869a6',\n",
       "   'filename': '12ng-24h.tif',\n",
       "   'filesize': 756943992,\n",
       "   'id': 'bba66d50-bbcf-4b4c-a27b-d3e4a6c80dc8',\n",
       "   'links': {'download': 'https://zenodo.org/api/files/1f0ff52c-46c1-4ae8-99d8-13f0e65697a4/12ng-24h.tif',\n",
       "    'self': 'https://zenodo.org/api/deposit/depositions/6817282/files/bba66d50-bbcf-4b4c-a27b-d3e4a6c80dc8'}},\n",
       "  {'checksum': 'fce2c6f8a439b5546a89ff83b3b3c968',\n",
       "   'filename': '12ng.tif',\n",
       "   'filesize': 690989868,\n",
       "   'id': 'c0f98c4f-de1b-43e3-8527-0cefc829d1d4',\n",
       "   'links': {'download': 'https://zenodo.org/api/files/1f0ff52c-46c1-4ae8-99d8-13f0e65697a4/12ng.tif',\n",
       "    'self': 'https://zenodo.org/api/deposit/depositions/6817282/files/c0f98c4f-de1b-43e3-8527-0cefc829d1d4'}},\n",
       "  {'checksum': '1db709966d63c62764bca4576a26ea07',\n",
       "   'filename': '15ng-24h.tif',\n",
       "   'filesize': 624945768,\n",
       "   'id': '490dab25-dcc6-403e-86b3-12cfa9741540',\n",
       "   'links': {'download': 'https://zenodo.org/api/files/1f0ff52c-46c1-4ae8-99d8-13f0e65697a4/15ng-24h.tif',\n",
       "    'self': 'https://zenodo.org/api/deposit/depositions/6817282/files/490dab25-dcc6-403e-86b3-12cfa9741540'}},\n",
       "  {'checksum': 'aca274af9358bb1d7615b7febeae2325',\n",
       "   'filename': '15ng.tif',\n",
       "   'filesize': 690989703,\n",
       "   'id': '0d244de5-2250-4b84-9ecd-828bc42a56e1',\n",
       "   'links': {'download': 'https://zenodo.org/api/files/1f0ff52c-46c1-4ae8-99d8-13f0e65697a4/15ng.tif',\n",
       "    'self': 'https://zenodo.org/api/deposit/depositions/6817282/files/0d244de5-2250-4b84-9ecd-828bc42a56e1'}}],\n",
       " 'id': 6817282,\n",
       " 'links': {'bucket': 'https://zenodo.org/api/files/1f0ff52c-46c1-4ae8-99d8-13f0e65697a4',\n",
       "  'discard': 'https://zenodo.org/api/deposit/depositions/6817282/actions/discard',\n",
       "  'edit': 'https://zenodo.org/api/deposit/depositions/6817282/actions/edit',\n",
       "  'files': 'https://zenodo.org/api/deposit/depositions/6817282/files',\n",
       "  'html': 'https://zenodo.org/deposit/6817282',\n",
       "  'latest_draft': 'https://zenodo.org/api/deposit/depositions/6817282',\n",
       "  'latest_draft_html': 'https://zenodo.org/deposit/6817282',\n",
       "  'newversion': 'https://zenodo.org/api/deposit/depositions/6817282/actions/newversion',\n",
       "  'publish': 'https://zenodo.org/api/deposit/depositions/6817282/actions/publish',\n",
       "  'registerconceptdoi': 'https://zenodo.org/api/deposit/depositions/6817282/actions/registerconceptdoi',\n",
       "  'self': 'https://zenodo.org/api/deposit/depositions/6817282'},\n",
       " 'metadata': {'access_right': 'open',\n",
       "  'creators': [{'affiliation': 'Institut Pasteur', 'name': 'Andrey Aristov'}],\n",
       "  'description': '<p>This is the raw data from the MIC experiment of 20210705</p>',\n",
       "  'doi': '',\n",
       "  'license': 'CC-BY-4.0',\n",
       "  'prereserve_doi': {'doi': '10.5281/zenodo.6817282', 'recid': 6817282},\n",
       "  'publication_date': '2022-07-11',\n",
       "  'title': 'Dataset from 20210705',\n",
       "  'upload_type': 'dataset'},\n",
       " 'modified': '2022-07-11T10:04:08.259074+00:00',\n",
       " 'owner': 371816,\n",
       " 'record_id': 6817282,\n",
       " 'state': 'unsubmitted',\n",
       " 'submitted': False,\n",
       " 'title': 'Dataset from 20210705'}"
      ]
     },
     "execution_count": 7,
     "metadata": {},
     "output_type": "execute_result"
    }
   ],
   "source": [
    "files = zeno.list_files\n",
    "files"
   ]
  },
  {
   "cell_type": "code",
   "execution_count": 39,
   "metadata": {},
   "outputs": [],
   "source": [
    "def download_url_to_file(\n",
    "    url,\n",
    "    file_path,\n",
    "):\n",
    "    if os.path.exists(file_path):\n",
    "        print(f'File exists: {file_path}')\n",
    "        return file_path\n",
    "    print(f\"Downloading {url}\")\n",
    "    c = urllib3.PoolManager()\n",
    "    with c.request(\n",
    "        \"GET\", \n",
    "        url, \n",
    "        preload_content=False,\n",
    "        ) as resp, open(\n",
    "        file_path, \"wb\"\n",
    "    ) as out_file:\n",
    "        shutil.copyfileobj(resp, out_file)\n",
    "    resp.release_conn()\n",
    "    print(f\"Saved {file_path}\")\n",
    "    return file_path"
   ]
  },
  {
   "cell_type": "code",
   "execution_count": 40,
   "metadata": {},
   "outputs": [
    {
     "name": "stdout",
     "output_type": "stream",
     "text": [
      "File exists: 00ng-24h.tif\n",
      "File exists: 00ng.tif\n",
      "File exists: 05ng-24h.tif\n",
      "Downloading https://zenodo.org/api/files/1f0ff52c-46c1-4ae8-99d8-13f0e65697a4/05ng.tif?access_token=SJZbA3MQJEZaJaUU0vSLK0dm9etU9a6Cp0Zti81xSep3Uf25GpVNDVQMOBqG\n",
      "Saved 05ng.tif\n",
      "Downloading https://zenodo.org/api/files/1f0ff52c-46c1-4ae8-99d8-13f0e65697a4/06ng-24h.tif?access_token=SJZbA3MQJEZaJaUU0vSLK0dm9etU9a6Cp0Zti81xSep3Uf25GpVNDVQMOBqG\n",
      "Saved 06ng-24h.tif\n",
      "Downloading https://zenodo.org/api/files/1f0ff52c-46c1-4ae8-99d8-13f0e65697a4/06ng.tif?access_token=SJZbA3MQJEZaJaUU0vSLK0dm9etU9a6Cp0Zti81xSep3Uf25GpVNDVQMOBqG\n",
      "Saved 06ng.tif\n",
      "Downloading https://zenodo.org/api/files/1f0ff52c-46c1-4ae8-99d8-13f0e65697a4/07ng-24h.tif?access_token=SJZbA3MQJEZaJaUU0vSLK0dm9etU9a6Cp0Zti81xSep3Uf25GpVNDVQMOBqG\n",
      "Saved 07ng-24h.tif\n",
      "Downloading https://zenodo.org/api/files/1f0ff52c-46c1-4ae8-99d8-13f0e65697a4/07ng.tif?access_token=SJZbA3MQJEZaJaUU0vSLK0dm9etU9a6Cp0Zti81xSep3Uf25GpVNDVQMOBqG\n",
      "Saved 07ng.tif\n",
      "Downloading https://zenodo.org/api/files/1f0ff52c-46c1-4ae8-99d8-13f0e65697a4/08ng-24h.tif?access_token=SJZbA3MQJEZaJaUU0vSLK0dm9etU9a6Cp0Zti81xSep3Uf25GpVNDVQMOBqG\n",
      "Saved 08ng-24h.tif\n",
      "Downloading https://zenodo.org/api/files/1f0ff52c-46c1-4ae8-99d8-13f0e65697a4/08ng.tif?access_token=SJZbA3MQJEZaJaUU0vSLK0dm9etU9a6Cp0Zti81xSep3Uf25GpVNDVQMOBqG\n",
      "Saved 08ng.tif\n",
      "Downloading https://zenodo.org/api/files/1f0ff52c-46c1-4ae8-99d8-13f0e65697a4/10ng-24h.tif?access_token=SJZbA3MQJEZaJaUU0vSLK0dm9etU9a6Cp0Zti81xSep3Uf25GpVNDVQMOBqG\n",
      "Saved 10ng-24h.tif\n",
      "Downloading https://zenodo.org/api/files/1f0ff52c-46c1-4ae8-99d8-13f0e65697a4/12ng-24h.tif?access_token=SJZbA3MQJEZaJaUU0vSLK0dm9etU9a6Cp0Zti81xSep3Uf25GpVNDVQMOBqG\n",
      "Saved 12ng-24h.tif\n",
      "Downloading https://zenodo.org/api/files/1f0ff52c-46c1-4ae8-99d8-13f0e65697a4/12ng.tif?access_token=SJZbA3MQJEZaJaUU0vSLK0dm9etU9a6Cp0Zti81xSep3Uf25GpVNDVQMOBqG\n",
      "Saved 12ng.tif\n",
      "File exists: 15ng-24h.tif\n",
      "File exists: 15ng.tif\n"
     ]
    },
    {
     "data": {
      "text/plain": [
       "['00ng-24h.tif',\n",
       " '00ng.tif',\n",
       " '05ng-24h.tif',\n",
       " '05ng.tif',\n",
       " '06ng-24h.tif',\n",
       " '06ng.tif',\n",
       " '07ng-24h.tif',\n",
       " '07ng.tif',\n",
       " '08ng-24h.tif',\n",
       " '08ng.tif',\n",
       " '10ng-24h.tif',\n",
       " '12ng-24h.tif',\n",
       " '12ng.tif',\n",
       " '15ng-24h.tif',\n",
       " '15ng.tif']"
      ]
     },
     "execution_count": 40,
     "metadata": {},
     "output_type": "execute_result"
    }
   ],
   "source": [
    "[download_url_to_file(\n",
    "    f[\"links\"][\"download\"]+f\"?access_token={zeno._get_key()}\",\n",
    "    f[\"filename\"]\n",
    ") for f in files[\"files\"]\n",
    "]"
   ]
  },
  {
   "cell_type": "code",
   "execution_count": null,
   "metadata": {},
   "outputs": [],
   "source": []
  }
 ],
 "metadata": {
  "kernelspec": {
   "display_name": "Python 3.8.10 ('venv': venv)",
   "language": "python",
   "name": "python3"
  },
  "language_info": {
   "codemirror_mode": {
    "name": "ipython",
    "version": 3
   },
   "file_extension": ".py",
   "mimetype": "text/x-python",
   "name": "python",
   "nbconvert_exporter": "python",
   "pygments_lexer": "ipython3",
   "version": "3.8.10"
  },
  "orig_nbformat": 4,
  "vscode": {
   "interpreter": {
    "hash": "c6792cc9a88834ff6b18506f67a4cda3e9b05e1dbee9ac6edb151d8a7b39a7c5"
   }
  }
 },
 "nbformat": 4,
 "nbformat_minor": 2
}
