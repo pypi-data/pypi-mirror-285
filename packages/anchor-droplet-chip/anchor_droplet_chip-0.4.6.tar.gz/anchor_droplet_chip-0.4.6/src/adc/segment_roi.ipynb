{
 "cells": [
  {
   "cell_type": "code",
   "execution_count": 1,
   "metadata": {},
   "outputs": [],
   "source": [
    "from adc._segment_widget import get_roi, SegmentYeast\n",
    "import numpy as np\n",
    "from napari import Viewer\n",
    "\n",
    "%load_ext autoreload\n",
    "%autoreload 2"
   ]
  },
  {
   "cell_type": "code",
   "execution_count": 2,
   "metadata": {},
   "outputs": [
    {
     "name": "stderr",
     "output_type": "stream",
     "text": [
      "DEBUG:in_n_out:Registering provider of <class 'napari.viewer.Viewer'>: <function _provide_viewer at 0x0000016392DD57E0> (weight: 0, subclassable: True)\n",
      "DEBUG:in_n_out:Registering provider of <class 'napari.layers.base.base.Layer'>: <function _provide_active_layer at 0x0000016392DD5900> (weight: 0, subclassable: True)\n",
      "DEBUG:in_n_out:Registering provider of <class 'napari.components.layerlist.LayerList'>: <function _provide_active_layer_list at 0x0000016392DD5AB0> (weight: 0, subclassable: True)\n",
      "DEBUG:in_n_out:Registering processor of napari.types.LayerDataTuple: <function _add_layer_data_tuples_to_viewer at 0x0000016392DD5750> (weight: 0, subclassable: False)\n",
      "DEBUG:in_n_out:Registering processor of typing.List[napari.types.LayerDataTuple]: <function _add_layer_data_tuples_to_viewer at 0x0000016392DD5750> (weight: 0, subclassable: False)\n",
      "DEBUG:in_n_out:Registering processor of <class 'napari.layers.base.base.Layer'>: <function _add_layer_to_viewer at 0x0000016392DD5BD0> (weight: 0, subclassable: True)\n",
      "DEBUG:in_n_out:Registering processor of napari.types.ImageData: functools.partial(<function _add_layer_data_to_viewer at 0x0000016392DD5B40>, return_type=napari.types.ImageData) (weight: 0, subclassable: False)\n",
      "DEBUG:in_n_out:Registering processor of concurrent.futures._base.Future[napari.types.ImageData]: functools.partial(<function _add_future_data at 0x0000016392DD5C60>, return_type=napari.types.ImageData, _from_tuple=False) (weight: 0, subclassable: False)\n",
      "DEBUG:in_n_out:Registering processor of napari.types.LabelsData: functools.partial(<function _add_layer_data_to_viewer at 0x0000016392DD5B40>, return_type=napari.types.LabelsData) (weight: 0, subclassable: False)\n",
      "DEBUG:in_n_out:Registering processor of concurrent.futures._base.Future[napari.types.LabelsData]: functools.partial(<function _add_future_data at 0x0000016392DD5C60>, return_type=napari.types.LabelsData, _from_tuple=False) (weight: 0, subclassable: False)\n",
      "DEBUG:in_n_out:Registering processor of napari.types.PointsData: functools.partial(<function _add_layer_data_to_viewer at 0x0000016392DD5B40>, return_type=napari.types.PointsData) (weight: 0, subclassable: False)\n",
      "DEBUG:in_n_out:Registering processor of concurrent.futures._base.Future[napari.types.PointsData]: functools.partial(<function _add_future_data at 0x0000016392DD5C60>, return_type=napari.types.PointsData, _from_tuple=False) (weight: 0, subclassable: False)\n",
      "DEBUG:in_n_out:Registering processor of napari.types.ShapesData: functools.partial(<function _add_layer_data_to_viewer at 0x0000016392DD5B40>, return_type=napari.types.ShapesData) (weight: 0, subclassable: False)\n",
      "DEBUG:in_n_out:Registering processor of concurrent.futures._base.Future[napari.types.ShapesData]: functools.partial(<function _add_future_data at 0x0000016392DD5C60>, return_type=napari.types.ShapesData, _from_tuple=False) (weight: 0, subclassable: False)\n",
      "DEBUG:in_n_out:Registering processor of napari.types.SurfaceData: functools.partial(<function _add_layer_data_to_viewer at 0x0000016392DD5B40>, return_type=napari.types.SurfaceData) (weight: 0, subclassable: False)\n",
      "DEBUG:in_n_out:Registering processor of concurrent.futures._base.Future[napari.types.SurfaceData]: functools.partial(<function _add_future_data at 0x0000016392DD5C60>, return_type=napari.types.SurfaceData, _from_tuple=False) (weight: 0, subclassable: False)\n",
      "DEBUG:in_n_out:Registering processor of napari.types.TracksData: functools.partial(<function _add_layer_data_to_viewer at 0x0000016392DD5B40>, return_type=napari.types.TracksData) (weight: 0, subclassable: False)\n",
      "DEBUG:in_n_out:Registering processor of concurrent.futures._base.Future[napari.types.TracksData]: functools.partial(<function _add_future_data at 0x0000016392DD5C60>, return_type=napari.types.TracksData, _from_tuple=False) (weight: 0, subclassable: False)\n",
      "DEBUG:in_n_out:Registering processor of napari.types.VectorsData: functools.partial(<function _add_layer_data_to_viewer at 0x0000016392DD5B40>, return_type=napari.types.VectorsData) (weight: 0, subclassable: False)\n",
      "DEBUG:in_n_out:Registering processor of concurrent.futures._base.Future[napari.types.VectorsData]: functools.partial(<function _add_future_data at 0x0000016392DD5C60>, return_type=napari.types.VectorsData, _from_tuple=False) (weight: 0, subclassable: False)\n",
      "DEBUG:in_n_out:Registering processor of napari._qt.qthreading.FunctionWorker[napari.types.LayerDataTuple]: <function _add_worker_data_from_tuple at 0x0000016392D27250> (weight: 0, subclassable: False)\n",
      "DEBUG:in_n_out:Registering processor of napari._qt.qthreading.FunctionWorker[typing.List[napari.types.LayerDataTuple]]: <function _add_worker_data_from_tuple at 0x0000016392D27250> (weight: 0, subclassable: False)\n",
      "DEBUG:in_n_out:Registering processor of napari._qt.qthreading.FunctionWorker[napari.types.LabelsData]: <function _add_worker_data at 0x0000016392D271C0> (weight: 0, subclassable: False)\n",
      "DEBUG:in_n_out:Registering processor of napari._qt.qthreading.FunctionWorker[napari.types.TracksData]: <function _add_worker_data at 0x0000016392D271C0> (weight: 0, subclassable: False)\n",
      "DEBUG:in_n_out:Registering processor of napari._qt.qthreading.FunctionWorker[napari.types.ImageData]: <function _add_worker_data at 0x0000016392D271C0> (weight: 0, subclassable: False)\n",
      "DEBUG:in_n_out:Registering processor of napari._qt.qthreading.FunctionWorker[napari.types.SurfaceData]: <function _add_worker_data at 0x0000016392D271C0> (weight: 0, subclassable: False)\n",
      "DEBUG:in_n_out:Registering processor of napari._qt.qthreading.FunctionWorker[napari.types.PointsData]: <function _add_worker_data at 0x0000016392D271C0> (weight: 0, subclassable: False)\n",
      "DEBUG:in_n_out:Registering processor of napari._qt.qthreading.FunctionWorker[napari.types.ShapesData]: <function _add_worker_data at 0x0000016392D271C0> (weight: 0, subclassable: False)\n",
      "DEBUG:in_n_out:Registering processor of napari._qt.qthreading.FunctionWorker[napari.types.VectorsData]: <function _add_worker_data at 0x0000016392D271C0> (weight: 0, subclassable: False)\n"
     ]
    }
   ],
   "source": [
    "v = Viewer()"
   ]
  },
  {
   "cell_type": "code",
   "execution_count": 3,
   "metadata": {},
   "outputs": [
    {
     "name": "stderr",
     "output_type": "stream",
     "text": [
      "DEBUG:h5py._conv:Creating converter from 7 to 5\n",
      "DEBUG:h5py._conv:Creating converter from 5 to 7\n",
      "DEBUG:h5py._conv:Creating converter from 7 to 5\n",
      "DEBUG:h5py._conv:Creating converter from 5 to 7\n",
      "DEBUG:numcodecs:Registering codec 'zlib'\n",
      "DEBUG:numcodecs:Registering codec 'gzip'\n",
      "DEBUG:numcodecs:Registering codec 'bz2'\n",
      "DEBUG:numcodecs:Registering codec 'lzma'\n",
      "DEBUG:numcodecs:Registering codec 'blosc'\n",
      "DEBUG:numcodecs:Registering codec 'zstd'\n",
      "DEBUG:numcodecs:Registering codec 'lz4'\n",
      "DEBUG:numcodecs:Registering codec 'astype'\n",
      "DEBUG:numcodecs:Registering codec 'delta'\n",
      "DEBUG:numcodecs:Registering codec 'quantize'\n",
      "DEBUG:numcodecs:Registering codec 'fixedscaleoffset'\n",
      "DEBUG:numcodecs:Registering codec 'packbits'\n",
      "DEBUG:numcodecs:Registering codec 'categorize'\n",
      "DEBUG:numcodecs:Registering codec 'pickle'\n",
      "DEBUG:numcodecs:Registering codec 'base64'\n",
      "DEBUG:numcodecs:Registering codec 'shuffle'\n",
      "DEBUG:numcodecs:Registering codec 'bitround'\n",
      "DEBUG:numcodecs:Registering codec 'crc32'\n",
      "DEBUG:numcodecs:Registering codec 'adler32'\n",
      "DEBUG:numcodecs:Registering codec 'json2'\n",
      "DEBUG:numcodecs:Registering codec 'vlen-utf8'\n",
      "DEBUG:numcodecs:Registering codec 'vlen-bytes'\n",
      "DEBUG:numcodecs:Registering codec 'vlen-array'\n",
      "DEBUG:numcodecs:Registering codec 'n5_wrapper'\n",
      "DEBUG:napari.loader:ImageSlice.__init__\n",
      "DEBUG:napari.loader:ImageSlice.__init__\n",
      "DEBUG:napari.loader:ImageSlice.__init__\n",
      "DEBUG:napari.loader:ImageSlice.__init__\n",
      "DEBUG:napari.loader:ImageSlice.__init__\n",
      "DEBUG:napari.loader:ImageSlice.__init__\n",
      "DEBUG:napari.loader:ImageSlice.__init__\n",
      "DEBUG:napari.loader:ImageSlice.__init__\n",
      "DEBUG:napari.loader:ImageSlice.__init__\n"
     ]
    },
    {
     "data": {
      "text/plain": [
       "[<Image layer 'BF' at 0x163a068eef0>,\n",
       " <Image layer 'mCherry' at 0x163931e6f50>,\n",
       " <Image layer 'GFP' at 0x163a078f040>]"
      ]
     },
     "execution_count": 3,
     "metadata": {},
     "output_type": "execute_result"
    }
   ],
   "source": [
    "v.open(r\"z:\\Madison\\2023-03-31_wtCas9\\good_pos\\pos\\pos11\\input\\stack.tif\", plugin=\"anchor-droplet-chip\")"
   ]
  },
  {
   "cell_type": "code",
   "execution_count": 4,
   "metadata": {},
   "outputs": [
    {
     "name": "stderr",
     "output_type": "stream",
     "text": [
      "INFO:cellpose.core:** TORCH CUDA version installed and working. **\n",
      "INFO:cellpose.core:>>>> using GPU\n",
      "INFO:cellpose.models:>> cyto << model set to be used\n",
      "INFO:cellpose.models:>>>> model diam_mean =  30.000 (ROIs rescaled to this size during training)\n",
      "DEBUG:adc._segment_widget:using cuda\n",
      "DEBUG:adc._segment_widget:updating roi\n",
      "DEBUG:adc._segment_widget:use blank roi_mask\n"
     ]
    }
   ],
   "source": [
    "s = SegmentYeast(v)"
   ]
  },
  {
   "cell_type": "code",
   "execution_count": null,
   "metadata": {},
   "outputs": [
    {
     "data": {
      "text/plain": [
       "<napari._qt.widgets.qt_viewer_dock_widget.QtViewerDockWidget at 0x163a22d6560>"
      ]
     },
     "execution_count": 5,
     "metadata": {},
     "output_type": "execute_result"
    },
    {
     "name": "stderr",
     "output_type": "stream",
     "text": [
      "DEBUG:napari.loader:ImageSlice.__init__\n",
      "DEBUG:napari.loader:ImageSlice.__init__\n",
      "DEBUG:napari.loader:ImageSlice.__init__\n",
      "DEBUG:napari.loader:ImageSlice.__init__\n",
      "DEBUG:napari.loader:ImageSlice.__init__\n",
      "DEBUG:napari.loader:ImageSlice.__init__\n",
      "DEBUG:napari.loader:ImageSlice.__init__\n",
      "DEBUG:napari.loader:ImageSlice.__init__\n",
      "DEBUG:napari.loader:ImageSlice.__init__\n",
      "DEBUG:napari.loader:ImageSlice.__init__\n",
      "DEBUG:napari.loader:ImageSlice.__init__\n",
      "DEBUG:napari.loader:ImageSlice.__init__\n",
      "DEBUG:napari.loader:ImageSlice.__init__\n",
      "DEBUG:napari.loader:ImageSlice.__init__\n",
      "DEBUG:napari.loader:ImageSlice.__init__\n",
      "DEBUG:adc._segment_widget:updating roi\n",
      "DEBUG:adc._segment_widget:updating roi\n",
      "DEBUG:in_n_out:Executing @injected activate_add_rectangle_mode(layer: napari.layers.shapes.shapes.Shapes) with args: (), kwargs: {}\n",
      "DEBUG:in_n_out:Rebuilding provider map cache\n",
      "DEBUG:in_n_out:  injecting layer: <class 'napari.layers.shapes.shapes.Shapes'> = <Shapes layer 'Shapes' at 0x163a09a1180>\n",
      "DEBUG:in_n_out:  Calling activate_add_rectangle_mode with {'layer': <Shapes layer 'Shapes' at 0x163a09a1180>} (injected {'layer'})\n",
      "DEBUG:adc._segment_widget:updating roi\n",
      "DEBUG:adc._segment_widget:updating roi\n"
     ]
    }
   ],
   "source": [
    "v.window.add_dock_widget(s)"
   ]
  },
  {
   "cell_type": "code",
   "execution_count": 13,
   "metadata": {},
   "outputs": [
    {
     "data": {
      "text/plain": [
       "array([[ True,  True,  True, ...,  True,  True,  True],\n",
       "       [ True,  True,  True, ...,  True,  True,  True],\n",
       "       [ True,  True,  True, ...,  True,  True,  True],\n",
       "       ...,\n",
       "       [ True,  True,  True, ...,  True,  True,  True],\n",
       "       [ True,  True,  True, ...,  True,  True,  True],\n",
       "       [ True,  True,  True, ...,  True,  True,  True]])"
      ]
     },
     "execution_count": 13,
     "metadata": {},
     "output_type": "execute_result"
    }
   ],
   "source": [
    "s.roi_mask"
   ]
  },
  {
   "cell_type": "code",
   "execution_count": 18,
   "metadata": {},
   "outputs": [
    {
     "data": {
      "text/plain": [
       "<bound method SegmentYeast.init_roi of <adc._segment_widget.SegmentYeast object at 0x00000203E7AAA4D0>>"
      ]
     },
     "execution_count": 18,
     "metadata": {},
     "output_type": "execute_result"
    },
    {
     "name": "stderr",
     "output_type": "stream",
     "text": [
      "DEBUG:adc._segment_widget:updating roi\n",
      "DEBUG:adc._segment_widget:updating roi\n",
      "DEBUG:adc._segment_widget:updating roi\n"
     ]
    }
   ],
   "source": [
    "v.layers[\"Shapes\"].events.connect(s.init_roi)"
   ]
  },
  {
   "cell_type": "code",
   "execution_count": 24,
   "metadata": {},
   "outputs": [
    {
     "data": {
      "text/plain": [
       "(slice(None, None, None),\n",
       " slice(1165.829953490542, 1904.6037254954138, None),\n",
       " slice(273.71797530941603, 1474.8369225093898, None))"
      ]
     },
     "execution_count": 24,
     "metadata": {},
     "output_type": "execute_result"
    }
   ],
   "source": [
    "s.roi_slice#[1].start"
   ]
  },
  {
   "cell_type": "code",
   "execution_count": null,
   "metadata": {},
   "outputs": [],
   "source": []
  }
 ],
 "metadata": {
  "kernelspec": {
   "display_name": "venv",
   "language": "python",
   "name": "python3"
  },
  "language_info": {
   "codemirror_mode": {
    "name": "ipython",
    "version": 3
   },
   "file_extension": ".py",
   "mimetype": "text/x-python",
   "name": "python",
   "nbconvert_exporter": "python",
   "pygments_lexer": "ipython3",
   "version": "3.10.11"
  },
  "orig_nbformat": 4
 },
 "nbformat": 4,
 "nbformat_minor": 2
}
