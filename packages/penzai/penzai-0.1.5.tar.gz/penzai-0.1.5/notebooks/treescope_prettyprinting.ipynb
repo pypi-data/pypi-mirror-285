{
 "cells": [
  {
   "cell_type": "markdown",
   "metadata": {
    "id": "DfejMHs4lr8V"
   },
   "source": [
    "*Copyright 2024 The Penzai Authors.*\n",
    "\n",
    "*Licensed under the Apache License, Version 2.0 (the \"License\"); you may not use this file except in compliance with the License.\n",
    "You may obtain a copy of the License at*\n",
    "\n",
    "> http://www.apache.org/licenses/LICENSE-2.0\n",
    "\n",
    "*Unless required by applicable law or agreed to in writing, software\n",
    "distributed under the License is distributed on an \"AS IS\" BASIS,\n",
    "WITHOUT WARRANTIES OR CONDITIONS OF ANY KIND, either express or  implied.\n",
    "See the License for the specific language governing permissions and\n",
    "limitations under the License.*\n",
    "\n",
    "---"
   ]
  },
  {
   "cell_type": "markdown",
   "metadata": {
    "id": "USGIPdLYDzSo"
   },
   "source": [
    "[![Open in Colab](https://colab.research.google.com/assets/colab-badge.svg)](https://colab.research.google.com/github/google-deepmind/penzai/blob/main/notebooks/treescope_prettyprinting.ipynb) [![Open in Kaggle](https://kaggle.com/static/images/open-in-kaggle.svg)](https://kaggle.com/kernels/welcome?src=https://github.com/google-deepmind/penzai/blob/main/notebooks/treescope_prettyprinting.ipynb)"
   ]
  },
  {
   "cell_type": "markdown",
   "metadata": {
    "id": "AEACwYivW2LZ"
   },
   "source": [
    "# Pretty-Printing With Treescope"
   ]
  },
  {
   "cell_type": "markdown",
   "metadata": {
    "id": "TR55PimSW4-g"
   },
   "source": [
    "Treescope is Penzai's interactive, color-coded HTML pretty-printer, designed for use in IPython notebooks. It's designed to show you the structure of any model or tree of arrays, and is especially suited to looking at nested data structures.\n",
    "\n",
    "As its name suggests, treescope is specifically focused on inspecting *treelike data*, represented as nodes (Python objects) that contain collections of child nodes (other Python objects). This is a good fit for JAX, since JAX's PyTrees are already tree shaped, and also since JAX works with immutable data structures. It's also a close match to the behavior of the ordinary Python `repr`, which produces a flat source-code-like view of an object and its contents. (Treescope has limited support for more general Python reference graphs and cyclic references as well, but it always renders them in a tree-like form.)\n",
    "\n",
    "This notebook shows how to use the treescope pretty-printer to look at nested data structures and Penzai models."
   ]
  },
  {
   "cell_type": "markdown",
   "metadata": {
    "id": "SHr2rnIL8DzM"
   },
   "source": [
    "## Setup"
   ]
  },
  {
   "cell_type": "markdown",
   "metadata": {
    "id": "VkW4lYKAu-oR"
   },
   "source": [
    "Let's start by setting up the environment."
   ]
  },
  {
   "cell_type": "markdown",
   "metadata": {
    "id": "ozG8ERNavDos"
   },
   "source": [
    "### Imports"
   ]
  },
  {
   "cell_type": "markdown",
   "metadata": {
    "id": "xmxgAcFQmZkB"
   },
   "source": [
    "To run this notebook, you need a Python environment with `penzai` and its dependencies installed.\n",
    "\n",
    "In Colab or Kaggle, you can install it using the following command:"
   ]
  },
  {
   "cell_type": "code",
   "execution_count": null,
   "metadata": {
    "id": "XGZH58j8mPkj"
   },
   "outputs": [],
   "source": [
    "try:\n",
    "  import penzai\n",
    "except ImportError:\n",
    "  !pip install penzai[notebook]"
   ]
  },
  {
   "cell_type": "code",
   "execution_count": null,
   "metadata": {
    "id": "iog3oMAMGCMG"
   },
   "outputs": [],
   "source": [
    "from __future__ import annotations\n",
    "\n",
    "import typing\n",
    "from typing import Any\n",
    "\n",
    "import dataclasses\n",
    "\n",
    "import jax\n",
    "import jax.numpy as jnp\n",
    "import numpy as np\n",
    "\n",
    "import IPython"
   ]
  },
  {
   "cell_type": "code",
   "execution_count": null,
   "metadata": {
    "id": "5Mh2mAuiQ4aa"
   },
   "outputs": [],
   "source": [
    "import penzai\n",
    "from penzai import pz"
   ]
  },
  {
   "cell_type": "markdown",
   "metadata": {
    "id": "6ntf-nE0-VE4"
   },
   "source": [
    "## Overview of Treescope"
   ]
  },
  {
   "cell_type": "markdown",
   "metadata": {
    "id": "DXEP-2vTzD4a"
   },
   "source": [
    "How does treescope work in practice? Here's an example. Ordinarily, if you try to inspect a nested object containing NDArrays, you get something pretty hard to interpret. For instance, here's a dictionary of parameters rendered using the default IPython pretty-printer:"
   ]
  },
  {
   "cell_type": "code",
   "execution_count": null,
   "metadata": {
    "id": "oT7mCEDVbN9g"
   },
   "outputs": [],
   "source": [
    "from penzai.example_models import simple_mlp\n",
    "\n",
    "mlp = pz.nn.initialize_parameters(\n",
    "    simple_mlp.MLP.from_config([64, 1264, 128, 128, 64]),\n",
    "    jax.random.key(1)\n",
    ")\n",
    "\n",
    "param_dict = {\n",
    "    param.name: param.value.data_array\n",
    "    for param in pz.select(mlp).at_instances_of(pz.nn.Parameter).get_sequence()\n",
    "}"
   ]
  },
  {
   "cell_type": "code",
   "execution_count": null,
   "metadata": {
    "id": "fY8B_NPXzQVP"
   },
   "outputs": [],
   "source": [
    "param_dict"
   ]
  },
  {
   "cell_type": "markdown",
   "metadata": {
    "id": "1TPygeUJ0QZe"
   },
   "source": [
    "Here's what it looks like if you print it out using the built-in Python `repr`:"
   ]
  },
  {
   "cell_type": "code",
   "execution_count": null,
   "metadata": {
    "id": "FMjhE69t0QZe"
   },
   "outputs": [],
   "source": [
    "print(repr(param_dict))"
   ]
  },
  {
   "cell_type": "markdown",
   "metadata": {
    "id": "bSqPemjQ0c6z"
   },
   "source": [
    "And here's how it looks in treescope, which is defined in `penzai.treescope` and aliased to `pz.ts` for easier use:"
   ]
  },
  {
   "cell_type": "code",
   "execution_count": null,
   "metadata": {
    "id": "vt4bj74K0euS"
   },
   "outputs": [],
   "source": [
    "with pz.ts.active_autovisualizer.set_scoped(pz.ts.ArrayAutovisualizer()):\n",
    "  pz.ts.display(param_dict)"
   ]
  },
  {
   "cell_type": "markdown",
   "metadata": {
    "id": "HICzCwT90rBa"
   },
   "source": [
    "Treescope renders this object as a syntax-highlighted, color-coded structure that can be interactively folded and unfolded.\n",
    "\n",
    "(Try clicking any `▶` marker to expand a level of the tree, or any `▼` marker to collapse a level.)"
   ]
  },
  {
   "cell_type": "markdown",
   "metadata": {
    "id": "NxVRYKwWntEV"
   },
   "source": [
    "In fact, you can even look at the whole model this way, and get a color-coded view of all the parts of your model:"
   ]
  },
  {
   "cell_type": "code",
   "execution_count": null,
   "metadata": {
    "id": "GZVPHEUunwK3"
   },
   "outputs": [],
   "source": [
    "with pz.ts.active_autovisualizer.set_scoped(pz.ts.ArrayAutovisualizer()):\n",
    "  pz.ts.display(mlp)"
   ]
  },
  {
   "cell_type": "markdown",
   "metadata": {
    "id": "GG31E3k82__R"
   },
   "source": [
    "Let's register treescope as the default pretty-printer for IPython. This is the recommended way to use treescope in an interactive setting. Treescope is designed to be a drop-in replacement for the ordinary IPython pretty-printer, so you should be able to start using it right away."
   ]
  },
  {
   "cell_type": "code",
   "execution_count": null,
   "metadata": {
    "id": "zEo9iZGu3MSg"
   },
   "outputs": [],
   "source": [
    "pz.ts.register_as_default()"
   ]
  },
  {
   "cell_type": "markdown",
   "metadata": {
    "id": "FT3B8ugZ1--0"
   },
   "source": [
    "### Foldable and unfoldable nested objects\n",
    "\n",
    "\n"
   ]
  },
  {
   "cell_type": "markdown",
   "metadata": {
    "id": "q04MWuN12ICw"
   },
   "source": [
    "Treescope lets you expand and collapse any level of your tree, so you can look at the parts you care about. In treescope, you can collapse or expand any object that would render as multiple lines (even if treescope doesn't recognize the type!)"
   ]
  },
  {
   "cell_type": "code",
   "execution_count": null,
   "metadata": {
    "id": "1WH4OuTx2k43"
   },
   "outputs": [],
   "source": [
    "import dataclasses\n",
    "\n",
    "@dataclasses.dataclass\n",
    "class MyDataclass:\n",
    "  a: Any\n",
    "  b: Any\n",
    "  c: Any\n",
    "\n",
    "class TheZenOfPython:\n",
    "  def __repr__(self):\n",
    "    return \"<The Zen of Python:\\nBeautiful is better than ugly.\\nExplicit is better than implicit.\\nSimple is better than complex.\\nComplex is better than complicated.\\nFlat is better than nested.\\nSparse is better than dense.\\nReadability counts.\\nSpecial cases aren't special enough to break the rules.\\nAlthough practicality beats purity.\\nErrors should never pass silently.\\nUnless explicitly silenced.\\nIn the face of ambiguity, refuse the temptation to guess.\\nThere should be one-- and preferably only one --obvious way to do it.\\nAlthough that way may not be obvious at first unless you're Dutch.\\nNow is better than never.\\nAlthough never is often better than *right* now.\\nIf the implementation is hard to explain, it's a bad idea.\\nIf the implementation is easy to explain, it may be a good idea.\\nNamespaces are one honking great idea -- let's do more of those!>\""
   ]
  },
  {
   "cell_type": "code",
   "execution_count": null,
   "metadata": {
    "id": "iIlI2uDH26vs"
   },
   "outputs": [],
   "source": [
    "[\n",
    "    MyDataclass('a' * i, 'b' * i, ('cccc\\n') * i)\n",
    "    for i in range(10)\n",
    "] + [\n",
    "    MyDataclass(TheZenOfPython(), TheZenOfPython(), TheZenOfPython())\n",
    "]"
   ]
  },
  {
   "cell_type": "markdown",
   "metadata": {
    "id": "tT-RWJGy3pGQ"
   },
   "source": [
    "### Copyable key paths"
   ]
  },
  {
   "cell_type": "markdown",
   "metadata": {
    "id": "x8PoGmTo3sHI"
   },
   "source": [
    "Want to pull out an object deep inside a tree? You can click the <img src=\"data:image/svg+xml;base64,PHN2ZyB4bWxucz0iaHR0cDovL3d3dy53My5vcmcvMjAwMC9zdmciIGhlaWdodD0iMjQiIHZpZXdCb3g9IjAgMCAyNCAyNCIgd2lkdGg9IjI0Ij48cGF0aCBkPSJNMCAwaDI0djI0SDB6IiBmaWxsPSJub25lIi8+PHBhdGggZD0iTTE2IDFINGMtMS4xIDAtMiAuOS0yIDJ2MTRoMlYzaDEyVjF6bTMgNEg4Yy0xLjEgMC0yIC45LTIgMnYxNGMwIDEuMS45IDIgMiAyaDExYzEuMSAwIDItLjkgMi0yVjdjMC0xLjEtLjktMi0yLTJ6bTAgMTZIOFY3aDExdjE0eiIvPjwvc3ZnPg==\" height=16> icon next to any subtree to copy a function that accesses that subtree, as a Python source-code lambda expression. You can then paste it into a code cell and pass the original parameter dict to pull out the subtree you wanted.\n",
    "\n",
    "Try it on one of the parameters of the Penzai model below! (If you run this notebook yourself, you should be able to copy paths with one click. If you are viewing this notebook on Colab without running it, you'll need to click and then copy the path manually due to Colab's security restrictions.)"
   ]
  },
  {
   "cell_type": "code",
   "execution_count": null,
   "metadata": {
    "id": "EftErfPt53Jf"
   },
   "outputs": [],
   "source": [
    "mlp"
   ]
  },
  {
   "cell_type": "code",
   "execution_count": null,
   "metadata": {
    "id": "aRzfARw07Mro"
   },
   "outputs": [],
   "source": [
    "# for example\n",
    "(lambda root: root.sublayers[6].sublayers[0].weights.value)(mlp)"
   ]
  },
  {
   "cell_type": "markdown",
   "metadata": {
    "id": "B6KzA96xCrpC"
   },
   "source": [
    "### Structural color-coding for `pz.Struct` and `pz.Layer`"
   ]
  },
  {
   "cell_type": "markdown",
   "metadata": {
    "id": "VNbOIzGiCzFr"
   },
   "source": [
    "Penzai's base class for PyTree dataclasses includes customizable hooks for treescope rendering. In particular, neural network layers are color-coded by type, so you can see at a glance which parts of your model object are the same type.\n",
    "\n",
    "By default, any block subclass that defines `__call__` gets a randomly-selected color based on the type name:"
   ]
  },
  {
   "cell_type": "code",
   "execution_count": null,
   "metadata": {
    "id": "Vov5Px-wDVyR"
   },
   "outputs": [],
   "source": [
    "@pz.pytree_dataclass\n",
    "class MyShiftLayer(pz.Layer):\n",
    "  shift: float\n",
    "\n",
    "  def __call__(self, value):\n",
    "    return value + self.shift\n",
    "\n",
    "@pz.pytree_dataclass\n",
    "class MyNoOpLayer(pz.Layer):\n",
    "  def __call__(self, value):\n",
    "    return value"
   ]
  },
  {
   "cell_type": "code",
   "execution_count": null,
   "metadata": {
    "id": "0Qmy1o7MDcL4"
   },
   "outputs": [],
   "source": [
    "pz.nn.Sequential([\n",
    "    MyShiftLayer(1),\n",
    "    MyShiftLayer(2),\n",
    "    MyNoOpLayer(),\n",
    "    MyShiftLayer(3),\n",
    "])"
   ]
  },
  {
   "cell_type": "markdown",
   "metadata": {
    "id": "2GpELFAnDr-g"
   },
   "source": [
    "But you can customize the color by overriding `treescope_color`:"
   ]
  },
  {
   "cell_type": "code",
   "execution_count": null,
   "metadata": {
    "id": "EXtQ2muNDvXo"
   },
   "outputs": [],
   "source": [
    "@pz.pytree_dataclass\n",
    "class MyFancyShiftLayer(pz.Layer):\n",
    "  name: str = dataclasses.field(metadata={\"pytree_node\": False})\n",
    "  shift: float\n",
    "\n",
    "  def __call__(self, value):\n",
    "    return value + self.shift\n",
    "\n",
    "  def treescope_color(self):\n",
    "    return pz.color_from_string(str(self.name))"
   ]
  },
  {
   "cell_type": "code",
   "execution_count": null,
   "metadata": {
    "id": "AgXeoDDTD0V4"
   },
   "outputs": [],
   "source": [
    "pz.nn.Sequential([\n",
    "    MyFancyShiftLayer(\"foo\", 1),\n",
    "    MyFancyShiftLayer(\"bar\", 2),\n",
    "    MyNoOpLayer(),\n",
    "    MyFancyShiftLayer(\"foo\", 3),\n",
    "])"
   ]
  },
  {
   "cell_type": "code",
   "execution_count": null,
   "metadata": {
    "id": "mO7m_eVwdqVO"
   },
   "outputs": [],
   "source": [
    "@pz.pytree_dataclass\n",
    "class MyObject(pz.Struct):\n",
    "  a: float\n",
    "  b: float\n",
    "\n",
    "  def treescope_color(self):\n",
    "    return \"cyan\"\n",
    "\n",
    "MyObject(a=1.0, b=2.0)"
   ]
  },
  {
   "cell_type": "markdown",
   "metadata": {
    "id": "8sUnfdKVEVGA"
   },
   "source": [
    "This is used throughout Penzai to provide color-coded representations that emphasize the behavior of individual parts of complex models.\n",
    "\n",
    "(There are also some Penzai-specific renderers for understanding dataflow penzai models in particular, which are described in the other tutorial notebooks.)"
   ]
  },
  {
   "cell_type": "markdown",
   "metadata": {
    "id": "5_mN1mMo-yUS"
   },
   "source": [
    "### Copyable code and roundtrip mode"
   ]
  },
  {
   "cell_type": "markdown",
   "metadata": {
    "id": "vn-XXnTn_AtJ"
   },
   "source": [
    "Documentation for Python's `repr` says:\n",
    "\n",
    "> For many types, this function makes an attempt to return a string that would yield an object with the same value when passed to eval(); otherwise, the representation is a string enclosed in angle brackets that contains the name of the type of the object together with additional information often including the name and address of the object\n",
    "\n",
    "Treescope follows this principle for everything it renders. Almost all of the output of treescope is valid Python syntax, and any extra annotations are either hidden from selection or represented as Python comments.\n",
    "\n",
    "For instance, we'll show again the example MLP model:"
   ]
  },
  {
   "cell_type": "code",
   "execution_count": null,
   "metadata": {
    "id": "Zs_6tfDpNCRI"
   },
   "outputs": [],
   "source": [
    "mlp"
   ]
  },
  {
   "cell_type": "markdown",
   "metadata": {
    "id": "sXEXj8WCsIwx"
   },
   "source": [
    "This printout is for the most part executable Python code, specifying the types and fields for each value. However, the individual types may not be in scope, and some values (like `jax.Array`) cannot be directly rebuilt from their `repr`.\n",
    "\n",
    "You can fix this by running treescope in \"roundtrip mode\", which\n",
    "- adds qualified names to all types\n",
    "- disables non-roundtrippable summaries for special-cased types (like `NamedArray`)\n",
    "- wraps any non-rountrippable type (like `jax.Array` or any type treescope doesn't know how to render) with a weak reference, enabling it to be copy-pasted within the current interpreter session (as long as the original object isn't garbage collected)\n",
    "\n",
    "To toggle roundtrip mode, click on any output of treescope and press the \"**`r`**\" key. (Try it above!) Alternatively, pass `roundtrip_mode=True` to the renderer:"
   ]
  },
  {
   "cell_type": "code",
   "execution_count": null,
   "metadata": {
    "id": "FrT4RX5fKlnM"
   },
   "outputs": [],
   "source": [
    "pz.ts.display(mlp, roundtrip_mode=True)"
   ]
  },
  {
   "cell_type": "markdown",
   "metadata": {
    "id": "99ZwHG3JLsgW"
   },
   "source": [
    "In roundtrip mode, as long as you've imported the necessary top-level modules, you should be able to select any part of the output, copy it, and paste it into another cell to rebuild an equivalent subtree to the one you copied."
   ]
  },
  {
   "cell_type": "markdown",
   "metadata": {
    "id": "9rtVpe9gNDGC"
   },
   "source": [
    "### Function reflection and canonical aliases"
   ]
  },
  {
   "cell_type": "markdown",
   "metadata": {
    "id": "qkgLckTFMRE_"
   },
   "source": [
    "Treescope has support for rendering useful information about functions and closures. The repr for functions isn't always very helpful, especially if wrapped by JAX:"
   ]
  },
  {
   "cell_type": "code",
   "execution_count": null,
   "metadata": {
    "id": "uLgJ9LjQMZ6v"
   },
   "outputs": [],
   "source": [
    "repr(jax.nn.relu)"
   ]
  },
  {
   "cell_type": "markdown",
   "metadata": {
    "id": "GunF5Q4LMgeH"
   },
   "source": [
    "Treescope tries to figure out where functions, function-like objects, and other constants are defined, and uses that to summarize them when collapsed. This works for ordinary function definitions defined anywhere and also for function-like objects in the JAX public API (see `well_known_aliases.py`)"
   ]
  },
  {
   "cell_type": "code",
   "execution_count": null,
   "metadata": {
    "id": "_VGojPcOMeM_"
   },
   "outputs": [],
   "source": [
    "jax.nn.relu"
   ]
  },
  {
   "cell_type": "markdown",
   "metadata": {
    "id": "bVz5hPDrNyrz"
   },
   "source": [
    "For ordinary functions, it can even identify the file where the function was defined:"
   ]
  },
  {
   "cell_type": "code",
   "execution_count": null,
   "metadata": {
    "id": "kZWUUfiZN_Zr"
   },
   "outputs": [],
   "source": [
    "jnp.sum"
   ]
  },
  {
   "cell_type": "markdown",
   "metadata": {
    "id": "kqvRcc-mOFPU"
   },
   "source": [
    "This works even for locally-defined notebook functions:"
   ]
  },
  {
   "cell_type": "code",
   "execution_count": null,
   "metadata": {
    "id": "AIGmwRqAOHic"
   },
   "outputs": [],
   "source": [
    "def my_function():\n",
    "  print(\"hello world!\")"
   ]
  },
  {
   "cell_type": "code",
   "execution_count": null,
   "metadata": {
    "id": "MmLywyFhOPYD"
   },
   "outputs": [],
   "source": [
    "my_function"
   ]
  },
  {
   "cell_type": "markdown",
   "metadata": {
    "id": "duo3EE4eNRui"
   },
   "source": [
    "### Embedded NDArray visualizer (`arrayviz`) and customizable figure inlining"
   ]
  },
  {
   "cell_type": "markdown",
   "metadata": {
    "id": "7-ZPQk11RCTw"
   },
   "source": [
    "Treescope includes a custom interactive NDArray visualizer designed to visualize the elements of high-dimensional arrays:"
   ]
  },
  {
   "cell_type": "code",
   "execution_count": null,
   "metadata": {
    "id": "FMX1IdrUQdjL"
   },
   "outputs": [],
   "source": [
    "arr = (\n",
    "    np.linspace(-10, 10, 20)\n",
    "    * np.linspace(-10, 10, 15)[:, np.newaxis]\n",
    "    * np.linspace(-1, 1, 5)[:, np.newaxis, np.newaxis]\n",
    ")\n",
    "pz.ts.render_array(arr)"
   ]
  },
  {
   "cell_type": "markdown",
   "metadata": {
    "id": "29aIieGZSrq3"
   },
   "source": [
    "It's integrated with the rest of treescope, making it possible to directly visualize entire nested containers of arrays at once. (Large arrays get automatically truncated along one or more axes to keep the visualization relatively small.)"
   ]
  },
  {
   "cell_type": "code",
   "execution_count": null,
   "metadata": {
    "id": "rla6G3yYTmc5"
   },
   "outputs": [],
   "source": [
    "with pz.ts.active_autovisualizer.set_scoped(pz.ts.ArrayAutovisualizer()):\n",
    "  pz.ts.display((lambda root: root.sublayers[6].sublayers[0].weights.value)(mlp))"
   ]
  },
  {
   "cell_type": "code",
   "execution_count": null,
   "metadata": {
    "id": "VH5k0BEnS5V_"
   },
   "outputs": [],
   "source": [
    "with pz.ts.active_autovisualizer.set_scoped(pz.ts.ArrayAutovisualizer()):\n",
    "  # Visualizations with many items get collapsed by default.\n",
    "  # Click to expand them.\n",
    "  pz.ts.display(mlp)"
   ]
  },
  {
   "cell_type": "markdown",
   "metadata": {
    "id": "hpChdJOAaYy0"
   },
   "source": [
    "If you want more control over how arrays and other objects are visualized, you can write your own visualization function and configure treescope to use it:"
   ]
  },
  {
   "cell_type": "code",
   "execution_count": null,
   "metadata": {
    "id": "3wmMadSgalOZ"
   },
   "outputs": [],
   "source": [
    "import plotly.express as px\n",
    "\n",
    "def visualize_with_histograms(value, path):\n",
    "  if isinstance(value, (np.ndarray, jax.Array)):\n",
    "    # You can use any rich display object, for instance a plotly figure:\n",
    "    return pz.ts.IPythonVisualization(\n",
    "        px.histogram(\n",
    "            value.flatten(),\n",
    "            width=400, height=200\n",
    "        ).update_layout(\n",
    "            margin=dict(l=20, r=20, t=20, b=20)\n",
    "        )\n",
    "    )"
   ]
  },
  {
   "cell_type": "code",
   "execution_count": null,
   "metadata": {
    "id": "sbxP5iHR9N9-"
   },
   "outputs": [],
   "source": [
    "with pz.ts.active_autovisualizer.set_scoped(visualize_with_histograms):\n",
    "  pz.ts.display((lambda root: root.sublayers[6].sublayers[0].weights.value)(mlp))"
   ]
  },
  {
   "cell_type": "markdown",
   "metadata": {
    "id": "GVXUkJ1vhqNY"
   },
   "source": [
    "You can use the `%%autovisualize` IPython magic to enable automatic visualization in a cell:"
   ]
  },
  {
   "cell_type": "code",
   "execution_count": null,
   "metadata": {
    "id": "XPEAwQfThvtD"
   },
   "outputs": [],
   "source": [
    "pz.ts.register_autovisualize_magic()"
   ]
  },
  {
   "cell_type": "code",
   "execution_count": null,
   "metadata": {
    "id": "4uBNhEU3hxdG"
   },
   "outputs": [],
   "source": [
    "%%autovisualize\n",
    "(lambda root: root.sublayers[6].sublayers[0].sublayers[0].weights.value)(mlp)"
   ]
  },
  {
   "cell_type": "markdown",
   "metadata": {
    "id": "REfIYd42Z649"
   },
   "source": [
    "See the separate [array visualization tutorial](treescope_arrayviz.ipynb) for more info on how to visualize arrays and customize layouts!"
   ]
  },
  {
   "cell_type": "markdown",
   "metadata": {
    "id": "ChUMxDWF25nh"
   },
   "source": [
    "## Where you can use treescope"
   ]
  },
  {
   "cell_type": "markdown",
   "metadata": {
    "id": "ETz80MYtePl8"
   },
   "source": [
    "### In IPython / Colab"
   ]
  },
  {
   "cell_type": "markdown",
   "metadata": {
    "id": "zloHbYfpeRhs"
   },
   "source": [
    "Treescope works great in IPython and Colab notebooks, and is designed as a drop-in replacement for the IPython pretty-printer.\n",
    "\n",
    "We've already done it above, but you can configure treescope as the default IPython formatter by calling"
   ]
  },
  {
   "cell_type": "code",
   "execution_count": null,
   "metadata": {
    "id": "EayONGZge9uu"
   },
   "outputs": [],
   "source": [
    "pz.ts.register_as_default()"
   ]
  },
  {
   "cell_type": "markdown",
   "metadata": {
    "id": "zW05pjrBe-tq"
   },
   "source": [
    "or manually display specific objects with"
   ]
  },
  {
   "cell_type": "code",
   "execution_count": null,
   "metadata": {
    "id": "qR55dXumfCb6"
   },
   "outputs": [],
   "source": [
    "pz.ts.display([\"some object\"])"
   ]
  },
  {
   "cell_type": "markdown",
   "metadata": {
    "id": "w6xDi5RZfXNz"
   },
   "source": [
    "There's also a helper function to show rich objects with syntax similar to Python's `print`:"
   ]
  },
  {
   "cell_type": "code",
   "execution_count": null,
   "metadata": {
    "id": "iKimZ6EQfnm8"
   },
   "outputs": [],
   "source": [
    "pz.show(\"A value:\", [\"some object\"])"
   ]
  },
  {
   "cell_type": "markdown",
   "metadata": {
    "id": "vxdZo9jSfFqS"
   },
   "source": [
    "If you register treescope as the default IPython formatter, you can also just do"
   ]
  },
  {
   "cell_type": "code",
   "execution_count": null,
   "metadata": {
    "id": "okcZGZaifLES"
   },
   "outputs": [],
   "source": [
    "[\"some object\"]"
   ]
  },
  {
   "cell_type": "markdown",
   "metadata": {
    "id": "I0tFIE5wfYel"
   },
   "source": [
    "### In the IPython / Colab debugger"
   ]
  },
  {
   "cell_type": "markdown",
   "metadata": {
    "id": "nwyhvlSQffkV"
   },
   "source": [
    "It's actually also possible to use treescope inside the Colab debugger or IPython's `ipdb`. This isn't specific to treescope, and it may be somewhat fragile, but it's possible to monkey-patch `pdb` so that it uses `IPython.display.display` to display values that are output to the console. If you've registered treescope with IPython, that means you get access to all of it's formatting while inspecting stack frames!\n",
    "\n",
    "There's an experimental wrapper that sets this up for you:"
   ]
  },
  {
   "cell_type": "code",
   "execution_count": null,
   "metadata": {
    "id": "Fb4XFHZ4gJUG"
   },
   "outputs": [],
   "source": [
    "from penzai.toolshed import patch_ipdb\n",
    "patch_ipdb.patch_ipdb()"
   ]
  },
  {
   "cell_type": "markdown",
   "metadata": {
    "id": "90CxYo5ngPQf"
   },
   "source": [
    "Try running this and dropping into the debugger:"
   ]
  },
  {
   "cell_type": "code",
   "execution_count": null,
   "metadata": {
    "id": "XxOHDQfLgUZw"
   },
   "outputs": [],
   "source": [
    "def my_function(some_input):\n",
    "  assert some_input is None\n",
    "\n",
    "# # Uncomment me:\n",
    "# my_function({\"a\": 1, \"b\": np.arange(1000)})"
   ]
  },
  {
   "cell_type": "markdown",
   "metadata": {
    "id": "P1Me9ZKrh6uN"
   },
   "source": [
    "### In ordinary Python for offline viewing"
   ]
  },
  {
   "cell_type": "markdown",
   "metadata": {
    "id": "MC_S36jIh9zP"
   },
   "source": [
    "Treescope can render directly to static HTML, without requiring any dynamic communication between the Python kernel and the HTML renderer. This means you can directly save the output of a treescope rendering to an HTML file, and open it later to view whatever was formatted."
   ]
  },
  {
   "cell_type": "code",
   "execution_count": null,
   "metadata": {
    "id": "SNgkywtliOyI"
   },
   "outputs": [],
   "source": [
    "with pz.ts.active_autovisualizer.set_scoped(pz.ts.ArrayAutovisualizer()):\n",
    "  contents = pz.ts.render_to_html(mlp, roundtrip_mode=True)\n",
    "\n",
    "with open(\"/tmp/treescope_output.html\", \"w\") as f:\n",
    "  f.write(contents)\n",
    "\n",
    "# Uncomment to download the file:\n",
    "# import google.colab.files\n",
    "# google.colab.files.download(\"/tmp/treescope_output.html\")"
   ]
  },
  {
   "cell_type": "markdown",
   "metadata": {
    "id": "5gRlSr_7BIhC"
   },
   "source": [
    "## Things treescope can render"
   ]
  },
  {
   "cell_type": "markdown",
   "metadata": {
    "id": "fx3FnJlVm4R4"
   },
   "source": [
    "Treescope has support for a large number of common Python objects."
   ]
  },
  {
   "cell_type": "markdown",
   "metadata": {
    "id": "xK531j-Hm7b5"
   },
   "source": [
    "### Dicts, lists, tuples, and sets"
   ]
  },
  {
   "cell_type": "code",
   "execution_count": null,
   "metadata": {
    "id": "t42XMYqGnB67"
   },
   "outputs": [],
   "source": [
    "[\n",
    "    [(), (1,), (1, 2, 3)],\n",
    "    {\"foo\": \"bar\", \"baz\": \"qux\"},\n",
    "    {(1,2,3):(4,5,6), (7,8,9):(10,11,12)},\n",
    "    {\"a\", \"b\", \"c\", \"d\"}\n",
    "]"
   ]
  },
  {
   "cell_type": "markdown",
   "metadata": {
    "id": "qQ_7_xKUnXeZ"
   },
   "source": [
    "### Builtins and literals\n",
    "(with special handling for multiline strings)"
   ]
  },
  {
   "cell_type": "code",
   "execution_count": null,
   "metadata": {
    "id": "XoQVV_JInceA"
   },
   "outputs": [],
   "source": [
    "[\n",
    "    [1, 2, 3, 4],\n",
    "    [\"a\", \"b\", \"c\", \"d\"],\n",
    "    [True, False, None, NotImplemented, Ellipsis],\n",
    "    [\"a\\n  multiline\\n    string\"]\n",
    "]"
   ]
  },
  {
   "cell_type": "markdown",
   "metadata": {
    "id": "1-vWGcVQnwO0"
   },
   "source": [
    "### Dataclasses and namedtuples"
   ]
  },
  {
   "cell_type": "code",
   "execution_count": null,
   "metadata": {
    "id": "gAUbNEJCnySa"
   },
   "outputs": [],
   "source": [
    "class Foo(typing.NamedTuple):\n",
    "  a: int\n",
    "  b: str\n",
    "\n",
    "Foo(a=1, b=\"bar\")"
   ]
  },
  {
   "cell_type": "code",
   "execution_count": null,
   "metadata": {
    "id": "-_0ZHN7OoKsJ"
   },
   "outputs": [],
   "source": [
    "@dataclasses.dataclass(frozen=True)\n",
    "class Bar:\n",
    "  c: str\n",
    "  d: int\n",
    "  some_list: list = dataclasses.field(default_factory=list)\n",
    "\n",
    "IPython.display.display(Bar(c=\"bar\", d=2))"
   ]
  },
  {
   "cell_type": "markdown",
   "metadata": {
    "id": "mXRxyT12tBGC"
   },
   "source": [
    "In roundtrip mode, treescope will even help you rebuild dataclasses with weird `__init__` methods:"
   ]
  },
  {
   "cell_type": "code",
   "execution_count": null,
   "metadata": {
    "id": "MQ0N67ZXtGxJ"
   },
   "outputs": [],
   "source": [
    "@dataclasses.dataclass\n",
    "class WeirdInitClass:\n",
    "  foo: int\n",
    "\n",
    "  def __init__(self, half_foo: int):\n",
    "    self.foo = 2 * half_foo\n",
    "\n",
    "# This shows as WeirdInitClass(foo=4):\n",
    "pz.ts.display(WeirdInitClass(2))\n",
    "\n",
    "# But in roundtrip mode (explicit or after pressing `r`), it shows as\n",
    "#   pz.dataclass_from_attributes(WeirdInitClass, foo=4)\n",
    "# which bypasses __init__ and rebuilds the dataclass's attributes directly,\n",
    "# since __init__ doesn't take `foo` as an argument.\n",
    "pz.ts.display(WeirdInitClass(2), roundtrip_mode=True)"
   ]
  },
  {
   "cell_type": "markdown",
   "metadata": {
    "id": "PPBrX2URqClt"
   },
   "source": [
    "### NDArrays and NamedArrays\n",
    "Treescope summarizes the shape, mean, standard deviation, bounds, and number of special values in any arrays. It also supports automatic visualization (as described above)."
   ]
  },
  {
   "cell_type": "code",
   "execution_count": null,
   "metadata": {
    "id": "X51bFZNRqTnG"
   },
   "outputs": [],
   "source": [
    "[\n",
    "    jnp.arange(1000),\n",
    "    np.array([[np.nan] * 100, [0] * 50 + [1] * 50]),\n",
    "    pz.nx.arange(\"foo\", 10) * pz.nx.arange(\"bar\", 15),\n",
    "]"
   ]
  },
  {
   "cell_type": "code",
   "execution_count": null,
   "metadata": {
    "id": "9fzQkidHhk2D"
   },
   "outputs": [],
   "source": [
    "%%autovisualize\n",
    "[\n",
    "    jnp.arange(1000),\n",
    "    np.array([[np.nan] * 100, [0] * 50 + [1] * 50]),\n",
    "    pz.nx.arange(\"foo\", 10) * pz.nx.arange(\"bar\", 15),\n",
    "]"
   ]
  },
  {
   "cell_type": "markdown",
   "metadata": {
    "id": "_5NhWnCSiEJ6"
   },
   "source": [
    "When used in IPython, Treescope will try to render the tree structure first and then insert array visualizations later. This can make visualization faster and can sometimes let you see the shape of JAX arrays before JAX has finished computing their values."
   ]
  },
  {
   "cell_type": "markdown",
   "metadata": {
    "id": "CRunWkc7stVN"
   },
   "source": [
    "### `pz.Struct`s, layers, and models\n",
    "\n",
    "`pz.Struct` and `pz.Layer` types are dataclasses, and they render similarly to ordinary dataclasses, but with a few extra features:\n",
    "\n",
    "- Layers are color-coded by type, and other blocks can opt-in to color-coding by defining `treescope_color`.\n",
    "- Layers also print a summary of their input and output structures, if known.\n",
    "- Complex models built using `penzai.data_effects` have extra annotations for tracking the effects and their handlers."
   ]
  },
  {
   "cell_type": "code",
   "execution_count": null,
   "metadata": {
    "id": "Gcu8ZoKJuZva"
   },
   "outputs": [],
   "source": [
    "initialized_mlp = pz.nn.initialize_parameters(\n",
    "  simple_mlp.MLP.from_config(\n",
    "    feature_sizes=[32, 64, 64, 16]\n",
    "  ), jax.random.key(0)\n",
    ")\n",
    "initialized_mlp"
   ]
  },
  {
   "cell_type": "markdown",
   "metadata": {
    "id": "uApmqUWrpM7T"
   },
   "source": [
    "### Functions\n",
    "(As discussed in the features section)"
   ]
  },
  {
   "cell_type": "code",
   "execution_count": null,
   "metadata": {
    "id": "99wOiGBTpVPx"
   },
   "outputs": [],
   "source": [
    "[\n",
    "    jnp.sum,\n",
    "    dataclasses.dataclass,\n",
    "    lambda x: x + 2,\n",
    "    jax.vmap(lambda x: x),\n",
    "]"
   ]
  },
  {
   "cell_type": "markdown",
   "metadata": {
    "id": "8DPERS5Qpo1D"
   },
   "source": [
    "### Arbitrary PyTree types\n",
    "Treescope uses a fallback rendering strategy to show the children of any PyTree type registered with JAX, even if it isn't usually supported by treescope."
   ]
  },
  {
   "cell_type": "code",
   "execution_count": null,
   "metadata": {
    "id": "uR-Ae0-yp6Eq"
   },
   "outputs": [],
   "source": [
    "jax.tree_util.Partial(lambda x, y, z: x + y, 10, y=100)"
   ]
  },
  {
   "cell_type": "markdown",
   "metadata": {
    "id": "cjkZIKlfr0HV"
   },
   "source": [
    "### Partial support: Repeated Python object references\n",
    "Treescope will warn you if it sees multiple references to the same mutable object, since that can cause unexpected behavior. (In this case, copying the output won't copy the shared reference structure.)"
   ]
  },
  {
   "cell_type": "code",
   "execution_count": null,
   "metadata": {
    "id": "uIrj6s_NsFZK"
   },
   "outputs": [],
   "source": [
    "my_shared_list = []\n",
    "\n",
    "{\n",
    "    \"foo\": my_shared_list,\n",
    "    \"bar\": my_shared_list,\n",
    "    \"baz\": [1, 2, my_shared_list]\n",
    "}"
   ]
  },
  {
   "cell_type": "code",
   "execution_count": null,
   "metadata": {
    "id": "bzj8ENLujAsd"
   },
   "outputs": [],
   "source": []
  }
 ],
 "metadata": {
  "colab": {
   "name": "Pretty-Printing with Treescope",
   "toc_visible": true
  },
  "kernelspec": {
   "display_name": "Python 3",
   "name": "python3"
  },
  "language_info": {
   "name": "python"
  }
 },
 "nbformat": 4,
 "nbformat_minor": 0
}
