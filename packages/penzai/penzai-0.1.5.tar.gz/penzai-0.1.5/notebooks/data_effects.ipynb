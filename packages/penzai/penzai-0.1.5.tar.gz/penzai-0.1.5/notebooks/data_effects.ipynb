{
 "cells": [
  {
   "cell_type": "markdown",
   "metadata": {
    "id": "DfejMHs4lr8V"
   },
   "source": [
    "*Copyright 2024 The Penzai Authors.*\n",
    "\n",
    "*Licensed under the Apache License, Version 2.0 (the \"License\"); you may not use this file except in compliance with the License.\n",
    "You may obtain a copy of the License at*\n",
    "\n",
    "> http://www.apache.org/licenses/LICENSE-2.0\n",
    "\n",
    "*Unless required by applicable law or agreed to in writing, software\n",
    "distributed under the License is distributed on an \"AS IS\" BASIS,\n",
    "WITHOUT WARRANTIES OR CONDITIONS OF ANY KIND, either express or  implied.\n",
    "See the License for the specific language governing permissions and\n",
    "limitations under the License.*\n",
    "\n",
    "---"
   ]
  },
  {
   "cell_type": "markdown",
   "metadata": {
    "id": "USGIPdLYDzSo"
   },
   "source": [
    "[![Open in Colab](https://colab.research.google.com/assets/colab-badge.svg)](https://colab.research.google.com/github/google-deepmind/penzai/blob/main/notebooks/data_effects.ipynb) [![Open in Kaggle](https://kaggle.com/static/images/open-in-kaggle.svg)](https://kaggle.com/kernels/welcome?src=https://github.com/google-deepmind/penzai/blob/main/notebooks/data_effects.ipynb)"
   ]
  },
  {
   "cell_type": "markdown",
   "metadata": {
    "id": "xgtRvD_jpzQ1"
   },
   "source": [
    "# Data Effects - Scoped Side Effects and State in Penzai Models\n",
    "\n",
    "Penzai neural networks are conventionally written in terms of simpler combinators like `pz.nn.Sequential`, `pz.nn.Residual`, or `pz.nn.BranchAndAddTogether`, which run their child sublayers in order and route inputs and outputs between them. To make everything compose together, every Penzai layer takes a single input argument, which is usually the output of the previous layer in the model.\n",
    "\n",
    "On its own, this has a few limitations. There are a number of common patterns in neural networks that cannot be expressed easily as compositions of single-input single-output functions. For instance:\n",
    "\n",
    "- Attention masks and positional embeddings need to know the positions of each input token in addition to receiving inputs from their previous layers.\n",
    "- Stochastic layers like `Dropout` need to generate fresh random numbers.\n",
    "- Key-value caching in Transformer decoders need to save keys and values into a stateful cache.\n",
    "- Saving intermediate activations requires somehow retrieving those activations from the middle of the model.\n",
    "- Since models own their parameters as attributes, two layers that share parameters need to reference the *same* parameter value, so that gradients are properly shared between them.\n",
    "\n",
    "There are a few existing solutions to this, used by other JAX neural network frameworks:\n",
    "- You could have your layers be represented by *mutable* Python objects that store references to each other and to mutable variables, and transform these objects into pure functions when called.\n",
    "  - This approach is taken by Flax and Haiku.\n",
    "  - A disadvantage of this approach is that it becomes difficult to inspect or manipulate smaller parts of your model, and almost impossible to insert new logic without editing the model code.\n",
    "- You could require every module to \"thread through\" the necessary state and PRNG keys as arguments to each layer, and use custom `__call__` logic to match up these arguments and handle parameter sharing.\n",
    "  - This is the approach taken by Equinox.\n",
    "  - A disadvantage of this approach is that every submodule has to know about every argument needed by any of its children. So you can't easily insert e.g. new Dropout layers without changing every containing class to pass around random keys.\n",
    "\n",
    "Penzai takes a different approach, building on the \"structure-encodes-computation\" principle of Penzai's neural networks , and loosely inspired by effect systems in functional programming languages. The key idea is to:\n",
    "\n",
    "- Represent requests for state, random numbers, or other \"effectful\" operations as **typed nodes in the model's PyTree**\n",
    "- And **handle those requests using ordinary PyTree traversals**, powered by `pz.select`.\n",
    "\n",
    "This system makes effect handling modular, composable, and fully under your control. It's also fully opt-in. If your model doesn't use effects, then you don't have to think about the system, and it can't affect your model's behavior at all.\n",
    "\n",
    "This notebook explains how the system works, and shows how you can use it to flexibly pass data into and out of model layers while still making use of Penzai's ordinary combinators and utilities. It assumes familiarity with Penzai models and `pz.select`; if you haven't read it already, you might want to start with the [\"How to Think in Penzai\" tutorial](how_to_think_in_penzai.ipynb) first."
   ]
  },
  {
   "cell_type": "markdown",
   "metadata": {
    "id": "SHr2rnIL8DzM"
   },
   "source": [
    "## Setup"
   ]
  },
  {
   "cell_type": "markdown",
   "metadata": {
    "id": "VkW4lYKAu-oR"
   },
   "source": [
    "Let's start by setting up the environment."
   ]
  },
  {
   "cell_type": "markdown",
   "metadata": {
    "id": "ozG8ERNavDos"
   },
   "source": [
    "### Imports"
   ]
  },
  {
   "cell_type": "markdown",
   "metadata": {
    "id": "xmxgAcFQmZkB"
   },
   "source": [
    "To run this notebook, you need a Python environment with `penzai` and its dependencies installed.\n",
    "\n",
    "In Colab or Kaggle, you can install it using the following command:"
   ]
  },
  {
   "cell_type": "code",
   "execution_count": null,
   "metadata": {
    "id": "XGZH58j8mPkj"
   },
   "outputs": [],
   "source": [
    "try:\n",
    "  import penzai\n",
    "except ImportError:\n",
    "  !pip install penzai[notebook]"
   ]
  },
  {
   "cell_type": "code",
   "execution_count": null,
   "metadata": {
    "id": "k7eABeOSjzVP"
   },
   "outputs": [],
   "source": [
    "from __future__ import annotations\n",
    "\n",
    "from typing import Any\n",
    "import traceback\n",
    "import jax\n",
    "import jax.numpy as jnp"
   ]
  },
  {
   "cell_type": "code",
   "execution_count": null,
   "metadata": {
    "id": "iEVWdHD8j0lA"
   },
   "outputs": [],
   "source": [
    "import penzai\n",
    "from penzai import pz"
   ]
  },
  {
   "cell_type": "markdown",
   "metadata": {
    "id": "OGzhV5uWvkvB"
   },
   "source": [
    "### Setting up Penzai"
   ]
  },
  {
   "cell_type": "markdown",
   "metadata": {
    "id": "TjGkV8F8vmpi"
   },
   "source": [
    "For this tutorial, we'll enable Treescope (Penzai's pretty-printer) as the default IPython pretty-printer. This is recommended when using Penzai in an interactive environment. Treescope also has special-purpose handlers that summarize effects to make it easier to understand how effectful models work."
   ]
  },
  {
   "cell_type": "code",
   "execution_count": null,
   "metadata": {
    "id": "YodWk_jmva_7"
   },
   "outputs": [],
   "source": [
    "pz.ts.register_as_default()\n",
    "pz.ts.register_autovisualize_magic()\n",
    "pz.ts.register_context_manager_magic()"
   ]
  },
  {
   "cell_type": "markdown",
   "metadata": {
    "id": "uoxVH8srvKEf"
   },
   "source": [
    "## Why Data Effects?"
   ]
  },
  {
   "cell_type": "markdown",
   "metadata": {
    "id": "lHgd_x1mv7Kr"
   },
   "source": [
    "Before explaining Penzai's data effect system in detail, we'll start with a motivating example problem, and show how the the data effects system emerges as a step-by-step solution to this problem. The goal is to explain the core principles behind the system in a form you could have implemented yourself.\n",
    "\n",
    "If you'd like to dive straight in to an explanation of the system as implemented in Penzai proper, feel free to skip to the next section."
   ]
  },
  {
   "cell_type": "markdown",
   "metadata": {
    "id": "DvLZkIor095_"
   },
   "source": [
    "Suppose we start with the following MLP:"
   ]
  },
  {
   "cell_type": "code",
   "execution_count": null,
   "metadata": {
    "id": "gAVbtHhgv1T7"
   },
   "outputs": [],
   "source": [
    "from penzai.example_models import simple_mlp\n",
    "\n",
    "mlp = pz.nn.initialize_parameters(\n",
    "    simple_mlp.MLP.from_config([64, 128, 128, 128, 64]),\n",
    "    jax.random.key(1)\n",
    ")\n",
    "mlp"
   ]
  },
  {
   "cell_type": "code",
   "execution_count": null,
   "metadata": {
    "id": "2OnAiQnM1vYv"
   },
   "outputs": [],
   "source": [
    "%%autovisualize\n",
    "example_input = pz.nx.wrap(\n",
    "    jnp.arange(64 * 4, dtype=jnp.float32).reshape(4, 64)\n",
    ").tag(\"batch\", \"features\")\n",
    "mlp(example_input)"
   ]
  },
  {
   "cell_type": "markdown",
   "metadata": {
    "id": "h7kqw-eu1q6r"
   },
   "source": [
    "Now further suppose that we want to extract the intermediate activations of this network. How could we do that?\n",
    "\n",
    "Luckily, Penzai is designed to make it easy to insert new logic into a network. We can easily print intermediate values, for example, by inserting new layers into the model:"
   ]
  },
  {
   "cell_type": "code",
   "execution_count": null,
   "metadata": {
    "id": "femxjgBI2PuZ"
   },
   "outputs": [],
   "source": [
    "@pz.pytree_dataclass\n",
    "class ShowMe(pz.Layer):\n",
    "  def __call__(self, x):\n",
    "    pz.show(\"Intermediate:\", x)\n",
    "    return x"
   ]
  },
  {
   "cell_type": "code",
   "execution_count": null,
   "metadata": {
    "id": "uKIPOreL2WvB"
   },
   "outputs": [],
   "source": [
    "patched_model = (\n",
    "    pz.select(mlp)\n",
    "    .at_instances_of(pz.nn.Elementwise)\n",
    "    .insert_after(ShowMe())\n",
    ")\n",
    "patched_model"
   ]
  },
  {
   "cell_type": "code",
   "execution_count": null,
   "metadata": {
    "id": "qJkQeHky2jPg"
   },
   "outputs": [],
   "source": [
    "%%autovisualize\n",
    "patched_model(example_input)"
   ]
  },
  {
   "cell_type": "markdown",
   "metadata": {
    "id": "vGGG3qos2wMs"
   },
   "source": [
    "But we want to actually *save* the values instead of just printing them out. A straightforward but somewhat fragile approach would be to add the values to some global list:"
   ]
  },
  {
   "cell_type": "code",
   "execution_count": null,
   "metadata": {
    "id": "0qxtsHof3YVp"
   },
   "outputs": [],
   "source": [
    "my_unsafe_mutable_accumulator = []\n",
    "\n",
    "@pz.pytree_dataclass\n",
    "class AddToMyUnsafeMutableAccumulator(pz.Layer):\n",
    "  def __call__(self, x):\n",
    "    my_unsafe_mutable_accumulator.append(x)\n",
    "    return x"
   ]
  },
  {
   "cell_type": "code",
   "execution_count": null,
   "metadata": {
    "id": "klxJqc8p3hK6"
   },
   "outputs": [],
   "source": [
    "unsafely_patched_model = (\n",
    "    pz.select(mlp)\n",
    "    .at_instances_of(pz.nn.Elementwise)\n",
    "    .insert_after(AddToMyUnsafeMutableAccumulator())\n",
    ")"
   ]
  },
  {
   "cell_type": "code",
   "execution_count": null,
   "metadata": {
    "id": "71EKl_pT3lyB"
   },
   "outputs": [],
   "source": [
    "%%autovisualize\n",
    "unsafely_patched_model(example_input)"
   ]
  },
  {
   "cell_type": "code",
   "execution_count": null,
   "metadata": {
    "id": "SwS5RX9f3n-x"
   },
   "outputs": [],
   "source": [
    "%%autovisualize\n",
    "my_unsafe_mutable_accumulator"
   ]
  },
  {
   "cell_type": "markdown",
   "metadata": {
    "id": "wi7vyu7M3pWh"
   },
   "source": [
    "We've suggestively used the name \"unsafe\" here because, while this technically works in this case if you're careful, it's usually not safe to do this kind of thing in JAX codebases. The reason is that JAX assumes that any function it is transforming has no side effects. If we try to run the model under JIT compilation, we'll end up accidentally putting JAX \"Tracers\" into our mutable array instead of actually extracting the intermediates.\n",
    "\n",
    "Another disadvantage to this design is that the `AddToMyUnsafeMutableAccumulator` is referencing a global mutable variable `my_unsafe_mutable_accumulator`. So if we want to compute multiple intermediate values, we'd have to clear this accumulator manually each time we wanted to use it.\n",
    "\n",
    "We can avoid both of these problems if we replace the global mutable variable with a *local* one, like this:"
   ]
  },
  {
   "cell_type": "code",
   "execution_count": null,
   "metadata": {
    "id": "oyFCLiAl42Yh"
   },
   "outputs": [],
   "source": [
    "def capture_intermediates_after_elementwise(model, example_input):\n",
    "  my_local_mutable_accumulator = []\n",
    "\n",
    "  # Locally-defined class!\n",
    "  @pz.pytree_dataclass\n",
    "  class AddToMyLocalMutableAccumulator(pz.Layer):\n",
    "    def __call__(self, x):\n",
    "      my_local_mutable_accumulator.append(x)\n",
    "      return x\n",
    "\n",
    "  locally_patched_model = (\n",
    "      pz.select(model)\n",
    "      .at_instances_of(pz.nn.Elementwise)\n",
    "      .insert_after(AddToMyLocalMutableAccumulator())\n",
    "  )\n",
    "  result = locally_patched_model(example_input)\n",
    "  return result, my_local_mutable_accumulator"
   ]
  },
  {
   "cell_type": "code",
   "execution_count": null,
   "metadata": {
    "id": "0MxqDBqz5pQ4"
   },
   "outputs": [],
   "source": [
    "%%autovisualize\n",
    "capture_intermediates_after_elementwise(mlp, example_input)"
   ]
  },
  {
   "cell_type": "markdown",
   "metadata": {
    "id": "bZ1BqkSr5xhT"
   },
   "source": [
    "This function takes a model and an example input, and runs the model while also saving its inputs into a local accumulator. It then returns the final output along with the list of all accumulated values.\n",
    "\n",
    "Since the accumulator is only used inside `capture_intermediates_after_elementwise`, and the function doesn't modify any external state, this function itself is pure from JAX's perspective. This means it's OK to JIT-compile it:"
   ]
  },
  {
   "cell_type": "code",
   "execution_count": null,
   "metadata": {
    "id": "AttIwrXh6E7o"
   },
   "outputs": [],
   "source": [
    "%%autovisualize\n",
    "jax.jit(capture_intermediates_after_elementwise)(mlp, example_input)"
   ]
  },
  {
   "cell_type": "markdown",
   "metadata": {
    "id": "3tZiZCKC6H5o"
   },
   "source": [
    "A disadvantage to this, however, is that it only supports collecting intermediate values in a very specific place: immediately after the `Elementwise` activation functions.\n",
    "\n",
    "To get around this, we could allow the user to specify where they want to collect intermediates themselves, without hard-coding it in this way. We could do this by using a special sentinel type that indicates where the append function is needed, and have the helper function \"inject\" the mutable destination for those values:"
   ]
  },
  {
   "cell_type": "code",
   "execution_count": null,
   "metadata": {
    "id": "TXq4Jv_t6xoj"
   },
   "outputs": [],
   "source": [
    "@pz.pytree_dataclass\n",
    "class ReplaceMeWithAnAppendFunction(pz.Struct):\n",
    "  def treescope_color(self):\n",
    "    return \"yellow\"\n",
    "\n",
    "@pz.pytree_dataclass\n",
    "class CollectIntermediatesHere(pz.Layer):\n",
    "  append_fn: ReplaceMeWithAnAppendFunction | None = ReplaceMeWithAnAppendFunction()\n",
    "  def __call__(self, x):\n",
    "    self.append_fn(x)\n",
    "    return x"
   ]
  },
  {
   "cell_type": "code",
   "execution_count": null,
   "metadata": {
    "id": "CD-2a7kq7Cy6"
   },
   "outputs": [],
   "source": [
    "def capture_intermediates_where_requested(model, example_input):\n",
    "  my_local_mutable_accumulator = []\n",
    "\n",
    "  def _append_fn(x):\n",
    "    my_local_mutable_accumulator.append(x)\n",
    "\n",
    "  locally_patched_model = (\n",
    "      pz.select(model)\n",
    "      .at_instances_of(ReplaceMeWithAnAppendFunction)\n",
    "      .set(_append_fn)\n",
    "  )\n",
    "  result = locally_patched_model(example_input)\n",
    "  return result, my_local_mutable_accumulator"
   ]
  },
  {
   "cell_type": "markdown",
   "metadata": {
    "id": "xVFaPqk47XjV"
   },
   "source": [
    "Now we can collect intermediates at different places:"
   ]
  },
  {
   "cell_type": "code",
   "execution_count": null,
   "metadata": {
    "id": "V7oAECR97aKL"
   },
   "outputs": [],
   "source": [
    "# Three intermediates, one after each Elementwise block:\n",
    "mlp_with_requests_1 = (\n",
    "    pz.select(mlp)\n",
    "    .at_instances_of(pz.nn.Elementwise)\n",
    "    .insert_after(CollectIntermediatesHere())\n",
    ")\n",
    "mlp_with_requests_1"
   ]
  },
  {
   "cell_type": "code",
   "execution_count": null,
   "metadata": {
    "id": "hAPlJIgEBP7m"
   },
   "outputs": [],
   "source": [
    "%%autovisualize\n",
    "capture_intermediates_where_requested(mlp_with_requests_1, example_input)"
   ]
  },
  {
   "cell_type": "code",
   "execution_count": null,
   "metadata": {
    "id": "hbFumAiU7um7"
   },
   "outputs": [],
   "source": [
    "%%autovisualize\n",
    "# Four intermediates, one after each Linear block:\n",
    "mlp_with_requests_2 = (\n",
    "    pz.select(mlp)\n",
    "    .at_instances_of(pz.nn.Linear)\n",
    "    .insert_after(CollectIntermediatesHere())\n",
    ")\n",
    "capture_intermediates_where_requested(mlp_with_requests_2, example_input)"
   ]
  },
  {
   "cell_type": "markdown",
   "metadata": {
    "id": "8rXihbqf8AEi"
   },
   "source": [
    "Unfortunately, we need to call the model using the special `capture_intermediates_where_requested` helper in order to get the intermediate values out, because otherwise we try to append to a destination that doesn't exist:"
   ]
  },
  {
   "cell_type": "code",
   "execution_count": null,
   "metadata": {
    "id": "M5ulT56G8QjM"
   },
   "outputs": [],
   "source": [
    "try:\n",
    "  mlp_with_requests_2(example_input)\n",
    "except Exception:\n",
    "  traceback.print_exc()"
   ]
  },
  {
   "cell_type": "markdown",
   "metadata": {
    "id": "pLMZGJWQ8Xlk"
   },
   "source": [
    "We could avoid this by making `capture_intermediates_where_requested` a type of `pz.Layer` instead of a standalone function:"
   ]
  },
  {
   "cell_type": "code",
   "execution_count": null,
   "metadata": {
    "id": "zlgZozhU8rF8"
   },
   "outputs": [],
   "source": [
    "@pz.pytree_dataclass\n",
    "class CaptureIntermediatesWhereRequested(pz.Layer):\n",
    "  body: pz.LayerLike\n",
    "\n",
    "  def __call__(self, x):\n",
    "    my_local_mutable_accumulator = []\n",
    "\n",
    "    def _append_fn(x):\n",
    "      my_local_mutable_accumulator.append(x)\n",
    "\n",
    "    locally_patched_body = (\n",
    "        pz.select(self.body)\n",
    "        .at_instances_of(ReplaceMeWithAnAppendFunction)\n",
    "        .set(_append_fn)\n",
    "    )\n",
    "    result = locally_patched_body(example_input)\n",
    "    return result, my_local_mutable_accumulator"
   ]
  },
  {
   "cell_type": "markdown",
   "metadata": {
    "id": "HESTOfPW831c"
   },
   "source": [
    "Then we can build a version of our model that also collects side outputs:"
   ]
  },
  {
   "cell_type": "code",
   "execution_count": null,
   "metadata": {
    "id": "GQK-BF7f83U0"
   },
   "outputs": [],
   "source": [
    "model_with_intermediates = CaptureIntermediatesWhereRequested(\n",
    "    body=(\n",
    "        pz.select(mlp)\n",
    "        .at_instances_of(pz.nn.Elementwise)\n",
    "        .insert_after(CollectIntermediatesHere())\n",
    "    )\n",
    ")\n",
    "model_with_intermediates"
   ]
  },
  {
   "cell_type": "markdown",
   "metadata": {
    "id": "QKqpJYgz9LFZ"
   },
   "source": [
    "And we can call it directly, just like we called our original model:"
   ]
  },
  {
   "cell_type": "code",
   "execution_count": null,
   "metadata": {
    "id": "24YIu3vN9Nt6"
   },
   "outputs": [],
   "source": [
    "model_with_intermediates(example_input)"
   ]
  },
  {
   "cell_type": "markdown",
   "metadata": {
    "id": "I32Q5ToW9SE0"
   },
   "source": [
    "This is the essence of the data effects system:\n",
    "- We can identify where a side effect should happen by inserting some node into the model tree with a special type (`ReplaceMeWithAnAppendFunction`).\n",
    "- We can then wrap the model tree in a wrapper object (`CaptureIntermediatesWhereRequested`) that handles the effect by\n",
    "  - creating its own temporary local mutable Python variables,\n",
    "  - substituting them into the model,\n",
    "  - running the model,\n",
    "  - and then putting together a pure result.\n",
    "\n",
    "This means the wrapper object looks just like an ordinary Penzai model to JAX, since it has a normal PyTree structure, and produces a pure functional output without accessing global state.\n",
    "\n",
    "Next, we'll describe the full data effects system, which abstracts this approach into a more general pattern, and imposes a few more rules to make it easier to understand in the presence of multiple effects."
   ]
  },
  {
   "cell_type": "markdown",
   "metadata": {
    "id": "ljzXj1Kzw6D2"
   },
   "source": [
    "## How are Data Effects Defined?"
   ]
  },
  {
   "cell_type": "markdown",
   "metadata": {
    "id": "VU-Qwp6uxCVi"
   },
   "source": [
    "This section explains the core building blocks of the data effects system, and the different types that you'll need to think about when using it. In short:\n",
    "\n",
    "- Each effect is associated with an *effect protocol* that determines what functions that effect provides.\n",
    "- To request that an effect be performed in a given layer, you can add *effect requests* to their model tree.\n",
    "- To handle those requests, you can wrap your entire model tree with an *effect handler*, which will replace those effect requests with *effect references* that are tagged as belonging to this handler.\n",
    "- You can then call the effect handler like an ordinary Penzai layer. When it runs, it will inject *effect implementations* into the model, which are temporary mutable objects that allow the effectful layers to communicate with the handler. You usually don't have to worry about this unless you are implementing your own handler or working on the Penzai core systems.\n",
    "\n",
    "The data effect system is defined in `penzai.data_effects`, and the builtin effect types are aliased to `pz.de` for easier use."
   ]
  },
  {
   "cell_type": "markdown",
   "metadata": {
    "id": "OGVzmdo-_Uwp"
   },
   "source": [
    "### Effect Protocols"
   ]
  },
  {
   "cell_type": "markdown",
   "metadata": {
    "id": "G89_1HjqHWqI"
   },
   "source": [
    "Effect protocols define the interface that each effect supports. These are ordinary Python protocols and are primarily used for type annotations and Python typechecking.\n",
    "\n",
    "For instance, the protocol for the randomness effect is\n",
    "\n",
    "```python\n",
    "class RandomEffect(Protocol):\n",
    "  \"\"\"Protocol for the random number generation effect.\"\"\"\n",
    "  def next_key(self) -> jax.Array:\n",
    "    \"\"\"Returns a new random key.\"\"\"\n",
    "```\n",
    "and the protocol for the state effect is\n",
    "```python\n",
    "class LocalStateEffect(Protocol[_T]):\n",
    "  \"\"\"Protocol for a local state effect.\"\"\"\n",
    "  def get(self) -> _T:\n",
    "    \"\"\"Gets the current state of the local variable.\"\"\"\n",
    "\n",
    "  def set(self, value: _T):\n",
    "    \"\"\"Sets the current state of the local variable.\"\"\"\n",
    "```\n",
    "\n",
    "If you want to use an effect in a layer, you should define one of its attributes to have the appropriate effect protocol as its type annotation. For instance, a dropout layer can be defined in terms of the random effect by storing an attribute of type `RandomEffect`. Then, in `__call__`, you can call methods on that attribute according to the protocol."
   ]
  },
  {
   "cell_type": "code",
   "execution_count": null,
   "metadata": {
    "id": "aaWsCa_Fw-2d"
   },
   "outputs": [],
   "source": [
    "@pz.pytree_dataclass\n",
    "class SimpleStochasticDropoutV1(pz.Layer):\n",
    "  drop_rate: float\n",
    "  rng: pz.de.RandomEffect\n",
    "\n",
    "  def __call__(self, x: pz.nx.NamedArray) -> pz.nx.NamedArray:\n",
    "    # Get a key.\n",
    "    key = self.rng.next_key()\n",
    "    # Use it to perform the layer logic.\n",
    "    mask = pz.nx.nmap(jax.random.bernoulli)(\n",
    "        pz.nx.random_split(key, x.named_shape),\n",
    "        p=self.drop_rate\n",
    "    )\n",
    "    return pz.nx.nmap(jnp.where)(mask, 0.0, x/(1 - self.drop_rate))"
   ]
  },
  {
   "cell_type": "markdown",
   "metadata": {
    "id": "qwO0oxdx_YPo"
   },
   "source": [
    "### Effect Requests"
   ]
  },
  {
   "cell_type": "markdown",
   "metadata": {
    "id": "eAayEJcdJJEw"
   },
   "source": [
    "To identify a location where you want an effect to occur, you can add an *effect request* node to your model tree. Effect requests are temporary markers that will eventually be replaced with concrete implementations of the effect.\n",
    "\n",
    "Every effect request is a subclass of `pz.de.EffectRequest`, which is used to track whether or not effects have been handled, and also allows you to identify the effect protocol for each request:"
   ]
  },
  {
   "cell_type": "code",
   "execution_count": null,
   "metadata": {
    "id": "Sq_QJfIo4ohV"
   },
   "outputs": [],
   "source": [
    "pz.de.RandomRequest()"
   ]
  },
  {
   "cell_type": "code",
   "execution_count": null,
   "metadata": {
    "id": "U-yZv0qy42AB"
   },
   "outputs": [],
   "source": [
    "pz.de.RandomRequest().effect_protocol()"
   ]
  },
  {
   "cell_type": "markdown",
   "metadata": {
    "id": "pLNdn_cX4pCi"
   },
   "source": [
    "You will usually add effect requests at the time where you build the model. For instance, you could build one of our dropout layers using an effect request:"
   ]
  },
  {
   "cell_type": "code",
   "execution_count": null,
   "metadata": {
    "id": "gRA-A1kV_YPo"
   },
   "outputs": [],
   "source": [
    "SimpleStochasticDropoutV1(drop_rate=0.1, rng=pz.de.RandomRequest())"
   ]
  },
  {
   "cell_type": "markdown",
   "metadata": {
    "id": "mY1t0aaO5p72"
   },
   "source": [
    "Best practice: It is often useful to either configure the effect request as a default value for the attribute, or provide a class method that configures the effect request. For instance, you can do something like this:"
   ]
  },
  {
   "cell_type": "code",
   "execution_count": null,
   "metadata": {
    "id": "w-d6KPKd5oMW"
   },
   "outputs": [],
   "source": [
    "@pz.pytree_dataclass\n",
    "class SimpleStochasticDropoutV2(pz.Layer):\n",
    "  drop_rate: float\n",
    "  rng: pz.de.RandomEffect\n",
    "\n",
    "  def __call__(self, x: pz.nx.NamedArray) -> pz.nx.NamedArray:\n",
    "    key = self.rng.next_key()\n",
    "    mask = pz.nx.nmap(jax.random.bernoulli)(\n",
    "        pz.nx.random_split(key, x.named_shape),\n",
    "        p=self.drop_rate\n",
    "    )\n",
    "    return pz.nx.nmap(jnp.where)(mask, 0.0, x/(1 - self.drop_rate))\n",
    "\n",
    "  @classmethod\n",
    "  def from_config(cls, drop_rate: float):\n",
    "    return cls(drop_rate=drop_rate, rng=pz.de.RandomRequest())"
   ]
  },
  {
   "cell_type": "markdown",
   "metadata": {
    "id": "mib_ZqP36KMI"
   },
   "source": [
    "This makes it easy to construct instances of your effectful layer while building a larger model:"
   ]
  },
  {
   "cell_type": "code",
   "execution_count": null,
   "metadata": {
    "id": "a14dRgD16FKv"
   },
   "outputs": [],
   "source": [
    "layer = SimpleStochasticDropoutV2.from_config(drop_rate=0.1)\n",
    "layer"
   ]
  },
  {
   "cell_type": "markdown",
   "metadata": {
    "id": "L9zAYiMW6VxX"
   },
   "source": [
    "Since a random request doesn't actually include an implementation of the effect, you can't call the model while it has unhandled effects:"
   ]
  },
  {
   "cell_type": "code",
   "execution_count": null,
   "metadata": {
    "id": "0305DCay6c8T"
   },
   "outputs": [],
   "source": [
    "try:\n",
    "  layer(pz.nx.ones({\"features\": 8}))\n",
    "except Exception:\n",
    "  traceback.print_exc()"
   ]
  },
  {
   "cell_type": "markdown",
   "metadata": {
    "id": "XhKuj45E6cx1"
   },
   "source": [
    "Before you can actually run the effect, you need to handle these requests using a handler."
   ]
  },
  {
   "cell_type": "markdown",
   "metadata": {
    "id": "idEMr61-_a6F"
   },
   "source": [
    "### Effect Handlers and Effect References"
   ]
  },
  {
   "cell_type": "markdown",
   "metadata": {
    "id": "Wmq4JXLN7hoG"
   },
   "source": [
    "Effect handlers are wrapper layers that take ownership of the effect references in your model, and are responsible for providing concrete implementations of those effects.\n",
    "\n",
    "Each effect handler is a subclass of `pz.de.EffectHandler`, and must define two attributes: a `handler_id` which uniquely identifies the handler, and a `body` which contains the rest of your model.\n",
    "\n",
    "You usually won't need to provide a handler ID yourself, since it is inferred for you based on the structure of your model when you build the handler. Most handlers provide a builder classmethod for this purpose:"
   ]
  },
  {
   "cell_type": "code",
   "execution_count": null,
   "metadata": {
    "id": "Zg67pCAQ_a6G"
   },
   "outputs": [],
   "source": [
    "effectful_model = pz.nn.initialize_parameters(\n",
    "    pz.nn.Sequential([\n",
    "        pz.nn.add_parameter_prefix(\n",
    "            \"Linear_0\",\n",
    "            pz.nn.Linear.from_config(\n",
    "                input_axes={\"features\": 8}, output_axes={\"features\": 8}\n",
    "            ),\n",
    "        ),\n",
    "        pz.nn.Elementwise(jax.nn.relu),\n",
    "        SimpleStochasticDropoutV2.from_config(drop_rate=0.1),\n",
    "        pz.nn.add_parameter_prefix(\n",
    "            \"Linear_1\",\n",
    "            pz.nn.Linear.from_config(\n",
    "                input_axes={\"features\": 8}, output_axes={\"features\": 8}\n",
    "            ),\n",
    "        ),\n",
    "        pz.nn.Elementwise(jax.nn.relu),\n",
    "        SimpleStochasticDropoutV2.from_config(drop_rate=0.1),\n",
    "        pz.nn.add_parameter_prefix(\n",
    "            \"Linear_2\",\n",
    "            pz.nn.Linear.from_config(\n",
    "                input_axes={\"features\": 8}, output_axes={\"features\": 8}\n",
    "            ),\n",
    "        ),\n",
    "    ]),\n",
    "    jax.random.key(42),\n",
    ")\n",
    "\n",
    "handled_model = pz.de.WithRandomKeyFromArg.handling(effectful_model)"
   ]
  },
  {
   "cell_type": "markdown",
   "metadata": {
    "id": "ttfvDPpO8Y5U"
   },
   "source": [
    "When a handler is built, it finds all of the requests it can handle and swaps them out for \"effect references\". These are like effect requests, but they identify the handler that is responsible for handling them. You can see them in the model tree (in this case as `HandledRandomRef` nodes), and Treescope links them back to the handler with the same ID:"
   ]
  },
  {
   "cell_type": "code",
   "execution_count": null,
   "metadata": {
    "id": "bNynnDnh840Z"
   },
   "outputs": [],
   "source": [
    "handled_model"
   ]
  },
  {
   "cell_type": "markdown",
   "metadata": {
    "id": "hfMiUSwP9FxC"
   },
   "source": [
    "Effect references are subclasses of `pz.de.HandledEffectRef`. Each effect reference knows its own handler ID, and also defines an `effect_protocol` method to identify what effect it is supposed to provide."
   ]
  },
  {
   "cell_type": "markdown",
   "metadata": {
    "id": "vXTtHroV_a9R"
   },
   "source": [
    "### Effect Implementations"
   ]
  },
  {
   "cell_type": "markdown",
   "metadata": {
    "id": "Q7_FdLVs---V"
   },
   "source": [
    "Effect handlers can be called like ordinary layers, and behave like pure functions without any external side effects. Depending on the handler, the structure of the input or output may need to be modified. In this case, the `WithRandomKeyFromArg` handler expects to be called with a tuple of two values, the first being the input to the model, and the second being a random key."
   ]
  },
  {
   "cell_type": "code",
   "execution_count": null,
   "metadata": {
    "id": "1N_BRhZP_a9S"
   },
   "outputs": [],
   "source": [
    "handled_model((pz.nx.ones({\"features\": 8}), jax.random.key(1)))"
   ]
  },
  {
   "cell_type": "markdown",
   "metadata": {
    "id": "lFj-i6ee_1Yu"
   },
   "source": [
    "Handlers still expect to be called with a single input argument, rather than multiple arguments, so that they compose with each other and with other Penzai wrappers. For instance, you can easily jit-compile the model:"
   ]
  },
  {
   "cell_type": "code",
   "execution_count": null,
   "metadata": {
    "id": "LEN44r96AG3X"
   },
   "outputs": [],
   "source": [
    "from penzai.toolshed import jit_wrapper\n",
    "\n",
    "jitted_handled_model = jit_wrapper.Jitted(handled_model)\n",
    "jitted_handled_model"
   ]
  },
  {
   "cell_type": "code",
   "execution_count": null,
   "metadata": {
    "id": "QMlsBCISAMjP"
   },
   "outputs": [],
   "source": [
    "jitted_handled_model((pz.nx.ones({\"features\": 8}), jax.random.key(1)))"
   ]
  },
  {
   "cell_type": "markdown",
   "metadata": {
    "id": "Iv4qQMLFAWj6"
   },
   "source": [
    "Internally, when called, effect handlers are responsible for substituting all of the effect requests they own for effect implementations. Effect implementations are always subclasses of `pz.de.EffectRuntimeImpl`, and they are NOT usually JAX PyTree nodes. This is because they usually either have mutable attributes or include references to some external state that isn't safe to manipulate across JAX transformation boundaries.\n",
    "\n",
    "You shouldn't need to think about effect implementations unless you are implementing an effect or higher-order model wrapper. But if you do run across them, they can usually be inspected and manipulated using ordinary Penzai tooling.\n",
    "\n",
    "Here's a contrived layer wrapper that lets you see this process in action:"
   ]
  },
  {
   "cell_type": "code",
   "execution_count": null,
   "metadata": {
    "id": "EuQVtNIlBTwN"
   },
   "outputs": [],
   "source": [
    "@pz.pytree_dataclass\n",
    "class DebugShowModelStructure(pz.Layer):\n",
    "  body: pz.LayerLike\n",
    "  def __call__(self, x):\n",
    "    pz.show(\"Model structure when called:\", self.body)\n",
    "    return self.body(x)"
   ]
  },
  {
   "cell_type": "code",
   "execution_count": null,
   "metadata": {
    "id": "zlXFseB7BlY7"
   },
   "outputs": [],
   "source": [
    "debug_jitted_handled_model = (\n",
    "    pz.select(jitted_handled_model)\n",
    "    .at(lambda root: root.body.body)\n",
    "    .apply(lambda body: DebugShowModelStructure(body))\n",
    ")\n",
    "debug_jitted_handled_model"
   ]
  },
  {
   "cell_type": "code",
   "execution_count": null,
   "metadata": {
    "id": "OQshz6rBB3Lz"
   },
   "outputs": [],
   "source": [
    "debug_jitted_handled_model((pz.nx.ones({\"features\": 8}), jax.random.key(1)))"
   ]
  },
  {
   "cell_type": "markdown",
   "metadata": {
    "id": "zC1r5Ur_B7OI"
   },
   "source": [
    "If you look at the `SimpleStochasticDropoutV2` blocks above, you'll see that they contain temporary `RandomEffectImpl` objects in place of the `HandledRandomRef` references. These implementations hold onto a \"RandomStream\" object, which is a mutable helper class that generates random numbers one at a time."
   ]
  },
  {
   "cell_type": "markdown",
   "metadata": {
    "id": "xps_Cha7xL3z"
   },
   "source": [
    "## Built-in Effects"
   ]
  },
  {
   "cell_type": "markdown",
   "metadata": {
    "id": "7xdgokaDxS4k"
   },
   "source": [
    "Penzai includes four basic effects: side inputs, side outputs, random streams, and local state. This section gives a brief overview of each of these effects."
   ]
  },
  {
   "cell_type": "markdown",
   "metadata": {
    "id": "cwcV717rL2mw"
   },
   "source": [
    "### Side Inputs"
   ]
  },
  {
   "cell_type": "markdown",
   "metadata": {
    "id": "e3JJ3xRVPyEO"
   },
   "source": [
    "Side inputs allow you to pass inputs into layers that need them without disrupting the ordinary data flow. This is useful for providing information like attention masks or token positions, which are only required by specific types of layer.\n",
    "\n",
    "The side input protocol defines a single method `ask`:\n",
    "\n",
    "```python\n",
    "class SideInputEffect(Protocol[_T]):\n",
    "  \"\"\"Protocol for a side input effect.\"\"\"\n",
    "\n",
    "  def ask(self) -> _T:\n",
    "    \"\"\"Retrieves the value for the side input.\"\"\"\n",
    "```"
   ]
  },
  {
   "cell_type": "markdown",
   "metadata": {
    "id": "rl1-sLKFQ7za"
   },
   "source": [
    "Side input requests are associated with a \"tag\" that identifies what value should be provided:"
   ]
  },
  {
   "cell_type": "code",
   "execution_count": null,
   "metadata": {
    "id": "qiUD0cauxSke"
   },
   "outputs": [],
   "source": [
    "pz.nn.ApplyAttentionMask.from_config(mask_tag=\"attn_mask\")"
   ]
  },
  {
   "cell_type": "markdown",
   "metadata": {
    "id": "a2biVh-HQWOY"
   },
   "source": [
    "You can handle `SideInputEffect` using `WithSideInputsFromInputTuple`, which redirects ordinary inputs into side inputs:"
   ]
  },
  {
   "cell_type": "code",
   "execution_count": null,
   "metadata": {
    "id": "zj1oaX5RQiIY"
   },
   "outputs": [],
   "source": [
    "pz.de.WithSideInputsFromInputTuple.handling(pz.nn.Sequential([\n",
    "    pz.nn.ApplyAttentionMask.from_config(mask_tag=\"attn_mask\"),\n",
    "    # in a real network you'd have more logic here\n",
    "    pz.nn.ApplyAttentionMask.from_config(mask_tag=\"attn_mask\"),\n",
    "]), tags=[\"attn_mask\"])"
   ]
  },
  {
   "cell_type": "markdown",
   "metadata": {
    "id": "DdDSWI8uQu7Q"
   },
   "source": [
    "This can also be used to provide multiple side inputs at once:"
   ]
  },
  {
   "cell_type": "code",
   "execution_count": null,
   "metadata": {
    "id": "4nh6jffhQxt_"
   },
   "outputs": [],
   "source": [
    "@pz.pytree_dataclass\n",
    "class MyLayerWithSideInputs(pz.Layer):\n",
    "  side_arg: pz.de.SideInputEffect[Any]\n",
    "  def __call__(self, x):\n",
    "    print(\"Got side input:\", repr(self.side_arg.ask()))\n",
    "    return (x, self.side_arg.ask())"
   ]
  },
  {
   "cell_type": "code",
   "execution_count": null,
   "metadata": {
    "id": "lxn9QfO_RPN8"
   },
   "outputs": [],
   "source": [
    "unhandled_example = pz.nn.Sequential([\n",
    "    MyLayerWithSideInputs(pz.de.SideInputRequest(\"foo\")),\n",
    "    MyLayerWithSideInputs(pz.de.SideInputRequest(\"bar\")),\n",
    "    MyLayerWithSideInputs(pz.de.SideInputRequest(\"foo\")),\n",
    "])\n",
    "unhandled_example"
   ]
  },
  {
   "cell_type": "code",
   "execution_count": null,
   "metadata": {
    "id": "e13Lm3nFRa8a"
   },
   "outputs": [],
   "source": [
    "handled_example = pz.de.WithSideInputsFromInputTuple.handling(\n",
    "    unhandled_example, tags=[\"foo\", \"bar\"]\n",
    ")\n",
    "handled_example"
   ]
  },
  {
   "cell_type": "code",
   "execution_count": null,
   "metadata": {
    "id": "MOgkSRBnRg6_"
   },
   "outputs": [],
   "source": [
    "handled_example((\"main input\", \"value for foo\", \"value for bar\"))"
   ]
  },
  {
   "cell_type": "markdown",
   "metadata": {
    "id": "mMm3-mVgRquw"
   },
   "source": [
    "You can also provide a constant value for side inputs:"
   ]
  },
  {
   "cell_type": "code",
   "execution_count": null,
   "metadata": {
    "id": "KymRp6_CRt8d"
   },
   "outputs": [],
   "source": [
    "handled_example_2 = pz.de.WithConstantSideInputs.handling(\n",
    "    unhandled_example, {\"foo\": \"value for foo\", \"bar\": \"value for bar\"}\n",
    ")\n",
    "handled_example_2"
   ]
  },
  {
   "cell_type": "code",
   "execution_count": null,
   "metadata": {
    "id": "Mr4MzfHzR0Sx"
   },
   "outputs": [],
   "source": [
    "handled_example_2(\"main input\")"
   ]
  },
  {
   "cell_type": "markdown",
   "metadata": {
    "id": "URIsTDjqL4dR"
   },
   "source": [
    "### Side Outputs"
   ]
  },
  {
   "cell_type": "markdown",
   "metadata": {
    "id": "a0zpguFrR7gS"
   },
   "source": [
    "Side outputs allow you to produce outputs while your model runs, without threading them through the rest of the layers. This can be useful for collecting intermediate activations or auxiliary losses.\n",
    "\n",
    "The side output protocol defines a method `tell`:\n",
    "\n",
    "```python\n",
    "class SideOutputEffect(Protocol[_T]):\n",
    "  \"\"\"Protocol for a side output effect.\"\"\"\n",
    "\n",
    "  def tell(self, value: _T, /):\n",
    "    \"\"\"Writes a value to the side output.\"\"\"\n",
    "```"
   ]
  },
  {
   "cell_type": "markdown",
   "metadata": {
    "id": "GXcr04qbSSw8"
   },
   "source": [
    "Side outputs are associated with a tag that identifies what type of side output they are."
   ]
  },
  {
   "cell_type": "code",
   "execution_count": null,
   "metadata": {
    "id": "CBeTE3gESdXy"
   },
   "outputs": [],
   "source": [
    "mlp_with_side_outputs = (\n",
    "    pz.select(mlp)\n",
    "    .at_instances_of(pz.nn.Elementwise)\n",
    "    .insert_after(pz.de.TellIntermediate.from_config(tag=\"intermediate\"))\n",
    ")\n",
    "mlp_with_side_outputs"
   ]
  },
  {
   "cell_type": "markdown",
   "metadata": {
    "id": "0HkHx97zSsEa"
   },
   "source": [
    "For convenience, `SideOutputRequest` implements the `tell` method as a no-op, so if you don't care about the side outputs, you can still call your model."
   ]
  },
  {
   "cell_type": "code",
   "execution_count": null,
   "metadata": {
    "id": "GKbgFd13SzT1"
   },
   "outputs": [],
   "source": [
    "mlp_with_side_outputs(pz.nx.ones({\"features\": 64}))"
   ]
  },
  {
   "cell_type": "markdown",
   "metadata": {
    "id": "NWvWktmXS62X"
   },
   "source": [
    "To handle side outputs, you wrap it with a `CollectingSideOutputs` handler:"
   ]
  },
  {
   "cell_type": "code",
   "execution_count": null,
   "metadata": {
    "id": "tHWlJzNwTA9N"
   },
   "outputs": [],
   "source": [
    "mlp_with_side_outputs_handled = pz.de.CollectingSideOutputs.handling(\n",
    "    mlp_with_side_outputs,\n",
    "    tag=\"intermediate\",  # <- Optional; if omitted, collects outputs for all tags\n",
    ")\n",
    "mlp_with_side_outputs_handled"
   ]
  },
  {
   "cell_type": "markdown",
   "metadata": {
    "id": "MnwUfRJaVc28"
   },
   "source": [
    "Calling it produces a list of side outputs along with the ordinary outputs, and those side outputs also remember their original tag and location within the PyTree. This can be used to match up the side outputs with the part of the model that produced them."
   ]
  },
  {
   "cell_type": "code",
   "execution_count": null,
   "metadata": {
    "id": "_ThKeX8aT2f5"
   },
   "outputs": [],
   "source": [
    "mlp_with_side_outputs_handled(pz.nx.ones({\"features\": 64}))"
   ]
  },
  {
   "cell_type": "markdown",
   "metadata": {
    "id": "PwaoslBGL4ms"
   },
   "source": [
    "### Randomness"
   ]
  },
  {
   "cell_type": "markdown",
   "metadata": {
    "id": "4heO8_qSWyfb"
   },
   "source": [
    "Layers that need random numbers can do so by inserting a random effect, defined by the protocol\n",
    "\n",
    "```python\n",
    "class RandomEffect(Protocol):\n",
    "  \"\"\"Protocol for the random number generation effect.\"\"\"\n",
    "\n",
    "  def next_key(self) -> jax.Array:\n",
    "    \"\"\"Returns a new random key.\"\"\"\n",
    "```\n",
    "\n",
    "We've seen an example of this in the previous section:"
   ]
  },
  {
   "cell_type": "code",
   "execution_count": null,
   "metadata": {
    "id": "37J09FmAL4ms"
   },
   "outputs": [],
   "source": [
    "effectful_model"
   ]
  },
  {
   "cell_type": "markdown",
   "metadata": {
    "id": "961cOw5mXCBq"
   },
   "source": [
    "Random number effects are usually handled using `WithRandomKeyFromArg`:"
   ]
  },
  {
   "cell_type": "code",
   "execution_count": null,
   "metadata": {
    "id": "-gl1sIJRXBvH"
   },
   "outputs": [],
   "source": [
    "handled_model = pz.de.WithRandomKeyFromArg.handling(effectful_model)\n",
    "handled_model"
   ]
  },
  {
   "cell_type": "code",
   "execution_count": null,
   "metadata": {
    "id": "d4OJE-URXZus"
   },
   "outputs": [],
   "source": [
    "handled_model((pz.nx.ones({\"features\": 8}), jax.random.key(1)))"
   ]
  },
  {
   "cell_type": "markdown",
   "metadata": {
    "id": "Dy4qCGexXaOZ"
   },
   "source": [
    "Alternatively, you can freeze the random state to a specific value to get a deterministic model:"
   ]
  },
  {
   "cell_type": "code",
   "execution_count": null,
   "metadata": {
    "id": "eHNIVHgMXetF"
   },
   "outputs": [],
   "source": [
    "handled_model_frozen = pz.de.WithFrozenRandomState.handling(effectful_model, jax.random.key(1))\n",
    "handled_model_frozen"
   ]
  },
  {
   "cell_type": "code",
   "execution_count": null,
   "metadata": {
    "id": "CwBRkAIwXiWX"
   },
   "outputs": [],
   "source": [
    "handled_model_frozen(pz.nx.ones({\"features\": 8}))"
   ]
  },
  {
   "cell_type": "markdown",
   "metadata": {
    "id": "rP9ihtvUL4s1"
   },
   "source": [
    "### Local State"
   ]
  },
  {
   "cell_type": "markdown",
   "metadata": {
    "id": "ZraERDcOo8Lw"
   },
   "source": [
    "Finally, Penzai includes a local state handler that allows your model to hold onto and update \"state variables\" in a functional way. The local state effect is defined as\n",
    "\n",
    "```python\n",
    "class LocalStateEffect(Protocol[_T]):\n",
    "  \"\"\"Protocol for a local state effect.\"\"\"\n",
    "\n",
    "  def get(self) -> _T:\n",
    "    \"\"\"Gets the current state of the local variable.\"\"\"\n",
    "\n",
    "  def set(self, value: _T):\n",
    "    \"\"\"Sets the current state of the local variable.\"\"\"\n",
    "```"
   ]
  },
  {
   "cell_type": "markdown",
   "metadata": {
    "id": "q3o8gxubrRUy"
   },
   "source": [
    "There are three different request types for a local state effect. Usually, you will use `InitialLocalStateRequest` when building a stateful model, which requires you to specify a state initializer function:"
   ]
  },
  {
   "cell_type": "code",
   "execution_count": null,
   "metadata": {
    "id": "q2wpEDSUL4s2"
   },
   "outputs": [],
   "source": [
    "pz.de.InitialLocalStateRequest(\n",
    "    state_initializer=lambda: pz.nx.zeros({\"foo\": 10, \"bar\": 10}),\n",
    "    category=\"example_state\"\n",
    ")"
   ]
  },
  {
   "cell_type": "markdown",
   "metadata": {
    "id": "GFzPfol4rWdX"
   },
   "source": [
    "For instance, you might configure a stateful layer like this:"
   ]
  },
  {
   "cell_type": "code",
   "execution_count": null,
   "metadata": {
    "id": "5DnCKmbWqPTc"
   },
   "outputs": [],
   "source": [
    "@pz.pytree_dataclass\n",
    "class ExampleLayerWithAState(pz.Layer):\n",
    "  accumulator: pz.de.LocalStateEffect\n",
    "\n",
    "  def __call__(self, x):\n",
    "    self.accumulator.set(self.accumulator.get() + x)\n",
    "    return x\n",
    "\n",
    "  @classmethod\n",
    "  def from_config(cls, category=\"example_state\"):\n",
    "    return cls(accumulator=pz.de.InitialLocalStateRequest(\n",
    "        state_initializer=lambda: 0.0,\n",
    "        category=category,\n",
    "    ))"
   ]
  },
  {
   "cell_type": "code",
   "execution_count": null,
   "metadata": {
    "id": "qMWJEsFQrisW"
   },
   "outputs": [],
   "source": [
    "ExampleLayerWithAState.from_config(\"example_state\")"
   ]
  },
  {
   "cell_type": "markdown",
   "metadata": {
    "id": "p0-g12GnpmLg"
   },
   "source": [
    "You can also use `FrozenLocalStateRequest`, which requires an actual value for the state. This can be built directly, but it's also produced by helper functions that re-insert the states into your model (discussed later)."
   ]
  },
  {
   "cell_type": "code",
   "execution_count": null,
   "metadata": {
    "id": "ufPD3cS9p42k"
   },
   "outputs": [],
   "source": [
    "pz.de.FrozenLocalStateRequest(\n",
    "    state=pz.nx.zeros({\"foo\": 10, \"bar\": 10}),\n",
    "    category=\"example_state\"\n",
    ")"
   ]
  },
  {
   "cell_type": "markdown",
   "metadata": {
    "id": "H3EoL0xJp9Zb"
   },
   "source": [
    "Finally, if you want multiple state variables to have the same value, you can use `SharedLocalStateRequest`. This requires you to specify the same name for the requests. (Names are otherwise optional.)"
   ]
  },
  {
   "cell_type": "code",
   "execution_count": null,
   "metadata": {
    "id": "6HAAEfeBqc4V"
   },
   "outputs": [],
   "source": [
    "my_shared_state_model = pz.nn.Sequential([\n",
    "    ExampleLayerWithAState(accumulator=pz.de.InitialLocalStateRequest(\n",
    "        state_initializer=lambda: 0.0,\n",
    "        category=\"example_state\",\n",
    "        name=\"shared\",\n",
    "    )),\n",
    "    ExampleLayerWithAState(accumulator=pz.de.InitialLocalStateRequest(\n",
    "        state_initializer=lambda: 0.0,\n",
    "        category=\"example_state\",\n",
    "    )),\n",
    "    # Shared with the *first* state variable above:\n",
    "    ExampleLayerWithAState(accumulator=pz.de.SharedLocalStateRequest(\n",
    "        name=\"shared\",\n",
    "        category=\"example_state\",\n",
    "    )),\n",
    "])\n",
    "my_shared_state_model"
   ]
  },
  {
   "cell_type": "markdown",
   "metadata": {
    "id": "IIqZW8sYqs5z"
   },
   "source": [
    "To handle the state effect, you can use the function `pz.de.handle_local_states`. This unzips your model's state requests and returns two things: a handler for your state variables, and an initial state dict:"
   ]
  },
  {
   "cell_type": "code",
   "execution_count": null,
   "metadata": {
    "id": "YrceU1qbrr_R"
   },
   "outputs": [],
   "source": [
    "my_test_model = pz.nn.Sequential([\n",
    "    ExampleLayerWithAState.from_config(\"example_state\"),\n",
    "    pz.nn.ConstantRescale(by=2.0),\n",
    "    ExampleLayerWithAState.from_config(\"example_state\"),\n",
    "])\n",
    "handled_model, initial_state_dict = pz.de.handle_local_states(my_test_model, category=\"example_state\")"
   ]
  },
  {
   "cell_type": "code",
   "execution_count": null,
   "metadata": {
    "id": "cjSCjKFAr1ZG"
   },
   "outputs": [],
   "source": [
    "handled_model"
   ]
  },
  {
   "cell_type": "code",
   "execution_count": null,
   "metadata": {
    "id": "fVwosGgSr2Mj"
   },
   "outputs": [],
   "source": [
    "initial_state_dict"
   ]
  },
  {
   "cell_type": "markdown",
   "metadata": {
    "id": "Cm9GCXGFsCnm"
   },
   "source": [
    "You can then call the handled model with its input and state dict to get outputs and an updated state dict:"
   ]
  },
  {
   "cell_type": "code",
   "execution_count": null,
   "metadata": {
    "id": "hX8y_W32sG7z"
   },
   "outputs": [],
   "source": [
    "output, new_state_dict = handled_model((10.0, initial_state_dict))\n",
    "output, new_state_dict"
   ]
  },
  {
   "cell_type": "markdown",
   "metadata": {
    "id": "tbebeqd_r3jN"
   },
   "source": [
    "If you have shared state variables, you need to opt-in to state sharing. This is to prevent sharing state variables by accident."
   ]
  },
  {
   "cell_type": "code",
   "execution_count": null,
   "metadata": {
    "id": "M0ImD35Kq391"
   },
   "outputs": [],
   "source": [
    "shared_handled, shared_initial_state = pz.de.handle_local_states(\n",
    "    my_shared_state_model, category=\"example_state\", state_sharing=\"allowed\"\n",
    ")\n",
    "shared_handled, shared_initial_state"
   ]
  },
  {
   "cell_type": "code",
   "execution_count": null,
   "metadata": {
    "id": "uXEdAqlOsV-5"
   },
   "outputs": [],
   "source": [
    "shared_handled((10.0, shared_initial_state))"
   ]
  },
  {
   "cell_type": "markdown",
   "metadata": {
    "id": "iJE-ouVMsdWO"
   },
   "source": [
    "Given a state handler and a state dict, you can use `freeze_local_states` to put those state variables back into the model pytree (as `FrozenLocalStateRequest` instances). This can be useful if you want to extract parts of a stateful model or make more complex transformations without manually manipulating the state dict."
   ]
  },
  {
   "cell_type": "code",
   "execution_count": null,
   "metadata": {
    "id": "0_HlPdhSs-mS"
   },
   "outputs": [],
   "source": [
    "pz.de.freeze_local_states(handled_model, new_state_dict)"
   ]
  },
  {
   "cell_type": "markdown",
   "metadata": {
    "id": "L_WXdo8fxlL7"
   },
   "source": [
    "## Parameter Sharing as an Effect in Penzai Models"
   ]
  },
  {
   "cell_type": "markdown",
   "metadata": {
    "id": "SMdZEOk_xqmL"
   },
   "source": [
    "Penzai uses the data effect system to implement parameter sharing in a flexible way. This section describes how this works and shows you how to build models that have shared parameters.\n",
    "\n",
    "The challenge of shared state in Penzai is:\n",
    "- Since layers own their own parameters as attributes, if multiple layers need to use the same parameter, it seems like they would each need a copy of the parameter.\n",
    "- But since Penzai models are just pytrees, and shared Python object identity is ignored by JAX, we only want to include the value for the parameter once.\n",
    "\n",
    "Penzai resolves this by using the `SideInputEffect` to implement parameter sharing, in combination with a helper type `SharedParameterLookup`. A model with shared parameters will look something like this:"
   ]
  },
  {
   "cell_type": "code",
   "execution_count": null,
   "metadata": {
    "id": "tnupg_nPxn9-"
   },
   "outputs": [],
   "source": [
    "model_with_shared_params = pz.de.WithConstantSideInputs.handling(\n",
    "    body=pz.nn.Sequential([\n",
    "        # Contrived example: Repeat the same bias twice\n",
    "        pz.nn.AddBias(\n",
    "            bias=pz.nn.SharedParameterLookup(\n",
    "                pz.de.SideInputRequest(\"shared_param\"),\n",
    "                value_structure=pz.chk.ArraySpec(named_shape={\"features\": 10}),\n",
    "            ),\n",
    "            new_axis_names=(),\n",
    "        ),\n",
    "        pz.nn.AddBias(\n",
    "            bias=pz.nn.SharedParameterLookup(\n",
    "                pz.de.SideInputRequest(\"shared_param\"),\n",
    "                value_structure=pz.chk.ArraySpec(named_shape={\"features\": 10}),\n",
    "            ),\n",
    "            new_axis_names=(),\n",
    "        ),\n",
    "    ]),\n",
    "    side_inputs={\n",
    "        \"shared_param\": pz.nn.Parameter(pz.nx.ones({\"features\": 10}), name=\"AddBias-shared\")\n",
    "    }\n",
    ")\n",
    "model_with_shared_params"
   ]
  },
  {
   "cell_type": "markdown",
   "metadata": {
    "id": "yxADgW8kvbQl"
   },
   "source": [
    "`SharedParameterLookup` acts like a `Parameter`, but accessing its `value` attribute reads the value from the side input. This means that, when the model runs, both copies of the `AddBias` layer use the same parameter:"
   ]
  },
  {
   "cell_type": "code",
   "execution_count": null,
   "metadata": {
    "id": "oAizqSrwvqvA"
   },
   "outputs": [],
   "source": [
    "model_with_shared_params(pz.nx.zeros({\"features\": 10}))"
   ]
  },
  {
   "cell_type": "markdown",
   "metadata": {
    "id": "RHvVz6JTvuc3"
   },
   "source": [
    "But there's only one actual instance of `Parameter` in the tree:"
   ]
  },
  {
   "cell_type": "code",
   "execution_count": null,
   "metadata": {
    "id": "70skP5UsvxO3"
   },
   "outputs": [],
   "source": [
    "pz.select(model_with_shared_params).at_instances_of(pz.nn.Parameter).get_sequence()"
   ]
  },
  {
   "cell_type": "markdown",
   "metadata": {
    "id": "Y_LQEI5Jv2Rn"
   },
   "source": [
    "This is how models with shared parameters are represented when they are built. However, Penzai also includes some helpers to make it easier to set up this parameter sharing: `mark_shareable` and `attach_shared_parameters`. These just identify which parameters need to be shared and set up the correct side input handler for you:"
   ]
  },
  {
   "cell_type": "code",
   "execution_count": null,
   "metadata": {
    "id": "2HcEVWeOwEt9"
   },
   "outputs": [],
   "source": [
    "shareable_bias = pz.nn.mark_shareable(\n",
    "    pz.nn.AddBias.from_config(biased_axes={\"features\": 10})\n",
    ")\n",
    "shareable_bias"
   ]
  },
  {
   "cell_type": "code",
   "execution_count": null,
   "metadata": {
    "id": "pF2REikmweWQ"
   },
   "outputs": [],
   "source": [
    "model_def = pz.nn.attach_shared_parameters(pz.nn.Sequential([\n",
    "    shareable_bias,\n",
    "    shareable_bias,\n",
    "]))\n",
    "model_def"
   ]
  },
  {
   "cell_type": "code",
   "execution_count": null,
   "metadata": {
    "id": "UajToQpbwwLa"
   },
   "outputs": [],
   "source": [
    "pz.nn.initialize_parameters(model_def, jax.random.key(123))"
   ]
  },
  {
   "cell_type": "markdown",
   "metadata": {
    "id": "_obD_MMTx0jl"
   },
   "source": [
    "## Composing and Patching Effects"
   ]
  },
  {
   "cell_type": "markdown",
   "metadata": {
    "id": "7BRMpI9Bx2Pl"
   },
   "source": [
    "Since each handler has its own ID, and each effect has its own request and reference types, it's straightforward to combine effects with each other. And since the data effects system is entirely encoded inside your model's PyTree\n",
    "structure, it is easy to patch models that use effects, and sometimes even to insert new effects!"
   ]
  },
  {
   "cell_type": "markdown",
   "metadata": {
    "id": "EW6PnJhOyevD"
   },
   "source": [
    "### Combining Multiple Effects"
   ]
  },
  {
   "cell_type": "markdown",
   "metadata": {
    "id": "k0zx9JIjX3Q0"
   },
   "source": [
    "Since each effect is independent, and each handler is an ordinary single-input single-output layer, you are free to combine multiple effects in the same model:"
   ]
  },
  {
   "cell_type": "code",
   "execution_count": null,
   "metadata": {
    "id": "p1UYrYQFx10m"
   },
   "outputs": [],
   "source": [
    "multi_effect_model = pz.nn.Sequential([\n",
    "    ExampleLayerWithAState.from_config(category=\"example_state\"),\n",
    "    pz.de.TellIntermediate.from_config(tag=\"intermediate\"),\n",
    "    MyLayerWithSideInputs(pz.de.SideInputRequest(\"foo\")),\n",
    "])\n",
    "multi_effect_model"
   ]
  },
  {
   "cell_type": "code",
   "execution_count": null,
   "metadata": {
    "id": "Xwc2f-HdxLCR"
   },
   "outputs": [],
   "source": [
    "handled_multi_effect_model, initial_state = pz.de.handle_local_states(\n",
    "    pz.de.WithSideInputsFromInputTuple.handling(\n",
    "        pz.de.CollectingSideOutputs.handling(multi_effect_model),\n",
    "        tags=[\"foo\"],\n",
    "    ),\n",
    "    category=\"example_state\",\n",
    ")\n",
    "handled_multi_effect_model"
   ]
  },
  {
   "cell_type": "code",
   "execution_count": null,
   "metadata": {
    "id": "VwYaV--_xbsq"
   },
   "outputs": [],
   "source": [
    "((result, side_outputs), new_state) = handled_multi_effect_model(((100.0, \"value for foo\"), initial_state))\n",
    "print()\n",
    "pz.show(\"result:\", result)\n",
    "pz.show(\"side_outputs:\", side_outputs)\n",
    "pz.show(\"new_state:\", new_state)"
   ]
  },
  {
   "cell_type": "markdown",
   "metadata": {
    "id": "P0WxY6GNX-iu"
   },
   "source": [
    "You can also have multiple copies of the same effect with different handlers:"
   ]
  },
  {
   "cell_type": "code",
   "execution_count": null,
   "metadata": {
    "id": "tJJqLHtiYB4c"
   },
   "outputs": [],
   "source": [
    "multi_side_input_model = pz.nn.Sequential([\n",
    "    MyLayerWithSideInputs(pz.de.SideInputRequest(\"foo\")),\n",
    "    MyLayerWithSideInputs(pz.de.SideInputRequest(\"bar\")),\n",
    "])\n",
    "handled_multi_side_input_model = pz.de.WithSideInputsFromInputTuple.handling(\n",
    "    pz.de.WithConstantSideInputs.handling(\n",
    "        multi_side_input_model,\n",
    "        side_inputs={\"foo\": \"value_for_foo\"}\n",
    "    ),\n",
    "    tags=[\"bar\"],\n",
    ")\n",
    "handled_multi_side_input_model((\"input\", \"value_for_bar\"))"
   ]
  },
  {
   "cell_type": "markdown",
   "metadata": {
    "id": "ctRZMaM-yUTi"
   },
   "source": [
    "Note that if you try to handle the same effect request twice, the innermost handler will replace it with a reference, so the outer handler won't replace it. You can always see which handler is going to handle an effect by printing it out in treescope:"
   ]
  },
  {
   "cell_type": "code",
   "execution_count": null,
   "metadata": {
    "id": "1XxEU15zyfdR"
   },
   "outputs": [],
   "source": [
    "some_model = pz.nn.Sequential([\n",
    "    MyLayerWithSideInputs(pz.de.SideInputRequest(\"foo\")),\n",
    "])\n",
    "rehandled_model = pz.de.WithConstantSideInputs.handling(\n",
    "    pz.de.WithConstantSideInputs.handling(\n",
    "        some_model,\n",
    "        side_inputs={\"foo\": \"from inner handler\"},\n",
    "    ),\n",
    "    side_inputs={\"foo\": \"from outer handler\"},\n",
    ")\n",
    "rehandled_model"
   ]
  },
  {
   "cell_type": "code",
   "execution_count": null,
   "metadata": {
    "id": "aalwQYUVy9bH"
   },
   "outputs": [],
   "source": [
    "rehandled_model(100)"
   ]
  },
  {
   "cell_type": "markdown",
   "metadata": {
    "id": "VMPfkITjYCRD"
   },
   "source": [
    "In some cases, it can be useful to convert one effect into another. For instance, there's a handler for the random effect that updates its random state using the local state effect:"
   ]
  },
  {
   "cell_type": "code",
   "execution_count": null,
   "metadata": {
    "id": "LD2IHLcQYLD8"
   },
   "outputs": [],
   "source": [
    "random_and_state_model = pz.nn.Sequential([\n",
    "    ExampleLayerWithAState.from_config(category=\"example_state\"),\n",
    "    SimpleStochasticDropoutV2.from_config(drop_rate=0.1)\n",
    "])\n",
    "random_and_state_model"
   ]
  },
  {
   "cell_type": "code",
   "execution_count": null,
   "metadata": {
    "id": "xJ6ydXlYzKfo"
   },
   "outputs": [],
   "source": [
    "stateful_random_model = pz.de.WithStatefulRandomKey.handling(\n",
    "    random_and_state_model,\n",
    "    initial_key=jax.random.key(123),\n",
    ")\n",
    "stateful_random_model"
   ]
  },
  {
   "cell_type": "code",
   "execution_count": null,
   "metadata": {
    "id": "McfptXrUzTwU"
   },
   "outputs": [],
   "source": [
    "pure_random_model, initial_state = pz.de.handle_local_states(\n",
    "    stateful_random_model,\n",
    "    category_predicate=lambda _: True,\n",
    ")\n",
    "pure_random_model"
   ]
  },
  {
   "cell_type": "code",
   "execution_count": null,
   "metadata": {
    "id": "o1fvFXvbzfOk"
   },
   "outputs": [],
   "source": [
    "initial_state"
   ]
  },
  {
   "cell_type": "code",
   "execution_count": null,
   "metadata": {
    "id": "SztRpLa5zf9s"
   },
   "outputs": [],
   "source": [
    "pure_random_model((pz.nx.zeros({\"foo\": 10}), initial_state))"
   ]
  },
  {
   "cell_type": "markdown",
   "metadata": {
    "id": "GlwFX1-Eyhio"
   },
   "source": [
    "### Patching Models With Effects"
   ]
  },
  {
   "cell_type": "markdown",
   "metadata": {
    "id": "trfLWScsyJwD"
   },
   "source": [
    "Because of the modularity of the system, you are usually free to insert new logic into models that already have effects, and that new logic can even include new effects. For instance, we can take a model that has random effects:"
   ]
  },
  {
   "cell_type": "code",
   "execution_count": null,
   "metadata": {
    "id": "m9gpOktIytjV"
   },
   "outputs": [],
   "source": [
    "dropout_mlp = pz.nn.initialize_parameters(\n",
    "    simple_mlp.DropoutMLP.from_config([8, 32, 32, 8], drop_rate=0.1),\n",
    "    jax.random.key(123),\n",
    ")\n",
    "dropout_mlp"
   ]
  },
  {
   "cell_type": "markdown",
   "metadata": {
    "id": "0JVrVHAh1b-l"
   },
   "source": [
    "Handle the random effects:"
   ]
  },
  {
   "cell_type": "code",
   "execution_count": null,
   "metadata": {
    "id": "ForE1WBZ1dVc"
   },
   "outputs": [],
   "source": [
    "%%autovisualize\n",
    "dropout_mlp_handled = pz.de.WithRandomKeyFromArg.handling(dropout_mlp)\n",
    "dropout_mlp_handled((pz.nx.ones({\"features\": 8}), jax.random.key(0)))"
   ]
  },
  {
   "cell_type": "markdown",
   "metadata": {
    "id": "RxiyxwD81p-N"
   },
   "source": [
    "Then inject new logic that requires a new side-output effect to capture intermediates:"
   ]
  },
  {
   "cell_type": "code",
   "execution_count": null,
   "metadata": {
    "id": "zGOzP5dx1u9G"
   },
   "outputs": [],
   "source": [
    "patched_dropout_mlp = (\n",
    "    pz.select(dropout_mlp_handled)\n",
    "    .at_instances_of(pz.nn.StochasticDropout)\n",
    "    .insert_after(pz.de.TellIntermediate.from_config(tag=\"intermediate\"))\n",
    ")\n",
    "patched_dropout_mlp"
   ]
  },
  {
   "cell_type": "markdown",
   "metadata": {
    "id": "zDA4dfSw1-_O"
   },
   "source": [
    "And finally handle that new effect:"
   ]
  },
  {
   "cell_type": "code",
   "execution_count": null,
   "metadata": {
    "id": "eNh0a7Y92BKn"
   },
   "outputs": [],
   "source": [
    "%%autovisualize\n",
    "handled_patched_dropout_mlp = pz.de.CollectingSideOutputs.handling(\n",
    "    patched_dropout_mlp\n",
    ")\n",
    "handled_patched_dropout_mlp((pz.nx.ones({\"features\": 8}), jax.random.key(0)))"
   ]
  },
  {
   "cell_type": "markdown",
   "metadata": {
    "id": "zid79MZ02MqV"
   },
   "source": [
    "If you're ever unsure about which effects are handled by each handler, you can always figure it out by just printing your model with Treescope. One of the key design goals of Penzai's data effects system is that you should always be able to figure out what even an effectful model is doing just by looking at it."
   ]
  },
  {
   "cell_type": "code",
   "execution_count": null,
   "metadata": {
    "id": "rNRN-xpM2eZv"
   },
   "outputs": [],
   "source": [
    "handled_patched_dropout_mlp"
   ]
  },
  {
   "cell_type": "markdown",
   "metadata": {
    "id": "i6ulNHm4ywVN"
   },
   "source": [
    "## Sharp Edges of the Effect System"
   ]
  },
  {
   "cell_type": "markdown",
   "metadata": {
    "id": "jbW-PG2v9U7G"
   },
   "source": [
    "The effect system has a few sharp edges that you should be aware of."
   ]
  },
  {
   "cell_type": "markdown",
   "metadata": {
    "id": "JfTUrr6H9cGm"
   },
   "source": [
    "### Broken effect references"
   ]
  },
  {
   "cell_type": "markdown",
   "metadata": {
    "id": "R-efa7aj2lRL"
   },
   "source": [
    "Once you've installed a handler for a given effect, the effect requests in your model are replaced with effect references that are specific to the particular handler's handler ID. This means that if you remove those effectful parts from the model and try to use them on their own, it probably won't work:"
   ]
  },
  {
   "cell_type": "code",
   "execution_count": null,
   "metadata": {
    "id": "L3VVvU-T9jWx"
   },
   "outputs": [],
   "source": [
    "handled_patched_dropout_mlp.body.body.sublayers[1]"
   ]
  },
  {
   "cell_type": "code",
   "execution_count": null,
   "metadata": {
    "id": "aNrmn12f3H-G"
   },
   "outputs": [],
   "source": [
    "try:\n",
    "  handled_patched_dropout_mlp.body.body.sublayers[1](pz.nx.ones({\"features\": 8}))\n",
    "except Exception:\n",
    "  traceback.print_exc()"
   ]
  },
  {
   "cell_type": "markdown",
   "metadata": {
    "id": "DQl1AZew3Sbl"
   },
   "source": [
    "For this reason, if you want to pull out individual components from a larger model, it's usually a good idea to do so before you wrap it with handlers, so that you can handle the effect requests separately after removing the submodel.\n",
    "\n",
    "If you really need to, however, you are free to manually replace the broken effect references with new effect requests, or even manually re-write the handler IDs. All of the handlers just use string identifiers to determine which refs they should handle, so as long as you set things up consistently, it should work.\n",
    "\n",
    "Penzai also includes a utility `penzai.toolshed.isolate_submodel` that can pull out part of a model while also rewriting the built-in effects:"
   ]
  },
  {
   "cell_type": "code",
   "execution_count": null,
   "metadata": {
    "id": "9NrAF_0i4Jkk"
   },
   "outputs": [],
   "source": [
    "from penzai.toolshed import isolate_submodel\n",
    "isolate_submodel.call_and_extract_submodel(\n",
    "    pz.select(handled_patched_dropout_mlp)\n",
    "      .at(lambda root: root.body.body.sublayers[1]),\n",
    "    (pz.nx.ones({\"features\": 8}), jax.random.key(0))\n",
    ")"
   ]
  },
  {
   "cell_type": "markdown",
   "metadata": {
    "id": "cY55jnvf9YYy"
   },
   "source": [
    "### JAX transformations inside your model"
   ]
  },
  {
   "cell_type": "markdown",
   "metadata": {
    "id": "ubQR_JQ3MAlZ"
   },
   "source": [
    "Effect implementations are not usually safe to cross JAX transformation boundaries, because they often contain mutable state or external references. This is usually fine, because the only place that effect implementations appear is inside a model object that is actively being called. You can still use Penzai models inside JAX transformations, because the handler always wraps the effects into a pure functional interface.\n",
    "\n",
    "The one exception is when you want to apply JAX transformations to a small part of your model, but handle the effect outside this transformation. This usually will result in an error. For instance, you can't do this:"
   ]
  },
  {
   "cell_type": "code",
   "execution_count": null,
   "metadata": {
    "id": "Dj2b4HTOyyPT"
   },
   "outputs": [],
   "source": [
    "bad = pz.de.WithRandomKeyFromArg.handling(jit_wrapper.Jitted(dropout_mlp))\n",
    "\n",
    "try:\n",
    "  bad((pz.nx.ones({\"features\": 8}), jax.random.key(0)))\n",
    "except Exception:\n",
    "  traceback.print_exc()"
   ]
  },
  {
   "cell_type": "markdown",
   "metadata": {
    "id": "L9qh8BIoNIPc"
   },
   "source": [
    "Instead, you should do this:"
   ]
  },
  {
   "cell_type": "code",
   "execution_count": null,
   "metadata": {
    "id": "B_mBykQXNJS2"
   },
   "outputs": [],
   "source": [
    "dropout_mlp_jitted = jit_wrapper.Jitted(\n",
    "    pz.de.WithRandomKeyFromArg.handling(dropout_mlp)\n",
    ")\n",
    "dropout_mlp_jitted((pz.nx.ones({\"features\": 8}), jax.random.key(0)))"
   ]
  },
  {
   "cell_type": "markdown",
   "metadata": {
    "id": "ricm81OvNs5i"
   },
   "source": [
    "Effects inside higher-order transformations in Penzai are not yet supported, and the details of this may change in future releases."
   ]
  },
  {
   "cell_type": "code",
   "execution_count": null,
   "metadata": {
    "id": "iFS-87NZPXtL"
   },
   "outputs": [],
   "source": []
  }
 ],
 "metadata": {
  "colab": {
   "name": "Data Effects - Scoped Side Effects and State in Penzai Models"
  },
  "kernelspec": {
   "display_name": "Python 3",
   "name": "python3"
  },
  "language_info": {
   "name": "python"
  }
 },
 "nbformat": 4,
 "nbformat_minor": 0
}
