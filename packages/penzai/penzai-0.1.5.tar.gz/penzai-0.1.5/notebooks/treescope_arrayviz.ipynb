{
 "cells": [
  {
   "cell_type": "markdown",
   "metadata": {
    "id": "DfejMHs4lr8V"
   },
   "source": [
    "*Copyright 2024 The Penzai Authors.*\n",
    "\n",
    "*Licensed under the Apache License, Version 2.0 (the \"License\"); you may not use this file except in compliance with the License.\n",
    "You may obtain a copy of the License at*\n",
    "\n",
    "> http://www.apache.org/licenses/LICENSE-2.0\n",
    "\n",
    "*Unless required by applicable law or agreed to in writing, software\n",
    "distributed under the License is distributed on an \"AS IS\" BASIS,\n",
    "WITHOUT WARRANTIES OR CONDITIONS OF ANY KIND, either express or  implied.\n",
    "See the License for the specific language governing permissions and\n",
    "limitations under the License.*\n",
    "\n",
    "---"
   ]
  },
  {
   "cell_type": "markdown",
   "metadata": {
    "id": "USGIPdLYDzSo"
   },
   "source": [
    "[![Open in Colab](https://colab.research.google.com/assets/colab-badge.svg)](https://colab.research.google.com/github/google-deepmind/penzai/blob/main/notebooks/treescope_arrayviz.ipynb) [![Open in Kaggle](https://kaggle.com/static/images/open-in-kaggle.svg)](https://kaggle.com/kernels/welcome?src=https://github.com/google-deepmind/penzai/blob/main/notebooks/treescope_arrayviz.ipynb)"
   ]
  },
  {
   "cell_type": "markdown",
   "metadata": {
    "id": "oFtE9mBAOjZz"
   },
   "source": [
    "# Visualizing NDArrays with Treescope"
   ]
  },
  {
   "cell_type": "markdown",
   "metadata": {
    "id": "wqFoWpVI2yXc"
   },
   "source": [
    "High-dimensional NDArray (or tensor) data is common in many machine learning settings, but most plotting libraries are designed for either 2D image data or 1D time series data. Penzai's pretty printer (`treescope`) includes a powerful arbitrarily-high-dimensional-array visualizer designed to make it easy to quickly summarize NDArrays without having to write manual plotting logic."
   ]
  },
  {
   "cell_type": "markdown",
   "metadata": {
    "id": "ozG8ERNavDos"
   },
   "source": [
    "## Setup"
   ]
  },
  {
   "cell_type": "markdown",
   "metadata": {
    "id": "xmxgAcFQmZkB"
   },
   "source": [
    "To run this notebook, you need a Python environment with `penzai` and its dependencies installed.\n",
    "\n",
    "In Colab or Kaggle, you can install it using the following command:"
   ]
  },
  {
   "cell_type": "code",
   "execution_count": null,
   "metadata": {
    "id": "XGZH58j8mPkj"
   },
   "outputs": [],
   "source": [
    "try:\n",
    "  import penzai\n",
    "except ImportError:\n",
    "  !pip install penzai[notebook]"
   ]
  },
  {
   "cell_type": "code",
   "execution_count": null,
   "metadata": {
    "id": "iog3oMAMGCMG"
   },
   "outputs": [],
   "source": [
    "from __future__ import annotations\n",
    "from typing import Any\n",
    "\n",
    "import jax\n",
    "import jax.numpy as jnp\n",
    "import numpy as np\n",
    "\n",
    "import IPython"
   ]
  },
  {
   "cell_type": "code",
   "execution_count": null,
   "metadata": {
    "id": "5Mh2mAuiQ4aa"
   },
   "outputs": [],
   "source": [
    "import penzai\n",
    "from penzai import pz"
   ]
  },
  {
   "cell_type": "markdown",
   "metadata": {
    "id": "6ntf-nE0-VE4"
   },
   "source": [
    "## Visualizing NDArrays with `pz.ts.render_array`"
   ]
  },
  {
   "cell_type": "markdown",
   "metadata": {
    "id": "_11YZy9IIJ4e"
   },
   "source": [
    "Treescope includes a powerful array renderer, defined in `penzai.treescope.arrayviz` and aliased to `pz.ts.render_array` for easy use. It is designed to make faceted, interactive visualizations of $N$-dimensional arrays."
   ]
  },
  {
   "cell_type": "markdown",
   "metadata": {
    "id": "6vbXaZNiQUGq"
   },
   "source": [
    "### Visualizing numeric data and customizing colormaps"
   ]
  },
  {
   "cell_type": "markdown",
   "metadata": {
    "id": "H6B6VQ12LpvM"
   },
   "source": [
    "Arrays can be directly rendered using default settings by passing them to `pz.ts.render_array`:"
   ]
  },
  {
   "cell_type": "code",
   "execution_count": null,
   "metadata": {
    "id": "a8E1eeEEVUSv"
   },
   "outputs": [],
   "source": [
    "help(pz.ts.render_array)"
   ]
  },
  {
   "cell_type": "code",
   "execution_count": null,
   "metadata": {
    "id": "0-DUVmojNu_z"
   },
   "outputs": [],
   "source": [
    "my_array = np.cos(np.arange(300).reshape((10,30)) * 0.2)\n",
    "\n",
    "pz.ts.render_array(my_array)"
   ]
  },
  {
   "cell_type": "markdown",
   "metadata": {
    "id": "Jbcit2tROmBZ"
   },
   "source": [
    "Things to notice:\n",
    "- The visualization is interactive! (Try zooming in and out, hovering over the array to inspect individual elements, or clicking to remember a particular element.)\n",
    "- The shape of the array can be read off by looking at the axis labels.\n",
    "- Pixels are *always* square in arrayviz renderings. (In fact, they are always exactly 7 pixels by 7 pixels at zoom level 1.)\n",
    "\n",
    "The default rendering strategy uses a diverging colormap centered at zero, with blue for positive numbers and red for negative ones, to show you the absolute magnitude and sign of the array. You can toggle to a relative mode by passing the argument `around_zero=False`:"
   ]
  },
  {
   "cell_type": "code",
   "execution_count": null,
   "metadata": {
    "id": "rCSQS1gqPmje"
   },
   "outputs": [],
   "source": [
    "pz.ts.render_array(my_array, around_zero=False)"
   ]
  },
  {
   "cell_type": "markdown",
   "metadata": {
    "id": "-0UjK67xPq6E"
   },
   "source": [
    "You can also customize the upper and lower bounds of the colormap by passing `vmin` and/or `vmax`:"
   ]
  },
  {
   "cell_type": "code",
   "execution_count": null,
   "metadata": {
    "id": "gvBP5AcWPzOw"
   },
   "outputs": [],
   "source": [
    "pz.ts.render_array(my_array, vmax=0.7)"
   ]
  },
  {
   "cell_type": "markdown",
   "metadata": {
    "id": "RGG6_zNUQL_g"
   },
   "source": [
    "In this case, the array has values outside of our specified colormap bounds; those out-of-bounds values are rendered with \"+\" and \"-\" to indicate that they've been clipped.\n",
    "\n",
    "Since we didn't pass `around_zero=False`, it automatically set `vmin` to `-vmax` for us. You can choose to set both explicitly too:"
   ]
  },
  {
   "cell_type": "code",
   "execution_count": null,
   "metadata": {
    "id": "nPYDX3L5Q6bB"
   },
   "outputs": [],
   "source": [
    "pz.ts.render_array(my_array, vmin=-0.1, vmax=0.7)"
   ]
  },
  {
   "cell_type": "markdown",
   "metadata": {
    "id": "Q6l5x9x3ZAKn"
   },
   "source": [
    "If you want to customize the way colors are rendered, you can pass a custom colormap as a list of (R, G, B) color tuples:"
   ]
  },
  {
   "cell_type": "code",
   "execution_count": null,
   "metadata": {
    "id": "4xr_Rki-Y88T"
   },
   "outputs": [],
   "source": [
    "import palettable\n",
    "pz.ts.render_array(my_array, colormap=palettable.matplotlib.Inferno_20.colors)"
   ]
  },
  {
   "cell_type": "code",
   "execution_count": null,
   "metadata": {
    "id": "CTkyyqAtZXKZ"
   },
   "outputs": [],
   "source": [
    "pz.ts.render_array(my_array, colormap=palettable.cmocean.sequential.Speed_20.colors)"
   ]
  },
  {
   "cell_type": "markdown",
   "metadata": {
    "id": "7w-aT3u2Y0cT"
   },
   "source": [
    "### Visualizing high-dimensional arrays and NamedArrays"
   ]
  },
  {
   "cell_type": "markdown",
   "metadata": {
    "id": "F2aBzIAnRJeD"
   },
   "source": [
    "So far we've been looking at an array with two axes, but arrayviz works out-of-the-box with arbitrarily high-dimensional arrays as well:"
   ]
  },
  {
   "cell_type": "code",
   "execution_count": null,
   "metadata": {
    "id": "IeEoiTKuRi92"
   },
   "outputs": [],
   "source": [
    "my_4d_array = np.cos(np.arange(5*6*7*8).reshape((5,6,7,8)) * 0.1)\n",
    "pz.ts.render_array(my_4d_array)"
   ]
  },
  {
   "cell_type": "markdown",
   "metadata": {
    "id": "sf7a19qkR5D2"
   },
   "source": [
    "For high-dimensional arrays, the individual axis labels indicate which level of the plot corresponds to which axis. Above, each 7x8 square facet represents a slice `my_4d_array[i,j,:,:]`, with individual pixels ranging along axis 2 and axis 3; this is denoted by the `axis2` and `axis3` labels for that facet. The six columns correspond to slices along axis 1, and the five rows correspond to slices along axis 0, as denoted by the outermost labels for those axes.\n",
    "\n",
    "You can control which axes get assigned to which direction if you want, specified from innermost to outermost:"
   ]
  },
  {
   "cell_type": "code",
   "execution_count": null,
   "metadata": {
    "id": "J6DfxcUmTDLa"
   },
   "outputs": [],
   "source": [
    "pz.ts.render_array(my_4d_array, columns=[2, 0, 1])"
   ]
  },
  {
   "cell_type": "markdown",
   "metadata": {
    "id": "Y9seG4JCTRJU"
   },
   "source": [
    "Note that the gap between the \"axis0\" groups is twice as large as the gap between \"axis2\" groups, so that you can visually distinguish the groups.\n",
    "\n",
    "Arrayviz can also visualize `NamedArray`, and takes labels from them. This means that, if your code is written with `NamedArrays`, you get labeled visualizations for free! This applies both to axes that have been tagged with a name and axes that haven't. (See the [NamedArray tutorial](named_axes.ipynb) for more information on how `NamedArray`s work in penzai.)"
   ]
  },
  {
   "cell_type": "code",
   "execution_count": null,
   "metadata": {
    "id": "LRNODzt-UcQG"
   },
   "outputs": [],
   "source": [
    "col = pz.nx.wrap(np.linspace(-2, 2, 31)).tag(\"col\")\n",
    "row = pz.nx.wrap(np.linspace(-2, 2, 31)).tag(\"row\")\n",
    "sign = pz.nx.wrap(np.array([1, -1])).tag(\"sign\")\n",
    "\n",
    "my_named_array = sign * (col**2 + row**2)\n",
    "\n",
    "pz.ts.render_array(my_named_array, columns=[\"col\", \"sign\"])"
   ]
  },
  {
   "cell_type": "code",
   "execution_count": null,
   "metadata": {
    "id": "TrUVsiyajdm4"
   },
   "outputs": [],
   "source": [
    "pz.ts.render_array(my_named_array.untag(\"sign\"))"
   ]
  },
  {
   "cell_type": "markdown",
   "metadata": {
    "id": "VIrm5UlyY4QY"
   },
   "source": [
    "### Identifying extreme or invalid array values"
   ]
  },
  {
   "cell_type": "markdown",
   "metadata": {
    "id": "Su-X6g5-attZ"
   },
   "source": [
    "By default, arrayviz tries to configure the colormap to show interesting detail, clipping outliers. Specifically, it limits the colormap to 3 standard deviations away from the mean (or, technically, from zero if `around_zero` is set):"
   ]
  },
  {
   "cell_type": "code",
   "execution_count": null,
   "metadata": {
    "id": "t8u4j4EdaxHU"
   },
   "outputs": [],
   "source": [
    "my_outlier_array = np.cos(np.arange(300).reshape((10,30)) * 0.2)\n",
    "my_outlier_array[4, 2] = 10.0\n",
    "pz.ts.render_array(my_outlier_array)"
   ]
  },
  {
   "cell_type": "markdown",
   "metadata": {
    "id": "5VAOYRq-ZyIO"
   },
   "source": [
    "Arrayviz also annotates any invalid array values by drawing annotations on top of the visualization:"
   ]
  },
  {
   "cell_type": "code",
   "execution_count": null,
   "metadata": {
    "id": "IxfiNau-Z-Ce"
   },
   "outputs": [],
   "source": [
    "numerator = np.linspace(-5, 5, 31)\n",
    "denominator = np.linspace(-1, 1, 13)\n",
    "array_with_infs_and_nans = numerator[None, :] / denominator[:, None]\n",
    "pz.ts.render_array(array_with_infs_and_nans)"
   ]
  },
  {
   "cell_type": "markdown",
   "metadata": {
    "id": "E5PEwhkxbQBJ"
   },
   "source": [
    "Above, \"`I`\" (white on a blue background) denotes positive infinity, \"`-I`\" (white on a red background) denotes negative infinity, and \"`X`\" (in magenta on a black background) denotes NaN. (You can also see the outlier-clipping behavior clipping a few of the largest finite values here.)\n",
    "\n",
    "This works in relative mode too:"
   ]
  },
  {
   "cell_type": "code",
   "execution_count": null,
   "metadata": {
    "id": "QLQMXGKxbqrF"
   },
   "outputs": [],
   "source": [
    "pz.ts.render_array(array_with_infs_and_nans, around_zero=False)"
   ]
  },
  {
   "cell_type": "markdown",
   "metadata": {
    "id": "HKxslwhycGft"
   },
   "source": [
    "If you want, you can mask out data by providing a \"valid mask\". Only values where the mask is True will be rendered; masked-out data is shown in gray with black dots."
   ]
  },
  {
   "cell_type": "code",
   "execution_count": null,
   "metadata": {
    "id": "nEXvix0Fbt3q"
   },
   "outputs": [],
   "source": [
    "valid_mask = np.isfinite(array_with_infs_and_nans) & (np.abs(array_with_infs_and_nans) < 10)\n",
    "pz.ts.render_array(\n",
    "    array_with_infs_and_nans,\n",
    "    valid_mask=valid_mask,\n",
    ")"
   ]
  },
  {
   "cell_type": "markdown",
   "metadata": {
    "id": "gimiV6I4eUrP"
   },
   "source": [
    "### Visualizing categorical data"
   ]
  },
  {
   "cell_type": "markdown",
   "metadata": {
    "id": "EaCaci-CeyC2"
   },
   "source": [
    "Arrayviz also supports rendering categorical data, even with very high numbers of categories. Data with a discrete (integer or boolean) dtype is rendered as categorical by default, with different colors for different categories:"
   ]
  },
  {
   "cell_type": "code",
   "execution_count": null,
   "metadata": {
    "id": "7MDcKPzHfBrw"
   },
   "outputs": [],
   "source": [
    "pz.ts.render_array(np.arange(10))"
   ]
  },
  {
   "cell_type": "code",
   "execution_count": null,
   "metadata": {
    "id": "_bgeOkAYgaZL"
   },
   "outputs": [],
   "source": [
    "pz.ts.render_array(np.array([True, False, False, True, True]))"
   ]
  },
  {
   "cell_type": "markdown",
   "metadata": {
    "id": "y54jnFylfFTk"
   },
   "source": [
    "The values from 0 to 9 are rendered with solid colors, with 0 represented as white. Larger numbers are rendered using nested box patterns, with one box per digit of the number, and the color of the box indicating the value of the digit:"
   ]
  },
  {
   "cell_type": "code",
   "execution_count": null,
   "metadata": {
    "id": "cetILrfWfN0Y"
   },
   "outputs": [],
   "source": [
    "pz.ts.render_array(np.arange(1000).reshape((10,100)))"
   ]
  },
  {
   "cell_type": "code",
   "execution_count": null,
   "metadata": {
    "id": "iUNNx09qAYz2"
   },
   "outputs": [],
   "source": [
    "pz.ts.render_array(\n",
    "    pz.nx.wrap(jnp.arange(20)).tag(\"a\")\n",
    "    * pz.nx.wrap(jnp.arange(20)).tag(\"b\")\n",
    ")"
   ]
  },
  {
   "cell_type": "markdown",
   "metadata": {
    "id": "u1mYYfTKfd-M"
   },
   "source": [
    "You can also render a single integer on its own, if you want (sometimes useful for custom visualizations). Arrayviz supports integers with up to 7 digits."
   ]
  },
  {
   "cell_type": "code",
   "execution_count": null,
   "metadata": {
    "id": "A9pkQ0MKfz7n"
   },
   "outputs": [],
   "source": [
    "pz.ts.integer_digitbox(42, size=\"30px\")"
   ]
  },
  {
   "cell_type": "code",
   "execution_count": null,
   "metadata": {
    "id": "nu3KWRExfwGG"
   },
   "outputs": [],
   "source": [
    "pz.ts.integer_digitbox(1234, size=\"30px\")"
   ]
  },
  {
   "cell_type": "code",
   "execution_count": null,
   "metadata": {
    "id": "HBvrVg5pf4MA"
   },
   "outputs": [],
   "source": [
    "pz.ts.integer_digitbox(7654321, size=\"30px\")"
   ]
  },
  {
   "cell_type": "markdown",
   "metadata": {
    "id": "8JEh4zy-gDXf"
   },
   "source": [
    "Negatigve integers render the same way as positive ones, but with a black triangle in the corner indicating the sign:"
   ]
  },
  {
   "cell_type": "code",
   "execution_count": null,
   "metadata": {
    "id": "YSUOlkY4gH0M"
   },
   "outputs": [],
   "source": [
    "pz.ts.render_array(np.arange(21 * 21).reshape((21, 21)) - 220)"
   ]
  },
  {
   "cell_type": "markdown",
   "metadata": {
    "id": "Hpum96yAg-bk"
   },
   "source": [
    "If your data has a discrete dtype but you don't want to render it as categorical, you can pass the `continuous` flag to render it as numeric instead:"
   ]
  },
  {
   "cell_type": "code",
   "execution_count": null,
   "metadata": {
    "id": "DWAm8rADhETI"
   },
   "outputs": [],
   "source": [
    "pz.ts.render_array(np.arange(21 * 21).reshape((21, 21)) - 220, continuous=True)"
   ]
  },
  {
   "cell_type": "markdown",
   "metadata": {
    "id": "pKXArtbKCzFa"
   },
   "source": [
    "### Adding axis item labels"
   ]
  },
  {
   "cell_type": "markdown",
   "metadata": {
    "id": "MWmrQ11jC8Sh"
   },
   "source": [
    "For some arrays, it can be useful to associate labels with the individual indices along each axis. For instance, we might want to label a \"classes\" axis with each individual class, or a \"sequence\" axis with the tokens of the sequence.\n",
    "\n",
    "Arrayviz allows you to pass this kind of metadata as an extra argument, and will show it to you when you hover over or click on elements of the array with your mouse.\n",
    "\n",
    "For positional axes, you can pass any subset of the axes by position:"
   ]
  },
  {
   "cell_type": "code",
   "execution_count": null,
   "metadata": {
    "id": "0MvNn5lWDvDT"
   },
   "outputs": [],
   "source": [
    "# Try hovering or clicking:\n",
    "pz.ts.render_array(\n",
    "    np.sin(np.linspace(0, 100, 12 * 5 * 7)).reshape((12, 5, 7)),\n",
    "    axis_item_labels={\n",
    "        1: [\"foo\", \"bar\", \"baz\", \"qux\", \"xyz\"],\n",
    "        0: [\"one\", \"two\", \"three\", \"four\", \"five\", \"six\", \"seven\", \"eight\", \"nine\", \"ten\", \"eleven\", \"twelve\"],\n",
    "    }\n",
    ")"
   ]
  },
  {
   "cell_type": "markdown",
   "metadata": {
    "id": "0bnMYhPKEdSP"
   },
   "source": [
    "For named axes, you can pass labels by name. Irrelevant labels are simply ignored."
   ]
  },
  {
   "cell_type": "code",
   "execution_count": null,
   "metadata": {
    "id": "ZE-XZsmpEibh"
   },
   "outputs": [],
   "source": [
    "col = pz.nx.wrap(np.linspace(-2, 2, 15)).tag(\"col\")\n",
    "row = pz.nx.wrap(np.linspace(-2, 2, 15)).tag(\"row\")\n",
    "sign = pz.nx.wrap(np.array([1, -1])).tag(\"sign\")\n",
    "\n",
    "my_named_array = sign * (col**2 + row**2)\n",
    "\n",
    "# Try hovering or clicking:\n",
    "pz.ts.render_array(\n",
    "    my_named_array,\n",
    "    columns=[\"col\", \"sign\"],\n",
    "    axis_item_labels={\n",
    "        \"sign\": [\"positive\", \"negative\"],\n",
    "        \"classes\": [\"cat\", \"dog\", \"mouse\", \"house\"],\n",
    "    }\n",
    ")"
   ]
  },
  {
   "cell_type": "markdown",
   "metadata": {
    "id": "5kObsmmQFE-7"
   },
   "source": [
    "### Slicing and \"scrubbing\" with sliders"
   ]
  },
  {
   "cell_type": "markdown",
   "metadata": {
    "id": "YgtQWv2NFRtA"
   },
   "source": [
    "It's sometimes useful to only look at individual slices of a large array at a time, instead of viewing them all at once. In addition to the `columns` and `rows` arguments, arrayviz supports a `sliders` argument, which will display a slider for those axes and allow you to \"scrub\" through indices in it:"
   ]
  },
  {
   "cell_type": "code",
   "execution_count": null,
   "metadata": {
    "id": "Pkgl3zbNF4nn"
   },
   "outputs": [],
   "source": [
    "time = pz.nx.wrap(jnp.arange(100)).tag(\"time\")\n",
    "col = pz.nx.wrap(np.linspace(-2, 2, 15)).tag(\"col\")\n",
    "row = pz.nx.wrap(np.linspace(-2, 2, 15)).tag(\"row\")\n",
    "\n",
    "values_over_time = pz.nx.nmap(jax.nn.sigmoid)(\n",
    "    0.05 * time - 2 - row - pz.nx.nmap(jnp.sin)(2 * col - 0.1 * time)\n",
    ")\n",
    "\n",
    "# Try sliding the slider:\n",
    "pz.ts.render_array(\n",
    "    values_over_time,\n",
    "    columns=[\"col\"],\n",
    "    sliders=[\"time\"],\n",
    ")"
   ]
  },
  {
   "cell_type": "markdown",
   "metadata": {
    "id": "ID_TW7jsG9tW"
   },
   "source": [
    "You can even put sliders for multiple axes simultaneously, if you want:"
   ]
  },
  {
   "cell_type": "code",
   "execution_count": null,
   "metadata": {
    "id": "IpmWFhP7HDKV"
   },
   "outputs": [],
   "source": [
    "row_wavelength = pz.nx.wrap(4 * jnp.arange(10) + 4).tag(\"row_wavelength\")\n",
    "col_wavelength = pz.nx.wrap(4 * jnp.arange(10) + 4).tag(\"col_wavelength\")\n",
    "col = pz.nx.wrap(np.arange(15)).tag(\"col\")\n",
    "row = pz.nx.wrap(np.arange(15)).tag(\"row\")\n",
    "\n",
    "values = (\n",
    "    pz.nx.nmap(jnp.sin)(2 * np.pi * row / row_wavelength)\n",
    "    * pz.nx.nmap(jnp.sin)(2 * np.pi * col / col_wavelength)\n",
    ")\n",
    "\n",
    "# Try sliding the slider:\n",
    "pz.ts.render_array(\n",
    "    values,\n",
    "    columns=[\"col\"],\n",
    "    sliders=[\"row_wavelength\", \"col_wavelength\"],\n",
    "    axis_item_labels={\n",
    "        \"row_wavelength\": [str(v) for v in row_wavelength.untag(\"row_wavelength\").unwrap()],\n",
    "        \"col_wavelength\": [str(v) for v in col_wavelength.untag(\"col_wavelength\").unwrap()],\n",
    "    }\n",
    ")"
   ]
  },
  {
   "cell_type": "markdown",
   "metadata": {
    "id": "MSumXC_tIf4x"
   },
   "source": [
    "### Note: Memory usage"
   ]
  },
  {
   "cell_type": "markdown",
   "metadata": {
    "id": "YJ-NP55LIiEi"
   },
   "source": [
    "One caveat to using arrayviz: whenever you render an array, the *entire array* is serialized, saved directly into the notebook output cell, and then loaded into your browser's memory! That's true even if you use `sliders`; although only part of your array is visible, all of the data is there in the notebook and in your local browser, so that it can update the view when you move the slider.\n",
    "\n",
    "This can sometimes be useful, since it means the visualization does not require Colab/IPython to be connected, and won't mess up any of your Python interpreter's state. On the other hand, it's easy to end up with very large Colab notebooks this way, and if you have many visualizations open, it can cause your web browser to bog down a bit. For a sense of scale here, a visualization of a `1000 x 1000` array adds about 5 megabytes to the size of your notebook. (Arrayviz will still happily render an array of that size, though!)\n",
    "\n",
    "Given this, it's usually a good idea to avoid saving visualizations of very large arrays into the notebook. One way to do this is to turn on \"Omit code cell output when saving this notebook\" mode in Colab to avoid saving output from any cell."
   ]
  },
  {
   "cell_type": "markdown",
   "metadata": {
    "id": "dvCCvIoH-3T4"
   },
   "source": [
    "## Using arrayviz in treescope"
   ]
  },
  {
   "cell_type": "markdown",
   "metadata": {
    "id": "nlWXG-_JjaOE"
   },
   "source": [
    "In JAX programs, NDArrays often occur as parts of large JAX-compatible data structures (PyTrees). If desired, you can use arrayviz to render these arrays inside a larger treescope rendering, by turning on automatic array visualization.\n",
    "\n",
    "(You might want to read the [tutorial on treescope pretty-printing](treescope_prettyprinting.ipynb) before reading this section, if you haven't already.)"
   ]
  },
  {
   "cell_type": "markdown",
   "metadata": {
    "id": "5qSaglGnkAMk"
   },
   "source": [
    "Let's start by registering treescope as the default pretty-printer:"
   ]
  },
  {
   "cell_type": "code",
   "execution_count": null,
   "metadata": {
    "id": "t2-yicWnvp0J"
   },
   "outputs": [],
   "source": [
    "pz.ts.register_as_default()"
   ]
  },
  {
   "cell_type": "markdown",
   "metadata": {
    "id": "aTeQBDT1vrkp"
   },
   "source": [
    "Ordinarily, treescope shows text representations of NDArrays, and lets you click to expand them:"
   ]
  },
  {
   "cell_type": "code",
   "execution_count": null,
   "metadata": {
    "id": "7py_Rvg8v1TY"
   },
   "outputs": [],
   "source": [
    "IPython.display.display({\n",
    "    \"foo\": pz.nx.wrap(jnp.arange(10)).tag(\"a\") * pz.nx.wrap(jnp.arange(10)).tag(\"b\"),\n",
    "    \"bar\": np.sin(np.arange(100) * 0.1).reshape((10,10))\n",
    "})"
   ]
  },
  {
   "cell_type": "markdown",
   "metadata": {
    "id": "0ZpwVZv7wDlI"
   },
   "source": [
    "You can enable array visualization by wrapping your `display` calls in an \"autovisualizer\" scope:"
   ]
  },
  {
   "cell_type": "code",
   "execution_count": null,
   "metadata": {
    "id": "4nevcmmiwROK"
   },
   "outputs": [],
   "source": [
    "with pz.ts.active_autovisualizer.set_scoped(\n",
    "    pz.ts.ArrayAutovisualizer()\n",
    "):\n",
    "  IPython.display.display({\n",
    "      \"foo\": pz.nx.wrap(jnp.arange(10)).tag(\"a\") * pz.nx.wrap(jnp.arange(10)).tag(\"b\"),\n",
    "      \"bar\": np.sin(np.arange(100) * 0.1).reshape((10,10))\n",
    "  })"
   ]
  },
  {
   "cell_type": "markdown",
   "metadata": {
    "id": "JG2kUlt8YMyQ"
   },
   "source": [
    "In Colab / IPython, you can optionally register the `%%autovisualize` cell magic that runs an IPython cell inside the autovisualizer scope:"
   ]
  },
  {
   "cell_type": "code",
   "execution_count": null,
   "metadata": {
    "id": "-u8KsScHYWQ8"
   },
   "outputs": [],
   "source": [
    "pz.ts.register_autovisualize_magic()"
   ]
  },
  {
   "cell_type": "code",
   "execution_count": null,
   "metadata": {
    "id": "a-9QEfJPYr1l"
   },
   "outputs": [],
   "source": [
    "%%autovisualize\n",
    "{\n",
    "  \"foo\": pz.nx.wrap(jnp.arange(10)).tag(\"a\") * pz.nx.wrap(jnp.arange(10)).tag(\"b\"),\n",
    "  \"bar\": np.sin(np.arange(100) * 0.1).reshape((10,10))\n",
    "}"
   ]
  },
  {
   "cell_type": "markdown",
   "metadata": {
    "id": "VAXdZUGRxR78"
   },
   "source": [
    "Small arrays are shown in their entirety. Larger arrays are truncated to show only a subset of elements along each axis, to prevent visualizations from getting too large."
   ]
  },
  {
   "cell_type": "code",
   "execution_count": null,
   "metadata": {
    "id": "j0y57XDUxX58"
   },
   "outputs": [],
   "source": [
    "%%autovisualize\n",
    "{\n",
    "  \"foo\": pz.nx.wrap(jnp.arange(10_000)).tag(\"a\") * pz.nx.wrap(jnp.arange(20)).tag(\"b\"),\n",
    "  \"bar\": np.sin(np.arange(250000) * 0.1).reshape((500,500))\n",
    "}"
   ]
  },
  {
   "cell_type": "markdown",
   "metadata": {
    "id": "WsPMauYJyAJ2"
   },
   "source": [
    "If you want to enable array visualization all of the time, you can set up an automatic visualizer for your whole session:"
   ]
  },
  {
   "cell_type": "code",
   "execution_count": null,
   "metadata": {
    "id": "z4VDaG08yHlO"
   },
   "outputs": [],
   "source": [
    "# Makes it possible to set penzai's contextual configuration options interactively\n",
    "pz.enable_interactive_context()\n",
    "\n",
    "# (Later you can call `pz.disable_interactive_context()` to\n",
    "# reset all of them to their default values.)"
   ]
  },
  {
   "cell_type": "code",
   "execution_count": null,
   "metadata": {
    "id": "_dNF258NzJoR"
   },
   "outputs": [],
   "source": [
    "pz.ts.active_autovisualizer.set_interactive(\n",
    "    pz.ts.ArrayAutovisualizer()\n",
    ")"
   ]
  },
  {
   "cell_type": "markdown",
   "metadata": {
    "id": "7GwK7rArzQ5y"
   },
   "source": [
    "Now every value you display, or return from a cell, will be rendered with arrayviz:"
   ]
  },
  {
   "cell_type": "code",
   "execution_count": null,
   "metadata": {
    "id": "hrMHFRvVzOd7"
   },
   "outputs": [],
   "source": [
    "np.arange(10)"
   ]
  },
  {
   "cell_type": "markdown",
   "metadata": {
    "id": "6qWSx7ydzXqA"
   },
   "source": [
    "`ArrayAutovisualizer` takes some configuration options that allow you to configure the summarization threshold and number of edge items visualized; see `help(ArrayAutovisualizer)` for more info.\n",
    "\n",
    "If you've enabled automatic array visualization, you can disable it in a specific cell using `%%autovisualize None`:"
   ]
  },
  {
   "cell_type": "code",
   "execution_count": null,
   "metadata": {
    "id": "R7FS9guUTIs1"
   },
   "outputs": [],
   "source": [
    "%%autovisualize None\n",
    "np.arange(10)"
   ]
  },
  {
   "cell_type": "markdown",
   "metadata": {
    "id": "5gRlSr_7BIhC"
   },
   "source": [
    "## Custom treescope visualizations with autovisualizers and figure inlining"
   ]
  },
  {
   "cell_type": "markdown",
   "metadata": {
    "id": "cYArGBxV0ncq"
   },
   "source": [
    "Automatic array visualization is a special case of a more general treescope feature, which lets you render arbitrary figures at arbitrary points in pretty-printed PyTrees. To customize automatic visualization, you define an autovisualizer function, with the following signature:\n",
    "```python\n",
    "def autovisualizer_fn(\n",
    "    value: Any,\n",
    "    path: tuple[Any, ...] | None,\n",
    ") -> pz.ts.IPythonVisualization | pz.ts.ChildAutovisualizer | None:\n",
    "  ...\n",
    "```\n",
    "This function will be called on every subtree of the rendered tree, and can return `pz.ts.IPythonVisualization(some_figure)` to replace the subtree with a visualization, or `None` to process the subtree normally. (It can also return `pz.ts.ChildAutovisualizer` if the subtree should be rendered with a different autovisualizer.)"
   ]
  },
  {
   "cell_type": "markdown",
   "metadata": {
    "id": "eh6kQUcI1X0m"
   },
   "source": [
    "For instance, we can write an autovisualizer that always formats arrays in continuous mode:"
   ]
  },
  {
   "cell_type": "code",
   "execution_count": null,
   "metadata": {
    "id": "b9nrIr0kJUpU"
   },
   "outputs": [],
   "source": [
    "def my_continuous_autovisualizer(\n",
    "    value: Any,\n",
    "    path: tuple[Any, ...] | None,\n",
    "):\n",
    "  if isinstance(value, (np.ndarray, pz.nx.NamedArray)):\n",
    "    return pz.ts.IPythonVisualization(\n",
    "        pz.ts.render_array(value, continuous=True, around_zero=False))"
   ]
  },
  {
   "cell_type": "code",
   "execution_count": null,
   "metadata": {
    "id": "pjoleD-X2nTB"
   },
   "outputs": [],
   "source": [
    "with pz.ts.active_autovisualizer.set_scoped(\n",
    "    my_continuous_autovisualizer\n",
    "):\n",
    "  IPython.display.display({\n",
    "      \"foo\": pz.nx.wrap(jnp.arange(10)).tag(\"a\") * pz.nx.wrap(jnp.arange(10)).tag(\"b\"),\n",
    "      \"bar\": np.sin(np.arange(100) * 0.1).reshape((10,10))\n",
    "  })"
   ]
  },
  {
   "cell_type": "markdown",
   "metadata": {
    "id": "TUKbiWAj38fT"
   },
   "source": [
    "Or, add additional metadata:"
   ]
  },
  {
   "cell_type": "code",
   "execution_count": null,
   "metadata": {
    "id": "e_ToZ_a3410m"
   },
   "outputs": [],
   "source": [
    "def my_verbose_autovisualizer(\n",
    "    value: Any,\n",
    "    path: tuple[Any, ...] | None,\n",
    "):\n",
    "  if isinstance(value, (np.ndarray, pz.nx.NamedArrayBase)):\n",
    "    if isinstance(value, pz.nx.NamedArrayBase):\n",
    "      size = value.data_array.size\n",
    "    else:\n",
    "      size = value.size\n",
    "    return pz.ts.IPythonVisualization(\n",
    "        pz.ts.inline(\n",
    "            \"Hello world!\\n\",\n",
    "            pz.ts.render_array(value),\n",
    "            f\"\\nThis array contains {size} elements and has Python id {id(value):,}, which you could tokenize as  \",\n",
    "            pz.ts.integer_digitbox(id(value) // 1000000000000),\n",
    "            \"   \", pz.ts.integer_digitbox((id(value) // 1000000000) % 1000),\n",
    "            \"   \", pz.ts.integer_digitbox((id(value) // 1000000) % 1000),\n",
    "            \"   \", pz.ts.integer_digitbox((id(value) // 1000) % 1000),\n",
    "            \"   \", pz.ts.integer_digitbox(id(value) % 1000),\n",
    "            f\"\\nThe path to this node is {path}\",\n",
    "        )\n",
    "    )"
   ]
  },
  {
   "cell_type": "code",
   "execution_count": null,
   "metadata": {
    "id": "y3cRXHC7410v"
   },
   "outputs": [],
   "source": [
    "with pz.ts.active_autovisualizer.set_scoped(\n",
    "    my_verbose_autovisualizer\n",
    "):\n",
    "  IPython.display.display({\n",
    "      \"foo\": pz.nx.wrap(jnp.arange(10)).tag(\"a\") * pz.nx.wrap(jnp.arange(10)).tag(\"b\"),\n",
    "      \"bar\": np.sin(np.arange(150) * 0.1).reshape((15,10))\n",
    "  })"
   ]
  },
  {
   "cell_type": "markdown",
   "metadata": {
    "id": "pIEEVARQ9PAq"
   },
   "source": [
    "You can even render values using an external plotting library like `plotly`!\n",
    "\n",
    "Treescope can inline any type of figure that has a rich HTML representation (specifically, any object that defines the magic `_repr_html_` method expected by Colab's IPython kernel.)"
   ]
  },
  {
   "cell_type": "code",
   "execution_count": null,
   "metadata": {
    "id": "epURQr492vOb"
   },
   "outputs": [],
   "source": [
    "import plotly.express as px"
   ]
  },
  {
   "cell_type": "code",
   "execution_count": null,
   "metadata": {
    "id": "M-B7M_779N93"
   },
   "outputs": [],
   "source": [
    "def my_plotly_autovisualizer(\n",
    "    value: Any,\n",
    "    path: tuple[Any, ...] | None,\n",
    "):\n",
    "  if isinstance(value, (np.ndarray, jax.Array)):\n",
    "    return pz.ts.IPythonVisualization(\n",
    "        px.histogram(\n",
    "            value.flatten(),\n",
    "            width=400, height=200\n",
    "        ).update_layout(\n",
    "            margin=dict(l=20, r=20, t=20, b=20)\n",
    "        )\n",
    "    )"
   ]
  },
  {
   "cell_type": "code",
   "execution_count": null,
   "metadata": {
    "id": "sbxP5iHR9N9-"
   },
   "outputs": [],
   "source": [
    "with pz.ts.active_autovisualizer.set_scoped(\n",
    "    my_plotly_autovisualizer\n",
    "):\n",
    "  IPython.display.display({\n",
    "      \"foo\": pz.nx.wrap(jnp.arange(10)).tag(\"a\") * pz.nx.wrap(jnp.arange(10)).tag(\"b\"),\n",
    "      \"bar\": np.sin(np.arange(150) * 0.1).reshape((15,10))\n",
    "  })"
   ]
  },
  {
   "cell_type": "markdown",
   "metadata": {
    "id": "vE3Y5tklZiP6"
   },
   "source": [
    "You can also pass custom visualizers to the `%%autovisualize` magic to let it handle the `set_scoped` boilerplate for you:"
   ]
  },
  {
   "cell_type": "code",
   "execution_count": null,
   "metadata": {
    "id": "rMesQMOm8rVb"
   },
   "outputs": [],
   "source": [
    "%%autovisualize my_plotly_autovisualizer\n",
    "{\n",
    "  \"foo\": pz.nx.wrap(jnp.arange(10)).tag(\"a\") * pz.nx.wrap(jnp.arange(10)).tag(\"b\"),\n",
    "  \"bar\": np.sin(np.arange(150) * 0.1).reshape((15,10))\n",
    "}"
   ]
  },
  {
   "cell_type": "code",
   "execution_count": null,
   "metadata": {
    "id": "m0gAg4QmZyoy"
   },
   "outputs": [],
   "source": []
  }
 ],
 "metadata": {
  "colab": {
   "name": "Visualizing NDArrays with Treescope",
   "toc_visible": true
  },
  "kernelspec": {
   "display_name": "Python 3",
   "name": "python3"
  },
  "language_info": {
   "name": "python"
  }
 },
 "nbformat": 4,
 "nbformat_minor": 0
}
